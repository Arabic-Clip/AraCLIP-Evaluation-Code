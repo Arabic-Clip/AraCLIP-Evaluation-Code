{
  "cells": [
    {
      "cell_type": "markdown",
      "metadata": {},
      "source": [
        "# Validation pipeline "
      ]
    },
    {
      "cell_type": "code",
      "execution_count": 1,
      "metadata": {},
      "outputs": [
        {
          "data": {
            "text/plain": [
              "device(type='cuda')"
            ]
          },
          "execution_count": 1,
          "metadata": {},
          "output_type": "execute_result"
        }
      ],
      "source": [
        "import torch \n",
        "\n",
        "device = torch.device('cuda') if torch.cuda.is_available() else torch.device('cpu')\n",
        "\n",
        "device"
      ]
    },
    {
      "cell_type": "code",
      "execution_count": 2,
      "metadata": {},
      "outputs": [],
      "source": [
        "from rich import print"
      ]
    },
    {
      "cell_type": "code",
      "execution_count": 3,
      "metadata": {},
      "outputs": [],
      "source": [
        "# Read the images from of the dataset \n",
        "import os \n",
        "\n",
        "img_folder = 'flicker_8k/photos'\n",
        "\n",
        "if not os.path.exists(img_folder) or len(os.listdir(img_folder)) == 0:\n",
        "    os.makedirs(img_folder, exist_ok=True)\n",
        "    "
      ]
    },
    {
      "cell_type": "code",
      "execution_count": 4,
      "metadata": {},
      "outputs": [],
      "source": [
        "import json \n",
        "\n",
        "data = [] \n",
        "\n",
        "with open(\"flicker_8k/flicker_8k.jsonl\") as filino:\n",
        "\n",
        "    for file_i in filino:\n",
        "\n",
        "        dic_obj = json.loads(file_i)\n",
        "        data.append(dic_obj)"
      ]
    },
    {
      "cell_type": "code",
      "execution_count": 5,
      "metadata": {},
      "outputs": [
        {
          "data": {
            "text/html": [
              "<pre style=\"white-space:pre;overflow-x:auto;line-height:normal;font-family:Menlo,'DejaVu Sans Mono',consolas,'Courier New',monospace\">Dataset size is:  <span style=\"color: #008080; text-decoration-color: #008080; font-weight: bold\">8091</span>\n",
              "</pre>\n"
            ],
            "text/plain": [
              "Dataset size is:  \u001b[1;36m8091\u001b[0m\n"
            ]
          },
          "metadata": {},
          "output_type": "display_data"
        }
      ],
      "source": [
        "print(\"Dataset size is: \", len(data) )"
      ]
    },
    {
      "cell_type": "code",
      "execution_count": 6,
      "metadata": {},
      "outputs": [
        {
          "data": {
            "text/html": [
              "<pre style=\"white-space:pre;overflow-x:auto;line-height:normal;font-family:Menlo,'DejaVu Sans Mono',consolas,'Courier New',monospace\"><span style=\"font-weight: bold\">[</span>\n",
              "    <span style=\"font-weight: bold\">{</span>\n",
              "        <span style=\"color: #008000; text-decoration-color: #008000\">'caption_ar'</span>: <span style=\"color: #008000; text-decoration-color: #008000\">'طفلة صغيرة تتسلق إلى مسرح خشبي'</span>,\n",
              "        <span style=\"color: #008000; text-decoration-color: #008000\">'image_name'</span>: <span style=\"color: #008000; text-decoration-color: #008000\">'1000268201_693b08cb0e.jpg'</span>,\n",
              "        <span style=\"color: #008000; text-decoration-color: #008000\">'id'</span>: <span style=\"color: #008000; text-decoration-color: #008000\">'1000268201_693b08cb0e'</span>\n",
              "    <span style=\"font-weight: bold\">}</span>,\n",
              "    <span style=\"font-weight: bold\">{</span>\n",
              "        <span style=\"color: #008000; text-decoration-color: #008000\">'caption_ar'</span>: <span style=\"color: #008000; text-decoration-color: #008000\">'كلب أسود وكلب ثلاثي الألوان يلعبان مع بعضهما البعض على الطريق'</span>,\n",
              "        <span style=\"color: #008000; text-decoration-color: #008000\">'image_name'</span>: <span style=\"color: #008000; text-decoration-color: #008000\">'1001773457_577c3a7d70.jpg'</span>,\n",
              "        <span style=\"color: #008000; text-decoration-color: #008000\">'id'</span>: <span style=\"color: #008000; text-decoration-color: #008000\">'1001773457_577c3a7d70'</span>\n",
              "    <span style=\"font-weight: bold\">}</span>,\n",
              "    <span style=\"font-weight: bold\">{</span>\n",
              "        <span style=\"color: #008000; text-decoration-color: #008000\">'caption_ar'</span>: <span style=\"color: #008000; text-decoration-color: #008000\">'فتاة صغيرة مغطاة بالطلاء تجلس أمام قوس قزح'</span>,\n",
              "        <span style=\"color: #008000; text-decoration-color: #008000\">'image_name'</span>: <span style=\"color: #008000; text-decoration-color: #008000\">'1002674143_1b742ab4b8.jpg'</span>,\n",
              "        <span style=\"color: #008000; text-decoration-color: #008000\">'id'</span>: <span style=\"color: #008000; text-decoration-color: #008000\">'1002674143_1b742ab4b8'</span>\n",
              "    <span style=\"font-weight: bold\">}</span>,\n",
              "    <span style=\"font-weight: bold\">{</span>\n",
              "        <span style=\"color: #008000; text-decoration-color: #008000\">'caption_ar'</span>: <span style=\"color: #008000; text-decoration-color: #008000\">'رجل يجلس على مقعد بينما يجلس كلبه بجانبه'</span>,\n",
              "        <span style=\"color: #008000; text-decoration-color: #008000\">'image_name'</span>: <span style=\"color: #008000; text-decoration-color: #008000\">'1003163366_44323f5815.jpg'</span>,\n",
              "        <span style=\"color: #008000; text-decoration-color: #008000\">'id'</span>: <span style=\"color: #008000; text-decoration-color: #008000\">'1003163366_44323f5815'</span>\n",
              "    <span style=\"font-weight: bold\">}</span>,\n",
              "    <span style=\"font-weight: bold\">{</span>\n",
              "        <span style=\"color: #008000; text-decoration-color: #008000\">'caption_ar'</span>: <span style=\"color: #008000; text-decoration-color: #008000\">'رجل يرتدي قبعة برتقالية'</span>,\n",
              "        <span style=\"color: #008000; text-decoration-color: #008000\">'image_name'</span>: <span style=\"color: #008000; text-decoration-color: #008000\">'1007129816_e794419615.jpg'</span>,\n",
              "        <span style=\"color: #008000; text-decoration-color: #008000\">'id'</span>: <span style=\"color: #008000; text-decoration-color: #008000\">'1007129816_e794419615'</span>\n",
              "    <span style=\"font-weight: bold\">}</span>,\n",
              "    <span style=\"font-weight: bold\">{</span><span style=\"color: #008000; text-decoration-color: #008000\">'caption_ar'</span>: <span style=\"color: #008000; text-decoration-color: #008000\">'طفل يلعب على حبل'</span>, <span style=\"color: #008000; text-decoration-color: #008000\">'image_name'</span>: <span style=\"color: #008000; text-decoration-color: #008000\">'1007320043_627395c3d8.jpg'</span>, <span style=\"color: #008000; text-decoration-color: #008000\">'id'</span>: <span style=\"color: #008000; text-decoration-color: #008000\">'1007320043_627395c3d8'</span><span style=\"font-weight: bold\">}</span>,\n",
              "    <span style=\"font-weight: bold\">{</span>\n",
              "        <span style=\"color: #008000; text-decoration-color: #008000\">'caption_ar'</span>: <span style=\"color: #008000; text-decoration-color: #008000\">'كلب أبيض وأسود يركض في حديقة عشبية محاطة بسياج أبيض'</span>,\n",
              "        <span style=\"color: #008000; text-decoration-color: #008000\">'image_name'</span>: <span style=\"color: #008000; text-decoration-color: #008000\">'1009434119_febe49276a.jpg'</span>,\n",
              "        <span style=\"color: #008000; text-decoration-color: #008000\">'id'</span>: <span style=\"color: #008000; text-decoration-color: #008000\">'1009434119_febe49276a'</span>\n",
              "    <span style=\"font-weight: bold\">}</span>,\n",
              "    <span style=\"font-weight: bold\">{</span>\n",
              "        <span style=\"color: #008000; text-decoration-color: #008000\">'caption_ar'</span>: <span style=\"color: #008000; text-decoration-color: #008000\">'كلب يهز رأسه بالقرب من الشاطئ ، كرة حمراء بجانبه'</span>,\n",
              "        <span style=\"color: #008000; text-decoration-color: #008000\">'image_name'</span>: <span style=\"color: #008000; text-decoration-color: #008000\">'1012212859_01547e3f17.jpg'</span>,\n",
              "        <span style=\"color: #008000; text-decoration-color: #008000\">'id'</span>: <span style=\"color: #008000; text-decoration-color: #008000\">'1012212859_01547e3f17'</span>\n",
              "    <span style=\"font-weight: bold\">}</span>,\n",
              "    <span style=\"font-weight: bold\">{</span>\n",
              "        <span style=\"color: #008000; text-decoration-color: #008000\">'caption_ar'</span>: <span style=\"color: #008000; text-decoration-color: #008000\">'صبي يبتسم أمام حائط صخري في مدينة'</span>,\n",
              "        <span style=\"color: #008000; text-decoration-color: #008000\">'image_name'</span>: <span style=\"color: #008000; text-decoration-color: #008000\">'1015118661_980735411b.jpg'</span>,\n",
              "        <span style=\"color: #008000; text-decoration-color: #008000\">'id'</span>: <span style=\"color: #008000; text-decoration-color: #008000\">'1015118661_980735411b'</span>\n",
              "    <span style=\"font-weight: bold\">}</span>,\n",
              "    <span style=\"font-weight: bold\">{</span>\n",
              "        <span style=\"color: #008000; text-decoration-color: #008000\">'caption_ar'</span>: <span style=\"color: #008000; text-decoration-color: #008000\">'كلب أسود يقفز فوق الجذع'</span>,\n",
              "        <span style=\"color: #008000; text-decoration-color: #008000\">'image_name'</span>: <span style=\"color: #008000; text-decoration-color: #008000\">'1015584366_dfcec3c85a.jpg'</span>,\n",
              "        <span style=\"color: #008000; text-decoration-color: #008000\">'id'</span>: <span style=\"color: #008000; text-decoration-color: #008000\">'1015584366_dfcec3c85a'</span>\n",
              "    <span style=\"font-weight: bold\">}</span>\n",
              "<span style=\"font-weight: bold\">]</span>\n",
              "</pre>\n"
            ],
            "text/plain": [
              "\u001b[1m[\u001b[0m\n",
              "    \u001b[1m{\u001b[0m\n",
              "        \u001b[32m'caption_ar'\u001b[0m: \u001b[32m'طفلة صغيرة تتسلق إلى مسرح خشبي'\u001b[0m,\n",
              "        \u001b[32m'image_name'\u001b[0m: \u001b[32m'1000268201_693b08cb0e.jpg'\u001b[0m,\n",
              "        \u001b[32m'id'\u001b[0m: \u001b[32m'1000268201_693b08cb0e'\u001b[0m\n",
              "    \u001b[1m}\u001b[0m,\n",
              "    \u001b[1m{\u001b[0m\n",
              "        \u001b[32m'caption_ar'\u001b[0m: \u001b[32m'كلب أسود وكلب ثلاثي الألوان يلعبان مع بعضهما البعض على الطريق'\u001b[0m,\n",
              "        \u001b[32m'image_name'\u001b[0m: \u001b[32m'1001773457_577c3a7d70.jpg'\u001b[0m,\n",
              "        \u001b[32m'id'\u001b[0m: \u001b[32m'1001773457_577c3a7d70'\u001b[0m\n",
              "    \u001b[1m}\u001b[0m,\n",
              "    \u001b[1m{\u001b[0m\n",
              "        \u001b[32m'caption_ar'\u001b[0m: \u001b[32m'فتاة صغيرة مغطاة بالطلاء تجلس أمام قوس قزح'\u001b[0m,\n",
              "        \u001b[32m'image_name'\u001b[0m: \u001b[32m'1002674143_1b742ab4b8.jpg'\u001b[0m,\n",
              "        \u001b[32m'id'\u001b[0m: \u001b[32m'1002674143_1b742ab4b8'\u001b[0m\n",
              "    \u001b[1m}\u001b[0m,\n",
              "    \u001b[1m{\u001b[0m\n",
              "        \u001b[32m'caption_ar'\u001b[0m: \u001b[32m'رجل يجلس على مقعد بينما يجلس كلبه بجانبه'\u001b[0m,\n",
              "        \u001b[32m'image_name'\u001b[0m: \u001b[32m'1003163366_44323f5815.jpg'\u001b[0m,\n",
              "        \u001b[32m'id'\u001b[0m: \u001b[32m'1003163366_44323f5815'\u001b[0m\n",
              "    \u001b[1m}\u001b[0m,\n",
              "    \u001b[1m{\u001b[0m\n",
              "        \u001b[32m'caption_ar'\u001b[0m: \u001b[32m'رجل يرتدي قبعة برتقالية'\u001b[0m,\n",
              "        \u001b[32m'image_name'\u001b[0m: \u001b[32m'1007129816_e794419615.jpg'\u001b[0m,\n",
              "        \u001b[32m'id'\u001b[0m: \u001b[32m'1007129816_e794419615'\u001b[0m\n",
              "    \u001b[1m}\u001b[0m,\n",
              "    \u001b[1m{\u001b[0m\u001b[32m'caption_ar'\u001b[0m: \u001b[32m'طفل يلعب على حبل'\u001b[0m, \u001b[32m'image_name'\u001b[0m: \u001b[32m'1007320043_627395c3d8.jpg'\u001b[0m, \u001b[32m'id'\u001b[0m: \u001b[32m'1007320043_627395c3d8'\u001b[0m\u001b[1m}\u001b[0m,\n",
              "    \u001b[1m{\u001b[0m\n",
              "        \u001b[32m'caption_ar'\u001b[0m: \u001b[32m'كلب أبيض وأسود يركض في حديقة عشبية محاطة بسياج أبيض'\u001b[0m,\n",
              "        \u001b[32m'image_name'\u001b[0m: \u001b[32m'1009434119_febe49276a.jpg'\u001b[0m,\n",
              "        \u001b[32m'id'\u001b[0m: \u001b[32m'1009434119_febe49276a'\u001b[0m\n",
              "    \u001b[1m}\u001b[0m,\n",
              "    \u001b[1m{\u001b[0m\n",
              "        \u001b[32m'caption_ar'\u001b[0m: \u001b[32m'كلب يهز رأسه بالقرب من الشاطئ ، كرة حمراء بجانبه'\u001b[0m,\n",
              "        \u001b[32m'image_name'\u001b[0m: \u001b[32m'1012212859_01547e3f17.jpg'\u001b[0m,\n",
              "        \u001b[32m'id'\u001b[0m: \u001b[32m'1012212859_01547e3f17'\u001b[0m\n",
              "    \u001b[1m}\u001b[0m,\n",
              "    \u001b[1m{\u001b[0m\n",
              "        \u001b[32m'caption_ar'\u001b[0m: \u001b[32m'صبي يبتسم أمام حائط صخري في مدينة'\u001b[0m,\n",
              "        \u001b[32m'image_name'\u001b[0m: \u001b[32m'1015118661_980735411b.jpg'\u001b[0m,\n",
              "        \u001b[32m'id'\u001b[0m: \u001b[32m'1015118661_980735411b'\u001b[0m\n",
              "    \u001b[1m}\u001b[0m,\n",
              "    \u001b[1m{\u001b[0m\n",
              "        \u001b[32m'caption_ar'\u001b[0m: \u001b[32m'كلب أسود يقفز فوق الجذع'\u001b[0m,\n",
              "        \u001b[32m'image_name'\u001b[0m: \u001b[32m'1015584366_dfcec3c85a.jpg'\u001b[0m,\n",
              "        \u001b[32m'id'\u001b[0m: \u001b[32m'1015584366_dfcec3c85a'\u001b[0m\n",
              "    \u001b[1m}\u001b[0m\n",
              "\u001b[1m]\u001b[0m\n"
            ]
          },
          "metadata": {},
          "output_type": "display_data"
        }
      ],
      "source": [
        "print(data[:10])"
      ]
    },
    {
      "cell_type": "code",
      "execution_count": 7,
      "metadata": {},
      "outputs": [],
      "source": [
        "Check_id_duplication = [] "
      ]
    },
    {
      "cell_type": "code",
      "execution_count": 8,
      "metadata": {},
      "outputs": [],
      "source": [
        "for idx, data_obj in enumerate(data):\n",
        "\n",
        "    Check_id_duplication.append(data_obj[\"id\"])"
      ]
    },
    {
      "cell_type": "code",
      "execution_count": 9,
      "metadata": {},
      "outputs": [
        {
          "data": {
            "text/plain": [
              "False"
            ]
          },
          "execution_count": 9,
          "metadata": {},
          "output_type": "execute_result"
        }
      ],
      "source": [
        "# If the len is 1000, there is no duplicates\n",
        "\n",
        "len(set(Check_id_duplication)) == 8091"
      ]
    },
    {
      "cell_type": "code",
      "execution_count": 10,
      "metadata": {},
      "outputs": [
        {
          "data": {
            "text/html": [
              "<pre style=\"white-space:pre;overflow-x:auto;line-height:normal;font-family:Menlo,'DejaVu Sans Mono',consolas,'Courier New',monospace\"><span style=\"font-weight: bold\">[</span>\n",
              "    <span style=\"font-weight: bold\">{</span>\n",
              "        <span style=\"color: #008000; text-decoration-color: #008000\">'caption_ar'</span>: <span style=\"color: #008000; text-decoration-color: #008000\">'طفلة صغيرة تتسلق إلى مسرح خشبي'</span>,\n",
              "        <span style=\"color: #008000; text-decoration-color: #008000\">'image_name'</span>: <span style=\"color: #008000; text-decoration-color: #008000\">'1000268201_693b08cb0e.jpg'</span>,\n",
              "        <span style=\"color: #008000; text-decoration-color: #008000\">'id'</span>: <span style=\"color: #008000; text-decoration-color: #008000\">'1000268201_693b08cb0e'</span>\n",
              "    <span style=\"font-weight: bold\">}</span>,\n",
              "    <span style=\"font-weight: bold\">{</span>\n",
              "        <span style=\"color: #008000; text-decoration-color: #008000\">'caption_ar'</span>: <span style=\"color: #008000; text-decoration-color: #008000\">'كلب أسود وكلب ثلاثي الألوان يلعبان مع بعضهما البعض على الطريق'</span>,\n",
              "        <span style=\"color: #008000; text-decoration-color: #008000\">'image_name'</span>: <span style=\"color: #008000; text-decoration-color: #008000\">'1001773457_577c3a7d70.jpg'</span>,\n",
              "        <span style=\"color: #008000; text-decoration-color: #008000\">'id'</span>: <span style=\"color: #008000; text-decoration-color: #008000\">'1001773457_577c3a7d70'</span>\n",
              "    <span style=\"font-weight: bold\">}</span>,\n",
              "    <span style=\"font-weight: bold\">{</span>\n",
              "        <span style=\"color: #008000; text-decoration-color: #008000\">'caption_ar'</span>: <span style=\"color: #008000; text-decoration-color: #008000\">'فتاة صغيرة مغطاة بالطلاء تجلس أمام قوس قزح'</span>,\n",
              "        <span style=\"color: #008000; text-decoration-color: #008000\">'image_name'</span>: <span style=\"color: #008000; text-decoration-color: #008000\">'1002674143_1b742ab4b8.jpg'</span>,\n",
              "        <span style=\"color: #008000; text-decoration-color: #008000\">'id'</span>: <span style=\"color: #008000; text-decoration-color: #008000\">'1002674143_1b742ab4b8'</span>\n",
              "    <span style=\"font-weight: bold\">}</span>,\n",
              "    <span style=\"font-weight: bold\">{</span>\n",
              "        <span style=\"color: #008000; text-decoration-color: #008000\">'caption_ar'</span>: <span style=\"color: #008000; text-decoration-color: #008000\">'رجل يجلس على مقعد بينما يجلس كلبه بجانبه'</span>,\n",
              "        <span style=\"color: #008000; text-decoration-color: #008000\">'image_name'</span>: <span style=\"color: #008000; text-decoration-color: #008000\">'1003163366_44323f5815.jpg'</span>,\n",
              "        <span style=\"color: #008000; text-decoration-color: #008000\">'id'</span>: <span style=\"color: #008000; text-decoration-color: #008000\">'1003163366_44323f5815'</span>\n",
              "    <span style=\"font-weight: bold\">}</span>,\n",
              "    <span style=\"font-weight: bold\">{</span>\n",
              "        <span style=\"color: #008000; text-decoration-color: #008000\">'caption_ar'</span>: <span style=\"color: #008000; text-decoration-color: #008000\">'رجل يرتدي قبعة برتقالية'</span>,\n",
              "        <span style=\"color: #008000; text-decoration-color: #008000\">'image_name'</span>: <span style=\"color: #008000; text-decoration-color: #008000\">'1007129816_e794419615.jpg'</span>,\n",
              "        <span style=\"color: #008000; text-decoration-color: #008000\">'id'</span>: <span style=\"color: #008000; text-decoration-color: #008000\">'1007129816_e794419615'</span>\n",
              "    <span style=\"font-weight: bold\">}</span>,\n",
              "    <span style=\"font-weight: bold\">{</span><span style=\"color: #008000; text-decoration-color: #008000\">'caption_ar'</span>: <span style=\"color: #008000; text-decoration-color: #008000\">'طفل يلعب على حبل'</span>, <span style=\"color: #008000; text-decoration-color: #008000\">'image_name'</span>: <span style=\"color: #008000; text-decoration-color: #008000\">'1007320043_627395c3d8.jpg'</span>, <span style=\"color: #008000; text-decoration-color: #008000\">'id'</span>: <span style=\"color: #008000; text-decoration-color: #008000\">'1007320043_627395c3d8'</span><span style=\"font-weight: bold\">}</span>,\n",
              "    <span style=\"font-weight: bold\">{</span>\n",
              "        <span style=\"color: #008000; text-decoration-color: #008000\">'caption_ar'</span>: <span style=\"color: #008000; text-decoration-color: #008000\">'كلب أبيض وأسود يركض في حديقة عشبية محاطة بسياج أبيض'</span>,\n",
              "        <span style=\"color: #008000; text-decoration-color: #008000\">'image_name'</span>: <span style=\"color: #008000; text-decoration-color: #008000\">'1009434119_febe49276a.jpg'</span>,\n",
              "        <span style=\"color: #008000; text-decoration-color: #008000\">'id'</span>: <span style=\"color: #008000; text-decoration-color: #008000\">'1009434119_febe49276a'</span>\n",
              "    <span style=\"font-weight: bold\">}</span>,\n",
              "    <span style=\"font-weight: bold\">{</span>\n",
              "        <span style=\"color: #008000; text-decoration-color: #008000\">'caption_ar'</span>: <span style=\"color: #008000; text-decoration-color: #008000\">'كلب يهز رأسه بالقرب من الشاطئ ، كرة حمراء بجانبه'</span>,\n",
              "        <span style=\"color: #008000; text-decoration-color: #008000\">'image_name'</span>: <span style=\"color: #008000; text-decoration-color: #008000\">'1012212859_01547e3f17.jpg'</span>,\n",
              "        <span style=\"color: #008000; text-decoration-color: #008000\">'id'</span>: <span style=\"color: #008000; text-decoration-color: #008000\">'1012212859_01547e3f17'</span>\n",
              "    <span style=\"font-weight: bold\">}</span>,\n",
              "    <span style=\"font-weight: bold\">{</span>\n",
              "        <span style=\"color: #008000; text-decoration-color: #008000\">'caption_ar'</span>: <span style=\"color: #008000; text-decoration-color: #008000\">'صبي يبتسم أمام حائط صخري في مدينة'</span>,\n",
              "        <span style=\"color: #008000; text-decoration-color: #008000\">'image_name'</span>: <span style=\"color: #008000; text-decoration-color: #008000\">'1015118661_980735411b.jpg'</span>,\n",
              "        <span style=\"color: #008000; text-decoration-color: #008000\">'id'</span>: <span style=\"color: #008000; text-decoration-color: #008000\">'1015118661_980735411b'</span>\n",
              "    <span style=\"font-weight: bold\">}</span>,\n",
              "    <span style=\"font-weight: bold\">{</span>\n",
              "        <span style=\"color: #008000; text-decoration-color: #008000\">'caption_ar'</span>: <span style=\"color: #008000; text-decoration-color: #008000\">'كلب أسود يقفز فوق الجذع'</span>,\n",
              "        <span style=\"color: #008000; text-decoration-color: #008000\">'image_name'</span>: <span style=\"color: #008000; text-decoration-color: #008000\">'1015584366_dfcec3c85a.jpg'</span>,\n",
              "        <span style=\"color: #008000; text-decoration-color: #008000\">'id'</span>: <span style=\"color: #008000; text-decoration-color: #008000\">'1015584366_dfcec3c85a'</span>\n",
              "    <span style=\"font-weight: bold\">}</span>,\n",
              "    <span style=\"font-weight: bold\">{</span>\n",
              "        <span style=\"color: #008000; text-decoration-color: #008000\">'caption_ar'</span>: <span style=\"color: #008000; text-decoration-color: #008000\">'كلب أبيض وأبيض يمر عبر الثلج'</span>,\n",
              "        <span style=\"color: #008000; text-decoration-color: #008000\">'image_name'</span>: <span style=\"color: #008000; text-decoration-color: #008000\">'101654506_8eb26cfb60.jpg'</span>,\n",
              "        <span style=\"color: #008000; text-decoration-color: #008000\">'id'</span>: <span style=\"color: #008000; text-decoration-color: #008000\">'101654506_8eb26cfb60'</span>\n",
              "    <span style=\"font-weight: bold\">}</span>,\n",
              "    <span style=\"font-weight: bold\">{</span>\n",
              "        <span style=\"color: #008000; text-decoration-color: #008000\">'caption_ar'</span>: <span style=\"color: #008000; text-decoration-color: #008000\">'رجل في القبعة يعرض صورًا بجوار أحد المتزلجين في قبعة زرقاء'</span>,\n",
              "        <span style=\"color: #008000; text-decoration-color: #008000\">'image_name'</span>: <span style=\"color: #008000; text-decoration-color: #008000\">'101669240_b2d3e7f17b.jpg'</span>,\n",
              "        <span style=\"color: #008000; text-decoration-color: #008000\">'id'</span>: <span style=\"color: #008000; text-decoration-color: #008000\">'101669240_b2d3e7f17b'</span>\n",
              "    <span style=\"font-weight: bold\">}</span>,\n",
              "    <span style=\"font-weight: bold\">{</span>\n",
              "        <span style=\"color: #008000; text-decoration-color: #008000\">'caption_ar'</span>: <span style=\"color: #008000; text-decoration-color: #008000\">'صور لشخص واحد يتسلق جرفًا'</span>,\n",
              "        <span style=\"color: #008000; text-decoration-color: #008000\">'image_name'</span>: <span style=\"color: #008000; text-decoration-color: #008000\">'1016887272_03199f49c4.jpg'</span>,\n",
              "        <span style=\"color: #008000; text-decoration-color: #008000\">'id'</span>: <span style=\"color: #008000; text-decoration-color: #008000\">'1016887272_03199f49c4'</span>\n",
              "    <span style=\"font-weight: bold\">}</span>,\n",
              "    <span style=\"font-weight: bold\">{</span>\n",
              "        <span style=\"color: #008000; text-decoration-color: #008000\">'caption_ar'</span>: <span style=\"color: #008000; text-decoration-color: #008000\">'كلب بني يطارد الماء على العشب'</span>,\n",
              "        <span style=\"color: #008000; text-decoration-color: #008000\">'image_name'</span>: <span style=\"color: #008000; text-decoration-color: #008000\">'1019077836_6fc9b15408.jpg'</span>,\n",
              "        <span style=\"color: #008000; text-decoration-color: #008000\">'id'</span>: <span style=\"color: #008000; text-decoration-color: #008000\">'1019077836_6fc9b15408'</span>\n",
              "    <span style=\"font-weight: bold\">}</span>,\n",
              "    <span style=\"font-weight: bold\">{</span>\n",
              "        <span style=\"color: #008000; text-decoration-color: #008000\">'caption_ar'</span>: <span style=\"color: #008000; text-decoration-color: #008000\">'كلب يستعد للقبض على جسم في حقل مع السيارات القريبة'</span>,\n",
              "        <span style=\"color: #008000; text-decoration-color: #008000\">'image_name'</span>: <span style=\"color: #008000; text-decoration-color: #008000\">'1019604187_d087bf9a5f.jpg'</span>,\n",
              "        <span style=\"color: #008000; text-decoration-color: #008000\">'id'</span>: <span style=\"color: #008000; text-decoration-color: #008000\">'1019604187_d087bf9a5f'</span>\n",
              "    <span style=\"font-weight: bold\">}</span>,\n",
              "    <span style=\"font-weight: bold\">{</span>\n",
              "        <span style=\"color: #008000; text-decoration-color: #008000\">'caption_ar'</span>: <span style=\"color: #008000; text-decoration-color: #008000\">'كلب أبيض وأسود يقفز في الهواء للحصول على لعبة'</span>,\n",
              "        <span style=\"color: #008000; text-decoration-color: #008000\">'image_name'</span>: <span style=\"color: #008000; text-decoration-color: #008000\">'1020651753_06077ec457.jpg'</span>,\n",
              "        <span style=\"color: #008000; text-decoration-color: #008000\">'id'</span>: <span style=\"color: #008000; text-decoration-color: #008000\">'1020651753_06077ec457'</span>\n",
              "    <span style=\"font-weight: bold\">}</span>,\n",
              "    <span style=\"font-weight: bold\">{</span>\n",
              "        <span style=\"color: #008000; text-decoration-color: #008000\">'caption_ar'</span>: <span style=\"color: #008000; text-decoration-color: #008000\">'طفل وامرأة على حافة المياه في مدينة كبيرة'</span>,\n",
              "        <span style=\"color: #008000; text-decoration-color: #008000\">'image_name'</span>: <span style=\"color: #008000; text-decoration-color: #008000\">'1022454332_6af2c1449a.jpg'</span>,\n",
              "        <span style=\"color: #008000; text-decoration-color: #008000\">'id'</span>: <span style=\"color: #008000; text-decoration-color: #008000\">'1022454332_6af2c1449a'</span>\n",
              "    <span style=\"font-weight: bold\">}</span>,\n",
              "    <span style=\"font-weight: bold\">{</span>\n",
              "        <span style=\"color: #008000; text-decoration-color: #008000\">'caption_ar'</span>: <span style=\"color: #008000; text-decoration-color: #008000\">'زوجان يجلسان على العشب مع رضيع وعربة أطفال'</span>,\n",
              "        <span style=\"color: #008000; text-decoration-color: #008000\">'image_name'</span>: <span style=\"color: #008000; text-decoration-color: #008000\">'1022454428_b6b660a67b.jpg'</span>,\n",
              "        <span style=\"color: #008000; text-decoration-color: #008000\">'id'</span>: <span style=\"color: #008000; text-decoration-color: #008000\">'1022454428_b6b660a67b'</span>\n",
              "    <span style=\"font-weight: bold\">}</span>,\n",
              "    <span style=\"font-weight: bold\">{</span><span style=\"color: #008000; text-decoration-color: #008000\">'caption_ar'</span>: <span style=\"color: #008000; text-decoration-color: #008000\">'كلب يقفز في الماء'</span>, <span style=\"color: #008000; text-decoration-color: #008000\">'image_name'</span>: <span style=\"color: #008000; text-decoration-color: #008000\">'1022975728_75515238d8.jpg'</span>, <span style=\"color: #008000; text-decoration-color: #008000\">'id'</span>: <span style=\"color: #008000; text-decoration-color: #008000\">'1022975728_75515238d8'</span><span style=\"font-weight: bold\">}</span>,\n",
              "    <span style=\"font-weight: bold\">{</span>\n",
              "        <span style=\"color: #008000; text-decoration-color: #008000\">'caption_ar'</span>: <span style=\"color: #008000; text-decoration-color: #008000\">'رجل يحفر حفرة في الجليد'</span>,\n",
              "        <span style=\"color: #008000; text-decoration-color: #008000\">'image_name'</span>: <span style=\"color: #008000; text-decoration-color: #008000\">'102351840_323e3de834.jpg'</span>,\n",
              "        <span style=\"color: #008000; text-decoration-color: #008000\">'id'</span>: <span style=\"color: #008000; text-decoration-color: #008000\">'102351840_323e3de834'</span>\n",
              "    <span style=\"font-weight: bold\">}</span>\n",
              "<span style=\"font-weight: bold\">]</span>\n",
              "</pre>\n"
            ],
            "text/plain": [
              "\u001b[1m[\u001b[0m\n",
              "    \u001b[1m{\u001b[0m\n",
              "        \u001b[32m'caption_ar'\u001b[0m: \u001b[32m'طفلة صغيرة تتسلق إلى مسرح خشبي'\u001b[0m,\n",
              "        \u001b[32m'image_name'\u001b[0m: \u001b[32m'1000268201_693b08cb0e.jpg'\u001b[0m,\n",
              "        \u001b[32m'id'\u001b[0m: \u001b[32m'1000268201_693b08cb0e'\u001b[0m\n",
              "    \u001b[1m}\u001b[0m,\n",
              "    \u001b[1m{\u001b[0m\n",
              "        \u001b[32m'caption_ar'\u001b[0m: \u001b[32m'كلب أسود وكلب ثلاثي الألوان يلعبان مع بعضهما البعض على الطريق'\u001b[0m,\n",
              "        \u001b[32m'image_name'\u001b[0m: \u001b[32m'1001773457_577c3a7d70.jpg'\u001b[0m,\n",
              "        \u001b[32m'id'\u001b[0m: \u001b[32m'1001773457_577c3a7d70'\u001b[0m\n",
              "    \u001b[1m}\u001b[0m,\n",
              "    \u001b[1m{\u001b[0m\n",
              "        \u001b[32m'caption_ar'\u001b[0m: \u001b[32m'فتاة صغيرة مغطاة بالطلاء تجلس أمام قوس قزح'\u001b[0m,\n",
              "        \u001b[32m'image_name'\u001b[0m: \u001b[32m'1002674143_1b742ab4b8.jpg'\u001b[0m,\n",
              "        \u001b[32m'id'\u001b[0m: \u001b[32m'1002674143_1b742ab4b8'\u001b[0m\n",
              "    \u001b[1m}\u001b[0m,\n",
              "    \u001b[1m{\u001b[0m\n",
              "        \u001b[32m'caption_ar'\u001b[0m: \u001b[32m'رجل يجلس على مقعد بينما يجلس كلبه بجانبه'\u001b[0m,\n",
              "        \u001b[32m'image_name'\u001b[0m: \u001b[32m'1003163366_44323f5815.jpg'\u001b[0m,\n",
              "        \u001b[32m'id'\u001b[0m: \u001b[32m'1003163366_44323f5815'\u001b[0m\n",
              "    \u001b[1m}\u001b[0m,\n",
              "    \u001b[1m{\u001b[0m\n",
              "        \u001b[32m'caption_ar'\u001b[0m: \u001b[32m'رجل يرتدي قبعة برتقالية'\u001b[0m,\n",
              "        \u001b[32m'image_name'\u001b[0m: \u001b[32m'1007129816_e794419615.jpg'\u001b[0m,\n",
              "        \u001b[32m'id'\u001b[0m: \u001b[32m'1007129816_e794419615'\u001b[0m\n",
              "    \u001b[1m}\u001b[0m,\n",
              "    \u001b[1m{\u001b[0m\u001b[32m'caption_ar'\u001b[0m: \u001b[32m'طفل يلعب على حبل'\u001b[0m, \u001b[32m'image_name'\u001b[0m: \u001b[32m'1007320043_627395c3d8.jpg'\u001b[0m, \u001b[32m'id'\u001b[0m: \u001b[32m'1007320043_627395c3d8'\u001b[0m\u001b[1m}\u001b[0m,\n",
              "    \u001b[1m{\u001b[0m\n",
              "        \u001b[32m'caption_ar'\u001b[0m: \u001b[32m'كلب أبيض وأسود يركض في حديقة عشبية محاطة بسياج أبيض'\u001b[0m,\n",
              "        \u001b[32m'image_name'\u001b[0m: \u001b[32m'1009434119_febe49276a.jpg'\u001b[0m,\n",
              "        \u001b[32m'id'\u001b[0m: \u001b[32m'1009434119_febe49276a'\u001b[0m\n",
              "    \u001b[1m}\u001b[0m,\n",
              "    \u001b[1m{\u001b[0m\n",
              "        \u001b[32m'caption_ar'\u001b[0m: \u001b[32m'كلب يهز رأسه بالقرب من الشاطئ ، كرة حمراء بجانبه'\u001b[0m,\n",
              "        \u001b[32m'image_name'\u001b[0m: \u001b[32m'1012212859_01547e3f17.jpg'\u001b[0m,\n",
              "        \u001b[32m'id'\u001b[0m: \u001b[32m'1012212859_01547e3f17'\u001b[0m\n",
              "    \u001b[1m}\u001b[0m,\n",
              "    \u001b[1m{\u001b[0m\n",
              "        \u001b[32m'caption_ar'\u001b[0m: \u001b[32m'صبي يبتسم أمام حائط صخري في مدينة'\u001b[0m,\n",
              "        \u001b[32m'image_name'\u001b[0m: \u001b[32m'1015118661_980735411b.jpg'\u001b[0m,\n",
              "        \u001b[32m'id'\u001b[0m: \u001b[32m'1015118661_980735411b'\u001b[0m\n",
              "    \u001b[1m}\u001b[0m,\n",
              "    \u001b[1m{\u001b[0m\n",
              "        \u001b[32m'caption_ar'\u001b[0m: \u001b[32m'كلب أسود يقفز فوق الجذع'\u001b[0m,\n",
              "        \u001b[32m'image_name'\u001b[0m: \u001b[32m'1015584366_dfcec3c85a.jpg'\u001b[0m,\n",
              "        \u001b[32m'id'\u001b[0m: \u001b[32m'1015584366_dfcec3c85a'\u001b[0m\n",
              "    \u001b[1m}\u001b[0m,\n",
              "    \u001b[1m{\u001b[0m\n",
              "        \u001b[32m'caption_ar'\u001b[0m: \u001b[32m'كلب أبيض وأبيض يمر عبر الثلج'\u001b[0m,\n",
              "        \u001b[32m'image_name'\u001b[0m: \u001b[32m'101654506_8eb26cfb60.jpg'\u001b[0m,\n",
              "        \u001b[32m'id'\u001b[0m: \u001b[32m'101654506_8eb26cfb60'\u001b[0m\n",
              "    \u001b[1m}\u001b[0m,\n",
              "    \u001b[1m{\u001b[0m\n",
              "        \u001b[32m'caption_ar'\u001b[0m: \u001b[32m'رجل في القبعة يعرض صورًا بجوار أحد المتزلجين في قبعة زرقاء'\u001b[0m,\n",
              "        \u001b[32m'image_name'\u001b[0m: \u001b[32m'101669240_b2d3e7f17b.jpg'\u001b[0m,\n",
              "        \u001b[32m'id'\u001b[0m: \u001b[32m'101669240_b2d3e7f17b'\u001b[0m\n",
              "    \u001b[1m}\u001b[0m,\n",
              "    \u001b[1m{\u001b[0m\n",
              "        \u001b[32m'caption_ar'\u001b[0m: \u001b[32m'صور لشخص واحد يتسلق جرفًا'\u001b[0m,\n",
              "        \u001b[32m'image_name'\u001b[0m: \u001b[32m'1016887272_03199f49c4.jpg'\u001b[0m,\n",
              "        \u001b[32m'id'\u001b[0m: \u001b[32m'1016887272_03199f49c4'\u001b[0m\n",
              "    \u001b[1m}\u001b[0m,\n",
              "    \u001b[1m{\u001b[0m\n",
              "        \u001b[32m'caption_ar'\u001b[0m: \u001b[32m'كلب بني يطارد الماء على العشب'\u001b[0m,\n",
              "        \u001b[32m'image_name'\u001b[0m: \u001b[32m'1019077836_6fc9b15408.jpg'\u001b[0m,\n",
              "        \u001b[32m'id'\u001b[0m: \u001b[32m'1019077836_6fc9b15408'\u001b[0m\n",
              "    \u001b[1m}\u001b[0m,\n",
              "    \u001b[1m{\u001b[0m\n",
              "        \u001b[32m'caption_ar'\u001b[0m: \u001b[32m'كلب يستعد للقبض على جسم في حقل مع السيارات القريبة'\u001b[0m,\n",
              "        \u001b[32m'image_name'\u001b[0m: \u001b[32m'1019604187_d087bf9a5f.jpg'\u001b[0m,\n",
              "        \u001b[32m'id'\u001b[0m: \u001b[32m'1019604187_d087bf9a5f'\u001b[0m\n",
              "    \u001b[1m}\u001b[0m,\n",
              "    \u001b[1m{\u001b[0m\n",
              "        \u001b[32m'caption_ar'\u001b[0m: \u001b[32m'كلب أبيض وأسود يقفز في الهواء للحصول على لعبة'\u001b[0m,\n",
              "        \u001b[32m'image_name'\u001b[0m: \u001b[32m'1020651753_06077ec457.jpg'\u001b[0m,\n",
              "        \u001b[32m'id'\u001b[0m: \u001b[32m'1020651753_06077ec457'\u001b[0m\n",
              "    \u001b[1m}\u001b[0m,\n",
              "    \u001b[1m{\u001b[0m\n",
              "        \u001b[32m'caption_ar'\u001b[0m: \u001b[32m'طفل وامرأة على حافة المياه في مدينة كبيرة'\u001b[0m,\n",
              "        \u001b[32m'image_name'\u001b[0m: \u001b[32m'1022454332_6af2c1449a.jpg'\u001b[0m,\n",
              "        \u001b[32m'id'\u001b[0m: \u001b[32m'1022454332_6af2c1449a'\u001b[0m\n",
              "    \u001b[1m}\u001b[0m,\n",
              "    \u001b[1m{\u001b[0m\n",
              "        \u001b[32m'caption_ar'\u001b[0m: \u001b[32m'زوجان يجلسان على العشب مع رضيع وعربة أطفال'\u001b[0m,\n",
              "        \u001b[32m'image_name'\u001b[0m: \u001b[32m'1022454428_b6b660a67b.jpg'\u001b[0m,\n",
              "        \u001b[32m'id'\u001b[0m: \u001b[32m'1022454428_b6b660a67b'\u001b[0m\n",
              "    \u001b[1m}\u001b[0m,\n",
              "    \u001b[1m{\u001b[0m\u001b[32m'caption_ar'\u001b[0m: \u001b[32m'كلب يقفز في الماء'\u001b[0m, \u001b[32m'image_name'\u001b[0m: \u001b[32m'1022975728_75515238d8.jpg'\u001b[0m, \u001b[32m'id'\u001b[0m: \u001b[32m'1022975728_75515238d8'\u001b[0m\u001b[1m}\u001b[0m,\n",
              "    \u001b[1m{\u001b[0m\n",
              "        \u001b[32m'caption_ar'\u001b[0m: \u001b[32m'رجل يحفر حفرة في الجليد'\u001b[0m,\n",
              "        \u001b[32m'image_name'\u001b[0m: \u001b[32m'102351840_323e3de834.jpg'\u001b[0m,\n",
              "        \u001b[32m'id'\u001b[0m: \u001b[32m'102351840_323e3de834'\u001b[0m\n",
              "    \u001b[1m}\u001b[0m\n",
              "\u001b[1m]\u001b[0m\n"
            ]
          },
          "metadata": {},
          "output_type": "display_data"
        }
      ],
      "source": [
        "# data = [\n",
        "#     {'image_id': 0, 'id': 391895, 'caption': 'رجل يرتدي خوذة حمراء على دراجة بخارية صغيرة على طريق ترابي'},\n",
        "#     {'image_id': 1, 'id': 522418, 'caption': 'امرأة ترتدي شبكة على رأسها تقطع كعكة'},\n",
        "#     {'image_id': 2, 'id': 184613, 'caption': 'طفل يحمل مظلة مزهرة ويأكل ثورًا'},\n",
        "# ]\n",
        "\n",
        "# Sort the list of dictionaries based on the 'id' key\n",
        "sorted_data = sorted(data, key=lambda x: x['id'])\n",
        "\n",
        "print(sorted_data[:20])\n",
        "# # Print the sorted list\n",
        "# for item in sorted_data:\n",
        "#     print(item)"
      ]
    },
    {
      "cell_type": "code",
      "execution_count": 11,
      "metadata": {},
      "outputs": [],
      "source": [
        "# get only 10 examples\n",
        "# sorted_data"
      ]
    },
    {
      "cell_type": "code",
      "execution_count": 12,
      "metadata": {},
      "outputs": [
        {
          "data": {
            "text/plain": [
              "8091"
            ]
          },
          "execution_count": 12,
          "metadata": {},
          "output_type": "execute_result"
        }
      ],
      "source": [
        "len(sorted_data)"
      ]
    },
    {
      "cell_type": "code",
      "execution_count": 13,
      "metadata": {},
      "outputs": [
        {
          "data": {
            "text/html": [
              "<pre style=\"white-space:pre;overflow-x:auto;line-height:normal;font-family:Menlo,'DejaVu Sans Mono',consolas,'Courier New',monospace\"><span style=\"font-weight: bold\">[</span>\n",
              "    <span style=\"font-weight: bold\">{</span>\n",
              "        <span style=\"color: #008000; text-decoration-color: #008000\">'caption_ar'</span>: <span style=\"color: #008000; text-decoration-color: #008000\">'طفلة صغيرة تتسلق إلى مسرح خشبي'</span>,\n",
              "        <span style=\"color: #008000; text-decoration-color: #008000\">'image_name'</span>: <span style=\"color: #008000; text-decoration-color: #008000\">'1000268201_693b08cb0e.jpg'</span>,\n",
              "        <span style=\"color: #008000; text-decoration-color: #008000\">'id'</span>: <span style=\"color: #008000; text-decoration-color: #008000\">'1000268201_693b08cb0e'</span>\n",
              "    <span style=\"font-weight: bold\">}</span>,\n",
              "    <span style=\"font-weight: bold\">{</span>\n",
              "        <span style=\"color: #008000; text-decoration-color: #008000\">'caption_ar'</span>: <span style=\"color: #008000; text-decoration-color: #008000\">'كلب أسود وكلب ثلاثي الألوان يلعبان مع بعضهما البعض على الطريق'</span>,\n",
              "        <span style=\"color: #008000; text-decoration-color: #008000\">'image_name'</span>: <span style=\"color: #008000; text-decoration-color: #008000\">'1001773457_577c3a7d70.jpg'</span>,\n",
              "        <span style=\"color: #008000; text-decoration-color: #008000\">'id'</span>: <span style=\"color: #008000; text-decoration-color: #008000\">'1001773457_577c3a7d70'</span>\n",
              "    <span style=\"font-weight: bold\">}</span>,\n",
              "    <span style=\"font-weight: bold\">{</span>\n",
              "        <span style=\"color: #008000; text-decoration-color: #008000\">'caption_ar'</span>: <span style=\"color: #008000; text-decoration-color: #008000\">'فتاة صغيرة مغطاة بالطلاء تجلس أمام قوس قزح'</span>,\n",
              "        <span style=\"color: #008000; text-decoration-color: #008000\">'image_name'</span>: <span style=\"color: #008000; text-decoration-color: #008000\">'1002674143_1b742ab4b8.jpg'</span>,\n",
              "        <span style=\"color: #008000; text-decoration-color: #008000\">'id'</span>: <span style=\"color: #008000; text-decoration-color: #008000\">'1002674143_1b742ab4b8'</span>\n",
              "    <span style=\"font-weight: bold\">}</span>,\n",
              "    <span style=\"font-weight: bold\">{</span>\n",
              "        <span style=\"color: #008000; text-decoration-color: #008000\">'caption_ar'</span>: <span style=\"color: #008000; text-decoration-color: #008000\">'رجل يجلس على مقعد بينما يجلس كلبه بجانبه'</span>,\n",
              "        <span style=\"color: #008000; text-decoration-color: #008000\">'image_name'</span>: <span style=\"color: #008000; text-decoration-color: #008000\">'1003163366_44323f5815.jpg'</span>,\n",
              "        <span style=\"color: #008000; text-decoration-color: #008000\">'id'</span>: <span style=\"color: #008000; text-decoration-color: #008000\">'1003163366_44323f5815'</span>\n",
              "    <span style=\"font-weight: bold\">}</span>,\n",
              "    <span style=\"font-weight: bold\">{</span>\n",
              "        <span style=\"color: #008000; text-decoration-color: #008000\">'caption_ar'</span>: <span style=\"color: #008000; text-decoration-color: #008000\">'رجل يرتدي قبعة برتقالية'</span>,\n",
              "        <span style=\"color: #008000; text-decoration-color: #008000\">'image_name'</span>: <span style=\"color: #008000; text-decoration-color: #008000\">'1007129816_e794419615.jpg'</span>,\n",
              "        <span style=\"color: #008000; text-decoration-color: #008000\">'id'</span>: <span style=\"color: #008000; text-decoration-color: #008000\">'1007129816_e794419615'</span>\n",
              "    <span style=\"font-weight: bold\">}</span>,\n",
              "    <span style=\"font-weight: bold\">{</span><span style=\"color: #008000; text-decoration-color: #008000\">'caption_ar'</span>: <span style=\"color: #008000; text-decoration-color: #008000\">'طفل يلعب على حبل'</span>, <span style=\"color: #008000; text-decoration-color: #008000\">'image_name'</span>: <span style=\"color: #008000; text-decoration-color: #008000\">'1007320043_627395c3d8.jpg'</span>, <span style=\"color: #008000; text-decoration-color: #008000\">'id'</span>: <span style=\"color: #008000; text-decoration-color: #008000\">'1007320043_627395c3d8'</span><span style=\"font-weight: bold\">}</span>,\n",
              "    <span style=\"font-weight: bold\">{</span>\n",
              "        <span style=\"color: #008000; text-decoration-color: #008000\">'caption_ar'</span>: <span style=\"color: #008000; text-decoration-color: #008000\">'كلب أبيض وأسود يركض في حديقة عشبية محاطة بسياج أبيض'</span>,\n",
              "        <span style=\"color: #008000; text-decoration-color: #008000\">'image_name'</span>: <span style=\"color: #008000; text-decoration-color: #008000\">'1009434119_febe49276a.jpg'</span>,\n",
              "        <span style=\"color: #008000; text-decoration-color: #008000\">'id'</span>: <span style=\"color: #008000; text-decoration-color: #008000\">'1009434119_febe49276a'</span>\n",
              "    <span style=\"font-weight: bold\">}</span>,\n",
              "    <span style=\"font-weight: bold\">{</span>\n",
              "        <span style=\"color: #008000; text-decoration-color: #008000\">'caption_ar'</span>: <span style=\"color: #008000; text-decoration-color: #008000\">'كلب يهز رأسه بالقرب من الشاطئ ، كرة حمراء بجانبه'</span>,\n",
              "        <span style=\"color: #008000; text-decoration-color: #008000\">'image_name'</span>: <span style=\"color: #008000; text-decoration-color: #008000\">'1012212859_01547e3f17.jpg'</span>,\n",
              "        <span style=\"color: #008000; text-decoration-color: #008000\">'id'</span>: <span style=\"color: #008000; text-decoration-color: #008000\">'1012212859_01547e3f17'</span>\n",
              "    <span style=\"font-weight: bold\">}</span>,\n",
              "    <span style=\"font-weight: bold\">{</span>\n",
              "        <span style=\"color: #008000; text-decoration-color: #008000\">'caption_ar'</span>: <span style=\"color: #008000; text-decoration-color: #008000\">'صبي يبتسم أمام حائط صخري في مدينة'</span>,\n",
              "        <span style=\"color: #008000; text-decoration-color: #008000\">'image_name'</span>: <span style=\"color: #008000; text-decoration-color: #008000\">'1015118661_980735411b.jpg'</span>,\n",
              "        <span style=\"color: #008000; text-decoration-color: #008000\">'id'</span>: <span style=\"color: #008000; text-decoration-color: #008000\">'1015118661_980735411b'</span>\n",
              "    <span style=\"font-weight: bold\">}</span>,\n",
              "    <span style=\"font-weight: bold\">{</span>\n",
              "        <span style=\"color: #008000; text-decoration-color: #008000\">'caption_ar'</span>: <span style=\"color: #008000; text-decoration-color: #008000\">'كلب أسود يقفز فوق الجذع'</span>,\n",
              "        <span style=\"color: #008000; text-decoration-color: #008000\">'image_name'</span>: <span style=\"color: #008000; text-decoration-color: #008000\">'1015584366_dfcec3c85a.jpg'</span>,\n",
              "        <span style=\"color: #008000; text-decoration-color: #008000\">'id'</span>: <span style=\"color: #008000; text-decoration-color: #008000\">'1015584366_dfcec3c85a'</span>\n",
              "    <span style=\"font-weight: bold\">}</span>\n",
              "<span style=\"font-weight: bold\">]</span>\n",
              "</pre>\n"
            ],
            "text/plain": [
              "\u001b[1m[\u001b[0m\n",
              "    \u001b[1m{\u001b[0m\n",
              "        \u001b[32m'caption_ar'\u001b[0m: \u001b[32m'طفلة صغيرة تتسلق إلى مسرح خشبي'\u001b[0m,\n",
              "        \u001b[32m'image_name'\u001b[0m: \u001b[32m'1000268201_693b08cb0e.jpg'\u001b[0m,\n",
              "        \u001b[32m'id'\u001b[0m: \u001b[32m'1000268201_693b08cb0e'\u001b[0m\n",
              "    \u001b[1m}\u001b[0m,\n",
              "    \u001b[1m{\u001b[0m\n",
              "        \u001b[32m'caption_ar'\u001b[0m: \u001b[32m'كلب أسود وكلب ثلاثي الألوان يلعبان مع بعضهما البعض على الطريق'\u001b[0m,\n",
              "        \u001b[32m'image_name'\u001b[0m: \u001b[32m'1001773457_577c3a7d70.jpg'\u001b[0m,\n",
              "        \u001b[32m'id'\u001b[0m: \u001b[32m'1001773457_577c3a7d70'\u001b[0m\n",
              "    \u001b[1m}\u001b[0m,\n",
              "    \u001b[1m{\u001b[0m\n",
              "        \u001b[32m'caption_ar'\u001b[0m: \u001b[32m'فتاة صغيرة مغطاة بالطلاء تجلس أمام قوس قزح'\u001b[0m,\n",
              "        \u001b[32m'image_name'\u001b[0m: \u001b[32m'1002674143_1b742ab4b8.jpg'\u001b[0m,\n",
              "        \u001b[32m'id'\u001b[0m: \u001b[32m'1002674143_1b742ab4b8'\u001b[0m\n",
              "    \u001b[1m}\u001b[0m,\n",
              "    \u001b[1m{\u001b[0m\n",
              "        \u001b[32m'caption_ar'\u001b[0m: \u001b[32m'رجل يجلس على مقعد بينما يجلس كلبه بجانبه'\u001b[0m,\n",
              "        \u001b[32m'image_name'\u001b[0m: \u001b[32m'1003163366_44323f5815.jpg'\u001b[0m,\n",
              "        \u001b[32m'id'\u001b[0m: \u001b[32m'1003163366_44323f5815'\u001b[0m\n",
              "    \u001b[1m}\u001b[0m,\n",
              "    \u001b[1m{\u001b[0m\n",
              "        \u001b[32m'caption_ar'\u001b[0m: \u001b[32m'رجل يرتدي قبعة برتقالية'\u001b[0m,\n",
              "        \u001b[32m'image_name'\u001b[0m: \u001b[32m'1007129816_e794419615.jpg'\u001b[0m,\n",
              "        \u001b[32m'id'\u001b[0m: \u001b[32m'1007129816_e794419615'\u001b[0m\n",
              "    \u001b[1m}\u001b[0m,\n",
              "    \u001b[1m{\u001b[0m\u001b[32m'caption_ar'\u001b[0m: \u001b[32m'طفل يلعب على حبل'\u001b[0m, \u001b[32m'image_name'\u001b[0m: \u001b[32m'1007320043_627395c3d8.jpg'\u001b[0m, \u001b[32m'id'\u001b[0m: \u001b[32m'1007320043_627395c3d8'\u001b[0m\u001b[1m}\u001b[0m,\n",
              "    \u001b[1m{\u001b[0m\n",
              "        \u001b[32m'caption_ar'\u001b[0m: \u001b[32m'كلب أبيض وأسود يركض في حديقة عشبية محاطة بسياج أبيض'\u001b[0m,\n",
              "        \u001b[32m'image_name'\u001b[0m: \u001b[32m'1009434119_febe49276a.jpg'\u001b[0m,\n",
              "        \u001b[32m'id'\u001b[0m: \u001b[32m'1009434119_febe49276a'\u001b[0m\n",
              "    \u001b[1m}\u001b[0m,\n",
              "    \u001b[1m{\u001b[0m\n",
              "        \u001b[32m'caption_ar'\u001b[0m: \u001b[32m'كلب يهز رأسه بالقرب من الشاطئ ، كرة حمراء بجانبه'\u001b[0m,\n",
              "        \u001b[32m'image_name'\u001b[0m: \u001b[32m'1012212859_01547e3f17.jpg'\u001b[0m,\n",
              "        \u001b[32m'id'\u001b[0m: \u001b[32m'1012212859_01547e3f17'\u001b[0m\n",
              "    \u001b[1m}\u001b[0m,\n",
              "    \u001b[1m{\u001b[0m\n",
              "        \u001b[32m'caption_ar'\u001b[0m: \u001b[32m'صبي يبتسم أمام حائط صخري في مدينة'\u001b[0m,\n",
              "        \u001b[32m'image_name'\u001b[0m: \u001b[32m'1015118661_980735411b.jpg'\u001b[0m,\n",
              "        \u001b[32m'id'\u001b[0m: \u001b[32m'1015118661_980735411b'\u001b[0m\n",
              "    \u001b[1m}\u001b[0m,\n",
              "    \u001b[1m{\u001b[0m\n",
              "        \u001b[32m'caption_ar'\u001b[0m: \u001b[32m'كلب أسود يقفز فوق الجذع'\u001b[0m,\n",
              "        \u001b[32m'image_name'\u001b[0m: \u001b[32m'1015584366_dfcec3c85a.jpg'\u001b[0m,\n",
              "        \u001b[32m'id'\u001b[0m: \u001b[32m'1015584366_dfcec3c85a'\u001b[0m\n",
              "    \u001b[1m}\u001b[0m\n",
              "\u001b[1m]\u001b[0m\n"
            ]
          },
          "metadata": {},
          "output_type": "display_data"
        }
      ],
      "source": [
        "print(sorted_data[:10])"
      ]
    },
    {
      "cell_type": "code",
      "execution_count": 14,
      "metadata": {},
      "outputs": [],
      "source": [
        "image_name_list = []\n",
        "\n",
        "for lin in sorted_data:\n",
        "    # print(lin[\"image_name\"])\n",
        "    image_name_list.append(lin[\"image_name\"])"
      ]
    },
    {
      "cell_type": "code",
      "execution_count": 15,
      "metadata": {},
      "outputs": [
        {
          "data": {
            "text/plain": [
              "{'caption_ar': 'طفلة صغيرة تتسلق إلى مسرح خشبي',\n",
              " 'image_name': '1000268201_693b08cb0e.jpg',\n",
              " 'id': '1000268201_693b08cb0e'}"
            ]
          },
          "execution_count": 15,
          "metadata": {},
          "output_type": "execute_result"
        }
      ],
      "source": [
        "sorted_data[0]"
      ]
    },
    {
      "cell_type": "code",
      "execution_count": 16,
      "metadata": {},
      "outputs": [],
      "source": [
        "# Create a mapping dictionary between the ids and paths\n",
        "\n",
        "id2path = {}\n",
        "\n",
        "\n",
        "for im_path, sort_sample in zip(image_name_list, sorted_data):\n",
        "\n",
        "\n",
        "    # print(json.loads(lin)[\"text\"])\n",
        "    # print(im_path.split(\"_\")[-1].split(\".\")[0])\n",
        "\n",
        "    input_str = im_path.split(\".\")[0]\n",
        "\n",
        "    # Check the ids\n",
        "\n",
        "    if sort_sample['id'] != input_str:\n",
        "        print(\"stop ........................................................\")\n",
        "    id2path[input_str] = im_path\n",
        "\n",
        "    # print(result)"
      ]
    },
    {
      "cell_type": "code",
      "execution_count": 17,
      "metadata": {},
      "outputs": [],
      "source": [
        "# id2path"
      ]
    },
    {
      "cell_type": "code",
      "execution_count": 18,
      "metadata": {},
      "outputs": [
        {
          "data": {
            "text/html": [
              "<pre style=\"white-space:pre;overflow-x:auto;line-height:normal;font-family:Menlo,'DejaVu Sans Mono',consolas,'Courier New',monospace\">All images are present in the folder.\n",
              "</pre>\n"
            ],
            "text/plain": [
              "All images are present in the folder.\n"
            ]
          },
          "metadata": {},
          "output_type": "display_data"
        }
      ],
      "source": [
        "# Check if each image file exists in the folder\n",
        "\n",
        "folder_path = \"flicker_8k/photos\"\n",
        "\n",
        "missing_images = []\n",
        "\n",
        "for image_path in image_name_list:\n",
        "    full_image_path = os.path.join(folder_path, image_path)\n",
        "    if not os.path.exists(full_image_path):\n",
        "        missing_images.append(image_path)\n",
        "\n",
        "if missing_images:\n",
        "    print(\"The following images are missing:\")\n",
        "    for image_path in missing_images:\n",
        "        print(image_path)\n",
        "else:\n",
        "    print(\"All images are present in the folder.\")"
      ]
    },
    {
      "cell_type": "code",
      "execution_count": 19,
      "metadata": {},
      "outputs": [
        {
          "data": {
            "text/html": [
              "<pre style=\"white-space:pre;overflow-x:auto;line-height:normal;font-family:Menlo,'DejaVu Sans Mono',consolas,'Courier New',monospace\">img_names <span style=\"color: #008080; text-decoration-color: #008080; font-weight: bold\">8091</span>\n",
              "</pre>\n"
            ],
            "text/plain": [
              "img_names \u001b[1;36m8091\u001b[0m\n"
            ]
          },
          "metadata": {},
          "output_type": "display_data"
        },
        {
          "data": {
            "text/html": [
              "<pre style=\"white-space:pre;overflow-x:auto;line-height:normal;font-family:Menlo,'DejaVu Sans Mono',consolas,'Courier New',monospace\">destroy_images <span style=\"color: #008080; text-decoration-color: #008080; font-weight: bold\">0</span>\n",
              "</pre>\n"
            ],
            "text/plain": [
              "destroy_images \u001b[1;36m0\u001b[0m\n"
            ]
          },
          "metadata": {},
          "output_type": "display_data"
        },
        {
          "data": {
            "text/html": [
              "<pre style=\"white-space:pre;overflow-x:auto;line-height:normal;font-family:Menlo,'DejaVu Sans Mono',consolas,'Courier New',monospace\">not_exist_paths <span style=\"color: #008080; text-decoration-color: #008080; font-weight: bold\">0</span>\n",
              "</pre>\n"
            ],
            "text/plain": [
              "not_exist_paths \u001b[1;36m0\u001b[0m\n"
            ]
          },
          "metadata": {},
          "output_type": "display_data"
        },
        {
          "data": {
            "text/html": [
              "<pre style=\"white-space:pre;overflow-x:auto;line-height:normal;font-family:Menlo,'DejaVu Sans Mono',consolas,'Courier New',monospace\">remaining images <span style=\"color: #008080; text-decoration-color: #008080; font-weight: bold\">8091</span>\n",
              "</pre>\n"
            ],
            "text/plain": [
              "remaining images \u001b[1;36m8091\u001b[0m\n"
            ]
          },
          "metadata": {},
          "output_type": "display_data"
        }
      ],
      "source": [
        "# Delete the images that are not included on the testing dataset \n",
        "\n",
        "import os\n",
        "\n",
        "\n",
        "not_exist_paths = []\n",
        "exist_paths = [] \n",
        "\n",
        "# Get a list of all files in the folder\n",
        "all_files = os.listdir(folder_path)\n",
        "\n",
        "# Remove any files in the folder that are not in the list of image paths\n",
        "for file_name in all_files:\n",
        "    if file_name not in image_name_list:\n",
        "        file_path = os.path.join(folder_path, file_name)\n",
        "        os.remove(file_path)\n",
        "        # print(f\"Removed: {file_path}\")\n",
        "        not_exist_paths.append(file_path)\n",
        "\n",
        "    elif file_name in image_name_list:\n",
        "\n",
        "        exist_paths.append(file_name)\n",
        "\n",
        "\n",
        "destroy_images = set(not_exist_paths).difference(set(exist_paths))\n",
        "\n",
        "\n",
        "print(\"img_names\", len(all_files))\n",
        "print(\"destroy_images\", len(destroy_images))\n",
        "print(\"not_exist_paths\", len(not_exist_paths))\n",
        "print(\"remaining images\", len(all_files)- len(destroy_images))\n",
        "\n",
        "# print(\"Finished removing unwanted images.\")"
      ]
    },
    {
      "cell_type": "markdown",
      "metadata": {},
      "source": [
        "Define the the text model "
      ]
    },
    {
      "cell_type": "code",
      "execution_count": 20,
      "metadata": {},
      "outputs": [
        {
          "name": "stdout",
          "output_type": "stream",
          "text": [
            "Requirement already satisfied: multilingual-clip in /home/lenovo/miniconda3/envs/tf_araclip_eval/lib/python3.9/site-packages (1.0.10)\n",
            "Requirement already satisfied: transformers in /home/lenovo/miniconda3/envs/tf_araclip_eval/lib/python3.9/site-packages (from multilingual-clip) (4.41.2)\n",
            "Requirement already satisfied: filelock in /home/lenovo/miniconda3/envs/tf_araclip_eval/lib/python3.9/site-packages (from transformers->multilingual-clip) (3.13.1)\n",
            "Requirement already satisfied: huggingface-hub<1.0,>=0.23.0 in /home/lenovo/miniconda3/envs/tf_araclip_eval/lib/python3.9/site-packages (from transformers->multilingual-clip) (0.23.1)\n",
            "Requirement already satisfied: numpy>=1.17 in /home/lenovo/miniconda3/envs/tf_araclip_eval/lib/python3.9/site-packages (from transformers->multilingual-clip) (1.25.2)\n",
            "Requirement already satisfied: packaging>=20.0 in /home/lenovo/miniconda3/envs/tf_araclip_eval/lib/python3.9/site-packages (from transformers->multilingual-clip) (23.1)\n",
            "Requirement already satisfied: pyyaml>=5.1 in /home/lenovo/miniconda3/envs/tf_araclip_eval/lib/python3.9/site-packages (from transformers->multilingual-clip) (6.0.1)\n",
            "Requirement already satisfied: regex!=2019.12.17 in /home/lenovo/miniconda3/envs/tf_araclip_eval/lib/python3.9/site-packages (from transformers->multilingual-clip) (2023.10.3)\n",
            "Requirement already satisfied: requests in /home/lenovo/miniconda3/envs/tf_araclip_eval/lib/python3.9/site-packages (from transformers->multilingual-clip) (2.32.3)\n",
            "Requirement already satisfied: tokenizers<0.20,>=0.19 in /home/lenovo/miniconda3/envs/tf_araclip_eval/lib/python3.9/site-packages (from transformers->multilingual-clip) (0.19.1)\n",
            "Requirement already satisfied: safetensors>=0.4.1 in /home/lenovo/miniconda3/envs/tf_araclip_eval/lib/python3.9/site-packages (from transformers->multilingual-clip) (0.4.2)\n",
            "Requirement already satisfied: tqdm>=4.27 in /home/lenovo/miniconda3/envs/tf_araclip_eval/lib/python3.9/site-packages (from transformers->multilingual-clip) (4.66.4)\n",
            "Requirement already satisfied: fsspec>=2023.5.0 in /home/lenovo/miniconda3/envs/tf_araclip_eval/lib/python3.9/site-packages (from huggingface-hub<1.0,>=0.23.0->transformers->multilingual-clip) (2024.3.1)\n",
            "Requirement already satisfied: typing-extensions>=3.7.4.3 in /home/lenovo/miniconda3/envs/tf_araclip_eval/lib/python3.9/site-packages (from huggingface-hub<1.0,>=0.23.0->transformers->multilingual-clip) (4.12.2)\n",
            "Requirement already satisfied: charset-normalizer<4,>=2 in /home/lenovo/miniconda3/envs/tf_araclip_eval/lib/python3.9/site-packages (from requests->transformers->multilingual-clip) (3.3.2)\n",
            "Requirement already satisfied: idna<4,>=2.5 in /home/lenovo/miniconda3/envs/tf_araclip_eval/lib/python3.9/site-packages (from requests->transformers->multilingual-clip) (3.7)\n",
            "Requirement already satisfied: urllib3<3,>=1.21.1 in /home/lenovo/miniconda3/envs/tf_araclip_eval/lib/python3.9/site-packages (from requests->transformers->multilingual-clip) (2.2.2)\n",
            "Requirement already satisfied: certifi>=2017.4.17 in /home/lenovo/miniconda3/envs/tf_araclip_eval/lib/python3.9/site-packages (from requests->transformers->multilingual-clip) (2024.7.4)\n"
          ]
        }
      ],
      "source": [
        "!pip install multilingual-clip\n",
        "\n",
        "from multilingual_clip import pt_multilingual_clip\n",
        "import transformers\n",
        "\n",
        "\n",
        "device = torch.device('cuda') if torch.cuda.is_available() else torch.device('cpu')\n",
        "\n",
        "model_name = 'M-CLIP/XLM-Roberta-Large-Vit-B-16Plus'\n",
        "\n",
        "text_model = pt_multilingual_clip.MultilingualCLIP.from_pretrained(model_name)\n",
        "tokenizer = transformers.AutoTokenizer.from_pretrained(model_name)\n"
      ]
    },
    {
      "cell_type": "code",
      "execution_count": 21,
      "metadata": {},
      "outputs": [
        {
          "data": {
            "text/plain": [
              "{'input_ids': tensor([[   0, 8647,    2]]), 'attention_mask': tensor([[1, 1, 1]])}"
            ]
          },
          "execution_count": 21,
          "metadata": {},
          "output_type": "execute_result"
        }
      ],
      "source": [
        "tokenizer(\"Test\", padding=True, return_tensors='pt')"
      ]
    },
    {
      "cell_type": "code",
      "execution_count": 22,
      "metadata": {},
      "outputs": [
        {
          "data": {
            "text/plain": [
              "MultilingualCLIP(\n",
              "  (transformer): XLMRobertaModel(\n",
              "    (embeddings): XLMRobertaEmbeddings(\n",
              "      (word_embeddings): Embedding(250002, 1024, padding_idx=1)\n",
              "      (position_embeddings): Embedding(514, 1024, padding_idx=1)\n",
              "      (token_type_embeddings): Embedding(1, 1024)\n",
              "      (LayerNorm): LayerNorm((1024,), eps=1e-05, elementwise_affine=True)\n",
              "      (dropout): Dropout(p=0.1, inplace=False)\n",
              "    )\n",
              "    (encoder): XLMRobertaEncoder(\n",
              "      (layer): ModuleList(\n",
              "        (0): XLMRobertaLayer(\n",
              "          (attention): XLMRobertaAttention(\n",
              "            (self): XLMRobertaSelfAttention(\n",
              "              (query): Linear(in_features=1024, out_features=1024, bias=True)\n",
              "              (key): Linear(in_features=1024, out_features=1024, bias=True)\n",
              "              (value): Linear(in_features=1024, out_features=1024, bias=True)\n",
              "              (dropout): Dropout(p=0.1, inplace=False)\n",
              "            )\n",
              "            (output): XLMRobertaSelfOutput(\n",
              "              (dense): Linear(in_features=1024, out_features=1024, bias=True)\n",
              "              (LayerNorm): LayerNorm((1024,), eps=1e-05, elementwise_affine=True)\n",
              "              (dropout): Dropout(p=0.1, inplace=False)\n",
              "            )\n",
              "          )\n",
              "          (intermediate): XLMRobertaIntermediate(\n",
              "            (dense): Linear(in_features=1024, out_features=4096, bias=True)\n",
              "            (intermediate_act_fn): GELUActivation()\n",
              "          )\n",
              "          (output): XLMRobertaOutput(\n",
              "            (dense): Linear(in_features=4096, out_features=1024, bias=True)\n",
              "            (LayerNorm): LayerNorm((1024,), eps=1e-05, elementwise_affine=True)\n",
              "            (dropout): Dropout(p=0.1, inplace=False)\n",
              "          )\n",
              "        )\n",
              "        (1): XLMRobertaLayer(\n",
              "          (attention): XLMRobertaAttention(\n",
              "            (self): XLMRobertaSelfAttention(\n",
              "              (query): Linear(in_features=1024, out_features=1024, bias=True)\n",
              "              (key): Linear(in_features=1024, out_features=1024, bias=True)\n",
              "              (value): Linear(in_features=1024, out_features=1024, bias=True)\n",
              "              (dropout): Dropout(p=0.1, inplace=False)\n",
              "            )\n",
              "            (output): XLMRobertaSelfOutput(\n",
              "              (dense): Linear(in_features=1024, out_features=1024, bias=True)\n",
              "              (LayerNorm): LayerNorm((1024,), eps=1e-05, elementwise_affine=True)\n",
              "              (dropout): Dropout(p=0.1, inplace=False)\n",
              "            )\n",
              "          )\n",
              "          (intermediate): XLMRobertaIntermediate(\n",
              "            (dense): Linear(in_features=1024, out_features=4096, bias=True)\n",
              "            (intermediate_act_fn): GELUActivation()\n",
              "          )\n",
              "          (output): XLMRobertaOutput(\n",
              "            (dense): Linear(in_features=4096, out_features=1024, bias=True)\n",
              "            (LayerNorm): LayerNorm((1024,), eps=1e-05, elementwise_affine=True)\n",
              "            (dropout): Dropout(p=0.1, inplace=False)\n",
              "          )\n",
              "        )\n",
              "        (2): XLMRobertaLayer(\n",
              "          (attention): XLMRobertaAttention(\n",
              "            (self): XLMRobertaSelfAttention(\n",
              "              (query): Linear(in_features=1024, out_features=1024, bias=True)\n",
              "              (key): Linear(in_features=1024, out_features=1024, bias=True)\n",
              "              (value): Linear(in_features=1024, out_features=1024, bias=True)\n",
              "              (dropout): Dropout(p=0.1, inplace=False)\n",
              "            )\n",
              "            (output): XLMRobertaSelfOutput(\n",
              "              (dense): Linear(in_features=1024, out_features=1024, bias=True)\n",
              "              (LayerNorm): LayerNorm((1024,), eps=1e-05, elementwise_affine=True)\n",
              "              (dropout): Dropout(p=0.1, inplace=False)\n",
              "            )\n",
              "          )\n",
              "          (intermediate): XLMRobertaIntermediate(\n",
              "            (dense): Linear(in_features=1024, out_features=4096, bias=True)\n",
              "            (intermediate_act_fn): GELUActivation()\n",
              "          )\n",
              "          (output): XLMRobertaOutput(\n",
              "            (dense): Linear(in_features=4096, out_features=1024, bias=True)\n",
              "            (LayerNorm): LayerNorm((1024,), eps=1e-05, elementwise_affine=True)\n",
              "            (dropout): Dropout(p=0.1, inplace=False)\n",
              "          )\n",
              "        )\n",
              "        (3): XLMRobertaLayer(\n",
              "          (attention): XLMRobertaAttention(\n",
              "            (self): XLMRobertaSelfAttention(\n",
              "              (query): Linear(in_features=1024, out_features=1024, bias=True)\n",
              "              (key): Linear(in_features=1024, out_features=1024, bias=True)\n",
              "              (value): Linear(in_features=1024, out_features=1024, bias=True)\n",
              "              (dropout): Dropout(p=0.1, inplace=False)\n",
              "            )\n",
              "            (output): XLMRobertaSelfOutput(\n",
              "              (dense): Linear(in_features=1024, out_features=1024, bias=True)\n",
              "              (LayerNorm): LayerNorm((1024,), eps=1e-05, elementwise_affine=True)\n",
              "              (dropout): Dropout(p=0.1, inplace=False)\n",
              "            )\n",
              "          )\n",
              "          (intermediate): XLMRobertaIntermediate(\n",
              "            (dense): Linear(in_features=1024, out_features=4096, bias=True)\n",
              "            (intermediate_act_fn): GELUActivation()\n",
              "          )\n",
              "          (output): XLMRobertaOutput(\n",
              "            (dense): Linear(in_features=4096, out_features=1024, bias=True)\n",
              "            (LayerNorm): LayerNorm((1024,), eps=1e-05, elementwise_affine=True)\n",
              "            (dropout): Dropout(p=0.1, inplace=False)\n",
              "          )\n",
              "        )\n",
              "        (4): XLMRobertaLayer(\n",
              "          (attention): XLMRobertaAttention(\n",
              "            (self): XLMRobertaSelfAttention(\n",
              "              (query): Linear(in_features=1024, out_features=1024, bias=True)\n",
              "              (key): Linear(in_features=1024, out_features=1024, bias=True)\n",
              "              (value): Linear(in_features=1024, out_features=1024, bias=True)\n",
              "              (dropout): Dropout(p=0.1, inplace=False)\n",
              "            )\n",
              "            (output): XLMRobertaSelfOutput(\n",
              "              (dense): Linear(in_features=1024, out_features=1024, bias=True)\n",
              "              (LayerNorm): LayerNorm((1024,), eps=1e-05, elementwise_affine=True)\n",
              "              (dropout): Dropout(p=0.1, inplace=False)\n",
              "            )\n",
              "          )\n",
              "          (intermediate): XLMRobertaIntermediate(\n",
              "            (dense): Linear(in_features=1024, out_features=4096, bias=True)\n",
              "            (intermediate_act_fn): GELUActivation()\n",
              "          )\n",
              "          (output): XLMRobertaOutput(\n",
              "            (dense): Linear(in_features=4096, out_features=1024, bias=True)\n",
              "            (LayerNorm): LayerNorm((1024,), eps=1e-05, elementwise_affine=True)\n",
              "            (dropout): Dropout(p=0.1, inplace=False)\n",
              "          )\n",
              "        )\n",
              "        (5): XLMRobertaLayer(\n",
              "          (attention): XLMRobertaAttention(\n",
              "            (self): XLMRobertaSelfAttention(\n",
              "              (query): Linear(in_features=1024, out_features=1024, bias=True)\n",
              "              (key): Linear(in_features=1024, out_features=1024, bias=True)\n",
              "              (value): Linear(in_features=1024, out_features=1024, bias=True)\n",
              "              (dropout): Dropout(p=0.1, inplace=False)\n",
              "            )\n",
              "            (output): XLMRobertaSelfOutput(\n",
              "              (dense): Linear(in_features=1024, out_features=1024, bias=True)\n",
              "              (LayerNorm): LayerNorm((1024,), eps=1e-05, elementwise_affine=True)\n",
              "              (dropout): Dropout(p=0.1, inplace=False)\n",
              "            )\n",
              "          )\n",
              "          (intermediate): XLMRobertaIntermediate(\n",
              "            (dense): Linear(in_features=1024, out_features=4096, bias=True)\n",
              "            (intermediate_act_fn): GELUActivation()\n",
              "          )\n",
              "          (output): XLMRobertaOutput(\n",
              "            (dense): Linear(in_features=4096, out_features=1024, bias=True)\n",
              "            (LayerNorm): LayerNorm((1024,), eps=1e-05, elementwise_affine=True)\n",
              "            (dropout): Dropout(p=0.1, inplace=False)\n",
              "          )\n",
              "        )\n",
              "        (6): XLMRobertaLayer(\n",
              "          (attention): XLMRobertaAttention(\n",
              "            (self): XLMRobertaSelfAttention(\n",
              "              (query): Linear(in_features=1024, out_features=1024, bias=True)\n",
              "              (key): Linear(in_features=1024, out_features=1024, bias=True)\n",
              "              (value): Linear(in_features=1024, out_features=1024, bias=True)\n",
              "              (dropout): Dropout(p=0.1, inplace=False)\n",
              "            )\n",
              "            (output): XLMRobertaSelfOutput(\n",
              "              (dense): Linear(in_features=1024, out_features=1024, bias=True)\n",
              "              (LayerNorm): LayerNorm((1024,), eps=1e-05, elementwise_affine=True)\n",
              "              (dropout): Dropout(p=0.1, inplace=False)\n",
              "            )\n",
              "          )\n",
              "          (intermediate): XLMRobertaIntermediate(\n",
              "            (dense): Linear(in_features=1024, out_features=4096, bias=True)\n",
              "            (intermediate_act_fn): GELUActivation()\n",
              "          )\n",
              "          (output): XLMRobertaOutput(\n",
              "            (dense): Linear(in_features=4096, out_features=1024, bias=True)\n",
              "            (LayerNorm): LayerNorm((1024,), eps=1e-05, elementwise_affine=True)\n",
              "            (dropout): Dropout(p=0.1, inplace=False)\n",
              "          )\n",
              "        )\n",
              "        (7): XLMRobertaLayer(\n",
              "          (attention): XLMRobertaAttention(\n",
              "            (self): XLMRobertaSelfAttention(\n",
              "              (query): Linear(in_features=1024, out_features=1024, bias=True)\n",
              "              (key): Linear(in_features=1024, out_features=1024, bias=True)\n",
              "              (value): Linear(in_features=1024, out_features=1024, bias=True)\n",
              "              (dropout): Dropout(p=0.1, inplace=False)\n",
              "            )\n",
              "            (output): XLMRobertaSelfOutput(\n",
              "              (dense): Linear(in_features=1024, out_features=1024, bias=True)\n",
              "              (LayerNorm): LayerNorm((1024,), eps=1e-05, elementwise_affine=True)\n",
              "              (dropout): Dropout(p=0.1, inplace=False)\n",
              "            )\n",
              "          )\n",
              "          (intermediate): XLMRobertaIntermediate(\n",
              "            (dense): Linear(in_features=1024, out_features=4096, bias=True)\n",
              "            (intermediate_act_fn): GELUActivation()\n",
              "          )\n",
              "          (output): XLMRobertaOutput(\n",
              "            (dense): Linear(in_features=4096, out_features=1024, bias=True)\n",
              "            (LayerNorm): LayerNorm((1024,), eps=1e-05, elementwise_affine=True)\n",
              "            (dropout): Dropout(p=0.1, inplace=False)\n",
              "          )\n",
              "        )\n",
              "        (8): XLMRobertaLayer(\n",
              "          (attention): XLMRobertaAttention(\n",
              "            (self): XLMRobertaSelfAttention(\n",
              "              (query): Linear(in_features=1024, out_features=1024, bias=True)\n",
              "              (key): Linear(in_features=1024, out_features=1024, bias=True)\n",
              "              (value): Linear(in_features=1024, out_features=1024, bias=True)\n",
              "              (dropout): Dropout(p=0.1, inplace=False)\n",
              "            )\n",
              "            (output): XLMRobertaSelfOutput(\n",
              "              (dense): Linear(in_features=1024, out_features=1024, bias=True)\n",
              "              (LayerNorm): LayerNorm((1024,), eps=1e-05, elementwise_affine=True)\n",
              "              (dropout): Dropout(p=0.1, inplace=False)\n",
              "            )\n",
              "          )\n",
              "          (intermediate): XLMRobertaIntermediate(\n",
              "            (dense): Linear(in_features=1024, out_features=4096, bias=True)\n",
              "            (intermediate_act_fn): GELUActivation()\n",
              "          )\n",
              "          (output): XLMRobertaOutput(\n",
              "            (dense): Linear(in_features=4096, out_features=1024, bias=True)\n",
              "            (LayerNorm): LayerNorm((1024,), eps=1e-05, elementwise_affine=True)\n",
              "            (dropout): Dropout(p=0.1, inplace=False)\n",
              "          )\n",
              "        )\n",
              "        (9): XLMRobertaLayer(\n",
              "          (attention): XLMRobertaAttention(\n",
              "            (self): XLMRobertaSelfAttention(\n",
              "              (query): Linear(in_features=1024, out_features=1024, bias=True)\n",
              "              (key): Linear(in_features=1024, out_features=1024, bias=True)\n",
              "              (value): Linear(in_features=1024, out_features=1024, bias=True)\n",
              "              (dropout): Dropout(p=0.1, inplace=False)\n",
              "            )\n",
              "            (output): XLMRobertaSelfOutput(\n",
              "              (dense): Linear(in_features=1024, out_features=1024, bias=True)\n",
              "              (LayerNorm): LayerNorm((1024,), eps=1e-05, elementwise_affine=True)\n",
              "              (dropout): Dropout(p=0.1, inplace=False)\n",
              "            )\n",
              "          )\n",
              "          (intermediate): XLMRobertaIntermediate(\n",
              "            (dense): Linear(in_features=1024, out_features=4096, bias=True)\n",
              "            (intermediate_act_fn): GELUActivation()\n",
              "          )\n",
              "          (output): XLMRobertaOutput(\n",
              "            (dense): Linear(in_features=4096, out_features=1024, bias=True)\n",
              "            (LayerNorm): LayerNorm((1024,), eps=1e-05, elementwise_affine=True)\n",
              "            (dropout): Dropout(p=0.1, inplace=False)\n",
              "          )\n",
              "        )\n",
              "        (10): XLMRobertaLayer(\n",
              "          (attention): XLMRobertaAttention(\n",
              "            (self): XLMRobertaSelfAttention(\n",
              "              (query): Linear(in_features=1024, out_features=1024, bias=True)\n",
              "              (key): Linear(in_features=1024, out_features=1024, bias=True)\n",
              "              (value): Linear(in_features=1024, out_features=1024, bias=True)\n",
              "              (dropout): Dropout(p=0.1, inplace=False)\n",
              "            )\n",
              "            (output): XLMRobertaSelfOutput(\n",
              "              (dense): Linear(in_features=1024, out_features=1024, bias=True)\n",
              "              (LayerNorm): LayerNorm((1024,), eps=1e-05, elementwise_affine=True)\n",
              "              (dropout): Dropout(p=0.1, inplace=False)\n",
              "            )\n",
              "          )\n",
              "          (intermediate): XLMRobertaIntermediate(\n",
              "            (dense): Linear(in_features=1024, out_features=4096, bias=True)\n",
              "            (intermediate_act_fn): GELUActivation()\n",
              "          )\n",
              "          (output): XLMRobertaOutput(\n",
              "            (dense): Linear(in_features=4096, out_features=1024, bias=True)\n",
              "            (LayerNorm): LayerNorm((1024,), eps=1e-05, elementwise_affine=True)\n",
              "            (dropout): Dropout(p=0.1, inplace=False)\n",
              "          )\n",
              "        )\n",
              "        (11): XLMRobertaLayer(\n",
              "          (attention): XLMRobertaAttention(\n",
              "            (self): XLMRobertaSelfAttention(\n",
              "              (query): Linear(in_features=1024, out_features=1024, bias=True)\n",
              "              (key): Linear(in_features=1024, out_features=1024, bias=True)\n",
              "              (value): Linear(in_features=1024, out_features=1024, bias=True)\n",
              "              (dropout): Dropout(p=0.1, inplace=False)\n",
              "            )\n",
              "            (output): XLMRobertaSelfOutput(\n",
              "              (dense): Linear(in_features=1024, out_features=1024, bias=True)\n",
              "              (LayerNorm): LayerNorm((1024,), eps=1e-05, elementwise_affine=True)\n",
              "              (dropout): Dropout(p=0.1, inplace=False)\n",
              "            )\n",
              "          )\n",
              "          (intermediate): XLMRobertaIntermediate(\n",
              "            (dense): Linear(in_features=1024, out_features=4096, bias=True)\n",
              "            (intermediate_act_fn): GELUActivation()\n",
              "          )\n",
              "          (output): XLMRobertaOutput(\n",
              "            (dense): Linear(in_features=4096, out_features=1024, bias=True)\n",
              "            (LayerNorm): LayerNorm((1024,), eps=1e-05, elementwise_affine=True)\n",
              "            (dropout): Dropout(p=0.1, inplace=False)\n",
              "          )\n",
              "        )\n",
              "        (12): XLMRobertaLayer(\n",
              "          (attention): XLMRobertaAttention(\n",
              "            (self): XLMRobertaSelfAttention(\n",
              "              (query): Linear(in_features=1024, out_features=1024, bias=True)\n",
              "              (key): Linear(in_features=1024, out_features=1024, bias=True)\n",
              "              (value): Linear(in_features=1024, out_features=1024, bias=True)\n",
              "              (dropout): Dropout(p=0.1, inplace=False)\n",
              "            )\n",
              "            (output): XLMRobertaSelfOutput(\n",
              "              (dense): Linear(in_features=1024, out_features=1024, bias=True)\n",
              "              (LayerNorm): LayerNorm((1024,), eps=1e-05, elementwise_affine=True)\n",
              "              (dropout): Dropout(p=0.1, inplace=False)\n",
              "            )\n",
              "          )\n",
              "          (intermediate): XLMRobertaIntermediate(\n",
              "            (dense): Linear(in_features=1024, out_features=4096, bias=True)\n",
              "            (intermediate_act_fn): GELUActivation()\n",
              "          )\n",
              "          (output): XLMRobertaOutput(\n",
              "            (dense): Linear(in_features=4096, out_features=1024, bias=True)\n",
              "            (LayerNorm): LayerNorm((1024,), eps=1e-05, elementwise_affine=True)\n",
              "            (dropout): Dropout(p=0.1, inplace=False)\n",
              "          )\n",
              "        )\n",
              "        (13): XLMRobertaLayer(\n",
              "          (attention): XLMRobertaAttention(\n",
              "            (self): XLMRobertaSelfAttention(\n",
              "              (query): Linear(in_features=1024, out_features=1024, bias=True)\n",
              "              (key): Linear(in_features=1024, out_features=1024, bias=True)\n",
              "              (value): Linear(in_features=1024, out_features=1024, bias=True)\n",
              "              (dropout): Dropout(p=0.1, inplace=False)\n",
              "            )\n",
              "            (output): XLMRobertaSelfOutput(\n",
              "              (dense): Linear(in_features=1024, out_features=1024, bias=True)\n",
              "              (LayerNorm): LayerNorm((1024,), eps=1e-05, elementwise_affine=True)\n",
              "              (dropout): Dropout(p=0.1, inplace=False)\n",
              "            )\n",
              "          )\n",
              "          (intermediate): XLMRobertaIntermediate(\n",
              "            (dense): Linear(in_features=1024, out_features=4096, bias=True)\n",
              "            (intermediate_act_fn): GELUActivation()\n",
              "          )\n",
              "          (output): XLMRobertaOutput(\n",
              "            (dense): Linear(in_features=4096, out_features=1024, bias=True)\n",
              "            (LayerNorm): LayerNorm((1024,), eps=1e-05, elementwise_affine=True)\n",
              "            (dropout): Dropout(p=0.1, inplace=False)\n",
              "          )\n",
              "        )\n",
              "        (14): XLMRobertaLayer(\n",
              "          (attention): XLMRobertaAttention(\n",
              "            (self): XLMRobertaSelfAttention(\n",
              "              (query): Linear(in_features=1024, out_features=1024, bias=True)\n",
              "              (key): Linear(in_features=1024, out_features=1024, bias=True)\n",
              "              (value): Linear(in_features=1024, out_features=1024, bias=True)\n",
              "              (dropout): Dropout(p=0.1, inplace=False)\n",
              "            )\n",
              "            (output): XLMRobertaSelfOutput(\n",
              "              (dense): Linear(in_features=1024, out_features=1024, bias=True)\n",
              "              (LayerNorm): LayerNorm((1024,), eps=1e-05, elementwise_affine=True)\n",
              "              (dropout): Dropout(p=0.1, inplace=False)\n",
              "            )\n",
              "          )\n",
              "          (intermediate): XLMRobertaIntermediate(\n",
              "            (dense): Linear(in_features=1024, out_features=4096, bias=True)\n",
              "            (intermediate_act_fn): GELUActivation()\n",
              "          )\n",
              "          (output): XLMRobertaOutput(\n",
              "            (dense): Linear(in_features=4096, out_features=1024, bias=True)\n",
              "            (LayerNorm): LayerNorm((1024,), eps=1e-05, elementwise_affine=True)\n",
              "            (dropout): Dropout(p=0.1, inplace=False)\n",
              "          )\n",
              "        )\n",
              "        (15): XLMRobertaLayer(\n",
              "          (attention): XLMRobertaAttention(\n",
              "            (self): XLMRobertaSelfAttention(\n",
              "              (query): Linear(in_features=1024, out_features=1024, bias=True)\n",
              "              (key): Linear(in_features=1024, out_features=1024, bias=True)\n",
              "              (value): Linear(in_features=1024, out_features=1024, bias=True)\n",
              "              (dropout): Dropout(p=0.1, inplace=False)\n",
              "            )\n",
              "            (output): XLMRobertaSelfOutput(\n",
              "              (dense): Linear(in_features=1024, out_features=1024, bias=True)\n",
              "              (LayerNorm): LayerNorm((1024,), eps=1e-05, elementwise_affine=True)\n",
              "              (dropout): Dropout(p=0.1, inplace=False)\n",
              "            )\n",
              "          )\n",
              "          (intermediate): XLMRobertaIntermediate(\n",
              "            (dense): Linear(in_features=1024, out_features=4096, bias=True)\n",
              "            (intermediate_act_fn): GELUActivation()\n",
              "          )\n",
              "          (output): XLMRobertaOutput(\n",
              "            (dense): Linear(in_features=4096, out_features=1024, bias=True)\n",
              "            (LayerNorm): LayerNorm((1024,), eps=1e-05, elementwise_affine=True)\n",
              "            (dropout): Dropout(p=0.1, inplace=False)\n",
              "          )\n",
              "        )\n",
              "        (16): XLMRobertaLayer(\n",
              "          (attention): XLMRobertaAttention(\n",
              "            (self): XLMRobertaSelfAttention(\n",
              "              (query): Linear(in_features=1024, out_features=1024, bias=True)\n",
              "              (key): Linear(in_features=1024, out_features=1024, bias=True)\n",
              "              (value): Linear(in_features=1024, out_features=1024, bias=True)\n",
              "              (dropout): Dropout(p=0.1, inplace=False)\n",
              "            )\n",
              "            (output): XLMRobertaSelfOutput(\n",
              "              (dense): Linear(in_features=1024, out_features=1024, bias=True)\n",
              "              (LayerNorm): LayerNorm((1024,), eps=1e-05, elementwise_affine=True)\n",
              "              (dropout): Dropout(p=0.1, inplace=False)\n",
              "            )\n",
              "          )\n",
              "          (intermediate): XLMRobertaIntermediate(\n",
              "            (dense): Linear(in_features=1024, out_features=4096, bias=True)\n",
              "            (intermediate_act_fn): GELUActivation()\n",
              "          )\n",
              "          (output): XLMRobertaOutput(\n",
              "            (dense): Linear(in_features=4096, out_features=1024, bias=True)\n",
              "            (LayerNorm): LayerNorm((1024,), eps=1e-05, elementwise_affine=True)\n",
              "            (dropout): Dropout(p=0.1, inplace=False)\n",
              "          )\n",
              "        )\n",
              "        (17): XLMRobertaLayer(\n",
              "          (attention): XLMRobertaAttention(\n",
              "            (self): XLMRobertaSelfAttention(\n",
              "              (query): Linear(in_features=1024, out_features=1024, bias=True)\n",
              "              (key): Linear(in_features=1024, out_features=1024, bias=True)\n",
              "              (value): Linear(in_features=1024, out_features=1024, bias=True)\n",
              "              (dropout): Dropout(p=0.1, inplace=False)\n",
              "            )\n",
              "            (output): XLMRobertaSelfOutput(\n",
              "              (dense): Linear(in_features=1024, out_features=1024, bias=True)\n",
              "              (LayerNorm): LayerNorm((1024,), eps=1e-05, elementwise_affine=True)\n",
              "              (dropout): Dropout(p=0.1, inplace=False)\n",
              "            )\n",
              "          )\n",
              "          (intermediate): XLMRobertaIntermediate(\n",
              "            (dense): Linear(in_features=1024, out_features=4096, bias=True)\n",
              "            (intermediate_act_fn): GELUActivation()\n",
              "          )\n",
              "          (output): XLMRobertaOutput(\n",
              "            (dense): Linear(in_features=4096, out_features=1024, bias=True)\n",
              "            (LayerNorm): LayerNorm((1024,), eps=1e-05, elementwise_affine=True)\n",
              "            (dropout): Dropout(p=0.1, inplace=False)\n",
              "          )\n",
              "        )\n",
              "        (18): XLMRobertaLayer(\n",
              "          (attention): XLMRobertaAttention(\n",
              "            (self): XLMRobertaSelfAttention(\n",
              "              (query): Linear(in_features=1024, out_features=1024, bias=True)\n",
              "              (key): Linear(in_features=1024, out_features=1024, bias=True)\n",
              "              (value): Linear(in_features=1024, out_features=1024, bias=True)\n",
              "              (dropout): Dropout(p=0.1, inplace=False)\n",
              "            )\n",
              "            (output): XLMRobertaSelfOutput(\n",
              "              (dense): Linear(in_features=1024, out_features=1024, bias=True)\n",
              "              (LayerNorm): LayerNorm((1024,), eps=1e-05, elementwise_affine=True)\n",
              "              (dropout): Dropout(p=0.1, inplace=False)\n",
              "            )\n",
              "          )\n",
              "          (intermediate): XLMRobertaIntermediate(\n",
              "            (dense): Linear(in_features=1024, out_features=4096, bias=True)\n",
              "            (intermediate_act_fn): GELUActivation()\n",
              "          )\n",
              "          (output): XLMRobertaOutput(\n",
              "            (dense): Linear(in_features=4096, out_features=1024, bias=True)\n",
              "            (LayerNorm): LayerNorm((1024,), eps=1e-05, elementwise_affine=True)\n",
              "            (dropout): Dropout(p=0.1, inplace=False)\n",
              "          )\n",
              "        )\n",
              "        (19): XLMRobertaLayer(\n",
              "          (attention): XLMRobertaAttention(\n",
              "            (self): XLMRobertaSelfAttention(\n",
              "              (query): Linear(in_features=1024, out_features=1024, bias=True)\n",
              "              (key): Linear(in_features=1024, out_features=1024, bias=True)\n",
              "              (value): Linear(in_features=1024, out_features=1024, bias=True)\n",
              "              (dropout): Dropout(p=0.1, inplace=False)\n",
              "            )\n",
              "            (output): XLMRobertaSelfOutput(\n",
              "              (dense): Linear(in_features=1024, out_features=1024, bias=True)\n",
              "              (LayerNorm): LayerNorm((1024,), eps=1e-05, elementwise_affine=True)\n",
              "              (dropout): Dropout(p=0.1, inplace=False)\n",
              "            )\n",
              "          )\n",
              "          (intermediate): XLMRobertaIntermediate(\n",
              "            (dense): Linear(in_features=1024, out_features=4096, bias=True)\n",
              "            (intermediate_act_fn): GELUActivation()\n",
              "          )\n",
              "          (output): XLMRobertaOutput(\n",
              "            (dense): Linear(in_features=4096, out_features=1024, bias=True)\n",
              "            (LayerNorm): LayerNorm((1024,), eps=1e-05, elementwise_affine=True)\n",
              "            (dropout): Dropout(p=0.1, inplace=False)\n",
              "          )\n",
              "        )\n",
              "        (20): XLMRobertaLayer(\n",
              "          (attention): XLMRobertaAttention(\n",
              "            (self): XLMRobertaSelfAttention(\n",
              "              (query): Linear(in_features=1024, out_features=1024, bias=True)\n",
              "              (key): Linear(in_features=1024, out_features=1024, bias=True)\n",
              "              (value): Linear(in_features=1024, out_features=1024, bias=True)\n",
              "              (dropout): Dropout(p=0.1, inplace=False)\n",
              "            )\n",
              "            (output): XLMRobertaSelfOutput(\n",
              "              (dense): Linear(in_features=1024, out_features=1024, bias=True)\n",
              "              (LayerNorm): LayerNorm((1024,), eps=1e-05, elementwise_affine=True)\n",
              "              (dropout): Dropout(p=0.1, inplace=False)\n",
              "            )\n",
              "          )\n",
              "          (intermediate): XLMRobertaIntermediate(\n",
              "            (dense): Linear(in_features=1024, out_features=4096, bias=True)\n",
              "            (intermediate_act_fn): GELUActivation()\n",
              "          )\n",
              "          (output): XLMRobertaOutput(\n",
              "            (dense): Linear(in_features=4096, out_features=1024, bias=True)\n",
              "            (LayerNorm): LayerNorm((1024,), eps=1e-05, elementwise_affine=True)\n",
              "            (dropout): Dropout(p=0.1, inplace=False)\n",
              "          )\n",
              "        )\n",
              "        (21): XLMRobertaLayer(\n",
              "          (attention): XLMRobertaAttention(\n",
              "            (self): XLMRobertaSelfAttention(\n",
              "              (query): Linear(in_features=1024, out_features=1024, bias=True)\n",
              "              (key): Linear(in_features=1024, out_features=1024, bias=True)\n",
              "              (value): Linear(in_features=1024, out_features=1024, bias=True)\n",
              "              (dropout): Dropout(p=0.1, inplace=False)\n",
              "            )\n",
              "            (output): XLMRobertaSelfOutput(\n",
              "              (dense): Linear(in_features=1024, out_features=1024, bias=True)\n",
              "              (LayerNorm): LayerNorm((1024,), eps=1e-05, elementwise_affine=True)\n",
              "              (dropout): Dropout(p=0.1, inplace=False)\n",
              "            )\n",
              "          )\n",
              "          (intermediate): XLMRobertaIntermediate(\n",
              "            (dense): Linear(in_features=1024, out_features=4096, bias=True)\n",
              "            (intermediate_act_fn): GELUActivation()\n",
              "          )\n",
              "          (output): XLMRobertaOutput(\n",
              "            (dense): Linear(in_features=4096, out_features=1024, bias=True)\n",
              "            (LayerNorm): LayerNorm((1024,), eps=1e-05, elementwise_affine=True)\n",
              "            (dropout): Dropout(p=0.1, inplace=False)\n",
              "          )\n",
              "        )\n",
              "        (22): XLMRobertaLayer(\n",
              "          (attention): XLMRobertaAttention(\n",
              "            (self): XLMRobertaSelfAttention(\n",
              "              (query): Linear(in_features=1024, out_features=1024, bias=True)\n",
              "              (key): Linear(in_features=1024, out_features=1024, bias=True)\n",
              "              (value): Linear(in_features=1024, out_features=1024, bias=True)\n",
              "              (dropout): Dropout(p=0.1, inplace=False)\n",
              "            )\n",
              "            (output): XLMRobertaSelfOutput(\n",
              "              (dense): Linear(in_features=1024, out_features=1024, bias=True)\n",
              "              (LayerNorm): LayerNorm((1024,), eps=1e-05, elementwise_affine=True)\n",
              "              (dropout): Dropout(p=0.1, inplace=False)\n",
              "            )\n",
              "          )\n",
              "          (intermediate): XLMRobertaIntermediate(\n",
              "            (dense): Linear(in_features=1024, out_features=4096, bias=True)\n",
              "            (intermediate_act_fn): GELUActivation()\n",
              "          )\n",
              "          (output): XLMRobertaOutput(\n",
              "            (dense): Linear(in_features=4096, out_features=1024, bias=True)\n",
              "            (LayerNorm): LayerNorm((1024,), eps=1e-05, elementwise_affine=True)\n",
              "            (dropout): Dropout(p=0.1, inplace=False)\n",
              "          )\n",
              "        )\n",
              "        (23): XLMRobertaLayer(\n",
              "          (attention): XLMRobertaAttention(\n",
              "            (self): XLMRobertaSelfAttention(\n",
              "              (query): Linear(in_features=1024, out_features=1024, bias=True)\n",
              "              (key): Linear(in_features=1024, out_features=1024, bias=True)\n",
              "              (value): Linear(in_features=1024, out_features=1024, bias=True)\n",
              "              (dropout): Dropout(p=0.1, inplace=False)\n",
              "            )\n",
              "            (output): XLMRobertaSelfOutput(\n",
              "              (dense): Linear(in_features=1024, out_features=1024, bias=True)\n",
              "              (LayerNorm): LayerNorm((1024,), eps=1e-05, elementwise_affine=True)\n",
              "              (dropout): Dropout(p=0.1, inplace=False)\n",
              "            )\n",
              "          )\n",
              "          (intermediate): XLMRobertaIntermediate(\n",
              "            (dense): Linear(in_features=1024, out_features=4096, bias=True)\n",
              "            (intermediate_act_fn): GELUActivation()\n",
              "          )\n",
              "          (output): XLMRobertaOutput(\n",
              "            (dense): Linear(in_features=4096, out_features=1024, bias=True)\n",
              "            (LayerNorm): LayerNorm((1024,), eps=1e-05, elementwise_affine=True)\n",
              "            (dropout): Dropout(p=0.1, inplace=False)\n",
              "          )\n",
              "        )\n",
              "      )\n",
              "    )\n",
              "    (pooler): XLMRobertaPooler(\n",
              "      (dense): Linear(in_features=1024, out_features=1024, bias=True)\n",
              "      (activation): Tanh()\n",
              "    )\n",
              "  )\n",
              "  (LinearTransformation): Linear(in_features=1024, out_features=640, bias=True)\n",
              ")"
            ]
          },
          "execution_count": 22,
          "metadata": {},
          "output_type": "execute_result"
        }
      ],
      "source": [
        "text_model\n"
      ]
    },
    {
      "cell_type": "code",
      "execution_count": 23,
      "metadata": {},
      "outputs": [],
      "source": [
        "import numpy as np"
      ]
    },
    {
      "cell_type": "code",
      "execution_count": 24,
      "metadata": {},
      "outputs": [],
      "source": [
        "language_model = lambda queries:  np.asarray(text_model.forward(queries, tokenizer).detach().to('cpu'))  "
      ]
    },
    {
      "cell_type": "markdown",
      "metadata": {},
      "source": [
        "### Define the image model "
      ]
    },
    {
      "cell_type": "code",
      "execution_count": 25,
      "metadata": {},
      "outputs": [
        {
          "data": {
            "text/html": [
              "<pre style=\"white-space:pre;overflow-x:auto;line-height:normal;font-family:Menlo,'DejaVu Sans Mono',consolas,'Courier New',monospace\">Device:  cuda\n",
              "</pre>\n"
            ],
            "text/plain": [
              "Device:  cuda\n"
            ]
          },
          "metadata": {},
          "output_type": "display_data"
        }
      ],
      "source": [
        "# clip_model, compose = clip.load('RN50x4')\n",
        "import torch\n",
        "import open_clip\n",
        "\n",
        "device = \"cuda\" if torch.cuda.is_available() else \"cpu\"\n",
        "\n",
        "print(\"Device: \", device)\n",
        "\n",
        "clip_model, _, compose = open_clip.create_model_and_transforms('ViT-B-16-plus-240', pretrained=\"laion400m_e32\")\n",
        "# image_tokenizer = open_clip.get_tokenizer('ViT-B-16-plus-240')\n",
        "# clip_model.to(device)\n"
      ]
    },
    {
      "cell_type": "code",
      "execution_count": 26,
      "metadata": {},
      "outputs": [
        {
          "data": {
            "text/plain": [
              "Compose(\n",
              "    Resize(size=240, interpolation=bicubic, max_size=None, antialias=None)\n",
              "    CenterCrop(size=(240, 240))\n",
              "    <function _convert_to_rgb at 0x7fac51d84940>\n",
              "    ToTensor()\n",
              "    Normalize(mean=(0.48145466, 0.4578275, 0.40821073), std=(0.26862954, 0.26130258, 0.27577711))\n",
              ")"
            ]
          },
          "execution_count": 26,
          "metadata": {},
          "output_type": "execute_result"
        }
      ],
      "source": [
        "compose"
      ]
    },
    {
      "cell_type": "code",
      "execution_count": 27,
      "metadata": {},
      "outputs": [
        {
          "data": {
            "text/plain": [
              "device(type='cuda')"
            ]
          },
          "execution_count": 27,
          "metadata": {},
          "output_type": "execute_result"
        }
      ],
      "source": [
        "device = torch.device('cuda') if torch.cuda.is_available() else torch.device('cpu')\n",
        "device"
      ]
    },
    {
      "cell_type": "code",
      "execution_count": 28,
      "metadata": {},
      "outputs": [
        {
          "data": {
            "text/plain": [
              "CLIP(\n",
              "  (visual): VisionTransformer(\n",
              "    (conv1): Conv2d(3, 896, kernel_size=(16, 16), stride=(16, 16), bias=False)\n",
              "    (patch_dropout): Identity()\n",
              "    (ln_pre): LayerNorm((896,), eps=1e-05, elementwise_affine=True)\n",
              "    (transformer): Transformer(\n",
              "      (resblocks): ModuleList(\n",
              "        (0): ResidualAttentionBlock(\n",
              "          (ln_1): LayerNorm((896,), eps=1e-05, elementwise_affine=True)\n",
              "          (attn): MultiheadAttention(\n",
              "            (out_proj): NonDynamicallyQuantizableLinear(in_features=896, out_features=896, bias=True)\n",
              "          )\n",
              "          (ls_1): Identity()\n",
              "          (ln_2): LayerNorm((896,), eps=1e-05, elementwise_affine=True)\n",
              "          (mlp): Sequential(\n",
              "            (c_fc): Linear(in_features=896, out_features=3584, bias=True)\n",
              "            (gelu): GELU()\n",
              "            (c_proj): Linear(in_features=3584, out_features=896, bias=True)\n",
              "          )\n",
              "          (ls_2): Identity()\n",
              "        )\n",
              "        (1): ResidualAttentionBlock(\n",
              "          (ln_1): LayerNorm((896,), eps=1e-05, elementwise_affine=True)\n",
              "          (attn): MultiheadAttention(\n",
              "            (out_proj): NonDynamicallyQuantizableLinear(in_features=896, out_features=896, bias=True)\n",
              "          )\n",
              "          (ls_1): Identity()\n",
              "          (ln_2): LayerNorm((896,), eps=1e-05, elementwise_affine=True)\n",
              "          (mlp): Sequential(\n",
              "            (c_fc): Linear(in_features=896, out_features=3584, bias=True)\n",
              "            (gelu): GELU()\n",
              "            (c_proj): Linear(in_features=3584, out_features=896, bias=True)\n",
              "          )\n",
              "          (ls_2): Identity()\n",
              "        )\n",
              "        (2): ResidualAttentionBlock(\n",
              "          (ln_1): LayerNorm((896,), eps=1e-05, elementwise_affine=True)\n",
              "          (attn): MultiheadAttention(\n",
              "            (out_proj): NonDynamicallyQuantizableLinear(in_features=896, out_features=896, bias=True)\n",
              "          )\n",
              "          (ls_1): Identity()\n",
              "          (ln_2): LayerNorm((896,), eps=1e-05, elementwise_affine=True)\n",
              "          (mlp): Sequential(\n",
              "            (c_fc): Linear(in_features=896, out_features=3584, bias=True)\n",
              "            (gelu): GELU()\n",
              "            (c_proj): Linear(in_features=3584, out_features=896, bias=True)\n",
              "          )\n",
              "          (ls_2): Identity()\n",
              "        )\n",
              "        (3): ResidualAttentionBlock(\n",
              "          (ln_1): LayerNorm((896,), eps=1e-05, elementwise_affine=True)\n",
              "          (attn): MultiheadAttention(\n",
              "            (out_proj): NonDynamicallyQuantizableLinear(in_features=896, out_features=896, bias=True)\n",
              "          )\n",
              "          (ls_1): Identity()\n",
              "          (ln_2): LayerNorm((896,), eps=1e-05, elementwise_affine=True)\n",
              "          (mlp): Sequential(\n",
              "            (c_fc): Linear(in_features=896, out_features=3584, bias=True)\n",
              "            (gelu): GELU()\n",
              "            (c_proj): Linear(in_features=3584, out_features=896, bias=True)\n",
              "          )\n",
              "          (ls_2): Identity()\n",
              "        )\n",
              "        (4): ResidualAttentionBlock(\n",
              "          (ln_1): LayerNorm((896,), eps=1e-05, elementwise_affine=True)\n",
              "          (attn): MultiheadAttention(\n",
              "            (out_proj): NonDynamicallyQuantizableLinear(in_features=896, out_features=896, bias=True)\n",
              "          )\n",
              "          (ls_1): Identity()\n",
              "          (ln_2): LayerNorm((896,), eps=1e-05, elementwise_affine=True)\n",
              "          (mlp): Sequential(\n",
              "            (c_fc): Linear(in_features=896, out_features=3584, bias=True)\n",
              "            (gelu): GELU()\n",
              "            (c_proj): Linear(in_features=3584, out_features=896, bias=True)\n",
              "          )\n",
              "          (ls_2): Identity()\n",
              "        )\n",
              "        (5): ResidualAttentionBlock(\n",
              "          (ln_1): LayerNorm((896,), eps=1e-05, elementwise_affine=True)\n",
              "          (attn): MultiheadAttention(\n",
              "            (out_proj): NonDynamicallyQuantizableLinear(in_features=896, out_features=896, bias=True)\n",
              "          )\n",
              "          (ls_1): Identity()\n",
              "          (ln_2): LayerNorm((896,), eps=1e-05, elementwise_affine=True)\n",
              "          (mlp): Sequential(\n",
              "            (c_fc): Linear(in_features=896, out_features=3584, bias=True)\n",
              "            (gelu): GELU()\n",
              "            (c_proj): Linear(in_features=3584, out_features=896, bias=True)\n",
              "          )\n",
              "          (ls_2): Identity()\n",
              "        )\n",
              "        (6): ResidualAttentionBlock(\n",
              "          (ln_1): LayerNorm((896,), eps=1e-05, elementwise_affine=True)\n",
              "          (attn): MultiheadAttention(\n",
              "            (out_proj): NonDynamicallyQuantizableLinear(in_features=896, out_features=896, bias=True)\n",
              "          )\n",
              "          (ls_1): Identity()\n",
              "          (ln_2): LayerNorm((896,), eps=1e-05, elementwise_affine=True)\n",
              "          (mlp): Sequential(\n",
              "            (c_fc): Linear(in_features=896, out_features=3584, bias=True)\n",
              "            (gelu): GELU()\n",
              "            (c_proj): Linear(in_features=3584, out_features=896, bias=True)\n",
              "          )\n",
              "          (ls_2): Identity()\n",
              "        )\n",
              "        (7): ResidualAttentionBlock(\n",
              "          (ln_1): LayerNorm((896,), eps=1e-05, elementwise_affine=True)\n",
              "          (attn): MultiheadAttention(\n",
              "            (out_proj): NonDynamicallyQuantizableLinear(in_features=896, out_features=896, bias=True)\n",
              "          )\n",
              "          (ls_1): Identity()\n",
              "          (ln_2): LayerNorm((896,), eps=1e-05, elementwise_affine=True)\n",
              "          (mlp): Sequential(\n",
              "            (c_fc): Linear(in_features=896, out_features=3584, bias=True)\n",
              "            (gelu): GELU()\n",
              "            (c_proj): Linear(in_features=3584, out_features=896, bias=True)\n",
              "          )\n",
              "          (ls_2): Identity()\n",
              "        )\n",
              "        (8): ResidualAttentionBlock(\n",
              "          (ln_1): LayerNorm((896,), eps=1e-05, elementwise_affine=True)\n",
              "          (attn): MultiheadAttention(\n",
              "            (out_proj): NonDynamicallyQuantizableLinear(in_features=896, out_features=896, bias=True)\n",
              "          )\n",
              "          (ls_1): Identity()\n",
              "          (ln_2): LayerNorm((896,), eps=1e-05, elementwise_affine=True)\n",
              "          (mlp): Sequential(\n",
              "            (c_fc): Linear(in_features=896, out_features=3584, bias=True)\n",
              "            (gelu): GELU()\n",
              "            (c_proj): Linear(in_features=3584, out_features=896, bias=True)\n",
              "          )\n",
              "          (ls_2): Identity()\n",
              "        )\n",
              "        (9): ResidualAttentionBlock(\n",
              "          (ln_1): LayerNorm((896,), eps=1e-05, elementwise_affine=True)\n",
              "          (attn): MultiheadAttention(\n",
              "            (out_proj): NonDynamicallyQuantizableLinear(in_features=896, out_features=896, bias=True)\n",
              "          )\n",
              "          (ls_1): Identity()\n",
              "          (ln_2): LayerNorm((896,), eps=1e-05, elementwise_affine=True)\n",
              "          (mlp): Sequential(\n",
              "            (c_fc): Linear(in_features=896, out_features=3584, bias=True)\n",
              "            (gelu): GELU()\n",
              "            (c_proj): Linear(in_features=3584, out_features=896, bias=True)\n",
              "          )\n",
              "          (ls_2): Identity()\n",
              "        )\n",
              "        (10): ResidualAttentionBlock(\n",
              "          (ln_1): LayerNorm((896,), eps=1e-05, elementwise_affine=True)\n",
              "          (attn): MultiheadAttention(\n",
              "            (out_proj): NonDynamicallyQuantizableLinear(in_features=896, out_features=896, bias=True)\n",
              "          )\n",
              "          (ls_1): Identity()\n",
              "          (ln_2): LayerNorm((896,), eps=1e-05, elementwise_affine=True)\n",
              "          (mlp): Sequential(\n",
              "            (c_fc): Linear(in_features=896, out_features=3584, bias=True)\n",
              "            (gelu): GELU()\n",
              "            (c_proj): Linear(in_features=3584, out_features=896, bias=True)\n",
              "          )\n",
              "          (ls_2): Identity()\n",
              "        )\n",
              "        (11): ResidualAttentionBlock(\n",
              "          (ln_1): LayerNorm((896,), eps=1e-05, elementwise_affine=True)\n",
              "          (attn): MultiheadAttention(\n",
              "            (out_proj): NonDynamicallyQuantizableLinear(in_features=896, out_features=896, bias=True)\n",
              "          )\n",
              "          (ls_1): Identity()\n",
              "          (ln_2): LayerNorm((896,), eps=1e-05, elementwise_affine=True)\n",
              "          (mlp): Sequential(\n",
              "            (c_fc): Linear(in_features=896, out_features=3584, bias=True)\n",
              "            (gelu): GELU()\n",
              "            (c_proj): Linear(in_features=3584, out_features=896, bias=True)\n",
              "          )\n",
              "          (ls_2): Identity()\n",
              "        )\n",
              "      )\n",
              "    )\n",
              "    (ln_post): LayerNorm((896,), eps=1e-05, elementwise_affine=True)\n",
              "  )\n",
              "  (transformer): Transformer(\n",
              "    (resblocks): ModuleList(\n",
              "      (0): ResidualAttentionBlock(\n",
              "        (ln_1): LayerNorm((640,), eps=1e-05, elementwise_affine=True)\n",
              "        (attn): MultiheadAttention(\n",
              "          (out_proj): NonDynamicallyQuantizableLinear(in_features=640, out_features=640, bias=True)\n",
              "        )\n",
              "        (ls_1): Identity()\n",
              "        (ln_2): LayerNorm((640,), eps=1e-05, elementwise_affine=True)\n",
              "        (mlp): Sequential(\n",
              "          (c_fc): Linear(in_features=640, out_features=2560, bias=True)\n",
              "          (gelu): GELU()\n",
              "          (c_proj): Linear(in_features=2560, out_features=640, bias=True)\n",
              "        )\n",
              "        (ls_2): Identity()\n",
              "      )\n",
              "      (1): ResidualAttentionBlock(\n",
              "        (ln_1): LayerNorm((640,), eps=1e-05, elementwise_affine=True)\n",
              "        (attn): MultiheadAttention(\n",
              "          (out_proj): NonDynamicallyQuantizableLinear(in_features=640, out_features=640, bias=True)\n",
              "        )\n",
              "        (ls_1): Identity()\n",
              "        (ln_2): LayerNorm((640,), eps=1e-05, elementwise_affine=True)\n",
              "        (mlp): Sequential(\n",
              "          (c_fc): Linear(in_features=640, out_features=2560, bias=True)\n",
              "          (gelu): GELU()\n",
              "          (c_proj): Linear(in_features=2560, out_features=640, bias=True)\n",
              "        )\n",
              "        (ls_2): Identity()\n",
              "      )\n",
              "      (2): ResidualAttentionBlock(\n",
              "        (ln_1): LayerNorm((640,), eps=1e-05, elementwise_affine=True)\n",
              "        (attn): MultiheadAttention(\n",
              "          (out_proj): NonDynamicallyQuantizableLinear(in_features=640, out_features=640, bias=True)\n",
              "        )\n",
              "        (ls_1): Identity()\n",
              "        (ln_2): LayerNorm((640,), eps=1e-05, elementwise_affine=True)\n",
              "        (mlp): Sequential(\n",
              "          (c_fc): Linear(in_features=640, out_features=2560, bias=True)\n",
              "          (gelu): GELU()\n",
              "          (c_proj): Linear(in_features=2560, out_features=640, bias=True)\n",
              "        )\n",
              "        (ls_2): Identity()\n",
              "      )\n",
              "      (3): ResidualAttentionBlock(\n",
              "        (ln_1): LayerNorm((640,), eps=1e-05, elementwise_affine=True)\n",
              "        (attn): MultiheadAttention(\n",
              "          (out_proj): NonDynamicallyQuantizableLinear(in_features=640, out_features=640, bias=True)\n",
              "        )\n",
              "        (ls_1): Identity()\n",
              "        (ln_2): LayerNorm((640,), eps=1e-05, elementwise_affine=True)\n",
              "        (mlp): Sequential(\n",
              "          (c_fc): Linear(in_features=640, out_features=2560, bias=True)\n",
              "          (gelu): GELU()\n",
              "          (c_proj): Linear(in_features=2560, out_features=640, bias=True)\n",
              "        )\n",
              "        (ls_2): Identity()\n",
              "      )\n",
              "      (4): ResidualAttentionBlock(\n",
              "        (ln_1): LayerNorm((640,), eps=1e-05, elementwise_affine=True)\n",
              "        (attn): MultiheadAttention(\n",
              "          (out_proj): NonDynamicallyQuantizableLinear(in_features=640, out_features=640, bias=True)\n",
              "        )\n",
              "        (ls_1): Identity()\n",
              "        (ln_2): LayerNorm((640,), eps=1e-05, elementwise_affine=True)\n",
              "        (mlp): Sequential(\n",
              "          (c_fc): Linear(in_features=640, out_features=2560, bias=True)\n",
              "          (gelu): GELU()\n",
              "          (c_proj): Linear(in_features=2560, out_features=640, bias=True)\n",
              "        )\n",
              "        (ls_2): Identity()\n",
              "      )\n",
              "      (5): ResidualAttentionBlock(\n",
              "        (ln_1): LayerNorm((640,), eps=1e-05, elementwise_affine=True)\n",
              "        (attn): MultiheadAttention(\n",
              "          (out_proj): NonDynamicallyQuantizableLinear(in_features=640, out_features=640, bias=True)\n",
              "        )\n",
              "        (ls_1): Identity()\n",
              "        (ln_2): LayerNorm((640,), eps=1e-05, elementwise_affine=True)\n",
              "        (mlp): Sequential(\n",
              "          (c_fc): Linear(in_features=640, out_features=2560, bias=True)\n",
              "          (gelu): GELU()\n",
              "          (c_proj): Linear(in_features=2560, out_features=640, bias=True)\n",
              "        )\n",
              "        (ls_2): Identity()\n",
              "      )\n",
              "      (6): ResidualAttentionBlock(\n",
              "        (ln_1): LayerNorm((640,), eps=1e-05, elementwise_affine=True)\n",
              "        (attn): MultiheadAttention(\n",
              "          (out_proj): NonDynamicallyQuantizableLinear(in_features=640, out_features=640, bias=True)\n",
              "        )\n",
              "        (ls_1): Identity()\n",
              "        (ln_2): LayerNorm((640,), eps=1e-05, elementwise_affine=True)\n",
              "        (mlp): Sequential(\n",
              "          (c_fc): Linear(in_features=640, out_features=2560, bias=True)\n",
              "          (gelu): GELU()\n",
              "          (c_proj): Linear(in_features=2560, out_features=640, bias=True)\n",
              "        )\n",
              "        (ls_2): Identity()\n",
              "      )\n",
              "      (7): ResidualAttentionBlock(\n",
              "        (ln_1): LayerNorm((640,), eps=1e-05, elementwise_affine=True)\n",
              "        (attn): MultiheadAttention(\n",
              "          (out_proj): NonDynamicallyQuantizableLinear(in_features=640, out_features=640, bias=True)\n",
              "        )\n",
              "        (ls_1): Identity()\n",
              "        (ln_2): LayerNorm((640,), eps=1e-05, elementwise_affine=True)\n",
              "        (mlp): Sequential(\n",
              "          (c_fc): Linear(in_features=640, out_features=2560, bias=True)\n",
              "          (gelu): GELU()\n",
              "          (c_proj): Linear(in_features=2560, out_features=640, bias=True)\n",
              "        )\n",
              "        (ls_2): Identity()\n",
              "      )\n",
              "      (8): ResidualAttentionBlock(\n",
              "        (ln_1): LayerNorm((640,), eps=1e-05, elementwise_affine=True)\n",
              "        (attn): MultiheadAttention(\n",
              "          (out_proj): NonDynamicallyQuantizableLinear(in_features=640, out_features=640, bias=True)\n",
              "        )\n",
              "        (ls_1): Identity()\n",
              "        (ln_2): LayerNorm((640,), eps=1e-05, elementwise_affine=True)\n",
              "        (mlp): Sequential(\n",
              "          (c_fc): Linear(in_features=640, out_features=2560, bias=True)\n",
              "          (gelu): GELU()\n",
              "          (c_proj): Linear(in_features=2560, out_features=640, bias=True)\n",
              "        )\n",
              "        (ls_2): Identity()\n",
              "      )\n",
              "      (9): ResidualAttentionBlock(\n",
              "        (ln_1): LayerNorm((640,), eps=1e-05, elementwise_affine=True)\n",
              "        (attn): MultiheadAttention(\n",
              "          (out_proj): NonDynamicallyQuantizableLinear(in_features=640, out_features=640, bias=True)\n",
              "        )\n",
              "        (ls_1): Identity()\n",
              "        (ln_2): LayerNorm((640,), eps=1e-05, elementwise_affine=True)\n",
              "        (mlp): Sequential(\n",
              "          (c_fc): Linear(in_features=640, out_features=2560, bias=True)\n",
              "          (gelu): GELU()\n",
              "          (c_proj): Linear(in_features=2560, out_features=640, bias=True)\n",
              "        )\n",
              "        (ls_2): Identity()\n",
              "      )\n",
              "      (10): ResidualAttentionBlock(\n",
              "        (ln_1): LayerNorm((640,), eps=1e-05, elementwise_affine=True)\n",
              "        (attn): MultiheadAttention(\n",
              "          (out_proj): NonDynamicallyQuantizableLinear(in_features=640, out_features=640, bias=True)\n",
              "        )\n",
              "        (ls_1): Identity()\n",
              "        (ln_2): LayerNorm((640,), eps=1e-05, elementwise_affine=True)\n",
              "        (mlp): Sequential(\n",
              "          (c_fc): Linear(in_features=640, out_features=2560, bias=True)\n",
              "          (gelu): GELU()\n",
              "          (c_proj): Linear(in_features=2560, out_features=640, bias=True)\n",
              "        )\n",
              "        (ls_2): Identity()\n",
              "      )\n",
              "      (11): ResidualAttentionBlock(\n",
              "        (ln_1): LayerNorm((640,), eps=1e-05, elementwise_affine=True)\n",
              "        (attn): MultiheadAttention(\n",
              "          (out_proj): NonDynamicallyQuantizableLinear(in_features=640, out_features=640, bias=True)\n",
              "        )\n",
              "        (ls_1): Identity()\n",
              "        (ln_2): LayerNorm((640,), eps=1e-05, elementwise_affine=True)\n",
              "        (mlp): Sequential(\n",
              "          (c_fc): Linear(in_features=640, out_features=2560, bias=True)\n",
              "          (gelu): GELU()\n",
              "          (c_proj): Linear(in_features=2560, out_features=640, bias=True)\n",
              "        )\n",
              "        (ls_2): Identity()\n",
              "      )\n",
              "    )\n",
              "  )\n",
              "  (token_embedding): Embedding(49408, 640)\n",
              "  (ln_final): LayerNorm((640,), eps=1e-05, elementwise_affine=True)\n",
              ")"
            ]
          },
          "execution_count": 28,
          "metadata": {},
          "output_type": "execute_result"
        }
      ],
      "source": [
        "clip_model.to(device)"
      ]
    },
    {
      "cell_type": "markdown",
      "metadata": {},
      "source": [
        "### Defind  the image model "
      ]
    },
    {
      "cell_type": "code",
      "execution_count": 29,
      "metadata": {},
      "outputs": [],
      "source": [
        "image_model = lambda images: np.asarray(clip_model.encode_image(images.to(device)).float().detach().to('cpu'))\n"
      ]
    },
    {
      "cell_type": "markdown",
      "metadata": {},
      "source": [
        "# Utils"
      ]
    },
    {
      "cell_type": "code",
      "execution_count": 30,
      "metadata": {},
      "outputs": [],
      "source": [
        "# Define the needed libraries in the code \n",
        "\n",
        "from tqdm.notebook import tqdm\n",
        "import os \n",
        "from PIL import Image"
      ]
    },
    {
      "cell_type": "markdown",
      "metadata": {},
      "source": [
        "### Defind a dataset class for images "
      ]
    },
    {
      "cell_type": "code",
      "execution_count": 31,
      "metadata": {},
      "outputs": [],
      "source": [
        "\n",
        "class CustomDataSet(torch.utils.data.Dataset):\n",
        "    def __init__(self, main_dir, transform):\n",
        "        self.main_dir = main_dir\n",
        "        self.transform = transform\n",
        "        self.total_imgs = image_name_list\n",
        "        print(self.total_imgs[:20])\n",
        "\n",
        "    def __len__(self):\n",
        "        return len(self.total_imgs)\n",
        "\n",
        "    def get_image_name(self, idx):\n",
        "\n",
        "        return self.total_imgs[idx]\n",
        "\n",
        "    def __getitem__(self, idx):\n",
        "        img_loc = os.path.join(self.main_dir, self.total_imgs[idx])\n",
        "        image = Image.open(img_loc)\n",
        "\n",
        "        return self.transform(image)"
      ]
    },
    {
      "cell_type": "markdown",
      "metadata": {},
      "source": [
        "### Defind a dataset class for text dataset  "
      ]
    },
    {
      "cell_type": "code",
      "execution_count": 32,
      "metadata": {},
      "outputs": [],
      "source": [
        "class SimpleTextDataset(torch.utils.data.Dataset):\n",
        "\n",
        "    def __init__(self, texts):\n",
        "        \"\"\"Define  the class init\"\"\"\n",
        "        self.texts = texts\n",
        "\n",
        "    def __len__(self):\n",
        "        \"\"\"Return the length of the text dataset\"\"\"\n",
        "        return len(self.texts)\n",
        "\n",
        "    def __getitem__(self, idx):\n",
        "        \"\"\"Get the item based on index\"\"\"\n",
        "        return self.texts[idx]"
      ]
    },
    {
      "cell_type": "code",
      "execution_count": 33,
      "metadata": {},
      "outputs": [],
      "source": [
        "def text_encoder(text):\n",
        "    \"\"\"Normalize the text embeddings\"\"\"\n",
        "    embedding = language_model(text)\n",
        "    embedding = embedding / np.linalg.norm(embedding)\n",
        "\n",
        "    return embedding\n",
        "\n",
        "def precompute_text_features(loader):\n",
        "    \"\"\"Compute the text embeddings of the whole dataset based on the loader provided\"\"\"\n",
        "    text_features = []\n",
        "\n",
        "    for _, (texts) in enumerate(tqdm(loader)):\n",
        "\n",
        "        embedding = language_model(texts)\n",
        "        embedding = embedding / np.linalg.norm(embedding)\n",
        "\n",
        "        text_features.extend(embedding)\n",
        "\n",
        "    return np.array(text_features)"
      ]
    },
    {
      "cell_type": "code",
      "execution_count": 34,
      "metadata": {},
      "outputs": [],
      "source": [
        "def precompute_image_features(loader):\n",
        "    image_features = []\n",
        "    \n",
        "    for i, (images) in enumerate(tqdm(loader)):\n",
        "\n",
        "        features = image_model(images)\n",
        "\n",
        "        features = features / np.linalg.norm(features)\n",
        "        image_features.extend(features)\n",
        "\n",
        "    return np.array(image_features)"
      ]
    },
    {
      "cell_type": "code",
      "execution_count": 35,
      "metadata": {},
      "outputs": [],
      "source": [
        "def show_images(image_list):\n",
        "    for im_path in image_list:\n",
        "        print(im_path)\n",
        "        display(Image.open(im_path))"
      ]
    },
    {
      "cell_type": "code",
      "execution_count": 36,
      "metadata": {},
      "outputs": [],
      "source": [
        "# text = 'بجعة تطفو أسفل النهر بالقارب'\n",
        "\n",
        "# image_paths = find_image(text, dataset, image_features, n=3)\n",
        "# show_images(image_paths)"
      ]
    },
    {
      "cell_type": "markdown",
      "metadata": {},
      "source": [
        "Build the image dataset "
      ]
    },
    {
      "cell_type": "code",
      "execution_count": 37,
      "metadata": {},
      "outputs": [
        {
          "data": {
            "text/html": [
              "<pre style=\"white-space:pre;overflow-x:auto;line-height:normal;font-family:Menlo,'DejaVu Sans Mono',consolas,'Courier New',monospace\"><span style=\"font-weight: bold\">[</span>\n",
              "    <span style=\"color: #008000; text-decoration-color: #008000\">'1000268201_693b08cb0e.jpg'</span>,\n",
              "    <span style=\"color: #008000; text-decoration-color: #008000\">'1001773457_577c3a7d70.jpg'</span>,\n",
              "    <span style=\"color: #008000; text-decoration-color: #008000\">'1002674143_1b742ab4b8.jpg'</span>,\n",
              "    <span style=\"color: #008000; text-decoration-color: #008000\">'1003163366_44323f5815.jpg'</span>,\n",
              "    <span style=\"color: #008000; text-decoration-color: #008000\">'1007129816_e794419615.jpg'</span>,\n",
              "    <span style=\"color: #008000; text-decoration-color: #008000\">'1007320043_627395c3d8.jpg'</span>,\n",
              "    <span style=\"color: #008000; text-decoration-color: #008000\">'1009434119_febe49276a.jpg'</span>,\n",
              "    <span style=\"color: #008000; text-decoration-color: #008000\">'1012212859_01547e3f17.jpg'</span>,\n",
              "    <span style=\"color: #008000; text-decoration-color: #008000\">'1015118661_980735411b.jpg'</span>,\n",
              "    <span style=\"color: #008000; text-decoration-color: #008000\">'1015584366_dfcec3c85a.jpg'</span>,\n",
              "    <span style=\"color: #008000; text-decoration-color: #008000\">'101654506_8eb26cfb60.jpg'</span>,\n",
              "    <span style=\"color: #008000; text-decoration-color: #008000\">'101669240_b2d3e7f17b.jpg'</span>,\n",
              "    <span style=\"color: #008000; text-decoration-color: #008000\">'1016887272_03199f49c4.jpg'</span>,\n",
              "    <span style=\"color: #008000; text-decoration-color: #008000\">'1019077836_6fc9b15408.jpg'</span>,\n",
              "    <span style=\"color: #008000; text-decoration-color: #008000\">'1019604187_d087bf9a5f.jpg'</span>,\n",
              "    <span style=\"color: #008000; text-decoration-color: #008000\">'1020651753_06077ec457.jpg'</span>,\n",
              "    <span style=\"color: #008000; text-decoration-color: #008000\">'1022454332_6af2c1449a.jpg'</span>,\n",
              "    <span style=\"color: #008000; text-decoration-color: #008000\">'1022454428_b6b660a67b.jpg'</span>,\n",
              "    <span style=\"color: #008000; text-decoration-color: #008000\">'1022975728_75515238d8.jpg'</span>,\n",
              "    <span style=\"color: #008000; text-decoration-color: #008000\">'102351840_323e3de834.jpg'</span>\n",
              "<span style=\"font-weight: bold\">]</span>\n",
              "</pre>\n"
            ],
            "text/plain": [
              "\u001b[1m[\u001b[0m\n",
              "    \u001b[32m'1000268201_693b08cb0e.jpg'\u001b[0m,\n",
              "    \u001b[32m'1001773457_577c3a7d70.jpg'\u001b[0m,\n",
              "    \u001b[32m'1002674143_1b742ab4b8.jpg'\u001b[0m,\n",
              "    \u001b[32m'1003163366_44323f5815.jpg'\u001b[0m,\n",
              "    \u001b[32m'1007129816_e794419615.jpg'\u001b[0m,\n",
              "    \u001b[32m'1007320043_627395c3d8.jpg'\u001b[0m,\n",
              "    \u001b[32m'1009434119_febe49276a.jpg'\u001b[0m,\n",
              "    \u001b[32m'1012212859_01547e3f17.jpg'\u001b[0m,\n",
              "    \u001b[32m'1015118661_980735411b.jpg'\u001b[0m,\n",
              "    \u001b[32m'1015584366_dfcec3c85a.jpg'\u001b[0m,\n",
              "    \u001b[32m'101654506_8eb26cfb60.jpg'\u001b[0m,\n",
              "    \u001b[32m'101669240_b2d3e7f17b.jpg'\u001b[0m,\n",
              "    \u001b[32m'1016887272_03199f49c4.jpg'\u001b[0m,\n",
              "    \u001b[32m'1019077836_6fc9b15408.jpg'\u001b[0m,\n",
              "    \u001b[32m'1019604187_d087bf9a5f.jpg'\u001b[0m,\n",
              "    \u001b[32m'1020651753_06077ec457.jpg'\u001b[0m,\n",
              "    \u001b[32m'1022454332_6af2c1449a.jpg'\u001b[0m,\n",
              "    \u001b[32m'1022454428_b6b660a67b.jpg'\u001b[0m,\n",
              "    \u001b[32m'1022975728_75515238d8.jpg'\u001b[0m,\n",
              "    \u001b[32m'102351840_323e3de834.jpg'\u001b[0m\n",
              "\u001b[1m]\u001b[0m\n"
            ]
          },
          "metadata": {},
          "output_type": "display_data"
        }
      ],
      "source": [
        "dataset = CustomDataSet(\"flicker_8k/photos\", transform=compose)"
      ]
    },
    {
      "cell_type": "code",
      "execution_count": 38,
      "metadata": {},
      "outputs": [],
      "source": [
        "# check if the image_paths sorted_data in the same order of the image dataset:\n",
        "\n",
        "\n",
        "for i, item in enumerate(sorted_data):\n",
        "\n",
        "    if item['image_name'] != dataset.get_image_name(i):\n",
        "        print(\"stop\")\n",
        "        break\n"
      ]
    },
    {
      "cell_type": "code",
      "execution_count": 39,
      "metadata": {},
      "outputs": [
        {
          "data": {
            "text/plain": [
              "8091"
            ]
          },
          "execution_count": 39,
          "metadata": {},
          "output_type": "execute_result"
        }
      ],
      "source": [
        "len(dataset)"
      ]
    },
    {
      "cell_type": "markdown",
      "metadata": {},
      "source": [
        "### Define the image_loder"
      ]
    },
    {
      "cell_type": "code",
      "execution_count": 40,
      "metadata": {},
      "outputs": [],
      "source": [
        "image_loader = torch.utils.data.DataLoader(\n",
        "    dataset,\n",
        "    batch_size=16,\n",
        "    shuffle=False,\n",
        "    num_workers=0,\n",
        "    drop_last=False)"
      ]
    },
    {
      "cell_type": "markdown",
      "metadata": {},
      "source": [
        "### Define the text_loder"
      ]
    },
    {
      "cell_type": "code",
      "execution_count": 41,
      "metadata": {},
      "outputs": [
        {
          "data": {
            "text/html": [
              "<pre style=\"white-space:pre;overflow-x:auto;line-height:normal;font-family:Menlo,'DejaVu Sans Mono',consolas,'Courier New',monospace\">The language used in the captions is caption_ar\n",
              "</pre>\n"
            ],
            "text/plain": [
              "The language used in the captions is caption_ar\n"
            ]
          },
          "metadata": {},
          "output_type": "display_data"
        }
      ],
      "source": [
        "lang = \"ar\"\n",
        "\n",
        "if lang ==\"ar\":\n",
        "    captions_lang = \"caption_ar\"\n",
        "else:\n",
        "    captions_lang = \"caption_en\"\n",
        "\n",
        "\n",
        "print(f\"The language used in the captions is {captions_lang}\")"
      ]
    },
    {
      "cell_type": "code",
      "execution_count": 42,
      "metadata": {},
      "outputs": [],
      "source": [
        "text_dataset = SimpleTextDataset([elem[captions_lang] for elem in sorted_data])\n",
        "\n",
        "text_loader = torch.utils.data.DataLoader(\n",
        "    text_dataset,\n",
        "    batch_size=64,\n",
        "    shuffle=False)"
      ]
    },
    {
      "cell_type": "code",
      "execution_count": 43,
      "metadata": {},
      "outputs": [
        {
          "data": {
            "text/html": [
              "<pre style=\"white-space:pre;overflow-x:auto;line-height:normal;font-family:Menlo,'DejaVu Sans Mono',consolas,'Courier New',monospace\">We are processing:  caption_ar\n",
              "</pre>\n"
            ],
            "text/plain": [
              "We are processing:  caption_ar\n"
            ]
          },
          "metadata": {},
          "output_type": "display_data"
        }
      ],
      "source": [
        "print(\"We are processing: \", captions_lang)"
      ]
    },
    {
      "cell_type": "code",
      "execution_count": 44,
      "metadata": {},
      "outputs": [],
      "source": [
        "# Check this to utalize the GPU memory in the images \n",
        "# https://discuss.pytorch.org/t/not-using-multiprocessing-but-getting-cuda-error-re-forked-subprocess/54610/8"
      ]
    },
    {
      "cell_type": "code",
      "execution_count": 45,
      "metadata": {},
      "outputs": [],
      "source": [
        "import numpy as np"
      ]
    },
    {
      "cell_type": "code",
      "execution_count": 46,
      "metadata": {},
      "outputs": [
        {
          "data": {
            "application/vnd.jupyter.widget-view+json": {
              "model_id": "aaea11004203469284dde29dd973ce77",
              "version_major": 2,
              "version_minor": 0
            },
            "text/plain": [
              "  0%|          | 0/506 [00:00<?, ?it/s]"
            ]
          },
          "metadata": {},
          "output_type": "display_data"
        }
      ],
      "source": [
        "image_features = precompute_image_features(image_loader)"
      ]
    },
    {
      "cell_type": "code",
      "execution_count": 47,
      "metadata": {},
      "outputs": [],
      "source": [
        "image_emb_path = 'image_features_flicker_images_XLM_Roberta_Large_Vit_B_16Plus_ar.pickle'"
      ]
    },
    {
      "cell_type": "code",
      "execution_count": 48,
      "metadata": {},
      "outputs": [],
      "source": [
        "text_emb_path = 'text_features_flicker_images_XLM_Roberta_Large_Vit_B_16Plus_ar.pickle'"
      ]
    },
    {
      "cell_type": "code",
      "execution_count": 49,
      "metadata": {},
      "outputs": [],
      "source": [
        "import pickle\n",
        "\n",
        "\n",
        "with open(image_emb_path, 'wb') as handle:\n",
        "    pickle.dump(image_features, handle, protocol=pickle.HIGHEST_PROTOCOL)"
      ]
    },
    {
      "cell_type": "code",
      "execution_count": 50,
      "metadata": {},
      "outputs": [
        {
          "data": {
            "text/plain": [
              "array([[-0.00551481, -0.0018802 , -0.00828313, ...,  0.00217237,\n",
              "         0.0019792 , -0.00400357],\n",
              "       [-0.01181199,  0.0030166 , -0.00503209, ..., -0.00669394,\n",
              "        -0.00999732,  0.01249228],\n",
              "       [-0.00420342, -0.0069913 , -0.01194882, ...,  0.00300192,\n",
              "        -0.01094185, -0.0049613 ],\n",
              "       ...,\n",
              "       [-0.00384364, -0.0054126 , -0.02167754, ...,  0.00039435,\n",
              "        -0.00500899,  0.00201166],\n",
              "       [ 0.00860667, -0.02255196,  0.00203453, ...,  0.01478415,\n",
              "        -0.01755573, -0.01129133],\n",
              "       [ 0.01163081,  0.00379059, -0.02416092, ..., -0.00695446,\n",
              "        -0.0144442 , -0.0283859 ]], dtype=float32)"
            ]
          },
          "execution_count": 50,
          "metadata": {},
          "output_type": "execute_result"
        }
      ],
      "source": [
        "import pickle\n",
        "\n",
        "with open(image_emb_path, 'rb') as handle:\n",
        "    image_features_new = pickle.load(handle)\n",
        "\n",
        "image_features_new"
      ]
    },
    {
      "cell_type": "code",
      "execution_count": 51,
      "metadata": {},
      "outputs": [
        {
          "data": {
            "application/vnd.jupyter.widget-view+json": {
              "model_id": "f2a513e18a014e229b9981aadd499a04",
              "version_major": 2,
              "version_minor": 0
            },
            "text/plain": [
              "  0%|          | 0/127 [00:00<?, ?it/s]"
            ]
          },
          "metadata": {},
          "output_type": "display_data"
        },
        {
          "data": {
            "text/plain": [
              "array([[ 6.02509733e-03,  3.18110525e-03, -9.91252344e-03, ...,\n",
              "        -1.18462602e-03,  3.49959149e-03, -9.19437793e-04],\n",
              "       [-2.65762582e-03, -4.22366150e-03, -7.05972314e-03, ...,\n",
              "        -1.59219455e-03, -5.03420178e-03,  6.22146996e-03],\n",
              "       [-1.56358190e-04, -2.93192978e-04, -7.91358575e-03, ...,\n",
              "         2.84977723e-03,  6.26614690e-03, -9.17871576e-03],\n",
              "       ...,\n",
              "       [-8.85711779e-05,  3.90802743e-03, -1.25089735e-02, ...,\n",
              "        -7.61612260e-04,  6.51917467e-03,  2.39236234e-03],\n",
              "       [ 3.03399260e-03,  5.07207587e-03, -1.43755833e-02, ...,\n",
              "        -5.07260393e-03, -7.91140739e-03, -5.83504280e-03],\n",
              "       [ 9.75695997e-03,  5.50761260e-03, -1.95871405e-02, ...,\n",
              "         1.18678226e-03, -2.10715894e-04, -8.62668827e-03]], dtype=float32)"
            ]
          },
          "execution_count": 51,
          "metadata": {},
          "output_type": "execute_result"
        }
      ],
      "source": [
        "text_features = precompute_text_features(text_loader)\n",
        "\n",
        "text_features"
      ]
    },
    {
      "cell_type": "code",
      "execution_count": 52,
      "metadata": {},
      "outputs": [],
      "source": [
        "import pickle\n",
        "\n",
        "\n",
        "with open(text_emb_path, 'wb') as handle:\n",
        "    pickle.dump(text_features, handle, protocol=pickle.HIGHEST_PROTOCOL)"
      ]
    },
    {
      "cell_type": "code",
      "execution_count": 53,
      "metadata": {},
      "outputs": [
        {
          "data": {
            "text/plain": [
              "array([[ 6.02509733e-03,  3.18110525e-03, -9.91252344e-03, ...,\n",
              "        -1.18462602e-03,  3.49959149e-03, -9.19437793e-04],\n",
              "       [-2.65762582e-03, -4.22366150e-03, -7.05972314e-03, ...,\n",
              "        -1.59219455e-03, -5.03420178e-03,  6.22146996e-03],\n",
              "       [-1.56358190e-04, -2.93192978e-04, -7.91358575e-03, ...,\n",
              "         2.84977723e-03,  6.26614690e-03, -9.17871576e-03],\n",
              "       ...,\n",
              "       [-8.85711779e-05,  3.90802743e-03, -1.25089735e-02, ...,\n",
              "        -7.61612260e-04,  6.51917467e-03,  2.39236234e-03],\n",
              "       [ 3.03399260e-03,  5.07207587e-03, -1.43755833e-02, ...,\n",
              "        -5.07260393e-03, -7.91140739e-03, -5.83504280e-03],\n",
              "       [ 9.75695997e-03,  5.50761260e-03, -1.95871405e-02, ...,\n",
              "         1.18678226e-03, -2.10715894e-04, -8.62668827e-03]], dtype=float32)"
            ]
          },
          "execution_count": 53,
          "metadata": {},
          "output_type": "execute_result"
        }
      ],
      "source": [
        "\n",
        "with open(text_emb_path, 'rb') as handle:\n",
        "    text_features_new = pickle.load(handle)\n",
        "\n",
        "text_features_new"
      ]
    },
    {
      "cell_type": "code",
      "execution_count": 54,
      "metadata": {},
      "outputs": [
        {
          "data": {
            "text/plain": [
              "array([[-0.00551481, -0.0018802 , -0.00828313, ...,  0.00217237,\n",
              "         0.0019792 , -0.00400357],\n",
              "       [-0.01181199,  0.0030166 , -0.00503209, ..., -0.00669394,\n",
              "        -0.00999732,  0.01249228],\n",
              "       [-0.00420342, -0.0069913 , -0.01194882, ...,  0.00300192,\n",
              "        -0.01094185, -0.0049613 ],\n",
              "       ...,\n",
              "       [-0.00384364, -0.0054126 , -0.02167754, ...,  0.00039435,\n",
              "        -0.00500899,  0.00201166],\n",
              "       [ 0.00860667, -0.02255196,  0.00203453, ...,  0.01478415,\n",
              "        -0.01755573, -0.01129133],\n",
              "       [ 0.01163081,  0.00379059, -0.02416092, ..., -0.00695446,\n",
              "        -0.0144442 , -0.0283859 ]], dtype=float32)"
            ]
          },
          "execution_count": 54,
          "metadata": {},
          "output_type": "execute_result"
        }
      ],
      "source": [
        "image_features_new"
      ]
    },
    {
      "cell_type": "code",
      "execution_count": 55,
      "metadata": {},
      "outputs": [],
      "source": [
        "def get_path_coco(image_id):\n",
        "    # image_id = int(image_id)\n",
        "    # print(type(image_id))\n",
        "\n",
        "    im_path = id2path[image_id]\n",
        "    \n",
        "    return f\"flicker_8k/photos/{im_path}\" # f\"photos/val2014/COCO_val2014_{image_id:012d}.jpg\""
      ]
    },
    {
      "cell_type": "code",
      "execution_count": 56,
      "metadata": {},
      "outputs": [],
      "source": [
        "import numpy as np"
      ]
    },
    {
      "cell_type": "code",
      "execution_count": 58,
      "metadata": {},
      "outputs": [],
      "source": [
        "def compare_embeddings(logit_scale, img_embs, txt_embs):\n",
        "  # normalized features\n",
        "  image_features = img_embs / img_embs.norm(dim=-1, keepdim=True)\n",
        "  text_features = txt_embs / txt_embs.norm(dim=-1, keepdim=True)\n",
        "\n",
        "  logits_per_text = logit_scale * text_features @ image_features.t()\n",
        "  \n",
        "  return logits_per_text"
      ]
    },
    {
      "cell_type": "code",
      "execution_count": 68,
      "metadata": {},
      "outputs": [],
      "source": [
        "def compute_mrr(data, dataset, n):\n",
        "    \"\"\"Compute the MRR for the data based on n\"\"\"\n",
        "    collect_rr = []\n",
        "    pbar = tqdm(total=len(data), position=0, leave=True)\n",
        "    found = np.matmul(text_features_new, image_features_new.T)\n",
        "\n",
        "    for index, distances in enumerate(found): # It return the rows, one by one\n",
        "\n",
        "        pbar.update(1)\n",
        "        image_path = get_path_coco(data[index][\"id\"])\n",
        "\n",
        "        collect_rr.append(new_rr(distances, image_path, dataset, n,index))\n",
        "\n",
        "\n",
        "    pbar.close()\n",
        "    print(100*\"=\")\n",
        "    \n",
        "    return np.average(collect_rr)\n",
        "\n",
        "\n",
        "def new_rr(distances, target_image, dataset, n,index):\n",
        "    \"\"\"Calculate the RR for the given target image\"\"\"\n",
        "    image_paths = []\n",
        "\n",
        "    idxs = distances.argsort()[-n:][::-1] # Get the indcies for the images distances based on n\n",
        "\n",
        "    for idx in idxs:\n",
        "        image_paths.append('flicker_8k/photos/' + dataset.get_image_name(idx))\n",
        "\n",
        "    if target_image in image_paths:\n",
        "\n",
        "        return 1/(image_paths.index(target_image) + 1)\n",
        "    else:\n",
        "        return 0\n",
        "\n",
        "\n",
        "def internal_hits(distances, target_image, dataset, n):\n",
        "    \"\"\"Calculate the hits of the target images based on the existance of it or not\"\"\"\n",
        "    image_paths = []\n",
        "    idxs = distances.argsort()[-n:][::-1]\n",
        "\n",
        "    if target_image in idxs:\n",
        "        return 1\n",
        "    else:\n",
        "        return 0\n",
        "\n",
        "def compute_hits(data, dataset, n):\n",
        "\n",
        "    collect_rr = []\n",
        "\n",
        "    pbar = tqdm(total=len(data), position=0, leave=True)\n",
        "\n",
        "    found = np.matmul(text_features_new, image_features_new.T)\n",
        "\n",
        "    for index, distances in enumerate(found):\n",
        "        pbar.update(1)\n",
        "        # image_path = get_path_coco(data[index][\"id\"])\n",
        "        image_path = index # get_path_coco(data[index][\"id\"])\n",
        "        \n",
        "        collect_rr.append(internal_hits(distances, image_path, dataset, n))\n",
        "        # collect_rr_testing.append(internal_hits(distances, image_path, dataset, n))\n",
        "\n",
        "    \n",
        "    pbar.close()\n",
        "    # print(len(collect_rr_testing))\n",
        "    return np.average(collect_rr)"
      ]
    },
    {
      "cell_type": "code",
      "execution_count": 69,
      "metadata": {},
      "outputs": [
        {
          "data": {
            "application/vnd.jupyter.widget-view+json": {
              "model_id": "4278527902ad4b8898d67253a700cf8f",
              "version_major": 2,
              "version_minor": 0
            },
            "text/plain": [
              "  0%|          | 0/8091 [00:00<?, ?it/s]"
            ]
          },
          "metadata": {},
          "output_type": "display_data"
        },
        {
          "data": {
            "text/html": [
              "<pre style=\"white-space:pre;overflow-x:auto;line-height:normal;font-family:Menlo,'DejaVu Sans Mono',consolas,'Courier New',monospace\">====================================================================================================\n",
              "</pre>\n"
            ],
            "text/plain": [
              "====================================================================================================\n"
            ]
          },
          "metadata": {},
          "output_type": "display_data"
        },
        {
          "data": {
            "text/html": [
              "<pre style=\"white-space:pre;overflow-x:auto;line-height:normal;font-family:Menlo,'DejaVu Sans Mono',consolas,'Courier New',monospace\">MRR@<span style=\"color: #008080; text-decoration-color: #008080; font-weight: bold\">1</span>: <span style=\"color: #008080; text-decoration-color: #008080; font-weight: bold\">0.31232233345692745</span>\n",
              "</pre>\n"
            ],
            "text/plain": [
              "MRR@\u001b[1;36m1\u001b[0m: \u001b[1;36m0.31232233345692745\u001b[0m\n"
            ]
          },
          "metadata": {},
          "output_type": "display_data"
        }
      ],
      "source": [
        "print('MRR@1:', compute_mrr(sorted_data, dataset, 1))"
      ]
    },
    {
      "cell_type": "code",
      "execution_count": 70,
      "metadata": {},
      "outputs": [
        {
          "data": {
            "application/vnd.jupyter.widget-view+json": {
              "model_id": "5fec0e284ba24232b243e4ddceb6eef5",
              "version_major": 2,
              "version_minor": 0
            },
            "text/plain": [
              "  0%|          | 0/8091 [00:00<?, ?it/s]"
            ]
          },
          "metadata": {},
          "output_type": "display_data"
        },
        {
          "data": {
            "text/html": [
              "<pre style=\"white-space:pre;overflow-x:auto;line-height:normal;font-family:Menlo,'DejaVu Sans Mono',consolas,'Courier New',monospace\">====================================================================================================\n",
              "</pre>\n"
            ],
            "text/plain": [
              "====================================================================================================\n"
            ]
          },
          "metadata": {},
          "output_type": "display_data"
        },
        {
          "data": {
            "text/html": [
              "<pre style=\"white-space:pre;overflow-x:auto;line-height:normal;font-family:Menlo,'DejaVu Sans Mono',consolas,'Courier New',monospace\">MRR@<span style=\"color: #008080; text-decoration-color: #008080; font-weight: bold\">5</span>: <span style=\"color: #008080; text-decoration-color: #008080; font-weight: bold\">0.401182383718535</span>\n",
              "</pre>\n"
            ],
            "text/plain": [
              "MRR@\u001b[1;36m5\u001b[0m: \u001b[1;36m0.401182383718535\u001b[0m\n"
            ]
          },
          "metadata": {},
          "output_type": "display_data"
        }
      ],
      "source": [
        "print('MRR@5:', compute_mrr(sorted_data, dataset, 5))"
      ]
    },
    {
      "cell_type": "code",
      "execution_count": 71,
      "metadata": {},
      "outputs": [
        {
          "data": {
            "application/vnd.jupyter.widget-view+json": {
              "model_id": "eb85374b785e4ff68e7766e3f4354529",
              "version_major": 2,
              "version_minor": 0
            },
            "text/plain": [
              "  0%|          | 0/8091 [00:00<?, ?it/s]"
            ]
          },
          "metadata": {},
          "output_type": "display_data"
        },
        {
          "data": {
            "text/html": [
              "<pre style=\"white-space:pre;overflow-x:auto;line-height:normal;font-family:Menlo,'DejaVu Sans Mono',consolas,'Courier New',monospace\">====================================================================================================\n",
              "</pre>\n"
            ],
            "text/plain": [
              "====================================================================================================\n"
            ]
          },
          "metadata": {},
          "output_type": "display_data"
        },
        {
          "data": {
            "text/html": [
              "<pre style=\"white-space:pre;overflow-x:auto;line-height:normal;font-family:Menlo,'DejaVu Sans Mono',consolas,'Courier New',monospace\">MRR@<span style=\"color: #008080; text-decoration-color: #008080; font-weight: bold\">10</span>: <span style=\"color: #008080; text-decoration-color: #008080; font-weight: bold\">0.41403788846317585</span>\n",
              "</pre>\n"
            ],
            "text/plain": [
              "MRR@\u001b[1;36m10\u001b[0m: \u001b[1;36m0.41403788846317585\u001b[0m\n"
            ]
          },
          "metadata": {},
          "output_type": "display_data"
        }
      ],
      "source": [
        "print('MRR@10:', compute_mrr(sorted_data, dataset,10))"
      ]
    },
    {
      "cell_type": "markdown",
      "metadata": {},
      "source": [
        "## Evaluation based on Recall metric"
      ]
    },
    {
      "cell_type": "code",
      "execution_count": 72,
      "metadata": {},
      "outputs": [
        {
          "data": {
            "text/plain": [
              "(8091, 640)"
            ]
          },
          "execution_count": 72,
          "metadata": {},
          "output_type": "execute_result"
        }
      ],
      "source": [
        "image_features_new.shape"
      ]
    },
    {
      "cell_type": "code",
      "execution_count": 73,
      "metadata": {},
      "outputs": [
        {
          "data": {
            "text/plain": [
              "(8091, 640)"
            ]
          },
          "execution_count": 73,
          "metadata": {},
          "output_type": "execute_result"
        }
      ],
      "source": [
        "text_features_new.shape"
      ]
    },
    {
      "cell_type": "code",
      "execution_count": 74,
      "metadata": {},
      "outputs": [
        {
          "data": {
            "text/html": [
              "<pre style=\"white-space:pre;overflow-x:auto;line-height:normal;font-family:Menlo,'DejaVu Sans Mono',consolas,'Courier New',monospace\"><span style=\"color: #800080; text-decoration-color: #800080; font-weight: bold\">torch.Size</span><span style=\"font-weight: bold\">([</span><span style=\"color: #008080; text-decoration-color: #008080; font-weight: bold\">8091</span><span style=\"font-weight: bold\">])</span>\n",
              "</pre>\n"
            ],
            "text/plain": [
              "\u001b[1;35mtorch.Size\u001b[0m\u001b[1m(\u001b[0m\u001b[1m[\u001b[0m\u001b[1;36m8091\u001b[0m\u001b[1m]\u001b[0m\u001b[1m)\u001b[0m\n"
            ]
          },
          "metadata": {},
          "output_type": "display_data"
        },
        {
          "data": {
            "text/html": [
              "<pre style=\"white-space:pre;overflow-x:auto;line-height:normal;font-family:Menlo,'DejaVu Sans Mono',consolas,'Courier New',monospace\"><span style=\"color: #800080; text-decoration-color: #800080; font-weight: bold\">torch.Size</span><span style=\"font-weight: bold\">([</span><span style=\"color: #008080; text-decoration-color: #008080; font-weight: bold\">8091</span>, <span style=\"color: #008080; text-decoration-color: #008080; font-weight: bold\">1</span><span style=\"font-weight: bold\">])</span>\n",
              "</pre>\n"
            ],
            "text/plain": [
              "\u001b[1;35mtorch.Size\u001b[0m\u001b[1m(\u001b[0m\u001b[1m[\u001b[0m\u001b[1;36m8091\u001b[0m, \u001b[1;36m1\u001b[0m\u001b[1m]\u001b[0m\u001b[1m)\u001b[0m\n"
            ]
          },
          "metadata": {},
          "output_type": "display_data"
        }
      ],
      "source": [
        "image_features_new_pt = torch.from_numpy(image_features_new)\n",
        "\n",
        "text_features_new_pt = torch.from_numpy(text_features_new)\n",
        "\n",
        "text_to_image_map = torch.LongTensor(list(range(text_features_new.shape[0])))\n",
        "print(text_to_image_map.shape) # .type(torch.int64)\n",
        "\n",
        "print(text_to_image_map.unsqueeze(1).shape)"
      ]
    },
    {
      "cell_type": "code",
      "execution_count": 75,
      "metadata": {},
      "outputs": [],
      "source": [
        "torch.set_printoptions(precision=8)"
      ]
    },
    {
      "cell_type": "code",
      "execution_count": 76,
      "metadata": {},
      "outputs": [],
      "source": [
        "# https://github.com/openai/CLIP/issues/115\n",
        "\n",
        "import torch\n",
        "from torchvision.datasets import CocoCaptions\n",
        "import torch.utils.data as dutils\n",
        "from typing import List\n",
        "import clip\n",
        "\n",
        "device = torch.device('cuda') if torch.cuda.is_available() else torch.device('cpu')\n",
        "\n",
        "k_vals= [1, 5, 10, 50]\n",
        "\n",
        "\n",
        "def recall_at_k(k_vals, image_encodings,text_encodings,text_to_image_map):\n",
        "    print(\"Encoding all data...\")\n",
        " \n",
        "    num_text = text_encodings.shape[0]\n",
        "    \n",
        "    # text-to-image recall\n",
        "    print(\"Text-to-image recall...\")\n",
        "\n",
        "\n",
        "    dist_matrix = text_encodings @ image_encodings.T  # dist_matrix[i] gives logits for ith text\n",
        "\n",
        "    inds = torch.argsort(dist_matrix, dim=1, descending=True)\n",
        "    inds = inds.to(device)\n",
        "    text_to_image_recall = []\n",
        "\n",
        "    \n",
        "\n",
        "    text_to_image_map = text_to_image_map.to(device)\n",
        "    \n",
        "    for k in k_vals:\n",
        "        # Extract top k indices only\n",
        "        topk = inds[:, :k]\n",
        "\n",
        "        text_to_image_map_new = text_to_image_map.repeat(k, 1).t()\n",
        "\n",
        "        correct = torch.eq(topk, text_to_image_map_new).any(dim=1)  #  value along dimension 1 (which typically corresponds to rows in a 2D tensor) ###### any(dim=1) >> check if True over the row \n",
        "        \n",
        "        num_correct = correct.sum().item()\n",
        "\n",
        "        text_to_image_recall.append(num_correct / num_text)\n",
        "\n",
        "    print(text_to_image_recall)\n",
        "\n",
        "    print(\"Done.\")\n",
        "    return text_to_image_recall"
      ]
    },
    {
      "cell_type": "code",
      "execution_count": 77,
      "metadata": {},
      "outputs": [
        {
          "data": {
            "text/html": [
              "<pre style=\"white-space:pre;overflow-x:auto;line-height:normal;font-family:Menlo,'DejaVu Sans Mono',consolas,'Courier New',monospace\">Encoding all data<span style=\"color: #808000; text-decoration-color: #808000\">...</span>\n",
              "</pre>\n"
            ],
            "text/plain": [
              "Encoding all data\u001b[33m...\u001b[0m\n"
            ]
          },
          "metadata": {},
          "output_type": "display_data"
        },
        {
          "data": {
            "text/html": [
              "<pre style=\"white-space:pre;overflow-x:auto;line-height:normal;font-family:Menlo,'DejaVu Sans Mono',consolas,'Courier New',monospace\">Text-to-image recall<span style=\"color: #808000; text-decoration-color: #808000\">...</span>\n",
              "</pre>\n"
            ],
            "text/plain": [
              "Text-to-image recall\u001b[33m...\u001b[0m\n"
            ]
          },
          "metadata": {},
          "output_type": "display_data"
        },
        {
          "data": {
            "text/html": [
              "<pre style=\"white-space:pre;overflow-x:auto;line-height:normal;font-family:Menlo,'DejaVu Sans Mono',consolas,'Courier New',monospace\"><span style=\"font-weight: bold\">[</span><span style=\"color: #008080; text-decoration-color: #008080; font-weight: bold\">0.31232233345692745</span>, <span style=\"color: #008080; text-decoration-color: #008080; font-weight: bold\">0.5493758497095538</span>, <span style=\"color: #008080; text-decoration-color: #008080; font-weight: bold\">0.6447905079718206</span>, <span style=\"color: #008080; text-decoration-color: #008080; font-weight: bold\">0.8489679891237177</span><span style=\"font-weight: bold\">]</span>\n",
              "</pre>\n"
            ],
            "text/plain": [
              "\u001b[1m[\u001b[0m\u001b[1;36m0.31232233345692745\u001b[0m, \u001b[1;36m0.5493758497095538\u001b[0m, \u001b[1;36m0.6447905079718206\u001b[0m, \u001b[1;36m0.8489679891237177\u001b[0m\u001b[1m]\u001b[0m\n"
            ]
          },
          "metadata": {},
          "output_type": "display_data"
        },
        {
          "data": {
            "text/html": [
              "<pre style=\"white-space:pre;overflow-x:auto;line-height:normal;font-family:Menlo,'DejaVu Sans Mono',consolas,'Courier New',monospace\">Done.\n",
              "</pre>\n"
            ],
            "text/plain": [
              "Done.\n"
            ]
          },
          "metadata": {},
          "output_type": "display_data"
        },
        {
          "data": {
            "text/html": [
              "<pre style=\"white-space:pre;overflow-x:auto;line-height:normal;font-family:Menlo,'DejaVu Sans Mono',consolas,'Courier New',monospace\">Text-to-image Recall@K\n",
              "</pre>\n"
            ],
            "text/plain": [
              "Text-to-image Recall@K\n"
            ]
          },
          "metadata": {},
          "output_type": "display_data"
        },
        {
          "data": {
            "text/html": [
              "<pre style=\"white-space:pre;overflow-x:auto;line-height:normal;font-family:Menlo,'DejaVu Sans Mono',consolas,'Courier New',monospace\">Returned value: \n",
              "<span style=\"font-weight: bold\">[</span><span style=\"color: #008080; text-decoration-color: #008080; font-weight: bold\">0.31232233345692745</span>, <span style=\"color: #008080; text-decoration-color: #008080; font-weight: bold\">0.5493758497095538</span>, <span style=\"color: #008080; text-decoration-color: #008080; font-weight: bold\">0.6447905079718206</span>, <span style=\"color: #008080; text-decoration-color: #008080; font-weight: bold\">0.8489679891237177</span><span style=\"font-weight: bold\">]</span>\n",
              "</pre>\n"
            ],
            "text/plain": [
              "Returned value: \n",
              "\u001b[1m[\u001b[0m\u001b[1;36m0.31232233345692745\u001b[0m, \u001b[1;36m0.5493758497095538\u001b[0m, \u001b[1;36m0.6447905079718206\u001b[0m, \u001b[1;36m0.8489679891237177\u001b[0m\u001b[1m]\u001b[0m\n"
            ]
          },
          "metadata": {},
          "output_type": "display_data"
        },
        {
          "data": {
            "text/html": [
              "<pre style=\"white-space:pre;overflow-x:auto;line-height:normal;font-family:Menlo,'DejaVu Sans Mono',consolas,'Courier New',monospace\"><span style=\"color: #008080; text-decoration-color: #008080; font-weight: bold\">1</span>   <span style=\"color: #008080; text-decoration-color: #008080; font-weight: bold\">0.31232233345692745</span>\n",
              "</pre>\n"
            ],
            "text/plain": [
              "\u001b[1;36m1\u001b[0m   \u001b[1;36m0.31232233345692745\u001b[0m\n"
            ]
          },
          "metadata": {},
          "output_type": "display_data"
        },
        {
          "data": {
            "text/html": [
              "<pre style=\"white-space:pre;overflow-x:auto;line-height:normal;font-family:Menlo,'DejaVu Sans Mono',consolas,'Courier New',monospace\"><span style=\"color: #008080; text-decoration-color: #008080; font-weight: bold\">5</span>   <span style=\"color: #008080; text-decoration-color: #008080; font-weight: bold\">0.5493758497095538</span>\n",
              "</pre>\n"
            ],
            "text/plain": [
              "\u001b[1;36m5\u001b[0m   \u001b[1;36m0.5493758497095538\u001b[0m\n"
            ]
          },
          "metadata": {},
          "output_type": "display_data"
        },
        {
          "data": {
            "text/html": [
              "<pre style=\"white-space:pre;overflow-x:auto;line-height:normal;font-family:Menlo,'DejaVu Sans Mono',consolas,'Courier New',monospace\"><span style=\"color: #008080; text-decoration-color: #008080; font-weight: bold\">10</span>   <span style=\"color: #008080; text-decoration-color: #008080; font-weight: bold\">0.6447905079718206</span>\n",
              "</pre>\n"
            ],
            "text/plain": [
              "\u001b[1;36m10\u001b[0m   \u001b[1;36m0.6447905079718206\u001b[0m\n"
            ]
          },
          "metadata": {},
          "output_type": "display_data"
        },
        {
          "data": {
            "text/html": [
              "<pre style=\"white-space:pre;overflow-x:auto;line-height:normal;font-family:Menlo,'DejaVu Sans Mono',consolas,'Courier New',monospace\"><span style=\"color: #008080; text-decoration-color: #008080; font-weight: bold\">50</span>   <span style=\"color: #008080; text-decoration-color: #008080; font-weight: bold\">0.8489679891237177</span>\n",
              "</pre>\n"
            ],
            "text/plain": [
              "\u001b[1;36m50\u001b[0m   \u001b[1;36m0.8489679891237177\u001b[0m\n"
            ]
          },
          "metadata": {},
          "output_type": "display_data"
        }
      ],
      "source": [
        "t2i= recall_at_k(k_vals=k_vals, image_encodings=image_features_new_pt,text_encodings=text_features_new_pt,text_to_image_map=text_to_image_map)\n",
        "\n",
        "print(\"Text-to-image Recall@K\")\n",
        "\n",
        "print(\"Returned value: \", t2i)\n",
        "for k, x in zip(k_vals, t2i):\n",
        "    print(k, \" \", (x/100) * 100)\n",
        "    # print(f\" R@{k}: {100*x:.2f}%\")\n"
      ]
    },
    {
      "cell_type": "code",
      "execution_count": null,
      "metadata": {},
      "outputs": [],
      "source": []
    }
  ],
  "metadata": {
    "accelerator": "GPU",
    "colab": {
      "name": "Copy of Multilingual_CLIP.ipynb",
      "provenance": [],
      "toc_visible": true
    },
    "kernelspec": {
      "display_name": "Python 3",
      "language": "python",
      "name": "python3"
    },
    "language_info": {
      "codemirror_mode": {
        "name": "ipython",
        "version": 3
      },
      "file_extension": ".py",
      "mimetype": "text/x-python",
      "name": "python",
      "nbconvert_exporter": "python",
      "pygments_lexer": "ipython3",
      "version": "3.9.18"
    }
  },
  "nbformat": 4,
  "nbformat_minor": 0
}
