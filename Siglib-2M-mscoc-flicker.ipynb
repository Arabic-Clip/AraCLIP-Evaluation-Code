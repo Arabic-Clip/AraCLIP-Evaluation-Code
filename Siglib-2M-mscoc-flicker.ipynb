{
  "cells": [
    {
      "cell_type": "code",
      "execution_count": 38,
      "metadata": {
        "id": "v5JU97PayTvv"
      },
      "outputs": [],
      "source": [
        "from PIL import Image\n",
        "import numpy as np\n",
        "import os, random\n",
        "import torch\n",
        "\n",
        "import warnings\n",
        "warnings.filterwarnings(\"ignore\")"
      ]
    },
    {
      "cell_type": "markdown",
      "metadata": {},
      "source": [
        "# Validation pipeline "
      ]
    },
    {
      "cell_type": "code",
      "execution_count": 39,
      "metadata": {},
      "outputs": [
        {
          "data": {
            "text/plain": [
              "device(type='cuda')"
            ]
          },
          "execution_count": 39,
          "metadata": {},
          "output_type": "execute_result"
        }
      ],
      "source": [
        "import torch \n",
        "\n",
        "device = torch.device('cuda') if torch.cuda.is_available() else torch.device('cpu')\n",
        "\n",
        "device"
      ]
    },
    {
      "cell_type": "code",
      "execution_count": 40,
      "metadata": {},
      "outputs": [],
      "source": [
        "# !pip install rich\n",
        "from rich import print "
      ]
    },
    {
      "cell_type": "code",
      "execution_count": 41,
      "metadata": {},
      "outputs": [],
      "source": [
        "# Read the images from of the dataset \n",
        "import os \n",
        "\n",
        "img_folder = 'flicker_8k/photos'\n",
        "\n",
        "if not os.path.exists(img_folder) or len(os.listdir(img_folder)) == 0:\n",
        "    os.makedirs(img_folder, exist_ok=True)\n",
        "    "
      ]
    },
    {
      "cell_type": "code",
      "execution_count": 42,
      "metadata": {},
      "outputs": [],
      "source": [
        "import json \n",
        "\n",
        "data = [] \n",
        "\n",
        "with open(\"flicker_8k/flicker_8k.jsonl\") as filino:\n",
        "\n",
        "    for file_i in filino:\n",
        "\n",
        "        dic_obj = json.loads(file_i)\n",
        "        data.append(dic_obj)"
      ]
    },
    {
      "cell_type": "code",
      "execution_count": 43,
      "metadata": {},
      "outputs": [
        {
          "data": {
            "text/html": [
              "<pre style=\"white-space:pre;overflow-x:auto;line-height:normal;font-family:Menlo,'DejaVu Sans Mono',consolas,'Courier New',monospace\">Dataset size is:  <span style=\"color: #008080; text-decoration-color: #008080; font-weight: bold\">8091</span>\n",
              "</pre>\n"
            ],
            "text/plain": [
              "Dataset size is:  \u001b[1;36m8091\u001b[0m\n"
            ]
          },
          "metadata": {},
          "output_type": "display_data"
        }
      ],
      "source": [
        "print(\"Dataset size is: \", len(data) )"
      ]
    },
    {
      "cell_type": "code",
      "execution_count": 44,
      "metadata": {},
      "outputs": [
        {
          "data": {
            "text/html": [
              "<pre style=\"white-space:pre;overflow-x:auto;line-height:normal;font-family:Menlo,'DejaVu Sans Mono',consolas,'Courier New',monospace\"><span style=\"font-weight: bold\">[</span>\n",
              "    <span style=\"font-weight: bold\">{</span>\n",
              "        <span style=\"color: #008000; text-decoration-color: #008000\">'caption_ar'</span>: <span style=\"color: #008000; text-decoration-color: #008000\">'طفلة صغيرة تتسلق إلى مسرح خشبي'</span>,\n",
              "        <span style=\"color: #008000; text-decoration-color: #008000\">'image_name'</span>: <span style=\"color: #008000; text-decoration-color: #008000\">'1000268201_693b08cb0e.jpg'</span>,\n",
              "        <span style=\"color: #008000; text-decoration-color: #008000\">'id'</span>: <span style=\"color: #008000; text-decoration-color: #008000\">'1000268201_693b08cb0e'</span>\n",
              "    <span style=\"font-weight: bold\">}</span>,\n",
              "    <span style=\"font-weight: bold\">{</span>\n",
              "        <span style=\"color: #008000; text-decoration-color: #008000\">'caption_ar'</span>: <span style=\"color: #008000; text-decoration-color: #008000\">'كلب أسود وكلب ثلاثي الألوان يلعبان مع بعضهما البعض على الطريق'</span>,\n",
              "        <span style=\"color: #008000; text-decoration-color: #008000\">'image_name'</span>: <span style=\"color: #008000; text-decoration-color: #008000\">'1001773457_577c3a7d70.jpg'</span>,\n",
              "        <span style=\"color: #008000; text-decoration-color: #008000\">'id'</span>: <span style=\"color: #008000; text-decoration-color: #008000\">'1001773457_577c3a7d70'</span>\n",
              "    <span style=\"font-weight: bold\">}</span>,\n",
              "    <span style=\"font-weight: bold\">{</span>\n",
              "        <span style=\"color: #008000; text-decoration-color: #008000\">'caption_ar'</span>: <span style=\"color: #008000; text-decoration-color: #008000\">'فتاة صغيرة مغطاة بالطلاء تجلس أمام قوس قزح'</span>,\n",
              "        <span style=\"color: #008000; text-decoration-color: #008000\">'image_name'</span>: <span style=\"color: #008000; text-decoration-color: #008000\">'1002674143_1b742ab4b8.jpg'</span>,\n",
              "        <span style=\"color: #008000; text-decoration-color: #008000\">'id'</span>: <span style=\"color: #008000; text-decoration-color: #008000\">'1002674143_1b742ab4b8'</span>\n",
              "    <span style=\"font-weight: bold\">}</span>,\n",
              "    <span style=\"font-weight: bold\">{</span>\n",
              "        <span style=\"color: #008000; text-decoration-color: #008000\">'caption_ar'</span>: <span style=\"color: #008000; text-decoration-color: #008000\">'رجل يجلس على مقعد بينما يجلس كلبه بجانبه'</span>,\n",
              "        <span style=\"color: #008000; text-decoration-color: #008000\">'image_name'</span>: <span style=\"color: #008000; text-decoration-color: #008000\">'1003163366_44323f5815.jpg'</span>,\n",
              "        <span style=\"color: #008000; text-decoration-color: #008000\">'id'</span>: <span style=\"color: #008000; text-decoration-color: #008000\">'1003163366_44323f5815'</span>\n",
              "    <span style=\"font-weight: bold\">}</span>,\n",
              "    <span style=\"font-weight: bold\">{</span>\n",
              "        <span style=\"color: #008000; text-decoration-color: #008000\">'caption_ar'</span>: <span style=\"color: #008000; text-decoration-color: #008000\">'رجل يرتدي قبعة برتقالية'</span>,\n",
              "        <span style=\"color: #008000; text-decoration-color: #008000\">'image_name'</span>: <span style=\"color: #008000; text-decoration-color: #008000\">'1007129816_e794419615.jpg'</span>,\n",
              "        <span style=\"color: #008000; text-decoration-color: #008000\">'id'</span>: <span style=\"color: #008000; text-decoration-color: #008000\">'1007129816_e794419615'</span>\n",
              "    <span style=\"font-weight: bold\">}</span>,\n",
              "    <span style=\"font-weight: bold\">{</span><span style=\"color: #008000; text-decoration-color: #008000\">'caption_ar'</span>: <span style=\"color: #008000; text-decoration-color: #008000\">'طفل يلعب على حبل'</span>, <span style=\"color: #008000; text-decoration-color: #008000\">'image_name'</span>: <span style=\"color: #008000; text-decoration-color: #008000\">'1007320043_627395c3d8.jpg'</span>, <span style=\"color: #008000; text-decoration-color: #008000\">'id'</span>: <span style=\"color: #008000; text-decoration-color: #008000\">'1007320043_627395c3d8'</span><span style=\"font-weight: bold\">}</span>,\n",
              "    <span style=\"font-weight: bold\">{</span>\n",
              "        <span style=\"color: #008000; text-decoration-color: #008000\">'caption_ar'</span>: <span style=\"color: #008000; text-decoration-color: #008000\">'كلب أبيض وأسود يركض في حديقة عشبية محاطة بسياج أبيض'</span>,\n",
              "        <span style=\"color: #008000; text-decoration-color: #008000\">'image_name'</span>: <span style=\"color: #008000; text-decoration-color: #008000\">'1009434119_febe49276a.jpg'</span>,\n",
              "        <span style=\"color: #008000; text-decoration-color: #008000\">'id'</span>: <span style=\"color: #008000; text-decoration-color: #008000\">'1009434119_febe49276a'</span>\n",
              "    <span style=\"font-weight: bold\">}</span>,\n",
              "    <span style=\"font-weight: bold\">{</span>\n",
              "        <span style=\"color: #008000; text-decoration-color: #008000\">'caption_ar'</span>: <span style=\"color: #008000; text-decoration-color: #008000\">'كلب يهز رأسه بالقرب من الشاطئ ، كرة حمراء بجانبه'</span>,\n",
              "        <span style=\"color: #008000; text-decoration-color: #008000\">'image_name'</span>: <span style=\"color: #008000; text-decoration-color: #008000\">'1012212859_01547e3f17.jpg'</span>,\n",
              "        <span style=\"color: #008000; text-decoration-color: #008000\">'id'</span>: <span style=\"color: #008000; text-decoration-color: #008000\">'1012212859_01547e3f17'</span>\n",
              "    <span style=\"font-weight: bold\">}</span>,\n",
              "    <span style=\"font-weight: bold\">{</span>\n",
              "        <span style=\"color: #008000; text-decoration-color: #008000\">'caption_ar'</span>: <span style=\"color: #008000; text-decoration-color: #008000\">'صبي يبتسم أمام حائط صخري في مدينة'</span>,\n",
              "        <span style=\"color: #008000; text-decoration-color: #008000\">'image_name'</span>: <span style=\"color: #008000; text-decoration-color: #008000\">'1015118661_980735411b.jpg'</span>,\n",
              "        <span style=\"color: #008000; text-decoration-color: #008000\">'id'</span>: <span style=\"color: #008000; text-decoration-color: #008000\">'1015118661_980735411b'</span>\n",
              "    <span style=\"font-weight: bold\">}</span>,\n",
              "    <span style=\"font-weight: bold\">{</span>\n",
              "        <span style=\"color: #008000; text-decoration-color: #008000\">'caption_ar'</span>: <span style=\"color: #008000; text-decoration-color: #008000\">'كلب أسود يقفز فوق الجذع'</span>,\n",
              "        <span style=\"color: #008000; text-decoration-color: #008000\">'image_name'</span>: <span style=\"color: #008000; text-decoration-color: #008000\">'1015584366_dfcec3c85a.jpg'</span>,\n",
              "        <span style=\"color: #008000; text-decoration-color: #008000\">'id'</span>: <span style=\"color: #008000; text-decoration-color: #008000\">'1015584366_dfcec3c85a'</span>\n",
              "    <span style=\"font-weight: bold\">}</span>\n",
              "<span style=\"font-weight: bold\">]</span>\n",
              "</pre>\n"
            ],
            "text/plain": [
              "\u001b[1m[\u001b[0m\n",
              "    \u001b[1m{\u001b[0m\n",
              "        \u001b[32m'caption_ar'\u001b[0m: \u001b[32m'طفلة صغيرة تتسلق إلى مسرح خشبي'\u001b[0m,\n",
              "        \u001b[32m'image_name'\u001b[0m: \u001b[32m'1000268201_693b08cb0e.jpg'\u001b[0m,\n",
              "        \u001b[32m'id'\u001b[0m: \u001b[32m'1000268201_693b08cb0e'\u001b[0m\n",
              "    \u001b[1m}\u001b[0m,\n",
              "    \u001b[1m{\u001b[0m\n",
              "        \u001b[32m'caption_ar'\u001b[0m: \u001b[32m'كلب أسود وكلب ثلاثي الألوان يلعبان مع بعضهما البعض على الطريق'\u001b[0m,\n",
              "        \u001b[32m'image_name'\u001b[0m: \u001b[32m'1001773457_577c3a7d70.jpg'\u001b[0m,\n",
              "        \u001b[32m'id'\u001b[0m: \u001b[32m'1001773457_577c3a7d70'\u001b[0m\n",
              "    \u001b[1m}\u001b[0m,\n",
              "    \u001b[1m{\u001b[0m\n",
              "        \u001b[32m'caption_ar'\u001b[0m: \u001b[32m'فتاة صغيرة مغطاة بالطلاء تجلس أمام قوس قزح'\u001b[0m,\n",
              "        \u001b[32m'image_name'\u001b[0m: \u001b[32m'1002674143_1b742ab4b8.jpg'\u001b[0m,\n",
              "        \u001b[32m'id'\u001b[0m: \u001b[32m'1002674143_1b742ab4b8'\u001b[0m\n",
              "    \u001b[1m}\u001b[0m,\n",
              "    \u001b[1m{\u001b[0m\n",
              "        \u001b[32m'caption_ar'\u001b[0m: \u001b[32m'رجل يجلس على مقعد بينما يجلس كلبه بجانبه'\u001b[0m,\n",
              "        \u001b[32m'image_name'\u001b[0m: \u001b[32m'1003163366_44323f5815.jpg'\u001b[0m,\n",
              "        \u001b[32m'id'\u001b[0m: \u001b[32m'1003163366_44323f5815'\u001b[0m\n",
              "    \u001b[1m}\u001b[0m,\n",
              "    \u001b[1m{\u001b[0m\n",
              "        \u001b[32m'caption_ar'\u001b[0m: \u001b[32m'رجل يرتدي قبعة برتقالية'\u001b[0m,\n",
              "        \u001b[32m'image_name'\u001b[0m: \u001b[32m'1007129816_e794419615.jpg'\u001b[0m,\n",
              "        \u001b[32m'id'\u001b[0m: \u001b[32m'1007129816_e794419615'\u001b[0m\n",
              "    \u001b[1m}\u001b[0m,\n",
              "    \u001b[1m{\u001b[0m\u001b[32m'caption_ar'\u001b[0m: \u001b[32m'طفل يلعب على حبل'\u001b[0m, \u001b[32m'image_name'\u001b[0m: \u001b[32m'1007320043_627395c3d8.jpg'\u001b[0m, \u001b[32m'id'\u001b[0m: \u001b[32m'1007320043_627395c3d8'\u001b[0m\u001b[1m}\u001b[0m,\n",
              "    \u001b[1m{\u001b[0m\n",
              "        \u001b[32m'caption_ar'\u001b[0m: \u001b[32m'كلب أبيض وأسود يركض في حديقة عشبية محاطة بسياج أبيض'\u001b[0m,\n",
              "        \u001b[32m'image_name'\u001b[0m: \u001b[32m'1009434119_febe49276a.jpg'\u001b[0m,\n",
              "        \u001b[32m'id'\u001b[0m: \u001b[32m'1009434119_febe49276a'\u001b[0m\n",
              "    \u001b[1m}\u001b[0m,\n",
              "    \u001b[1m{\u001b[0m\n",
              "        \u001b[32m'caption_ar'\u001b[0m: \u001b[32m'كلب يهز رأسه بالقرب من الشاطئ ، كرة حمراء بجانبه'\u001b[0m,\n",
              "        \u001b[32m'image_name'\u001b[0m: \u001b[32m'1012212859_01547e3f17.jpg'\u001b[0m,\n",
              "        \u001b[32m'id'\u001b[0m: \u001b[32m'1012212859_01547e3f17'\u001b[0m\n",
              "    \u001b[1m}\u001b[0m,\n",
              "    \u001b[1m{\u001b[0m\n",
              "        \u001b[32m'caption_ar'\u001b[0m: \u001b[32m'صبي يبتسم أمام حائط صخري في مدينة'\u001b[0m,\n",
              "        \u001b[32m'image_name'\u001b[0m: \u001b[32m'1015118661_980735411b.jpg'\u001b[0m,\n",
              "        \u001b[32m'id'\u001b[0m: \u001b[32m'1015118661_980735411b'\u001b[0m\n",
              "    \u001b[1m}\u001b[0m,\n",
              "    \u001b[1m{\u001b[0m\n",
              "        \u001b[32m'caption_ar'\u001b[0m: \u001b[32m'كلب أسود يقفز فوق الجذع'\u001b[0m,\n",
              "        \u001b[32m'image_name'\u001b[0m: \u001b[32m'1015584366_dfcec3c85a.jpg'\u001b[0m,\n",
              "        \u001b[32m'id'\u001b[0m: \u001b[32m'1015584366_dfcec3c85a'\u001b[0m\n",
              "    \u001b[1m}\u001b[0m\n",
              "\u001b[1m]\u001b[0m\n"
            ]
          },
          "metadata": {},
          "output_type": "display_data"
        }
      ],
      "source": [
        "print(data[:10])"
      ]
    },
    {
      "cell_type": "code",
      "execution_count": 45,
      "metadata": {},
      "outputs": [],
      "source": [
        "Check_id_duplication = [] "
      ]
    },
    {
      "cell_type": "code",
      "execution_count": 46,
      "metadata": {},
      "outputs": [],
      "source": [
        "for idx, data_obj in enumerate(data):\n",
        "\n",
        "    Check_id_duplication.append(data_obj[\"id\"])"
      ]
    },
    {
      "cell_type": "code",
      "execution_count": 47,
      "metadata": {},
      "outputs": [
        {
          "data": {
            "text/plain": [
              "8091"
            ]
          },
          "execution_count": 47,
          "metadata": {},
          "output_type": "execute_result"
        }
      ],
      "source": [
        "len(Check_id_duplication)"
      ]
    },
    {
      "cell_type": "code",
      "execution_count": 48,
      "metadata": {},
      "outputs": [
        {
          "data": {
            "text/plain": [
              "True"
            ]
          },
          "execution_count": 48,
          "metadata": {},
          "output_type": "execute_result"
        }
      ],
      "source": [
        "# If the len is 1000, there is no duplicates\n",
        "\n",
        "len(set(Check_id_duplication)) == 8091"
      ]
    },
    {
      "cell_type": "code",
      "execution_count": 49,
      "metadata": {},
      "outputs": [
        {
          "data": {
            "text/html": [
              "<pre style=\"white-space:pre;overflow-x:auto;line-height:normal;font-family:Menlo,'DejaVu Sans Mono',consolas,'Courier New',monospace\"><span style=\"font-weight: bold\">[</span>\n",
              "    <span style=\"font-weight: bold\">{</span>\n",
              "        <span style=\"color: #008000; text-decoration-color: #008000\">'caption_ar'</span>: <span style=\"color: #008000; text-decoration-color: #008000\">'طفلة صغيرة تتسلق إلى مسرح خشبي'</span>,\n",
              "        <span style=\"color: #008000; text-decoration-color: #008000\">'image_name'</span>: <span style=\"color: #008000; text-decoration-color: #008000\">'1000268201_693b08cb0e.jpg'</span>,\n",
              "        <span style=\"color: #008000; text-decoration-color: #008000\">'id'</span>: <span style=\"color: #008000; text-decoration-color: #008000\">'1000268201_693b08cb0e'</span>\n",
              "    <span style=\"font-weight: bold\">}</span>,\n",
              "    <span style=\"font-weight: bold\">{</span>\n",
              "        <span style=\"color: #008000; text-decoration-color: #008000\">'caption_ar'</span>: <span style=\"color: #008000; text-decoration-color: #008000\">'كلب أسود وكلب ثلاثي الألوان يلعبان مع بعضهما البعض على الطريق'</span>,\n",
              "        <span style=\"color: #008000; text-decoration-color: #008000\">'image_name'</span>: <span style=\"color: #008000; text-decoration-color: #008000\">'1001773457_577c3a7d70.jpg'</span>,\n",
              "        <span style=\"color: #008000; text-decoration-color: #008000\">'id'</span>: <span style=\"color: #008000; text-decoration-color: #008000\">'1001773457_577c3a7d70'</span>\n",
              "    <span style=\"font-weight: bold\">}</span>,\n",
              "    <span style=\"font-weight: bold\">{</span>\n",
              "        <span style=\"color: #008000; text-decoration-color: #008000\">'caption_ar'</span>: <span style=\"color: #008000; text-decoration-color: #008000\">'فتاة صغيرة مغطاة بالطلاء تجلس أمام قوس قزح'</span>,\n",
              "        <span style=\"color: #008000; text-decoration-color: #008000\">'image_name'</span>: <span style=\"color: #008000; text-decoration-color: #008000\">'1002674143_1b742ab4b8.jpg'</span>,\n",
              "        <span style=\"color: #008000; text-decoration-color: #008000\">'id'</span>: <span style=\"color: #008000; text-decoration-color: #008000\">'1002674143_1b742ab4b8'</span>\n",
              "    <span style=\"font-weight: bold\">}</span>,\n",
              "    <span style=\"font-weight: bold\">{</span>\n",
              "        <span style=\"color: #008000; text-decoration-color: #008000\">'caption_ar'</span>: <span style=\"color: #008000; text-decoration-color: #008000\">'رجل يجلس على مقعد بينما يجلس كلبه بجانبه'</span>,\n",
              "        <span style=\"color: #008000; text-decoration-color: #008000\">'image_name'</span>: <span style=\"color: #008000; text-decoration-color: #008000\">'1003163366_44323f5815.jpg'</span>,\n",
              "        <span style=\"color: #008000; text-decoration-color: #008000\">'id'</span>: <span style=\"color: #008000; text-decoration-color: #008000\">'1003163366_44323f5815'</span>\n",
              "    <span style=\"font-weight: bold\">}</span>,\n",
              "    <span style=\"font-weight: bold\">{</span>\n",
              "        <span style=\"color: #008000; text-decoration-color: #008000\">'caption_ar'</span>: <span style=\"color: #008000; text-decoration-color: #008000\">'رجل يرتدي قبعة برتقالية'</span>,\n",
              "        <span style=\"color: #008000; text-decoration-color: #008000\">'image_name'</span>: <span style=\"color: #008000; text-decoration-color: #008000\">'1007129816_e794419615.jpg'</span>,\n",
              "        <span style=\"color: #008000; text-decoration-color: #008000\">'id'</span>: <span style=\"color: #008000; text-decoration-color: #008000\">'1007129816_e794419615'</span>\n",
              "    <span style=\"font-weight: bold\">}</span>,\n",
              "    <span style=\"font-weight: bold\">{</span><span style=\"color: #008000; text-decoration-color: #008000\">'caption_ar'</span>: <span style=\"color: #008000; text-decoration-color: #008000\">'طفل يلعب على حبل'</span>, <span style=\"color: #008000; text-decoration-color: #008000\">'image_name'</span>: <span style=\"color: #008000; text-decoration-color: #008000\">'1007320043_627395c3d8.jpg'</span>, <span style=\"color: #008000; text-decoration-color: #008000\">'id'</span>: <span style=\"color: #008000; text-decoration-color: #008000\">'1007320043_627395c3d8'</span><span style=\"font-weight: bold\">}</span>,\n",
              "    <span style=\"font-weight: bold\">{</span>\n",
              "        <span style=\"color: #008000; text-decoration-color: #008000\">'caption_ar'</span>: <span style=\"color: #008000; text-decoration-color: #008000\">'كلب أبيض وأسود يركض في حديقة عشبية محاطة بسياج أبيض'</span>,\n",
              "        <span style=\"color: #008000; text-decoration-color: #008000\">'image_name'</span>: <span style=\"color: #008000; text-decoration-color: #008000\">'1009434119_febe49276a.jpg'</span>,\n",
              "        <span style=\"color: #008000; text-decoration-color: #008000\">'id'</span>: <span style=\"color: #008000; text-decoration-color: #008000\">'1009434119_febe49276a'</span>\n",
              "    <span style=\"font-weight: bold\">}</span>,\n",
              "    <span style=\"font-weight: bold\">{</span>\n",
              "        <span style=\"color: #008000; text-decoration-color: #008000\">'caption_ar'</span>: <span style=\"color: #008000; text-decoration-color: #008000\">'كلب يهز رأسه بالقرب من الشاطئ ، كرة حمراء بجانبه'</span>,\n",
              "        <span style=\"color: #008000; text-decoration-color: #008000\">'image_name'</span>: <span style=\"color: #008000; text-decoration-color: #008000\">'1012212859_01547e3f17.jpg'</span>,\n",
              "        <span style=\"color: #008000; text-decoration-color: #008000\">'id'</span>: <span style=\"color: #008000; text-decoration-color: #008000\">'1012212859_01547e3f17'</span>\n",
              "    <span style=\"font-weight: bold\">}</span>,\n",
              "    <span style=\"font-weight: bold\">{</span>\n",
              "        <span style=\"color: #008000; text-decoration-color: #008000\">'caption_ar'</span>: <span style=\"color: #008000; text-decoration-color: #008000\">'صبي يبتسم أمام حائط صخري في مدينة'</span>,\n",
              "        <span style=\"color: #008000; text-decoration-color: #008000\">'image_name'</span>: <span style=\"color: #008000; text-decoration-color: #008000\">'1015118661_980735411b.jpg'</span>,\n",
              "        <span style=\"color: #008000; text-decoration-color: #008000\">'id'</span>: <span style=\"color: #008000; text-decoration-color: #008000\">'1015118661_980735411b'</span>\n",
              "    <span style=\"font-weight: bold\">}</span>,\n",
              "    <span style=\"font-weight: bold\">{</span>\n",
              "        <span style=\"color: #008000; text-decoration-color: #008000\">'caption_ar'</span>: <span style=\"color: #008000; text-decoration-color: #008000\">'كلب أسود يقفز فوق الجذع'</span>,\n",
              "        <span style=\"color: #008000; text-decoration-color: #008000\">'image_name'</span>: <span style=\"color: #008000; text-decoration-color: #008000\">'1015584366_dfcec3c85a.jpg'</span>,\n",
              "        <span style=\"color: #008000; text-decoration-color: #008000\">'id'</span>: <span style=\"color: #008000; text-decoration-color: #008000\">'1015584366_dfcec3c85a'</span>\n",
              "    <span style=\"font-weight: bold\">}</span>,\n",
              "    <span style=\"font-weight: bold\">{</span>\n",
              "        <span style=\"color: #008000; text-decoration-color: #008000\">'caption_ar'</span>: <span style=\"color: #008000; text-decoration-color: #008000\">'كلب أبيض وأبيض يمر عبر الثلج'</span>,\n",
              "        <span style=\"color: #008000; text-decoration-color: #008000\">'image_name'</span>: <span style=\"color: #008000; text-decoration-color: #008000\">'101654506_8eb26cfb60.jpg'</span>,\n",
              "        <span style=\"color: #008000; text-decoration-color: #008000\">'id'</span>: <span style=\"color: #008000; text-decoration-color: #008000\">'101654506_8eb26cfb60'</span>\n",
              "    <span style=\"font-weight: bold\">}</span>,\n",
              "    <span style=\"font-weight: bold\">{</span>\n",
              "        <span style=\"color: #008000; text-decoration-color: #008000\">'caption_ar'</span>: <span style=\"color: #008000; text-decoration-color: #008000\">'رجل في القبعة يعرض صورًا بجوار أحد المتزلجين في قبعة زرقاء'</span>,\n",
              "        <span style=\"color: #008000; text-decoration-color: #008000\">'image_name'</span>: <span style=\"color: #008000; text-decoration-color: #008000\">'101669240_b2d3e7f17b.jpg'</span>,\n",
              "        <span style=\"color: #008000; text-decoration-color: #008000\">'id'</span>: <span style=\"color: #008000; text-decoration-color: #008000\">'101669240_b2d3e7f17b'</span>\n",
              "    <span style=\"font-weight: bold\">}</span>,\n",
              "    <span style=\"font-weight: bold\">{</span>\n",
              "        <span style=\"color: #008000; text-decoration-color: #008000\">'caption_ar'</span>: <span style=\"color: #008000; text-decoration-color: #008000\">'صور لشخص واحد يتسلق جرفًا'</span>,\n",
              "        <span style=\"color: #008000; text-decoration-color: #008000\">'image_name'</span>: <span style=\"color: #008000; text-decoration-color: #008000\">'1016887272_03199f49c4.jpg'</span>,\n",
              "        <span style=\"color: #008000; text-decoration-color: #008000\">'id'</span>: <span style=\"color: #008000; text-decoration-color: #008000\">'1016887272_03199f49c4'</span>\n",
              "    <span style=\"font-weight: bold\">}</span>,\n",
              "    <span style=\"font-weight: bold\">{</span>\n",
              "        <span style=\"color: #008000; text-decoration-color: #008000\">'caption_ar'</span>: <span style=\"color: #008000; text-decoration-color: #008000\">'كلب بني يطارد الماء على العشب'</span>,\n",
              "        <span style=\"color: #008000; text-decoration-color: #008000\">'image_name'</span>: <span style=\"color: #008000; text-decoration-color: #008000\">'1019077836_6fc9b15408.jpg'</span>,\n",
              "        <span style=\"color: #008000; text-decoration-color: #008000\">'id'</span>: <span style=\"color: #008000; text-decoration-color: #008000\">'1019077836_6fc9b15408'</span>\n",
              "    <span style=\"font-weight: bold\">}</span>,\n",
              "    <span style=\"font-weight: bold\">{</span>\n",
              "        <span style=\"color: #008000; text-decoration-color: #008000\">'caption_ar'</span>: <span style=\"color: #008000; text-decoration-color: #008000\">'كلب يستعد للقبض على جسم في حقل مع السيارات القريبة'</span>,\n",
              "        <span style=\"color: #008000; text-decoration-color: #008000\">'image_name'</span>: <span style=\"color: #008000; text-decoration-color: #008000\">'1019604187_d087bf9a5f.jpg'</span>,\n",
              "        <span style=\"color: #008000; text-decoration-color: #008000\">'id'</span>: <span style=\"color: #008000; text-decoration-color: #008000\">'1019604187_d087bf9a5f'</span>\n",
              "    <span style=\"font-weight: bold\">}</span>,\n",
              "    <span style=\"font-weight: bold\">{</span>\n",
              "        <span style=\"color: #008000; text-decoration-color: #008000\">'caption_ar'</span>: <span style=\"color: #008000; text-decoration-color: #008000\">'كلب أبيض وأسود يقفز في الهواء للحصول على لعبة'</span>,\n",
              "        <span style=\"color: #008000; text-decoration-color: #008000\">'image_name'</span>: <span style=\"color: #008000; text-decoration-color: #008000\">'1020651753_06077ec457.jpg'</span>,\n",
              "        <span style=\"color: #008000; text-decoration-color: #008000\">'id'</span>: <span style=\"color: #008000; text-decoration-color: #008000\">'1020651753_06077ec457'</span>\n",
              "    <span style=\"font-weight: bold\">}</span>,\n",
              "    <span style=\"font-weight: bold\">{</span>\n",
              "        <span style=\"color: #008000; text-decoration-color: #008000\">'caption_ar'</span>: <span style=\"color: #008000; text-decoration-color: #008000\">'طفل وامرأة على حافة المياه في مدينة كبيرة'</span>,\n",
              "        <span style=\"color: #008000; text-decoration-color: #008000\">'image_name'</span>: <span style=\"color: #008000; text-decoration-color: #008000\">'1022454332_6af2c1449a.jpg'</span>,\n",
              "        <span style=\"color: #008000; text-decoration-color: #008000\">'id'</span>: <span style=\"color: #008000; text-decoration-color: #008000\">'1022454332_6af2c1449a'</span>\n",
              "    <span style=\"font-weight: bold\">}</span>,\n",
              "    <span style=\"font-weight: bold\">{</span>\n",
              "        <span style=\"color: #008000; text-decoration-color: #008000\">'caption_ar'</span>: <span style=\"color: #008000; text-decoration-color: #008000\">'زوجان يجلسان على العشب مع رضيع وعربة أطفال'</span>,\n",
              "        <span style=\"color: #008000; text-decoration-color: #008000\">'image_name'</span>: <span style=\"color: #008000; text-decoration-color: #008000\">'1022454428_b6b660a67b.jpg'</span>,\n",
              "        <span style=\"color: #008000; text-decoration-color: #008000\">'id'</span>: <span style=\"color: #008000; text-decoration-color: #008000\">'1022454428_b6b660a67b'</span>\n",
              "    <span style=\"font-weight: bold\">}</span>,\n",
              "    <span style=\"font-weight: bold\">{</span><span style=\"color: #008000; text-decoration-color: #008000\">'caption_ar'</span>: <span style=\"color: #008000; text-decoration-color: #008000\">'كلب يقفز في الماء'</span>, <span style=\"color: #008000; text-decoration-color: #008000\">'image_name'</span>: <span style=\"color: #008000; text-decoration-color: #008000\">'1022975728_75515238d8.jpg'</span>, <span style=\"color: #008000; text-decoration-color: #008000\">'id'</span>: <span style=\"color: #008000; text-decoration-color: #008000\">'1022975728_75515238d8'</span><span style=\"font-weight: bold\">}</span>,\n",
              "    <span style=\"font-weight: bold\">{</span>\n",
              "        <span style=\"color: #008000; text-decoration-color: #008000\">'caption_ar'</span>: <span style=\"color: #008000; text-decoration-color: #008000\">'رجل يحفر حفرة في الجليد'</span>,\n",
              "        <span style=\"color: #008000; text-decoration-color: #008000\">'image_name'</span>: <span style=\"color: #008000; text-decoration-color: #008000\">'102351840_323e3de834.jpg'</span>,\n",
              "        <span style=\"color: #008000; text-decoration-color: #008000\">'id'</span>: <span style=\"color: #008000; text-decoration-color: #008000\">'102351840_323e3de834'</span>\n",
              "    <span style=\"font-weight: bold\">}</span>\n",
              "<span style=\"font-weight: bold\">]</span>\n",
              "</pre>\n"
            ],
            "text/plain": [
              "\u001b[1m[\u001b[0m\n",
              "    \u001b[1m{\u001b[0m\n",
              "        \u001b[32m'caption_ar'\u001b[0m: \u001b[32m'طفلة صغيرة تتسلق إلى مسرح خشبي'\u001b[0m,\n",
              "        \u001b[32m'image_name'\u001b[0m: \u001b[32m'1000268201_693b08cb0e.jpg'\u001b[0m,\n",
              "        \u001b[32m'id'\u001b[0m: \u001b[32m'1000268201_693b08cb0e'\u001b[0m\n",
              "    \u001b[1m}\u001b[0m,\n",
              "    \u001b[1m{\u001b[0m\n",
              "        \u001b[32m'caption_ar'\u001b[0m: \u001b[32m'كلب أسود وكلب ثلاثي الألوان يلعبان مع بعضهما البعض على الطريق'\u001b[0m,\n",
              "        \u001b[32m'image_name'\u001b[0m: \u001b[32m'1001773457_577c3a7d70.jpg'\u001b[0m,\n",
              "        \u001b[32m'id'\u001b[0m: \u001b[32m'1001773457_577c3a7d70'\u001b[0m\n",
              "    \u001b[1m}\u001b[0m,\n",
              "    \u001b[1m{\u001b[0m\n",
              "        \u001b[32m'caption_ar'\u001b[0m: \u001b[32m'فتاة صغيرة مغطاة بالطلاء تجلس أمام قوس قزح'\u001b[0m,\n",
              "        \u001b[32m'image_name'\u001b[0m: \u001b[32m'1002674143_1b742ab4b8.jpg'\u001b[0m,\n",
              "        \u001b[32m'id'\u001b[0m: \u001b[32m'1002674143_1b742ab4b8'\u001b[0m\n",
              "    \u001b[1m}\u001b[0m,\n",
              "    \u001b[1m{\u001b[0m\n",
              "        \u001b[32m'caption_ar'\u001b[0m: \u001b[32m'رجل يجلس على مقعد بينما يجلس كلبه بجانبه'\u001b[0m,\n",
              "        \u001b[32m'image_name'\u001b[0m: \u001b[32m'1003163366_44323f5815.jpg'\u001b[0m,\n",
              "        \u001b[32m'id'\u001b[0m: \u001b[32m'1003163366_44323f5815'\u001b[0m\n",
              "    \u001b[1m}\u001b[0m,\n",
              "    \u001b[1m{\u001b[0m\n",
              "        \u001b[32m'caption_ar'\u001b[0m: \u001b[32m'رجل يرتدي قبعة برتقالية'\u001b[0m,\n",
              "        \u001b[32m'image_name'\u001b[0m: \u001b[32m'1007129816_e794419615.jpg'\u001b[0m,\n",
              "        \u001b[32m'id'\u001b[0m: \u001b[32m'1007129816_e794419615'\u001b[0m\n",
              "    \u001b[1m}\u001b[0m,\n",
              "    \u001b[1m{\u001b[0m\u001b[32m'caption_ar'\u001b[0m: \u001b[32m'طفل يلعب على حبل'\u001b[0m, \u001b[32m'image_name'\u001b[0m: \u001b[32m'1007320043_627395c3d8.jpg'\u001b[0m, \u001b[32m'id'\u001b[0m: \u001b[32m'1007320043_627395c3d8'\u001b[0m\u001b[1m}\u001b[0m,\n",
              "    \u001b[1m{\u001b[0m\n",
              "        \u001b[32m'caption_ar'\u001b[0m: \u001b[32m'كلب أبيض وأسود يركض في حديقة عشبية محاطة بسياج أبيض'\u001b[0m,\n",
              "        \u001b[32m'image_name'\u001b[0m: \u001b[32m'1009434119_febe49276a.jpg'\u001b[0m,\n",
              "        \u001b[32m'id'\u001b[0m: \u001b[32m'1009434119_febe49276a'\u001b[0m\n",
              "    \u001b[1m}\u001b[0m,\n",
              "    \u001b[1m{\u001b[0m\n",
              "        \u001b[32m'caption_ar'\u001b[0m: \u001b[32m'كلب يهز رأسه بالقرب من الشاطئ ، كرة حمراء بجانبه'\u001b[0m,\n",
              "        \u001b[32m'image_name'\u001b[0m: \u001b[32m'1012212859_01547e3f17.jpg'\u001b[0m,\n",
              "        \u001b[32m'id'\u001b[0m: \u001b[32m'1012212859_01547e3f17'\u001b[0m\n",
              "    \u001b[1m}\u001b[0m,\n",
              "    \u001b[1m{\u001b[0m\n",
              "        \u001b[32m'caption_ar'\u001b[0m: \u001b[32m'صبي يبتسم أمام حائط صخري في مدينة'\u001b[0m,\n",
              "        \u001b[32m'image_name'\u001b[0m: \u001b[32m'1015118661_980735411b.jpg'\u001b[0m,\n",
              "        \u001b[32m'id'\u001b[0m: \u001b[32m'1015118661_980735411b'\u001b[0m\n",
              "    \u001b[1m}\u001b[0m,\n",
              "    \u001b[1m{\u001b[0m\n",
              "        \u001b[32m'caption_ar'\u001b[0m: \u001b[32m'كلب أسود يقفز فوق الجذع'\u001b[0m,\n",
              "        \u001b[32m'image_name'\u001b[0m: \u001b[32m'1015584366_dfcec3c85a.jpg'\u001b[0m,\n",
              "        \u001b[32m'id'\u001b[0m: \u001b[32m'1015584366_dfcec3c85a'\u001b[0m\n",
              "    \u001b[1m}\u001b[0m,\n",
              "    \u001b[1m{\u001b[0m\n",
              "        \u001b[32m'caption_ar'\u001b[0m: \u001b[32m'كلب أبيض وأبيض يمر عبر الثلج'\u001b[0m,\n",
              "        \u001b[32m'image_name'\u001b[0m: \u001b[32m'101654506_8eb26cfb60.jpg'\u001b[0m,\n",
              "        \u001b[32m'id'\u001b[0m: \u001b[32m'101654506_8eb26cfb60'\u001b[0m\n",
              "    \u001b[1m}\u001b[0m,\n",
              "    \u001b[1m{\u001b[0m\n",
              "        \u001b[32m'caption_ar'\u001b[0m: \u001b[32m'رجل في القبعة يعرض صورًا بجوار أحد المتزلجين في قبعة زرقاء'\u001b[0m,\n",
              "        \u001b[32m'image_name'\u001b[0m: \u001b[32m'101669240_b2d3e7f17b.jpg'\u001b[0m,\n",
              "        \u001b[32m'id'\u001b[0m: \u001b[32m'101669240_b2d3e7f17b'\u001b[0m\n",
              "    \u001b[1m}\u001b[0m,\n",
              "    \u001b[1m{\u001b[0m\n",
              "        \u001b[32m'caption_ar'\u001b[0m: \u001b[32m'صور لشخص واحد يتسلق جرفًا'\u001b[0m,\n",
              "        \u001b[32m'image_name'\u001b[0m: \u001b[32m'1016887272_03199f49c4.jpg'\u001b[0m,\n",
              "        \u001b[32m'id'\u001b[0m: \u001b[32m'1016887272_03199f49c4'\u001b[0m\n",
              "    \u001b[1m}\u001b[0m,\n",
              "    \u001b[1m{\u001b[0m\n",
              "        \u001b[32m'caption_ar'\u001b[0m: \u001b[32m'كلب بني يطارد الماء على العشب'\u001b[0m,\n",
              "        \u001b[32m'image_name'\u001b[0m: \u001b[32m'1019077836_6fc9b15408.jpg'\u001b[0m,\n",
              "        \u001b[32m'id'\u001b[0m: \u001b[32m'1019077836_6fc9b15408'\u001b[0m\n",
              "    \u001b[1m}\u001b[0m,\n",
              "    \u001b[1m{\u001b[0m\n",
              "        \u001b[32m'caption_ar'\u001b[0m: \u001b[32m'كلب يستعد للقبض على جسم في حقل مع السيارات القريبة'\u001b[0m,\n",
              "        \u001b[32m'image_name'\u001b[0m: \u001b[32m'1019604187_d087bf9a5f.jpg'\u001b[0m,\n",
              "        \u001b[32m'id'\u001b[0m: \u001b[32m'1019604187_d087bf9a5f'\u001b[0m\n",
              "    \u001b[1m}\u001b[0m,\n",
              "    \u001b[1m{\u001b[0m\n",
              "        \u001b[32m'caption_ar'\u001b[0m: \u001b[32m'كلب أبيض وأسود يقفز في الهواء للحصول على لعبة'\u001b[0m,\n",
              "        \u001b[32m'image_name'\u001b[0m: \u001b[32m'1020651753_06077ec457.jpg'\u001b[0m,\n",
              "        \u001b[32m'id'\u001b[0m: \u001b[32m'1020651753_06077ec457'\u001b[0m\n",
              "    \u001b[1m}\u001b[0m,\n",
              "    \u001b[1m{\u001b[0m\n",
              "        \u001b[32m'caption_ar'\u001b[0m: \u001b[32m'طفل وامرأة على حافة المياه في مدينة كبيرة'\u001b[0m,\n",
              "        \u001b[32m'image_name'\u001b[0m: \u001b[32m'1022454332_6af2c1449a.jpg'\u001b[0m,\n",
              "        \u001b[32m'id'\u001b[0m: \u001b[32m'1022454332_6af2c1449a'\u001b[0m\n",
              "    \u001b[1m}\u001b[0m,\n",
              "    \u001b[1m{\u001b[0m\n",
              "        \u001b[32m'caption_ar'\u001b[0m: \u001b[32m'زوجان يجلسان على العشب مع رضيع وعربة أطفال'\u001b[0m,\n",
              "        \u001b[32m'image_name'\u001b[0m: \u001b[32m'1022454428_b6b660a67b.jpg'\u001b[0m,\n",
              "        \u001b[32m'id'\u001b[0m: \u001b[32m'1022454428_b6b660a67b'\u001b[0m\n",
              "    \u001b[1m}\u001b[0m,\n",
              "    \u001b[1m{\u001b[0m\u001b[32m'caption_ar'\u001b[0m: \u001b[32m'كلب يقفز في الماء'\u001b[0m, \u001b[32m'image_name'\u001b[0m: \u001b[32m'1022975728_75515238d8.jpg'\u001b[0m, \u001b[32m'id'\u001b[0m: \u001b[32m'1022975728_75515238d8'\u001b[0m\u001b[1m}\u001b[0m,\n",
              "    \u001b[1m{\u001b[0m\n",
              "        \u001b[32m'caption_ar'\u001b[0m: \u001b[32m'رجل يحفر حفرة في الجليد'\u001b[0m,\n",
              "        \u001b[32m'image_name'\u001b[0m: \u001b[32m'102351840_323e3de834.jpg'\u001b[0m,\n",
              "        \u001b[32m'id'\u001b[0m: \u001b[32m'102351840_323e3de834'\u001b[0m\n",
              "    \u001b[1m}\u001b[0m\n",
              "\u001b[1m]\u001b[0m\n"
            ]
          },
          "metadata": {},
          "output_type": "display_data"
        }
      ],
      "source": [
        "# data = [\n",
        "#     {'image_id': 0, 'id': 391895, 'caption': 'رجل يرتدي خوذة حمراء على دراجة بخارية صغيرة على طريق ترابي'},\n",
        "#     {'image_id': 1, 'id': 522418, 'caption': 'امرأة ترتدي شبكة على رأسها تقطع كعكة'},\n",
        "#     {'image_id': 2, 'id': 184613, 'caption': 'طفل يحمل مظلة مزهرة ويأكل ثورًا'},\n",
        "# ]\n",
        "\n",
        "# Sort the list of dictionaries based on the 'id' key\n",
        "sorted_data = sorted(data, key=lambda x: x['id'])\n",
        "\n",
        "print(sorted_data[:20])\n",
        "# # Print the sorted list\n",
        "# for item in sorted_data:\n",
        "#     print(item)"
      ]
    },
    {
      "cell_type": "code",
      "execution_count": 50,
      "metadata": {},
      "outputs": [
        {
          "data": {
            "text/plain": [
              "[{'caption_ar': 'رجل يفعل حركة بهلوانية بالدراجة على دراجة جبلية',\n",
              "  'image_name': '990890291_afc72be141.jpg',\n",
              "  'id': '990890291_afc72be141'},\n",
              " {'caption_ar': 'مجموعة تجلس حول صدع ثلجي',\n",
              "  'image_name': '99171998_7cc800ceef.jpg',\n",
              "  'id': '99171998_7cc800ceef'},\n",
              " {'caption_ar': 'طائر رمادي يقف بشكل مهيب على الشاطئ بينما تتدحرج الأمواج',\n",
              "  'image_name': '99679241_adc853a5c0.jpg',\n",
              "  'id': '99679241_adc853a5c0'},\n",
              " {'caption_ar': 'يقف الشخص بالقرب من الجدران الذهبية',\n",
              "  'image_name': '997338199_7343367d7f.jpg',\n",
              "  'id': '997338199_7343367d7f'},\n",
              " {'caption_ar': 'رجل يرتدي قميصًا ورديًا يتسلق وجهًا صخريًا',\n",
              "  'image_name': '997722733_0cb5439472.jpg',\n",
              "  'id': '997722733_0cb5439472'}]"
            ]
          },
          "execution_count": 50,
          "metadata": {},
          "output_type": "execute_result"
        }
      ],
      "source": [
        "sorted_data[-5:]"
      ]
    },
    {
      "cell_type": "code",
      "execution_count": 51,
      "metadata": {},
      "outputs": [],
      "source": [
        "# get only 10 examples\n",
        "# sorted_data"
      ]
    },
    {
      "cell_type": "code",
      "execution_count": 52,
      "metadata": {},
      "outputs": [
        {
          "data": {
            "text/plain": [
              "8091"
            ]
          },
          "execution_count": 52,
          "metadata": {},
          "output_type": "execute_result"
        }
      ],
      "source": [
        "len(sorted_data)"
      ]
    },
    {
      "cell_type": "code",
      "execution_count": 53,
      "metadata": {},
      "outputs": [
        {
          "data": {
            "text/html": [
              "<pre style=\"white-space:pre;overflow-x:auto;line-height:normal;font-family:Menlo,'DejaVu Sans Mono',consolas,'Courier New',monospace\"><span style=\"font-weight: bold\">[</span>\n",
              "    <span style=\"font-weight: bold\">{</span>\n",
              "        <span style=\"color: #008000; text-decoration-color: #008000\">'caption_ar'</span>: <span style=\"color: #008000; text-decoration-color: #008000\">'طفلة صغيرة تتسلق إلى مسرح خشبي'</span>,\n",
              "        <span style=\"color: #008000; text-decoration-color: #008000\">'image_name'</span>: <span style=\"color: #008000; text-decoration-color: #008000\">'1000268201_693b08cb0e.jpg'</span>,\n",
              "        <span style=\"color: #008000; text-decoration-color: #008000\">'id'</span>: <span style=\"color: #008000; text-decoration-color: #008000\">'1000268201_693b08cb0e'</span>\n",
              "    <span style=\"font-weight: bold\">}</span>,\n",
              "    <span style=\"font-weight: bold\">{</span>\n",
              "        <span style=\"color: #008000; text-decoration-color: #008000\">'caption_ar'</span>: <span style=\"color: #008000; text-decoration-color: #008000\">'كلب أسود وكلب ثلاثي الألوان يلعبان مع بعضهما البعض على الطريق'</span>,\n",
              "        <span style=\"color: #008000; text-decoration-color: #008000\">'image_name'</span>: <span style=\"color: #008000; text-decoration-color: #008000\">'1001773457_577c3a7d70.jpg'</span>,\n",
              "        <span style=\"color: #008000; text-decoration-color: #008000\">'id'</span>: <span style=\"color: #008000; text-decoration-color: #008000\">'1001773457_577c3a7d70'</span>\n",
              "    <span style=\"font-weight: bold\">}</span>,\n",
              "    <span style=\"font-weight: bold\">{</span>\n",
              "        <span style=\"color: #008000; text-decoration-color: #008000\">'caption_ar'</span>: <span style=\"color: #008000; text-decoration-color: #008000\">'فتاة صغيرة مغطاة بالطلاء تجلس أمام قوس قزح'</span>,\n",
              "        <span style=\"color: #008000; text-decoration-color: #008000\">'image_name'</span>: <span style=\"color: #008000; text-decoration-color: #008000\">'1002674143_1b742ab4b8.jpg'</span>,\n",
              "        <span style=\"color: #008000; text-decoration-color: #008000\">'id'</span>: <span style=\"color: #008000; text-decoration-color: #008000\">'1002674143_1b742ab4b8'</span>\n",
              "    <span style=\"font-weight: bold\">}</span>,\n",
              "    <span style=\"font-weight: bold\">{</span>\n",
              "        <span style=\"color: #008000; text-decoration-color: #008000\">'caption_ar'</span>: <span style=\"color: #008000; text-decoration-color: #008000\">'رجل يجلس على مقعد بينما يجلس كلبه بجانبه'</span>,\n",
              "        <span style=\"color: #008000; text-decoration-color: #008000\">'image_name'</span>: <span style=\"color: #008000; text-decoration-color: #008000\">'1003163366_44323f5815.jpg'</span>,\n",
              "        <span style=\"color: #008000; text-decoration-color: #008000\">'id'</span>: <span style=\"color: #008000; text-decoration-color: #008000\">'1003163366_44323f5815'</span>\n",
              "    <span style=\"font-weight: bold\">}</span>,\n",
              "    <span style=\"font-weight: bold\">{</span>\n",
              "        <span style=\"color: #008000; text-decoration-color: #008000\">'caption_ar'</span>: <span style=\"color: #008000; text-decoration-color: #008000\">'رجل يرتدي قبعة برتقالية'</span>,\n",
              "        <span style=\"color: #008000; text-decoration-color: #008000\">'image_name'</span>: <span style=\"color: #008000; text-decoration-color: #008000\">'1007129816_e794419615.jpg'</span>,\n",
              "        <span style=\"color: #008000; text-decoration-color: #008000\">'id'</span>: <span style=\"color: #008000; text-decoration-color: #008000\">'1007129816_e794419615'</span>\n",
              "    <span style=\"font-weight: bold\">}</span>,\n",
              "    <span style=\"font-weight: bold\">{</span><span style=\"color: #008000; text-decoration-color: #008000\">'caption_ar'</span>: <span style=\"color: #008000; text-decoration-color: #008000\">'طفل يلعب على حبل'</span>, <span style=\"color: #008000; text-decoration-color: #008000\">'image_name'</span>: <span style=\"color: #008000; text-decoration-color: #008000\">'1007320043_627395c3d8.jpg'</span>, <span style=\"color: #008000; text-decoration-color: #008000\">'id'</span>: <span style=\"color: #008000; text-decoration-color: #008000\">'1007320043_627395c3d8'</span><span style=\"font-weight: bold\">}</span>,\n",
              "    <span style=\"font-weight: bold\">{</span>\n",
              "        <span style=\"color: #008000; text-decoration-color: #008000\">'caption_ar'</span>: <span style=\"color: #008000; text-decoration-color: #008000\">'كلب أبيض وأسود يركض في حديقة عشبية محاطة بسياج أبيض'</span>,\n",
              "        <span style=\"color: #008000; text-decoration-color: #008000\">'image_name'</span>: <span style=\"color: #008000; text-decoration-color: #008000\">'1009434119_febe49276a.jpg'</span>,\n",
              "        <span style=\"color: #008000; text-decoration-color: #008000\">'id'</span>: <span style=\"color: #008000; text-decoration-color: #008000\">'1009434119_febe49276a'</span>\n",
              "    <span style=\"font-weight: bold\">}</span>,\n",
              "    <span style=\"font-weight: bold\">{</span>\n",
              "        <span style=\"color: #008000; text-decoration-color: #008000\">'caption_ar'</span>: <span style=\"color: #008000; text-decoration-color: #008000\">'كلب يهز رأسه بالقرب من الشاطئ ، كرة حمراء بجانبه'</span>,\n",
              "        <span style=\"color: #008000; text-decoration-color: #008000\">'image_name'</span>: <span style=\"color: #008000; text-decoration-color: #008000\">'1012212859_01547e3f17.jpg'</span>,\n",
              "        <span style=\"color: #008000; text-decoration-color: #008000\">'id'</span>: <span style=\"color: #008000; text-decoration-color: #008000\">'1012212859_01547e3f17'</span>\n",
              "    <span style=\"font-weight: bold\">}</span>,\n",
              "    <span style=\"font-weight: bold\">{</span>\n",
              "        <span style=\"color: #008000; text-decoration-color: #008000\">'caption_ar'</span>: <span style=\"color: #008000; text-decoration-color: #008000\">'صبي يبتسم أمام حائط صخري في مدينة'</span>,\n",
              "        <span style=\"color: #008000; text-decoration-color: #008000\">'image_name'</span>: <span style=\"color: #008000; text-decoration-color: #008000\">'1015118661_980735411b.jpg'</span>,\n",
              "        <span style=\"color: #008000; text-decoration-color: #008000\">'id'</span>: <span style=\"color: #008000; text-decoration-color: #008000\">'1015118661_980735411b'</span>\n",
              "    <span style=\"font-weight: bold\">}</span>,\n",
              "    <span style=\"font-weight: bold\">{</span>\n",
              "        <span style=\"color: #008000; text-decoration-color: #008000\">'caption_ar'</span>: <span style=\"color: #008000; text-decoration-color: #008000\">'كلب أسود يقفز فوق الجذع'</span>,\n",
              "        <span style=\"color: #008000; text-decoration-color: #008000\">'image_name'</span>: <span style=\"color: #008000; text-decoration-color: #008000\">'1015584366_dfcec3c85a.jpg'</span>,\n",
              "        <span style=\"color: #008000; text-decoration-color: #008000\">'id'</span>: <span style=\"color: #008000; text-decoration-color: #008000\">'1015584366_dfcec3c85a'</span>\n",
              "    <span style=\"font-weight: bold\">}</span>\n",
              "<span style=\"font-weight: bold\">]</span>\n",
              "</pre>\n"
            ],
            "text/plain": [
              "\u001b[1m[\u001b[0m\n",
              "    \u001b[1m{\u001b[0m\n",
              "        \u001b[32m'caption_ar'\u001b[0m: \u001b[32m'طفلة صغيرة تتسلق إلى مسرح خشبي'\u001b[0m,\n",
              "        \u001b[32m'image_name'\u001b[0m: \u001b[32m'1000268201_693b08cb0e.jpg'\u001b[0m,\n",
              "        \u001b[32m'id'\u001b[0m: \u001b[32m'1000268201_693b08cb0e'\u001b[0m\n",
              "    \u001b[1m}\u001b[0m,\n",
              "    \u001b[1m{\u001b[0m\n",
              "        \u001b[32m'caption_ar'\u001b[0m: \u001b[32m'كلب أسود وكلب ثلاثي الألوان يلعبان مع بعضهما البعض على الطريق'\u001b[0m,\n",
              "        \u001b[32m'image_name'\u001b[0m: \u001b[32m'1001773457_577c3a7d70.jpg'\u001b[0m,\n",
              "        \u001b[32m'id'\u001b[0m: \u001b[32m'1001773457_577c3a7d70'\u001b[0m\n",
              "    \u001b[1m}\u001b[0m,\n",
              "    \u001b[1m{\u001b[0m\n",
              "        \u001b[32m'caption_ar'\u001b[0m: \u001b[32m'فتاة صغيرة مغطاة بالطلاء تجلس أمام قوس قزح'\u001b[0m,\n",
              "        \u001b[32m'image_name'\u001b[0m: \u001b[32m'1002674143_1b742ab4b8.jpg'\u001b[0m,\n",
              "        \u001b[32m'id'\u001b[0m: \u001b[32m'1002674143_1b742ab4b8'\u001b[0m\n",
              "    \u001b[1m}\u001b[0m,\n",
              "    \u001b[1m{\u001b[0m\n",
              "        \u001b[32m'caption_ar'\u001b[0m: \u001b[32m'رجل يجلس على مقعد بينما يجلس كلبه بجانبه'\u001b[0m,\n",
              "        \u001b[32m'image_name'\u001b[0m: \u001b[32m'1003163366_44323f5815.jpg'\u001b[0m,\n",
              "        \u001b[32m'id'\u001b[0m: \u001b[32m'1003163366_44323f5815'\u001b[0m\n",
              "    \u001b[1m}\u001b[0m,\n",
              "    \u001b[1m{\u001b[0m\n",
              "        \u001b[32m'caption_ar'\u001b[0m: \u001b[32m'رجل يرتدي قبعة برتقالية'\u001b[0m,\n",
              "        \u001b[32m'image_name'\u001b[0m: \u001b[32m'1007129816_e794419615.jpg'\u001b[0m,\n",
              "        \u001b[32m'id'\u001b[0m: \u001b[32m'1007129816_e794419615'\u001b[0m\n",
              "    \u001b[1m}\u001b[0m,\n",
              "    \u001b[1m{\u001b[0m\u001b[32m'caption_ar'\u001b[0m: \u001b[32m'طفل يلعب على حبل'\u001b[0m, \u001b[32m'image_name'\u001b[0m: \u001b[32m'1007320043_627395c3d8.jpg'\u001b[0m, \u001b[32m'id'\u001b[0m: \u001b[32m'1007320043_627395c3d8'\u001b[0m\u001b[1m}\u001b[0m,\n",
              "    \u001b[1m{\u001b[0m\n",
              "        \u001b[32m'caption_ar'\u001b[0m: \u001b[32m'كلب أبيض وأسود يركض في حديقة عشبية محاطة بسياج أبيض'\u001b[0m,\n",
              "        \u001b[32m'image_name'\u001b[0m: \u001b[32m'1009434119_febe49276a.jpg'\u001b[0m,\n",
              "        \u001b[32m'id'\u001b[0m: \u001b[32m'1009434119_febe49276a'\u001b[0m\n",
              "    \u001b[1m}\u001b[0m,\n",
              "    \u001b[1m{\u001b[0m\n",
              "        \u001b[32m'caption_ar'\u001b[0m: \u001b[32m'كلب يهز رأسه بالقرب من الشاطئ ، كرة حمراء بجانبه'\u001b[0m,\n",
              "        \u001b[32m'image_name'\u001b[0m: \u001b[32m'1012212859_01547e3f17.jpg'\u001b[0m,\n",
              "        \u001b[32m'id'\u001b[0m: \u001b[32m'1012212859_01547e3f17'\u001b[0m\n",
              "    \u001b[1m}\u001b[0m,\n",
              "    \u001b[1m{\u001b[0m\n",
              "        \u001b[32m'caption_ar'\u001b[0m: \u001b[32m'صبي يبتسم أمام حائط صخري في مدينة'\u001b[0m,\n",
              "        \u001b[32m'image_name'\u001b[0m: \u001b[32m'1015118661_980735411b.jpg'\u001b[0m,\n",
              "        \u001b[32m'id'\u001b[0m: \u001b[32m'1015118661_980735411b'\u001b[0m\n",
              "    \u001b[1m}\u001b[0m,\n",
              "    \u001b[1m{\u001b[0m\n",
              "        \u001b[32m'caption_ar'\u001b[0m: \u001b[32m'كلب أسود يقفز فوق الجذع'\u001b[0m,\n",
              "        \u001b[32m'image_name'\u001b[0m: \u001b[32m'1015584366_dfcec3c85a.jpg'\u001b[0m,\n",
              "        \u001b[32m'id'\u001b[0m: \u001b[32m'1015584366_dfcec3c85a'\u001b[0m\n",
              "    \u001b[1m}\u001b[0m\n",
              "\u001b[1m]\u001b[0m\n"
            ]
          },
          "metadata": {},
          "output_type": "display_data"
        }
      ],
      "source": [
        "print(sorted_data[:10])"
      ]
    },
    {
      "cell_type": "code",
      "execution_count": 54,
      "metadata": {},
      "outputs": [],
      "source": [
        "image_name_list = []\n",
        "\n",
        "for lin in sorted_data:\n",
        "    # print(lin[\"image_name\"])\n",
        "    image_name_list.append(lin[\"image_name\"])"
      ]
    },
    {
      "cell_type": "code",
      "execution_count": 55,
      "metadata": {},
      "outputs": [
        {
          "data": {
            "text/html": [
              "<pre style=\"white-space:pre;overflow-x:auto;line-height:normal;font-family:Menlo,'DejaVu Sans Mono',consolas,'Courier New',monospace\"><span style=\"font-weight: bold\">[</span>\n",
              "    <span style=\"color: #008000; text-decoration-color: #008000\">'1000268201_693b08cb0e.jpg'</span>,\n",
              "    <span style=\"color: #008000; text-decoration-color: #008000\">'1001773457_577c3a7d70.jpg'</span>,\n",
              "    <span style=\"color: #008000; text-decoration-color: #008000\">'1002674143_1b742ab4b8.jpg'</span>,\n",
              "    <span style=\"color: #008000; text-decoration-color: #008000\">'1003163366_44323f5815.jpg'</span>,\n",
              "    <span style=\"color: #008000; text-decoration-color: #008000\">'1007129816_e794419615.jpg'</span>,\n",
              "    <span style=\"color: #008000; text-decoration-color: #008000\">'1007320043_627395c3d8.jpg'</span>,\n",
              "    <span style=\"color: #008000; text-decoration-color: #008000\">'1009434119_febe49276a.jpg'</span>,\n",
              "    <span style=\"color: #008000; text-decoration-color: #008000\">'1012212859_01547e3f17.jpg'</span>,\n",
              "    <span style=\"color: #008000; text-decoration-color: #008000\">'1015118661_980735411b.jpg'</span>,\n",
              "    <span style=\"color: #008000; text-decoration-color: #008000\">'1015584366_dfcec3c85a.jpg'</span>,\n",
              "    <span style=\"color: #008000; text-decoration-color: #008000\">'101654506_8eb26cfb60.jpg'</span>,\n",
              "    <span style=\"color: #008000; text-decoration-color: #008000\">'101669240_b2d3e7f17b.jpg'</span>,\n",
              "    <span style=\"color: #008000; text-decoration-color: #008000\">'1016887272_03199f49c4.jpg'</span>,\n",
              "    <span style=\"color: #008000; text-decoration-color: #008000\">'1019077836_6fc9b15408.jpg'</span>,\n",
              "    <span style=\"color: #008000; text-decoration-color: #008000\">'1019604187_d087bf9a5f.jpg'</span>,\n",
              "    <span style=\"color: #008000; text-decoration-color: #008000\">'1020651753_06077ec457.jpg'</span>,\n",
              "    <span style=\"color: #008000; text-decoration-color: #008000\">'1022454332_6af2c1449a.jpg'</span>,\n",
              "    <span style=\"color: #008000; text-decoration-color: #008000\">'1022454428_b6b660a67b.jpg'</span>,\n",
              "    <span style=\"color: #008000; text-decoration-color: #008000\">'1022975728_75515238d8.jpg'</span>,\n",
              "    <span style=\"color: #008000; text-decoration-color: #008000\">'102351840_323e3de834.jpg'</span>\n",
              "<span style=\"font-weight: bold\">]</span>\n",
              "</pre>\n"
            ],
            "text/plain": [
              "\u001b[1m[\u001b[0m\n",
              "    \u001b[32m'1000268201_693b08cb0e.jpg'\u001b[0m,\n",
              "    \u001b[32m'1001773457_577c3a7d70.jpg'\u001b[0m,\n",
              "    \u001b[32m'1002674143_1b742ab4b8.jpg'\u001b[0m,\n",
              "    \u001b[32m'1003163366_44323f5815.jpg'\u001b[0m,\n",
              "    \u001b[32m'1007129816_e794419615.jpg'\u001b[0m,\n",
              "    \u001b[32m'1007320043_627395c3d8.jpg'\u001b[0m,\n",
              "    \u001b[32m'1009434119_febe49276a.jpg'\u001b[0m,\n",
              "    \u001b[32m'1012212859_01547e3f17.jpg'\u001b[0m,\n",
              "    \u001b[32m'1015118661_980735411b.jpg'\u001b[0m,\n",
              "    \u001b[32m'1015584366_dfcec3c85a.jpg'\u001b[0m,\n",
              "    \u001b[32m'101654506_8eb26cfb60.jpg'\u001b[0m,\n",
              "    \u001b[32m'101669240_b2d3e7f17b.jpg'\u001b[0m,\n",
              "    \u001b[32m'1016887272_03199f49c4.jpg'\u001b[0m,\n",
              "    \u001b[32m'1019077836_6fc9b15408.jpg'\u001b[0m,\n",
              "    \u001b[32m'1019604187_d087bf9a5f.jpg'\u001b[0m,\n",
              "    \u001b[32m'1020651753_06077ec457.jpg'\u001b[0m,\n",
              "    \u001b[32m'1022454332_6af2c1449a.jpg'\u001b[0m,\n",
              "    \u001b[32m'1022454428_b6b660a67b.jpg'\u001b[0m,\n",
              "    \u001b[32m'1022975728_75515238d8.jpg'\u001b[0m,\n",
              "    \u001b[32m'102351840_323e3de834.jpg'\u001b[0m\n",
              "\u001b[1m]\u001b[0m\n"
            ]
          },
          "metadata": {},
          "output_type": "display_data"
        }
      ],
      "source": [
        "print(image_name_list[:20])"
      ]
    },
    {
      "cell_type": "code",
      "execution_count": 56,
      "metadata": {},
      "outputs": [
        {
          "data": {
            "text/plain": [
              "{'caption_ar': 'طفلة صغيرة تتسلق إلى مسرح خشبي',\n",
              " 'image_name': '1000268201_693b08cb0e.jpg',\n",
              " 'id': '1000268201_693b08cb0e'}"
            ]
          },
          "execution_count": 56,
          "metadata": {},
          "output_type": "execute_result"
        }
      ],
      "source": [
        "sorted_data[0]"
      ]
    },
    {
      "cell_type": "code",
      "execution_count": 57,
      "metadata": {},
      "outputs": [],
      "source": [
        "# Create a mapping dictionary between the ids and paths\n",
        "\n",
        "id2path = {}\n",
        "\n",
        "\n",
        "for im_path, sort_sample in zip(image_name_list, sorted_data):\n",
        "\n",
        "\n",
        "    # print(json.loads(lin)[\"text\"])\n",
        "    # print(im_path.split(\"_\")[-1].split(\".\")[0])\n",
        "\n",
        "    input_str = im_path.split(\".\")[0]\n",
        "\n",
        "    # Check the ids\n",
        "\n",
        "    if sort_sample['id'] != input_str:\n",
        "        print(\"stop ........................................................\")\n",
        "    id2path[input_str] = im_path\n",
        "\n",
        "    # print(result)"
      ]
    },
    {
      "cell_type": "code",
      "execution_count": 58,
      "metadata": {},
      "outputs": [
        {
          "data": {
            "text/plain": [
              "{'1000268201_693b08cb0e': '1000268201_693b08cb0e.jpg',\n",
              " '1001773457_577c3a7d70': '1001773457_577c3a7d70.jpg',\n",
              " '1002674143_1b742ab4b8': '1002674143_1b742ab4b8.jpg',\n",
              " '1003163366_44323f5815': '1003163366_44323f5815.jpg',\n",
              " '1007129816_e794419615': '1007129816_e794419615.jpg',\n",
              " '1007320043_627395c3d8': '1007320043_627395c3d8.jpg',\n",
              " '1009434119_febe49276a': '1009434119_febe49276a.jpg',\n",
              " '1012212859_01547e3f17': '1012212859_01547e3f17.jpg',\n",
              " '1015118661_980735411b': '1015118661_980735411b.jpg',\n",
              " '1015584366_dfcec3c85a': '1015584366_dfcec3c85a.jpg',\n",
              " '101654506_8eb26cfb60': '101654506_8eb26cfb60.jpg',\n",
              " '101669240_b2d3e7f17b': '101669240_b2d3e7f17b.jpg',\n",
              " '1016887272_03199f49c4': '1016887272_03199f49c4.jpg',\n",
              " '1019077836_6fc9b15408': '1019077836_6fc9b15408.jpg',\n",
              " '1019604187_d087bf9a5f': '1019604187_d087bf9a5f.jpg',\n",
              " '1020651753_06077ec457': '1020651753_06077ec457.jpg',\n",
              " '1022454332_6af2c1449a': '1022454332_6af2c1449a.jpg',\n",
              " '1022454428_b6b660a67b': '1022454428_b6b660a67b.jpg',\n",
              " '1022975728_75515238d8': '1022975728_75515238d8.jpg',\n",
              " '102351840_323e3de834': '102351840_323e3de834.jpg',\n",
              " '1024138940_f1fefbdce1': '1024138940_f1fefbdce1.jpg',\n",
              " '102455176_5f8ead62d5': '102455176_5f8ead62d5.jpg',\n",
              " '1026685415_0431cbf574': '1026685415_0431cbf574.jpg',\n",
              " '1028205764_7e8df9a2ea': '1028205764_7e8df9a2ea.jpg',\n",
              " '1030985833_b0902ea560': '1030985833_b0902ea560.jpg',\n",
              " '103106960_e8a41d64f8': '103106960_e8a41d64f8.jpg',\n",
              " '103195344_5d2dc613a3': '103195344_5d2dc613a3.jpg',\n",
              " '103205630_682ca7285b': '103205630_682ca7285b.jpg',\n",
              " '1032122270_ea6f0beedb': '1032122270_ea6f0beedb.jpg',\n",
              " '1032460886_4a598ed535': '1032460886_4a598ed535.jpg',\n",
              " '1034276567_49bb87c51c': '1034276567_49bb87c51c.jpg',\n",
              " '104136873_5b5d41be75': '104136873_5b5d41be75.jpg',\n",
              " '1042020065_fb3d3ba5ba': '1042020065_fb3d3ba5ba.jpg',\n",
              " '1042590306_95dea0916c': '1042590306_95dea0916c.jpg',\n",
              " '1045521051_108ebc19be': '1045521051_108ebc19be.jpg',\n",
              " '1048710776_bb5b0a5c7c': '1048710776_bb5b0a5c7c.jpg',\n",
              " '1052358063_eae6744153': '1052358063_eae6744153.jpg',\n",
              " '105342180_4d4a40b47f': '105342180_4d4a40b47f.jpg',\n",
              " '1053804096_ad278b25f1': '1053804096_ad278b25f1.jpg',\n",
              " '1055623002_8195a43714': '1055623002_8195a43714.jpg',\n",
              " '1055753357_4fa3d8d693': '1055753357_4fa3d8d693.jpg',\n",
              " '1056249424_ef2a2e041c': '1056249424_ef2a2e041c.jpg',\n",
              " '1056338697_4f7d7ce270': '1056338697_4f7d7ce270.jpg',\n",
              " '1056359656_662cee0814': '1056359656_662cee0814.jpg',\n",
              " '1056873310_49c665eb22': '1056873310_49c665eb22.jpg',\n",
              " '1057089366_ca83da0877': '1057089366_ca83da0877.jpg',\n",
              " '1057210460_09c6f4c6c1': '1057210460_09c6f4c6c1.jpg',\n",
              " '1057251835_6ded4ada9c': '1057251835_6ded4ada9c.jpg',\n",
              " '106490881_5a2dd9b7bd': '106490881_5a2dd9b7bd.jpg',\n",
              " '106514190_bae200f463': '106514190_bae200f463.jpg',\n",
              " '1067180831_a59dc64344': '1067180831_a59dc64344.jpg',\n",
              " '1067675215_7336a694d6': '1067675215_7336a694d6.jpg',\n",
              " '1067790824_f3cc97239b': '1067790824_f3cc97239b.jpg',\n",
              " '1072153132_53d2bb1b60': '1072153132_53d2bb1b60.jpg',\n",
              " '107318069_e9f2ef32de': '107318069_e9f2ef32de.jpg',\n",
              " '1075716537_62105738b4': '1075716537_62105738b4.jpg',\n",
              " '107582366_d86f2d3347': '107582366_d86f2d3347.jpg',\n",
              " '1075867198_27ca2e7efe': '1075867198_27ca2e7efe.jpg',\n",
              " '1075881101_d55c46bece': '1075881101_d55c46bece.jpg',\n",
              " '1077546505_a4f6c4daa9': '1077546505_a4f6c4daa9.jpg',\n",
              " '1077931201_1e0bb83105': '1077931201_1e0bb83105.jpg',\n",
              " '1079274291_9aaf896cc1': '1079274291_9aaf896cc1.jpg',\n",
              " '10815824_2997e03d76': '10815824_2997e03d76.jpg',\n",
              " '1082252566_8c79beef93': '1082252566_8c79beef93.jpg',\n",
              " '1082379191_ec1e53f996': '1082379191_ec1e53f996.jpg',\n",
              " '1084040636_97d9633581': '1084040636_97d9633581.jpg',\n",
              " '1084104085_3b06223afe': '1084104085_3b06223afe.jpg',\n",
              " '1087168168_70280d024a': '1087168168_70280d024a.jpg',\n",
              " '1087539207_9f77ab3aaf': '1087539207_9f77ab3aaf.jpg',\n",
              " '1088767354_2acee738cf': '1088767354_2acee738cf.jpg',\n",
              " '108898978_7713be88fc': '108898978_7713be88fc.jpg',\n",
              " '108899015_bf36131a57': '108899015_bf36131a57.jpg',\n",
              " '1089181217_ee1167f7af': '1089181217_ee1167f7af.jpg',\n",
              " '1089755335_0bfbfd30e6': '1089755335_0bfbfd30e6.jpg',\n",
              " '109202756_b97fcdc62c': '109202756_b97fcdc62c.jpg',\n",
              " '109202801_c6381eef15': '109202801_c6381eef15.jpg',\n",
              " '109260216_85b0be5378': '109260216_85b0be5378.jpg',\n",
              " '109260218_fca831f933': '109260218_fca831f933.jpg',\n",
              " '1093716555_801aacef79': '1093716555_801aacef79.jpg',\n",
              " '1093737381_b313cd49ff': '1093737381_b313cd49ff.jpg',\n",
              " '1094462889_f9966dafa6': '1094462889_f9966dafa6.jpg',\n",
              " '1095476286_87d4f8664e': '1095476286_87d4f8664e.jpg',\n",
              " '1095580424_76f0aa8a3e': '1095580424_76f0aa8a3e.jpg',\n",
              " '1095590286_c654f7e5a9': '1095590286_c654f7e5a9.jpg',\n",
              " '1095980313_3c94799968': '1095980313_3c94799968.jpg',\n",
              " '1096097967_ac305887b4': '1096097967_ac305887b4.jpg',\n",
              " '1096165011_cc5eb16aa6': '1096165011_cc5eb16aa6.jpg',\n",
              " '1096395242_fc69f0ae5a': '1096395242_fc69f0ae5a.jpg',\n",
              " '109671650_f7bbc297fa': '109671650_f7bbc297fa.jpg',\n",
              " '109738763_90541ef30d': '109738763_90541ef30d.jpg',\n",
              " '109738916_236dc456ac': '109738916_236dc456ac.jpg',\n",
              " '109823394_83fcb735e1': '109823394_83fcb735e1.jpg',\n",
              " '109823395_6fb423a90f': '109823395_6fb423a90f.jpg',\n",
              " '109823397_e35154645f': '109823397_e35154645f.jpg',\n",
              " '1100214449_d10861e633': '1100214449_d10861e633.jpg',\n",
              " '1104133405_c04a00707f': '1104133405_c04a00707f.jpg',\n",
              " '1105959054_9c3a738096': '1105959054_9c3a738096.jpg',\n",
              " '110595925_f3395c8bd6': '110595925_f3395c8bd6.jpg',\n",
              " '1107246521_d16a476380': '1107246521_d16a476380.jpg',\n",
              " '1107471216_4336c9b328': '1107471216_4336c9b328.jpg',\n",
              " '1110208841_5bb6806afe': '1110208841_5bb6806afe.jpg',\n",
              " '1112212364_0c48235fc2': '1112212364_0c48235fc2.jpg',\n",
              " '111497985_38e9f88856': '111497985_38e9f88856.jpg',\n",
              " '111537217_082a4ba060': '111537217_082a4ba060.jpg',\n",
              " '111537222_07e56d5a30': '111537222_07e56d5a30.jpg',\n",
              " '1115565519_d976d4b1f1': '1115565519_d976d4b1f1.jpg',\n",
              " '1115679311_245eff2f4b': '1115679311_245eff2f4b.jpg',\n",
              " '111766423_4522d36e56': '111766423_4522d36e56.jpg',\n",
              " '1117972841_2b9261f95f': '1117972841_2b9261f95f.jpg',\n",
              " '1118557877_736f339752': '1118557877_736f339752.jpg',\n",
              " '1119015538_e8e796281e': '1119015538_e8e796281e.jpg',\n",
              " '1119418776_58e4b93eac': '1119418776_58e4b93eac.jpg',\n",
              " '1119463452_69d4eecd08': '1119463452_69d4eecd08.jpg',\n",
              " '1121416483_c7902d0d49': '1121416483_c7902d0d49.jpg',\n",
              " '112178718_87270d9b4d': '112178718_87270d9b4d.jpg',\n",
              " '112243673_fd68255217': '112243673_fd68255217.jpg',\n",
              " '1122944218_8eb3607403': '1122944218_8eb3607403.jpg',\n",
              " '1124448967_2221af8dc5': '1124448967_2221af8dc5.jpg',\n",
              " '1129704496_4a61441f2c': '1129704496_4a61441f2c.jpg',\n",
              " '1130017585_1a219257ac': '1130017585_1a219257ac.jpg',\n",
              " '1130369873_d80a1aa59c': '1130369873_d80a1aa59c.jpg',\n",
              " '1130401779_8c30182e3e': '1130401779_8c30182e3e.jpg',\n",
              " '1131155939_b4b457b05e': '1131155939_b4b457b05e.jpg',\n",
              " '1131340021_83f46b150a': '1131340021_83f46b150a.jpg',\n",
              " '1131800850_89c7ffd477': '1131800850_89c7ffd477.jpg',\n",
              " '1131804997_177c3c0640': '1131804997_177c3c0640.jpg',\n",
              " '1131932671_c8d17751b3': '1131932671_c8d17751b3.jpg',\n",
              " '1132772170_600610c5df': '1132772170_600610c5df.jpg',\n",
              " '113678030_87a6a6e42e': '113678030_87a6a6e42e.jpg',\n",
              " '1138784872_69ade3f2ab': '1138784872_69ade3f2ab.jpg',\n",
              " '114051287_dd85625a04': '114051287_dd85625a04.jpg',\n",
              " '1141718391_24164bf1b1': '1141718391_24164bf1b1.jpg',\n",
              " '1141739219_2c47195e4c': '1141739219_2c47195e4c.jpg',\n",
              " '1142283988_6b227c5231': '1142283988_6b227c5231.jpg',\n",
              " '1142847777_2a0c1c2551': '1142847777_2a0c1c2551.jpg',\n",
              " '1143373711_2e90b7b799': '1143373711_2e90b7b799.jpg',\n",
              " '1143882946_1898d2eeb9': '1143882946_1898d2eeb9.jpg',\n",
              " '1144288288_e5c9558b6a': '1144288288_e5c9558b6a.jpg',\n",
              " '1148238960_f8cacec2fc': '1148238960_f8cacec2fc.jpg',\n",
              " '1149179852_acad4d7300': '1149179852_acad4d7300.jpg',\n",
              " '114949897_490ca7eaec': '114949897_490ca7eaec.jpg',\n",
              " '1151466868_3bc4d9580b': '1151466868_3bc4d9580b.jpg',\n",
              " '1153704539_542f7aa3a5': '1153704539_542f7aa3a5.jpg',\n",
              " '1155138244_859fd6e079': '1155138244_859fd6e079.jpg',\n",
              " '115684808_cb01227802': '115684808_cb01227802.jpg',\n",
              " '1159574340_99ba8c3c59': '1159574340_99ba8c3c59.jpg',\n",
              " '1160034462_16b38174fe': '1160034462_16b38174fe.jpg',\n",
              " '1160441615_fe6b3c5277': '1160441615_fe6b3c5277.jpg',\n",
              " '1163282319_b729b24c46': '1163282319_b729b24c46.jpg',\n",
              " '116409198_0fe0c94f3b': '116409198_0fe0c94f3b.jpg',\n",
              " '1164131282_b30926f332': '1164131282_b30926f332.jpg',\n",
              " '1164765687_7aca07bbe7': '1164765687_7aca07bbe7.jpg',\n",
              " '1167662968_e466f1e80a': '1167662968_e466f1e80a.jpg',\n",
              " '1167669558_87a8a467d6': '1167669558_87a8a467d6.jpg',\n",
              " '1167908324_8caab45e15': '1167908324_8caab45e15.jpg',\n",
              " '1169307342_e7a4685a5c': '1169307342_e7a4685a5c.jpg',\n",
              " '1174525839_7c1e6cfa86': '1174525839_7c1e6cfa86.jpg',\n",
              " '1174629344_a2e1a2bdbf': '1174629344_a2e1a2bdbf.jpg',\n",
              " '1176580356_9810d877bf': '1176580356_9810d877bf.jpg',\n",
              " '1177994172_10d143cb8d': '1177994172_10d143cb8d.jpg',\n",
              " '1178705300_c224d9a4f1': '1178705300_c224d9a4f1.jpg',\n",
              " '118187095_d422383c81': '118187095_d422383c81.jpg',\n",
              " '118309463_a532b75be9': '118309463_a532b75be9.jpg',\n",
              " '1184967930_9e29ce380d': '1184967930_9e29ce380d.jpg',\n",
              " '1187435567_18173c148b': '1187435567_18173c148b.jpg',\n",
              " '1187593464_ce862352c6': '1187593464_ce862352c6.jpg',\n",
              " '1189977786_4f5aaed773': '1189977786_4f5aaed773.jpg',\n",
              " '1191338263_a4fa073154': '1191338263_a4fa073154.jpg',\n",
              " '1193116658_c0161c35b5': '1193116658_c0161c35b5.jpg',\n",
              " '119534510_d52b3781a3': '119534510_d52b3781a3.jpg',\n",
              " '1197800988_7fb0ca4888': '1197800988_7fb0ca4888.jpg',\n",
              " '1198194316_543cc7b945': '1198194316_543cc7b945.jpg',\n",
              " '1204996216_71d7519d9a': '1204996216_71d7519d9a.jpg',\n",
              " '1206506157_c7956accd5': '1206506157_c7956accd5.jpg',\n",
              " '1207159468_425b902bfb': '1207159468_425b902bfb.jpg',\n",
              " '1211015912_9f3ee3a995': '1211015912_9f3ee3a995.jpg',\n",
              " '1213336750_2269b51397': '1213336750_2269b51397.jpg',\n",
              " '1215334959_b1970965f7': '1215334959_b1970965f7.jpg',\n",
              " '121800200_bef08fae5f': '121800200_bef08fae5f.jpg',\n",
              " '121971540_0a986ee176': '121971540_0a986ee176.jpg',\n",
              " '1220401002_3f44b1f3f7': '1220401002_3f44b1f3f7.jpg',\n",
              " '1222322358_225067636e': '1222322358_225067636e.jpg',\n",
              " '1224851143_33bcdd299c': '1224851143_33bcdd299c.jpg',\n",
              " '1225443522_1633e7121f': '1225443522_1633e7121f.jpg',\n",
              " '1227655020_b11a1bb112': '1227655020_b11a1bb112.jpg',\n",
              " '1229756013_94663527d7': '1229756013_94663527d7.jpg',\n",
              " '1231229740_8dcbf80bfb': '1231229740_8dcbf80bfb.jpg',\n",
              " '1232148178_4f45cc3284': '1232148178_4f45cc3284.jpg',\n",
              " '1234293791_6566284bcd': '1234293791_6566284bcd.jpg',\n",
              " '1234817607_924893f6e1': '1234817607_924893f6e1.jpg',\n",
              " '1235580648_7eebaed9bc': '1235580648_7eebaed9bc.jpg',\n",
              " '1235681222_819231767a': '1235681222_819231767a.jpg',\n",
              " '1235685934_be89b231fb': '1235685934_be89b231fb.jpg',\n",
              " '1236951314_0308dc4138': '1236951314_0308dc4138.jpg',\n",
              " '1236964638_1808784a3c': '1236964638_1808784a3c.jpg',\n",
              " '1237985362_dbafc59280': '1237985362_dbafc59280.jpg',\n",
              " '123889082_d3751e0350': '123889082_d3751e0350.jpg',\n",
              " '123997871_6a9ca987b1': '123997871_6a9ca987b1.jpg',\n",
              " '1240297429_c36ae0c58f': '1240297429_c36ae0c58f.jpg',\n",
              " '124195430_d14028660f': '124195430_d14028660f.jpg',\n",
              " '1244140539_da4804d828': '1244140539_da4804d828.jpg',\n",
              " '1244306891_8e78ae1620': '1244306891_8e78ae1620.jpg',\n",
              " '1244485675_822e6efe60': '1244485675_822e6efe60.jpg',\n",
              " '1245022983_fb329886dd': '1245022983_fb329886dd.jpg',\n",
              " '1247181182_35cabd76f3': '1247181182_35cabd76f3.jpg',\n",
              " '1248357227_2b4175fc39': '1248357227_2b4175fc39.jpg',\n",
              " '1248734482_3038218f3b': '1248734482_3038218f3b.jpg',\n",
              " '124881487_36e668145d': '124881487_36e668145d.jpg',\n",
              " '1248940539_46d33ed487': '1248940539_46d33ed487.jpg',\n",
              " '1248953128_24c9f8d924': '1248953128_24c9f8d924.jpg',\n",
              " '124972799_de706b6d0b': '124972799_de706b6d0b.jpg',\n",
              " '1251558317_4ef844b775': '1251558317_4ef844b775.jpg',\n",
              " '1252396628_eb81d3905b': '1252396628_eb81d3905b.jpg',\n",
              " '1252787177_4b08625897': '1252787177_4b08625897.jpg',\n",
              " '125319704_49ead3463c': '125319704_49ead3463c.jpg',\n",
              " '1253264731_e7c689eca5': '1253264731_e7c689eca5.jpg',\n",
              " '1253275679_e955fb7304': '1253275679_e955fb7304.jpg',\n",
              " '1255504166_f2437febcb': '1255504166_f2437febcb.jpg',\n",
              " '1258913059_07c613f7ff': '1258913059_07c613f7ff.jpg',\n",
              " '1259936608_e3f0064f23': '1259936608_e3f0064f23.jpg',\n",
              " '1260816604_570fc35836': '1260816604_570fc35836.jpg',\n",
              " '1262077938_8b9516c273': '1262077938_8b9516c273.jpg',\n",
              " '1262454669_f1caafec2d': '1262454669_f1caafec2d.jpg',\n",
              " '1262583859_653f1469a9': '1262583859_653f1469a9.jpg',\n",
              " '1263126002_881ebd7ac9': '1263126002_881ebd7ac9.jpg',\n",
              " '1263801010_5c74bf1715': '1263801010_5c74bf1715.jpg',\n",
              " '1267711451_e2a754b4f8': '1267711451_e2a754b4f8.jpg',\n",
              " '1269470943_ba7fc49b4d': '1269470943_ba7fc49b4d.jpg',\n",
              " '1271210445_7f7ecf3791': '1271210445_7f7ecf3791.jpg',\n",
              " '1271960365_e54033f883': '1271960365_e54033f883.jpg',\n",
              " '1273001772_1585562051': '1273001772_1585562051.jpg',\n",
              " '127450902_533ceeddfc': '127450902_533ceeddfc.jpg',\n",
              " '127488876_f2d2a89588': '127488876_f2d2a89588.jpg',\n",
              " '127490019_7c5c08cb11': '127490019_7c5c08cb11.jpg',\n",
              " '1277185009_06478dd457': '1277185009_06478dd457.jpg',\n",
              " '1277743944_f4e8c78403': '1277743944_f4e8c78403.jpg',\n",
              " '1280147517_98767ca3b3': '1280147517_98767ca3b3.jpg',\n",
              " '1280320287_b2a4b9b7bd': '1280320287_b2a4b9b7bd.jpg',\n",
              " '1282392036_5a0328eb86': '1282392036_5a0328eb86.jpg',\n",
              " '12830823_87d2654e31': '12830823_87d2654e31.jpg',\n",
              " '1285067106_2adc307240': '1285067106_2adc307240.jpg',\n",
              " '1285874746_486731a954': '1285874746_486731a954.jpg',\n",
              " '1286408831_05282582ed': '1286408831_05282582ed.jpg',\n",
              " '1287064529_aa4e4f3c31': '1287064529_aa4e4f3c31.jpg',\n",
              " '1287073593_f3d2a62455': '1287073593_f3d2a62455.jpg',\n",
              " '1287475186_2dee85f1a5': '1287475186_2dee85f1a5.jpg',\n",
              " '1287920676_d21a0b289b': '1287920676_d21a0b289b.jpg',\n",
              " '1287931016_fb015e2e10': '1287931016_fb015e2e10.jpg',\n",
              " '1287982439_6578006e22': '1287982439_6578006e22.jpg',\n",
              " '1288909046_d2b2b62607': '1288909046_d2b2b62607.jpg',\n",
              " '128912885_8350d277a4': '128912885_8350d277a4.jpg',\n",
              " '1289142574_2bd6a082dd': '1289142574_2bd6a082dd.jpg',\n",
              " '1290894194_8a4ffdc7eb': '1290894194_8a4ffdc7eb.jpg',\n",
              " '1294578091_2ad02fea91': '1294578091_2ad02fea91.jpg',\n",
              " '1295669416_21cabf594d': '1295669416_21cabf594d.jpg',\n",
              " '1295671216_cde1b9c9d1': '1295671216_cde1b9c9d1.jpg',\n",
              " '1295698260_e10c53c137': '1295698260_e10c53c137.jpg',\n",
              " '129599450_cab4e77343': '129599450_cab4e77343.jpg',\n",
              " '1296412797_85b6d2f8d6': '1296412797_85b6d2f8d6.jpg',\n",
              " '1296770308_3db2022f5a': '1296770308_3db2022f5a.jpg',\n",
              " '1298295313_db1f4c6522': '1298295313_db1f4c6522.jpg',\n",
              " '1298866571_b4c496b71c': '1298866571_b4c496b71c.jpg',\n",
              " '1299459550_1fd5594fa2': '1299459550_1fd5594fa2.jpg',\n",
              " '1299459562_ed0e064aee': '1299459562_ed0e064aee.jpg',\n",
              " '1301140633_046e4e8010': '1301140633_046e4e8010.jpg',\n",
              " '130211457_be3f6b335d': '130211457_be3f6b335d.jpg',\n",
              " '1302657647_46b36c0d66': '1302657647_46b36c0d66.jpg',\n",
              " '1303335399_b3facd47ab': '1303335399_b3facd47ab.jpg',\n",
              " '1303548017_47de590273': '1303548017_47de590273.jpg',\n",
              " '1303550623_cb43ac044a': '1303550623_cb43ac044a.jpg',\n",
              " '1303727066_23d0f6ed43': '1303727066_23d0f6ed43.jpg',\n",
              " '1303727828_d1052ee341': '1303727828_d1052ee341.jpg',\n",
              " '1304100320_c8990a1539': '1304100320_c8990a1539.jpg',\n",
              " '1304961697_76b86b0c18': '1304961697_76b86b0c18.jpg',\n",
              " '1305564994_00513f9a5b': '1305564994_00513f9a5b.jpg',\n",
              " '1306145560_1e37081b91': '1306145560_1e37081b91.jpg',\n",
              " '1307635496_94442dc21a': '1307635496_94442dc21a.jpg',\n",
              " '1308472581_9961782889': '1308472581_9961782889.jpg',\n",
              " '1308617539_54e1a3dfbe': '1308617539_54e1a3dfbe.jpg',\n",
              " '1309330801_aeeb23f1ee': '1309330801_aeeb23f1ee.jpg',\n",
              " '1311132744_5ffd03f831': '1311132744_5ffd03f831.jpg',\n",
              " '1311388430_4ab0cd1a1f': '1311388430_4ab0cd1a1f.jpg',\n",
              " '1312020846_5abb4a9be2': '1312020846_5abb4a9be2.jpg',\n",
              " '1312227131_771b5ed201': '1312227131_771b5ed201.jpg',\n",
              " '1312954382_cf6d70d63a': '1312954382_cf6d70d63a.jpg',\n",
              " '1313693129_71d0b21c63': '1313693129_71d0b21c63.jpg',\n",
              " '1313961775_824b87d155': '1313961775_824b87d155.jpg',\n",
              " '1316247213_1d2c726dd5': '1316247213_1d2c726dd5.jpg',\n",
              " '131632409_4de0d4e710': '131632409_4de0d4e710.jpg',\n",
              " '1317292658_ba29330a0b': '1317292658_ba29330a0b.jpg',\n",
              " '1319634306_816f21677f': '1319634306_816f21677f.jpg',\n",
              " '1321723162_9d4c78b8af': '1321723162_9d4c78b8af.jpg',\n",
              " '1321949151_77b77b4617': '1321949151_77b77b4617.jpg',\n",
              " '1322323208_c7ecb742c6': '1322323208_c7ecb742c6.jpg',\n",
              " '1324816249_86600a6759': '1324816249_86600a6759.jpg',\n",
              " '132489044_3be606baf7': '132489044_3be606baf7.jpg',\n",
              " '1329832826_432538d331': '1329832826_432538d331.jpg',\n",
              " '1330645772_24f831ff8f': '1330645772_24f831ff8f.jpg',\n",
              " '133189853_811de6ab2a': '133189853_811de6ab2a.jpg',\n",
              " '1332208215_fa824f6659': '1332208215_fa824f6659.jpg',\n",
              " '1332492622_8c66992b62': '1332492622_8c66992b62.jpg',\n",
              " '1332722096_1e3de8ae70': '1332722096_1e3de8ae70.jpg',\n",
              " '1332815795_8eea44375e': '1332815795_8eea44375e.jpg',\n",
              " '1332823164_c70a5d930e': '1332823164_c70a5d930e.jpg',\n",
              " '1333888922_26f15c18c3': '1333888922_26f15c18c3.jpg',\n",
              " '1334892555_1beff092c3': '1334892555_1beff092c3.jpg',\n",
              " '1335617803_4fbc03dab0': '1335617803_4fbc03dab0.jpg',\n",
              " '1337792872_d01a390b33': '1337792872_d01a390b33.jpg',\n",
              " '1338523142_57fce8229b': '1338523142_57fce8229b.jpg',\n",
              " '133905560_9d012b47f3': '133905560_9d012b47f3.jpg',\n",
              " '1339596997_8ac29c1841': '1339596997_8ac29c1841.jpg',\n",
              " '1341787777_4f1ebb1793': '1341787777_4f1ebb1793.jpg',\n",
              " '1342766791_1e72f92455': '1342766791_1e72f92455.jpg',\n",
              " '1342780478_bacc32344d': '1342780478_bacc32344d.jpg',\n",
              " '1343426964_cde3fb54e8': '1343426964_cde3fb54e8.jpg',\n",
              " '1346051107_9cdc14e070': '1346051107_9cdc14e070.jpg',\n",
              " '1346529555_e916816cfe': '1346529555_e916816cfe.jpg',\n",
              " '134724228_30408cd77f': '134724228_30408cd77f.jpg',\n",
              " '1347519824_e402241e4f': '1347519824_e402241e4f.jpg',\n",
              " '1348113612_5bfc5f429e': '1348113612_5bfc5f429e.jpg',\n",
              " '1348304997_afe60a61df': '1348304997_afe60a61df.jpg',\n",
              " '1348891916_ebd4413033': '1348891916_ebd4413033.jpg',\n",
              " '134894450_dadea45d65': '134894450_dadea45d65.jpg',\n",
              " '1348947380_14f0fc1237': '1348947380_14f0fc1237.jpg',\n",
              " '1348957576_c4a78eb974': '1348957576_c4a78eb974.jpg',\n",
              " '1350811702_2ce7cfd0c5': '1350811702_2ce7cfd0c5.jpg',\n",
              " '1350948838_fdebe4ff65': '1350948838_fdebe4ff65.jpg',\n",
              " '1351315701_6580b51c41': '1351315701_6580b51c41.jpg',\n",
              " '1351764581_4d4fb1b40f': '1351764581_4d4fb1b40f.jpg',\n",
              " '135235570_5698072cd4': '135235570_5698072cd4.jpg',\n",
              " '1352398363_9cc8ffcce9': '1352398363_9cc8ffcce9.jpg',\n",
              " '1352410176_af6b139734': '1352410176_af6b139734.jpg',\n",
              " '1354318519_2f9baed754': '1354318519_2f9baed754.jpg',\n",
              " '1355450069_c0675b0706': '1355450069_c0675b0706.jpg',\n",
              " '1355703632_5683a4b6fb': '1355703632_5683a4b6fb.jpg',\n",
              " '1355833561_9c43073eda': '1355833561_9c43073eda.jpg',\n",
              " '1355935187_2c99648138': '1355935187_2c99648138.jpg',\n",
              " '1355945307_f9e01a9a05': '1355945307_f9e01a9a05.jpg',\n",
              " '1356543628_c13ebe38fb': '1356543628_c13ebe38fb.jpg',\n",
              " '1356796100_b265479721': '1356796100_b265479721.jpg',\n",
              " '1357689954_72588dfdc4': '1357689954_72588dfdc4.jpg',\n",
              " '1357724865_4faf4e1418': '1357724865_4faf4e1418.jpg',\n",
              " '1357753846_6185e26040': '1357753846_6185e26040.jpg',\n",
              " '1358089136_976e3d2e30': '1358089136_976e3d2e30.jpg',\n",
              " '1358892595_7a37c45788': '1358892595_7a37c45788.jpg',\n",
              " '1359101233_16c2c150e3': '1359101233_16c2c150e3.jpg',\n",
              " '1361420539_e9599c60ae': '1361420539_e9599c60ae.jpg',\n",
              " '1362128028_8422d53dc4': '1362128028_8422d53dc4.jpg',\n",
              " '1363843090_9425d93064': '1363843090_9425d93064.jpg',\n",
              " '1363924449_487f0733df': '1363924449_487f0733df.jpg',\n",
              " '136552115_6dc3e7231c': '136552115_6dc3e7231c.jpg',\n",
              " '136639119_6040b00946': '136639119_6040b00946.jpg',\n",
              " '136644343_0e2b423829': '136644343_0e2b423829.jpg',\n",
              " '136644885_f7d2bbf546': '136644885_f7d2bbf546.jpg',\n",
              " '1368338041_6b4077ca98': '1368338041_6b4077ca98.jpg',\n",
              " '1368383637_614646cc4a': '1368383637_614646cc4a.jpg',\n",
              " '136886677_6026c622eb': '136886677_6026c622eb.jpg',\n",
              " '1370615506_2b96105ca3': '1370615506_2b96105ca3.jpg',\n",
              " '1370773415_967b1ffde1': '1370773415_967b1ffde1.jpg',\n",
              " '1377668044_36398401dd': '1377668044_36398401dd.jpg',\n",
              " '1378557186_4bd1da6834': '1378557186_4bd1da6834.jpg',\n",
              " '1379026456_153fd8b51b': '1379026456_153fd8b51b.jpg',\n",
              " '1383698008_8ac53ed7ec': '1383698008_8ac53ed7ec.jpg',\n",
              " '1383840121_c092110917': '1383840121_c092110917.jpg',\n",
              " '1384292980_4022a7520c': '1384292980_4022a7520c.jpg',\n",
              " '1386251841_5f384a0fea': '1386251841_5f384a0fea.jpg',\n",
              " '1386964743_9e80d96b05': '1386964743_9e80d96b05.jpg',\n",
              " '138705546_be7a6845dd': '138705546_be7a6845dd.jpg',\n",
              " '138718600_f430ebca17': '138718600_f430ebca17.jpg',\n",
              " '1387443857_602ab6f9bf': '1387443857_602ab6f9bf.jpg',\n",
              " '1387461595_2fe6925f73': '1387461595_2fe6925f73.jpg',\n",
              " '1387785218_cee67735f5': '1387785218_cee67735f5.jpg',\n",
              " '1388346434_524d0b6dfa': '1388346434_524d0b6dfa.jpg',\n",
              " '1388373425_3c72b56639': '1388373425_3c72b56639.jpg',\n",
              " '1388970365_162edcceb4': '1388970365_162edcceb4.jpg',\n",
              " '1389264266_8170bc1c54': '1389264266_8170bc1c54.jpg',\n",
              " '1389323170_d1c81d6b51': '1389323170_d1c81d6b51.jpg',\n",
              " '1389651420_8d95d8f6ed': '1389651420_8d95d8f6ed.jpg',\n",
              " '1390268323_2c8204e91c': '1390268323_2c8204e91c.jpg',\n",
              " '1392272228_cf104086e6': '1392272228_cf104086e6.jpg',\n",
              " '1394368714_3bc7c19969': '1394368714_3bc7c19969.jpg',\n",
              " '1394396709_65040d97ab': '1394396709_65040d97ab.jpg',\n",
              " '1394599090_fe0ba238f0': '1394599090_fe0ba238f0.jpg',\n",
              " '1394620454_bf708cc501': '1394620454_bf708cc501.jpg',\n",
              " '1394927474_0afdd82fc4': '1394927474_0afdd82fc4.jpg',\n",
              " '1396064003_3fd949c9dd': '1396064003_3fd949c9dd.jpg',\n",
              " '1396703063_e8c3687afe': '1396703063_e8c3687afe.jpg',\n",
              " '1397295388_8a5b6b525d': '1397295388_8a5b6b525d.jpg',\n",
              " '1397887419_e798697b93': '1397887419_e798697b93.jpg',\n",
              " '1397923690_d3bf1f799e': '1397923690_d3bf1f799e.jpg',\n",
              " '1398606571_f543f7698a': '1398606571_f543f7698a.jpg',\n",
              " '1398613231_18de248606': '1398613231_18de248606.jpg',\n",
              " '1398873613_7e3174dd6c': '1398873613_7e3174dd6c.jpg',\n",
              " '1400424834_1c76e700c4': '1400424834_1c76e700c4.jpg',\n",
              " '1401961581_76921a75c5': '1401961581_76921a75c5.jpg',\n",
              " '1402640441_81978e32a9': '1402640441_81978e32a9.jpg',\n",
              " '1402641725_5e027ecaa7': '1402641725_5e027ecaa7.jpg',\n",
              " '1402843760_d30f1dbf0f': '1402843760_d30f1dbf0f.jpg',\n",
              " '1402859872_0fc8cf8108': '1402859872_0fc8cf8108.jpg',\n",
              " '1403414927_5f80281505': '1403414927_5f80281505.jpg',\n",
              " '140377584_12bdbdf2f8': '140377584_12bdbdf2f8.jpg',\n",
              " '140430106_2978fda105': '140430106_2978fda105.jpg',\n",
              " '1404832008_68e432665b': '1404832008_68e432665b.jpg',\n",
              " '1405221276_21634dcd58': '1405221276_21634dcd58.jpg',\n",
              " '140526326_da07305c1c': '140526326_da07305c1c.jpg',\n",
              " '140526327_3cb984de09': '140526327_3cb984de09.jpg',\n",
              " '1406010299_5755339f08': '1406010299_5755339f08.jpg',\n",
              " '1408958345_68eea9a4e4': '1408958345_68eea9a4e4.jpg',\n",
              " '1410193619_13fff6c875': '1410193619_13fff6c875.jpg',\n",
              " '141139674_246c0f90a1': '141139674_246c0f90a1.jpg',\n",
              " '141140165_9002a04f19': '141140165_9002a04f19.jpg',\n",
              " '1412832223_99e8b4701a': '1412832223_99e8b4701a.jpg',\n",
              " '1413956047_c826f90c8b': '1413956047_c826f90c8b.jpg',\n",
              " '1414779054_31946f9dfc': '1414779054_31946f9dfc.jpg',\n",
              " '1414820925_3504c394e1': '1414820925_3504c394e1.jpg',\n",
              " '1415591512_a84644750c': '1415591512_a84644750c.jpg',\n",
              " '1417031097_ab656bc4bd': '1417031097_ab656bc4bd.jpg',\n",
              " '1417295167_5299df6db8': '1417295167_5299df6db8.jpg',\n",
              " '141755290_4b954529f3': '141755290_4b954529f3.jpg',\n",
              " '141755292_7a0b3364cf': '141755292_7a0b3364cf.jpg',\n",
              " '1417637704_572b4d6557': '1417637704_572b4d6557.jpg',\n",
              " '1417882092_c94c251eb3': '1417882092_c94c251eb3.jpg',\n",
              " '1417941060_2a0f7908bc': '1417941060_2a0f7908bc.jpg',\n",
              " '1418019748_51c7d59c11': '1418019748_51c7d59c11.jpg',\n",
              " '1418266617_b32143275b': '1418266617_b32143275b.jpg',\n",
              " '1418503947_953d373632': '1418503947_953d373632.jpg',\n",
              " '1419286010_b59af3962a': '1419286010_b59af3962a.jpg',\n",
              " '1419385780_1383ec7ba9': '1419385780_1383ec7ba9.jpg',\n",
              " '1420060020_7a6984e2ea': '1420060020_7a6984e2ea.jpg',\n",
              " '1420060118_aed262d606': '1420060118_aed262d606.jpg',\n",
              " '1423126855_6cd2a3956c': '1423126855_6cd2a3956c.jpg',\n",
              " '1423997242_ea2189ec5e': '1423997242_ea2189ec5e.jpg',\n",
              " '1424237335_b3be9920ba': '1424237335_b3be9920ba.jpg',\n",
              " '1424775129_ffea9c13ab': '1424775129_ffea9c13ab.jpg',\n",
              " '1425013325_bff69bc9da': '1425013325_bff69bc9da.jpg',\n",
              " '1425069308_488e5fcf9d': '1425069308_488e5fcf9d.jpg',\n",
              " '1425069590_570cc7c2d8': '1425069590_570cc7c2d8.jpg',\n",
              " '1425485485_d7c97a5470': '1425485485_d7c97a5470.jpg',\n",
              " '1425919702_ddb761aeec': '1425919702_ddb761aeec.jpg',\n",
              " '1426014905_da60d72957': '1426014905_da60d72957.jpg',\n",
              " '1427391496_ea512cbe7f': '1427391496_ea512cbe7f.jpg',\n",
              " '142802798_962a4ec5ce': '142802798_962a4ec5ce.jpg',\n",
              " '1428578577_82864facae': '1428578577_82864facae.jpg',\n",
              " '1428641354_f7453afbea': '1428641354_f7453afbea.jpg',\n",
              " '1428681303_04213524e3': '1428681303_04213524e3.jpg',\n",
              " '1429546659_44cb09cbe2': '1429546659_44cb09cbe2.jpg',\n",
              " '1429723917_6af585e4c0': '1429723917_6af585e4c0.jpg',\n",
              " '1429814475_0b592b9995': '1429814475_0b592b9995.jpg',\n",
              " '1430154945_71bbaa094a': '1430154945_71bbaa094a.jpg',\n",
              " '1432179046_8e3d75cf81': '1432179046_8e3d75cf81.jpg',\n",
              " '1432342377_3e41603f26': '1432342377_3e41603f26.jpg',\n",
              " '143237785_93f81b3201': '143237785_93f81b3201.jpg',\n",
              " '1433088025_bce2cb69f8': '1433088025_bce2cb69f8.jpg',\n",
              " '1433142189_cda8652603': '1433142189_cda8652603.jpg',\n",
              " '1433397131_8634fa6664': '1433397131_8634fa6664.jpg',\n",
              " '1433577867_39a1510c43': '1433577867_39a1510c43.jpg',\n",
              " '1434005938_ad75c8598c': '1434005938_ad75c8598c.jpg',\n",
              " '1434607942_da5432c28c': '1434607942_da5432c28c.jpg',\n",
              " '143552697_af27e9acf5': '143552697_af27e9acf5.jpg',\n",
              " '143552829_72b6ba49d4': '143552829_72b6ba49d4.jpg',\n",
              " '1436760519_8d6101a0ed': '1436760519_8d6101a0ed.jpg',\n",
              " '143680442_2f03f76944': '143680442_2f03f76944.jpg',\n",
              " '143680966_0010ff8c60': '143680966_0010ff8c60.jpg',\n",
              " '143684568_3c59299bae': '143684568_3c59299bae.jpg',\n",
              " '143688205_630813a466': '143688205_630813a466.jpg',\n",
              " '143688283_a96ded20f1': '143688283_a96ded20f1.jpg',\n",
              " '143688895_e837c3bc76': '143688895_e837c3bc76.jpg',\n",
              " '1439046601_cf110a75a7': '1439046601_cf110a75a7.jpg',\n",
              " '1439282131_3814d6ae04': '1439282131_3814d6ae04.jpg',\n",
              " '1440024115_129212c988': '1440024115_129212c988.jpg',\n",
              " '1443807993_aebfb2784a': '1443807993_aebfb2784a.jpg',\n",
              " '1445123245_c7b9db0e0c': '1445123245_c7b9db0e0c.jpg',\n",
              " '1445754124_647168f211': '1445754124_647168f211.jpg',\n",
              " '1446053356_a924b4893f': '1446053356_a924b4893f.jpg',\n",
              " '1446933195_8fe9725d62': '1446933195_8fe9725d62.jpg',\n",
              " '1448511770_1a4a9c453b': '1448511770_1a4a9c453b.jpg',\n",
              " '1449370354_380c4123c9': '1449370354_380c4123c9.jpg',\n",
              " '1449625950_fc9a8d02d9': '1449625950_fc9a8d02d9.jpg',\n",
              " '1449692616_60507875fb': '1449692616_60507875fb.jpg',\n",
              " '1452361926_6d8c535e32': '1452361926_6d8c535e32.jpg',\n",
              " '1453366750_6e8cf601bf': '1453366750_6e8cf601bf.jpg',\n",
              " '1454678644_7e5a371301': '1454678644_7e5a371301.jpg',\n",
              " '1454841725_4b6e6199e2': '1454841725_4b6e6199e2.jpg',\n",
              " '1456393634_74022d9056': '1456393634_74022d9056.jpg',\n",
              " '1456630952_dd4778a48f': '1456630952_dd4778a48f.jpg',\n",
              " '145721496_687af9bb18': '145721496_687af9bb18.jpg',\n",
              " '145721498_a27d2db576': '145721498_a27d2db576.jpg',\n",
              " '1457762320_7fe121b285': '1457762320_7fe121b285.jpg',\n",
              " '1459032057_97e73ed6ab': '1459032057_97e73ed6ab.jpg',\n",
              " '1459250022_bf1eddad11': '1459250022_bf1eddad11.jpg',\n",
              " '1460352062_d64fb633e0': '1460352062_d64fb633e0.jpg',\n",
              " '1460500597_866fa0c6f3': '1460500597_866fa0c6f3.jpg',\n",
              " '146098876_0d99d7fb98': '146098876_0d99d7fb98.jpg',\n",
              " '146100443_906d87faa2': '146100443_906d87faa2.jpg',\n",
              " '1461329041_c623b06e5b': '1461329041_c623b06e5b.jpg',\n",
              " '1461653394_8ab96aae63': '1461653394_8ab96aae63.jpg',\n",
              " '1461667284_041c8a2475': '1461667284_041c8a2475.jpg',\n",
              " '1463638541_c02cfa04dc': '1463638541_c02cfa04dc.jpg',\n",
              " '1463732130_a754441289': '1463732130_a754441289.jpg',\n",
              " '1463732807_0cdf4f22c7': '1463732807_0cdf4f22c7.jpg',\n",
              " '1464120327_d90279ca3a': '1464120327_d90279ca3a.jpg',\n",
              " '1465666502_de289b3b9c': '1465666502_de289b3b9c.jpg',\n",
              " '146577645_91b570c0d0': '146577645_91b570c0d0.jpg',\n",
              " '146577646_9e64b8c2dc': '146577646_9e64b8c2dc.jpg',\n",
              " '1466307485_5e6743332e': '1466307485_5e6743332e.jpg',\n",
              " '1466307489_cb8a74de09': '1466307489_cb8a74de09.jpg',\n",
              " '1466479163_439db855af': '1466479163_439db855af.jpg',\n",
              " '1467533293_a2656cc000': '1467533293_a2656cc000.jpg',\n",
              " '1468103286_96a6e07029': '1468103286_96a6e07029.jpg',\n",
              " '1468389504_c724bdcad0': '1468389504_c724bdcad0.jpg',\n",
              " '1468429623_f001988691': '1468429623_f001988691.jpg',\n",
              " '1468962616_5803b4397f': '1468962616_5803b4397f.jpg',\n",
              " '1469000260_5d473c8283': '1469000260_5d473c8283.jpg',\n",
              " '1469358746_2a879abaf3': '1469358746_2a879abaf3.jpg',\n",
              " '1470061031_4cb59c12a8': '1470061031_4cb59c12a8.jpg',\n",
              " '1470132731_fa416b7504': '1470132731_fa416b7504.jpg',\n",
              " '1470536919_1f3fd6c65a': '1470536919_1f3fd6c65a.jpg',\n",
              " '1472053993_bed67a3ba7': '1472053993_bed67a3ba7.jpg',\n",
              " '1472230829_803818a383': '1472230829_803818a383.jpg',\n",
              " '1472249944_d887c3aeda': '1472249944_d887c3aeda.jpg',\n",
              " '1472653060_7427d2865a': '1472653060_7427d2865a.jpg',\n",
              " '1472882567_33dc14c8b6': '1472882567_33dc14c8b6.jpg',\n",
              " '1473080948_bae2925dc8': '1473080948_bae2925dc8.jpg',\n",
              " '1473250020_dc829a090f': '1473250020_dc829a090f.jpg',\n",
              " '1473618073_7db56a5237': '1473618073_7db56a5237.jpg',\n",
              " '1474474514_b3eb492722': '1474474514_b3eb492722.jpg',\n",
              " '1475046848_831245fc64': '1475046848_831245fc64.jpg',\n",
              " '1476002408_4256b7b2fa': '1476002408_4256b7b2fa.jpg',\n",
              " '1476241331_2f43b67aed': '1476241331_2f43b67aed.jpg',\n",
              " '1478268555_7e301fc510': '1478268555_7e301fc510.jpg',\n",
              " '1478294229_7e1c822fea': '1478294229_7e1c822fea.jpg',\n",
              " '1478606153_a7163bf899': '1478606153_a7163bf899.jpg',\n",
              " '1479028910_3dab3448c8': '1479028910_3dab3448c8.jpg',\n",
              " '1479124077_17dcc0d5d7': '1479124077_17dcc0d5d7.jpg',\n",
              " '1479513774_70c94cf9d3': '1479513774_70c94cf9d3.jpg',\n",
              " '1479679558_d0a01bc62b': '1479679558_d0a01bc62b.jpg',\n",
              " '1479857177_9d4a6f38fd': '1479857177_9d4a6f38fd.jpg',\n",
              " '1480712062_32a61ad4b7': '1480712062_32a61ad4b7.jpg',\n",
              " '1481062342_d9e34366c4': '1481062342_d9e34366c4.jpg',\n",
              " '1482960952_95f2d419cb': '1482960952_95f2d419cb.jpg',\n",
              " '148512773_bae6901fd6': '148512773_bae6901fd6.jpg',\n",
              " '1488937076_5baa73fc2a': '1488937076_5baa73fc2a.jpg',\n",
              " '1489286545_8df476fa26': '1489286545_8df476fa26.jpg',\n",
              " '1490213660_9ea45550cf': '1490213660_9ea45550cf.jpg',\n",
              " '1490670858_e122df2560': '1490670858_e122df2560.jpg',\n",
              " '1491192153_7c395991e5': '1491192153_7c395991e5.jpg',\n",
              " '1499495021_d295ce577c': '1499495021_d295ce577c.jpg',\n",
              " '1499554025_a8ffe0e479': '1499554025_a8ffe0e479.jpg',\n",
              " '1499581619_a5f65a882c': '1499581619_a5f65a882c.jpg',\n",
              " '1500853305_0150615ce9': '1500853305_0150615ce9.jpg',\n",
              " '1501297480_8db52c15b0': '1501297480_8db52c15b0.jpg',\n",
              " '1501811302_5e723fc529': '1501811302_5e723fc529.jpg',\n",
              " '1501985304_8c50093004': '1501985304_8c50093004.jpg',\n",
              " '150387174_24825cf871': '150387174_24825cf871.jpg',\n",
              " '1505686764_9e3bcd854a': '1505686764_9e3bcd854a.jpg',\n",
              " '150582765_bad8dec237': '150582765_bad8dec237.jpg',\n",
              " '1507563902_6ec8d5d822': '1507563902_6ec8d5d822.jpg',\n",
              " '1508269285_6c5723f67d': '1508269285_6c5723f67d.jpg',\n",
              " '1509786421_f03158adfc': '1509786421_f03158adfc.jpg',\n",
              " '1510078253_96e9ec50e7': '1510078253_96e9ec50e7.jpg',\n",
              " '1510669311_75330b4781': '1510669311_75330b4781.jpg',\n",
              " '1511807116_41c3645e8c': '1511807116_41c3645e8c.jpg',\n",
              " '1514957266_a19827c538': '1514957266_a19827c538.jpg',\n",
              " '1515025681_999199cb79': '1515025681_999199cb79.jpg',\n",
              " '1515883224_14e36a53c7': '1515883224_14e36a53c7.jpg',\n",
              " '1516714577_7d1c35a8d8': '1516714577_7d1c35a8d8.jpg',\n",
              " '1517340899_ee1c74a8f6': '1517340899_ee1c74a8f6.jpg',\n",
              " '1517721825_10176d0683': '1517721825_10176d0683.jpg',\n",
              " '1517807181_ca6588f2a0': '1517807181_ca6588f2a0.jpg',\n",
              " '152029243_b3582c36fa': '152029243_b3582c36fa.jpg',\n",
              " '1521623639_4bda3407cc': '1521623639_4bda3407cc.jpg',\n",
              " '1522787272_5a31497ef2': '1522787272_5a31497ef2.jpg',\n",
              " '1523800748_a59e980eee': '1523800748_a59e980eee.jpg',\n",
              " '1523984678_edd68464da': '1523984678_edd68464da.jpg',\n",
              " '1525153022_06c48dbe52': '1525153022_06c48dbe52.jpg',\n",
              " '1526181215_c1a94325ae': '1526181215_c1a94325ae.jpg',\n",
              " '1526325728_74eb4153d8': '1526325728_74eb4153d8.jpg',\n",
              " '1527297882_dededc7891': '1527297882_dededc7891.jpg',\n",
              " '1527333441_af65636a74': '1527333441_af65636a74.jpg',\n",
              " '1527513023_3d8152b379': '1527513023_3d8152b379.jpg',\n",
              " '1528205014_1323aa9dfd': '1528205014_1323aa9dfd.jpg',\n",
              " '1529044279_4922ead27c': '1529044279_4922ead27c.jpg',\n",
              " '1536597926_c2e1bc2379': '1536597926_c2e1bc2379.jpg',\n",
              " '1536774449_e16b1b6382': '1536774449_e16b1b6382.jpg',\n",
              " '1539166395_0cdc0accee': '1539166395_0cdc0accee.jpg',\n",
              " '1540631615_8b42c1b160': '1540631615_8b42c1b160.jpg',\n",
              " '1541272333_1624b22546': '1541272333_1624b22546.jpg',\n",
              " '1542033433_5453d4c466': '1542033433_5453d4c466.jpg',\n",
              " '1547883892_e29b3db42e': '1547883892_e29b3db42e.jpg',\n",
              " '154871781_ae77696b77': '154871781_ae77696b77.jpg',\n",
              " '1550772959_9ca9fa625f': '1550772959_9ca9fa625f.jpg',\n",
              " '1552065993_b4dcd2eadf': '1552065993_b4dcd2eadf.jpg',\n",
              " '155221027_b23a4331b7': '155221027_b23a4331b7.jpg',\n",
              " '1554713437_61b64527dd': '1554713437_61b64527dd.jpg',\n",
              " '1557451043_f5c91ff6f4': '1557451043_f5c91ff6f4.jpg',\n",
              " '1557838421_a33f2a4911': '1557838421_a33f2a4911.jpg',\n",
              " '1561658940_a947f2446a': '1561658940_a947f2446a.jpg',\n",
              " '1562392511_522a26063b': '1562392511_522a26063b.jpg',\n",
              " '1562478333_43d13e5427': '1562478333_43d13e5427.jpg',\n",
              " '1562478713_505ab6d924': '1562478713_505ab6d924.jpg',\n",
              " '1563731247_7f21d8bec0': '1563731247_7f21d8bec0.jpg',\n",
              " '1564614124_0ee6799935': '1564614124_0ee6799935.jpg',\n",
              " '1566117559_f5d98fbeb0': '1566117559_f5d98fbeb0.jpg',\n",
              " '1569562856_eedb5a0a1f': '1569562856_eedb5a0a1f.jpg',\n",
              " '156967462_72db9b722c': '156967462_72db9b722c.jpg',\n",
              " '1569687608_0e3b3ad044': '1569687608_0e3b3ad044.jpg',\n",
              " '1570723692_3a2b064d43': '1570723692_3a2b064d43.jpg',\n",
              " '157139628_5dc483e2e4': '157139628_5dc483e2e4.jpg',\n",
              " '1572286502_64e5c4b920': '1572286502_64e5c4b920.jpg',\n",
              " '1572532018_64c030c974': '1572532018_64c030c974.jpg',\n",
              " '1573017288_4d481856e2': '1573017288_4d481856e2.jpg',\n",
              " '1574401950_6bedc0d29b': '1574401950_6bedc0d29b.jpg',\n",
              " '1576185717_f841ddc3da': '1576185717_f841ddc3da.jpg',\n",
              " '1579198375_84b18e003a': '1579198375_84b18e003a.jpg',\n",
              " '1579206585_5ca6a24db0': '1579206585_5ca6a24db0.jpg',\n",
              " '1579287915_4257c54451': '1579287915_4257c54451.jpg',\n",
              " '1579798212_d30844b4c5': '1579798212_d30844b4c5.jpg',\n",
              " '1580172290_e19067e0dd': '1580172290_e19067e0dd.jpg',\n",
              " '1580671272_3e99d94305': '1580671272_3e99d94305.jpg',\n",
              " '1581822598_0ae23074f1': '1581822598_0ae23074f1.jpg',\n",
              " '1584315962_5b0b45d02d': '1584315962_5b0b45d02d.jpg',\n",
              " '1594038143_57f299aa8a': '1594038143_57f299aa8a.jpg',\n",
              " '159712188_d530dd478c': '159712188_d530dd478c.jpg',\n",
              " '1597319381_1e80d9e39c': '1597319381_1e80d9e39c.jpg',\n",
              " '1597557856_30640e0b43': '1597557856_30640e0b43.jpg',\n",
              " '1598085252_f3219b6140': '1598085252_f3219b6140.jpg',\n",
              " '1600208439_e94527b80f': '1600208439_e94527b80f.jpg',\n",
              " '160541986_d5be2ab4c1': '160541986_d5be2ab4c1.jpg',\n",
              " '160566014_59528ff897': '160566014_59528ff897.jpg',\n",
              " '160585932_fa6339f248': '160585932_fa6339f248.jpg',\n",
              " '1606988704_fe330878a3': '1606988704_fe330878a3.jpg',\n",
              " '160792599_6a7ec52516': '160792599_6a7ec52516.jpg',\n",
              " '160805827_5e6646b753': '160805827_5e6646b753.jpg',\n",
              " '1616016569_673de1d678': '1616016569_673de1d678.jpg',\n",
              " '161669933_3e7d8c7e2c': '161669933_3e7d8c7e2c.jpg',\n",
              " '161905204_247c6ca6de': '161905204_247c6ca6de.jpg',\n",
              " '1620397000_3883e3ecd3': '1620397000_3883e3ecd3.jpg',\n",
              " '162152393_52ecd33fc5': '162152393_52ecd33fc5.jpg',\n",
              " '1622619190_d0b51aff28': '1622619190_d0b51aff28.jpg',\n",
              " '1625306051_7099519baa': '1625306051_7099519baa.jpg',\n",
              " '1626754053_81126b67b6': '1626754053_81126b67b6.jpg',\n",
              " '162743064_bb242faa31': '162743064_bb242faa31.jpg',\n",
              " '1643915227_9f48068772': '1643915227_9f48068772.jpg',\n",
              " '1650280501_29810b46e5': '1650280501_29810b46e5.jpg',\n",
              " '1655781989_b15ab4cbff': '1655781989_b15ab4cbff.jpg',\n",
              " '1659358133_95cd1027bd': '1659358133_95cd1027bd.jpg',\n",
              " '1659358141_0433c9bf99': '1659358141_0433c9bf99.jpg',\n",
              " '1659396176_ced00a549f': '1659396176_ced00a549f.jpg',\n",
              " '1662261486_db967930de': '1662261486_db967930de.jpg',\n",
              " '166321294_4a5e68535f': '166321294_4a5e68535f.jpg',\n",
              " '1663454406_5e2cf8c5bb': '1663454406_5e2cf8c5bb.jpg',\n",
              " '1663751778_90501966f0': '1663751778_90501966f0.jpg',\n",
              " '166433861_70b66cd381': '166433861_70b66cd381.jpg',\n",
              " '166507476_9be5b9852a': '166507476_9be5b9852a.jpg',\n",
              " '166654939_80ea4ddbcc': '166654939_80ea4ddbcc.jpg',\n",
              " '1670592963_39731a3dac': '1670592963_39731a3dac.jpg',\n",
              " '167295035_336f5f5f27': '167295035_336f5f5f27.jpg',\n",
              " '1674612291_7154c5ab61': '1674612291_7154c5ab61.jpg',\n",
              " '1675679141_36c9bc2969': '1675679141_36c9bc2969.jpg',\n",
              " '1676601498_7d59327523': '1676601498_7d59327523.jpg',\n",
              " '1679557684_50a206e4a9': '1679557684_50a206e4a9.jpg',\n",
              " '1679565118_d36f0d6d52': '1679565118_d36f0d6d52.jpg',\n",
              " '1679617928_a73c1769be': '1679617928_a73c1769be.jpg',\n",
              " '1680126311_b92a2e8e72': '1680126311_b92a2e8e72.jpg',\n",
              " '1682079482_9a72fa57fa': '1682079482_9a72fa57fa.jpg',\n",
              " '1683444418_815f660379': '1683444418_815f660379.jpg',\n",
              " '1685463722_55843b6d3c': '1685463722_55843b6d3c.jpg',\n",
              " '1685990174_09c4fb7df8': '1685990174_09c4fb7df8.jpg',\n",
              " '1688699579_2f72328c7e': '1688699579_2f72328c7e.jpg',\n",
              " '1689658980_0074d81d28': '1689658980_0074d81d28.jpg',\n",
              " '1691573772_1adef8e40e': '1691573772_1adef8e40e.jpg',\n",
              " '169490297_b6ff13632a': '169490297_b6ff13632a.jpg',\n",
              " '170100272_d820db2199': '170100272_d820db2199.jpg',\n",
              " '1713248047_d03721456d': '1713248047_d03721456d.jpg',\n",
              " '1713248099_d860df4e10': '1713248099_d860df4e10.jpg',\n",
              " '1714316707_8bbaa2a2ba': '1714316707_8bbaa2a2ba.jpg',\n",
              " '171488318_fb26af58e2': '171488318_fb26af58e2.jpg',\n",
              " '1716445442_9cf3528342': '1716445442_9cf3528342.jpg',\n",
              " '1718184338_5968d88edb': '1718184338_5968d88edb.jpg',\n",
              " '172092461_a9a9762e13': '172092461_a9a9762e13.jpg',\n",
              " '172092464_d9eb4f4f2f': '172092464_d9eb4f4f2f.jpg',\n",
              " '172097782_f0844ec317': '172097782_f0844ec317.jpg',\n",
              " '172097783_292c5413d8': '172097783_292c5413d8.jpg',\n",
              " '1721637099_93e9ec2a2f': '1721637099_93e9ec2a2f.jpg',\n",
              " '17273391_55cfc7d3d4': '17273391_55cfc7d3d4.jpg',\n",
              " '173020287_230bfc4ffc': '173020287_230bfc4ffc.jpg',\n",
              " '1731546544_9fbf14617b': '1731546544_9fbf14617b.jpg',\n",
              " '1732217138_aa0199ef87': '1732217138_aa0199ef87.jpg',\n",
              " '1732436777_950bcdc9b8': '1732436777_950bcdc9b8.jpg',\n",
              " '174466741_329a52b2fe': '174466741_329a52b2fe.jpg',\n",
              " '1745110280_0cbff5e273': '1745110280_0cbff5e273.jpg',\n",
              " '1752454466_723790dbd6': '1752454466_723790dbd6.jpg',\n",
              " '1763020597_d4cc8f0f8a': '1763020597_d4cc8f0f8a.jpg',\n",
              " '1764955991_5e53a28c87': '1764955991_5e53a28c87.jpg',\n",
              " '1765164972_92dac06fa9': '1765164972_92dac06fa9.jpg',\n",
              " '1770036088_08abe4f6e9': '1770036088_08abe4f6e9.jpg',\n",
              " '1771490732_0ab5f029ac': '1771490732_0ab5f029ac.jpg',\n",
              " '1772859261_236c09b861': '1772859261_236c09b861.jpg',\n",
              " '177302997_5b2d770a0a': '177302997_5b2d770a0a.jpg',\n",
              " '1773928579_5664a810dc': '1773928579_5664a810dc.jpg',\n",
              " '1775029934_e1e96038a8': '1775029934_e1e96038a8.jpg',\n",
              " '1776981714_5b224d0f7a': '1776981714_5b224d0f7a.jpg',\n",
              " '1777816180_08d7e8063b': '1777816180_08d7e8063b.jpg',\n",
              " '1778020185_1d44c04dae': '1778020185_1d44c04dae.jpg',\n",
              " '1781227288_6811e734be': '1781227288_6811e734be.jpg',\n",
              " '1784309115_0ad6791146': '1784309115_0ad6791146.jpg',\n",
              " '1785138090_76a56aaabc': '1785138090_76a56aaabc.jpg',\n",
              " '1786425974_c7c5ad6aa1': '1786425974_c7c5ad6aa1.jpg',\n",
              " '1787222774_d5c68cce53': '1787222774_d5c68cce53.jpg',\n",
              " '179009558_69be522c63': '179009558_69be522c63.jpg',\n",
              " '1794818900_e0ffdd268e': '1794818900_e0ffdd268e.jpg',\n",
              " '1795151944_d69b82f942': '1795151944_d69b82f942.jpg',\n",
              " '1797507760_384744fb34': '1797507760_384744fb34.jpg',\n",
              " '1797554350_20998753c0': '1797554350_20998753c0.jpg',\n",
              " '1798209205_77dbf525b0': '1798209205_77dbf525b0.jpg',\n",
              " '1798215547_ef7ad95be8': '1798215547_ef7ad95be8.jpg',\n",
              " '179829865_095b040377': '179829865_095b040377.jpg',\n",
              " '1799188614_b5189728ba': '1799188614_b5189728ba.jpg',\n",
              " '1799271536_6e69c8f1dc': '1799271536_6e69c8f1dc.jpg',\n",
              " '1800601130_1c0f248d12': '1800601130_1c0f248d12.jpg',\n",
              " '180094434_b0f244832d': '180094434_b0f244832d.jpg',\n",
              " '1801063894_60bce29e19': '1801063894_60bce29e19.jpg',\n",
              " '1801188148_a176954965': '1801188148_a176954965.jpg',\n",
              " '1801663973_5ad393caeb': '1801663973_5ad393caeb.jpg',\n",
              " '1801874841_4c12055e2f': '1801874841_4c12055e2f.jpg',\n",
              " '1802092493_7b44fdb6b9': '1802092493_7b44fdb6b9.jpg',\n",
              " '1803631090_05e07cc159': '1803631090_05e07cc159.jpg',\n",
              " '180506881_de0f59770f': '180506881_de0f59770f.jpg',\n",
              " '1805990081_da9cefe3a5': '1805990081_da9cefe3a5.jpg',\n",
              " '1806580620_a8fe0fb9f8': '1806580620_a8fe0fb9f8.jpg',\n",
              " '1807169176_7f5226bf5a': '1807169176_7f5226bf5a.jpg',\n",
              " '1808007704_ee8a93abb4': '1808007704_ee8a93abb4.jpg',\n",
              " '1808370027_2088394eb4': '1808370027_2088394eb4.jpg',\n",
              " '1808504612_3508f3c9bb': '1808504612_3508f3c9bb.jpg',\n",
              " '1809758121_96026913bb': '1809758121_96026913bb.jpg',\n",
              " '1809796012_a2dac6c26b': '1809796012_a2dac6c26b.jpg',\n",
              " '1810651611_35aae644fb': '1810651611_35aae644fb.jpg',\n",
              " '181103691_fb2f956abd': '181103691_fb2f956abd.jpg',\n",
              " '181157221_e12410ef0b': '181157221_e12410ef0b.jpg',\n",
              " '1812525037_528465037c': '1812525037_528465037c.jpg',\n",
              " '1813266419_08bf66fe98': '1813266419_08bf66fe98.jpg',\n",
              " '1813597483_3f09d2a020': '1813597483_3f09d2a020.jpg',\n",
              " '1813777902_07d1d4b00c': '1813777902_07d1d4b00c.jpg',\n",
              " '1814086703_33390d5fc7': '1814086703_33390d5fc7.jpg',\n",
              " '181415975_2627aa6668': '181415975_2627aa6668.jpg',\n",
              " '1814391289_83a1eb71d3': '1814391289_83a1eb71d3.jpg',\n",
              " '181777261_84c48b31cb': '181777261_84c48b31cb.jpg',\n",
              " '1818403842_553a2a392c': '1818403842_553a2a392c.jpg',\n",
              " '1819261140_6c022f4b1d': '1819261140_6c022f4b1d.jpg',\n",
              " '1821238649_2fda79d6d7': '1821238649_2fda79d6d7.jpg',\n",
              " '182493240_40410254b0': '182493240_40410254b0.jpg',\n",
              " '1827560917_c8d3c5627f': '1827560917_c8d3c5627f.jpg',\n",
              " '1835511273_790eaae6e6': '1835511273_790eaae6e6.jpg',\n",
              " '1836335410_de8313a64e': '1836335410_de8313a64e.jpg',\n",
              " '1837976956_3c45d0f9b8': '1837976956_3c45d0f9b8.jpg',\n",
              " '185057637_e8ada37343': '185057637_e8ada37343.jpg',\n",
              " '1858963639_4588cd4be9': '1858963639_4588cd4be9.jpg',\n",
              " '185972340_781d60ccfd': '185972340_781d60ccfd.jpg',\n",
              " '1859726819_9a793b3b44': '1859726819_9a793b3b44.jpg',\n",
              " '1859941832_7faf6e5fa9': '1859941832_7faf6e5fa9.jpg',\n",
              " '1860543210_47e94cf652': '1860543210_47e94cf652.jpg',\n",
              " '186346360_541047336f': '186346360_541047336f.jpg',\n",
              " '186348874_75b2cf1ec5': '186348874_75b2cf1ec5.jpg',\n",
              " '1865794069_6e3a1e57bb': '1865794069_6e3a1e57bb.jpg',\n",
              " '186890601_8a6b0f1769': '186890601_8a6b0f1769.jpg',\n",
              " '186890605_ddff5b694e': '186890605_ddff5b694e.jpg',\n",
              " '1874617189_e85d3f4326': '1874617189_e85d3f4326.jpg',\n",
              " '1876536922_8fdf8d7028': '1876536922_8fdf8d7028.jpg',\n",
              " '1881494074_1bebd93089': '1881494074_1bebd93089.jpg',\n",
              " '1884065356_c6c34b4568': '1884065356_c6c34b4568.jpg',\n",
              " '1884727806_d84f209868': '1884727806_d84f209868.jpg',\n",
              " '1895768965_43cd9d164f': '1895768965_43cd9d164f.jpg',\n",
              " '1897025969_0c41688fa6': '1897025969_0c41688fa6.jpg',\n",
              " '189721896_1ffe76d89e': '189721896_1ffe76d89e.jpg',\n",
              " '189740668_0b045f1ff2': '189740668_0b045f1ff2.jpg',\n",
              " '1904112245_549e47c8aa': '1904112245_549e47c8aa.jpg',\n",
              " '190638179_be9da86589': '190638179_be9da86589.jpg',\n",
              " '190965502_0b9ed331d9': '190965502_0b9ed331d9.jpg',\n",
              " '191003283_992257f835': '191003283_992257f835.jpg',\n",
              " '191003284_1025b0fb7d': '191003284_1025b0fb7d.jpg',\n",
              " '191003285_edd8d0cf58': '191003285_edd8d0cf58.jpg',\n",
              " '191003287_2915c11d8e': '191003287_2915c11d8e.jpg',\n",
              " '191592626_477ef5e026': '191592626_477ef5e026.jpg',\n",
              " '1917203130_fcaff8b10e': '1917203130_fcaff8b10e.jpg',\n",
              " '1917265421_aeccf1ca38': '1917265421_aeccf1ca38.jpg',\n",
              " '1918573100_d31cbb6b77': '1918573100_d31cbb6b77.jpg',\n",
              " '19212715_20476497a3': '19212715_20476497a3.jpg',\n",
              " '1921398767_771743bf4e': '1921398767_771743bf4e.jpg',\n",
              " '1923476156_e20976b32d': '1923476156_e20976b32d.jpg',\n",
              " '1924234308_c9ddcf206d': '1924234308_c9ddcf206d.jpg',\n",
              " '1925434818_2949a8f6d8': '1925434818_2949a8f6d8.jpg',\n",
              " '1926129518_4350f4f552': '1926129518_4350f4f552.jpg',\n",
              " '1928319708_ccf1f4ee72': '1928319708_ccf1f4ee72.jpg',\n",
              " '1931690777_897a7d8ab6': '1931690777_897a7d8ab6.jpg',\n",
              " '1932161768_996eadac87': '1932161768_996eadac87.jpg',\n",
              " '1932314876_9cc46fd054': '1932314876_9cc46fd054.jpg',\n",
              " '1936215201_d03a75cbba': '1936215201_d03a75cbba.jpg',\n",
              " '1937104503_313d22a2d0': '1937104503_313d22a2d0.jpg',\n",
              " '1937262236_cbf5bfa101': '1937262236_cbf5bfa101.jpg',\n",
              " '1947351225_288d788983': '1947351225_288d788983.jpg',\n",
              " '195084264_72fb347b0f': '195084264_72fb347b0f.jpg',\n",
              " '1952896009_cee8147c90': '1952896009_cee8147c90.jpg',\n",
              " '1956678973_223cb1b847': '1956678973_223cb1b847.jpg',\n",
              " '1956944011_c5661d3f22': '1956944011_c5661d3f22.jpg',\n",
              " '1957371533_62bc720bac': '1957371533_62bc720bac.jpg',\n",
              " '195962284_e57178054a': '195962284_e57178054a.jpg',\n",
              " '195962790_3380aea352': '195962790_3380aea352.jpg',\n",
              " '1962729184_6996e128e7': '1962729184_6996e128e7.jpg',\n",
              " '1965278563_8279e408de': '1965278563_8279e408de.jpg',\n",
              " '1969573381_5ecfae4c80': '1969573381_5ecfae4c80.jpg',\n",
              " '197107117_4b438b1872': '197107117_4b438b1872.jpg',\n",
              " '197142902_f05ff198c2': '197142902_f05ff198c2.jpg',\n",
              " '197504190_fd1fc3d4b7': '197504190_fd1fc3d4b7.jpg',\n",
              " '1975171469_84e425f61b': '1975171469_84e425f61b.jpg',\n",
              " '1975531316_8b00eeaaf7': '1975531316_8b00eeaaf7.jpg',\n",
              " '1977827746_4e13d7e19f': '1977827746_4e13d7e19f.jpg',\n",
              " '197924859_f6e39a7dfa': '197924859_f6e39a7dfa.jpg',\n",
              " '1980315248_82dbc34676': '1980315248_82dbc34676.jpg',\n",
              " '1980882959_9a161f3469': '1980882959_9a161f3469.jpg',\n",
              " '1982852140_56425fa7a2': '1982852140_56425fa7a2.jpg',\n",
              " '1984936420_3f3102132b': '1984936420_3f3102132b.jpg',\n",
              " '1989145280_3b54452188': '1989145280_3b54452188.jpg',\n",
              " '1991806812_065f747689': '1991806812_065f747689.jpg',\n",
              " '1994416869_4dd769a806': '1994416869_4dd769a806.jpg',\n",
              " '199463720_329a802206': '199463720_329a802206.jpg',\n",
              " '199809190_e3f6bbe2bc': '199809190_e3f6bbe2bc.jpg',\n",
              " '1998255400_0cd086908f': '1998255400_0cd086908f.jpg',\n",
              " '1998457059_c9ac9a1e1a': '1998457059_c9ac9a1e1a.jpg',\n",
              " '1999444757_1b92efb590': '1999444757_1b92efb590.jpg',\n",
              " '2000459828_3c9e109106': '2000459828_3c9e109106.jpg',\n",
              " '2003663004_5b70920a98': '2003663004_5b70920a98.jpg',\n",
              " '2004674713_2883e63c67': '2004674713_2883e63c67.jpg',\n",
              " '200771289_31902164a7': '200771289_31902164a7.jpg',\n",
              " '2009636597_e3f4fe19fb': '2009636597_e3f4fe19fb.jpg',\n",
              " '201682811_105241dee3': '201682811_105241dee3.jpg',\n",
              " '2017276266_566656c59d': '2017276266_566656c59d.jpg',\n",
              " '2021602343_03023e1fd1': '2021602343_03023e1fd1.jpg',\n",
              " '2021613437_d99731f986': '2021613437_d99731f986.jpg',\n",
              " '2021671653_567395c7cf': '2021671653_567395c7cf.jpg',\n",
              " '2029280005_a19609c81a': '2029280005_a19609c81a.jpg',\n",
              " '2030781555_b7ff7be28f': '2030781555_b7ff7be28f.jpg',\n",
              " '203114209_e4cd71a6b7': '203114209_e4cd71a6b7.jpg',\n",
              " '2034553054_b00c166895': '2034553054_b00c166895.jpg',\n",
              " '2036407732_d5a0389bba': '2036407732_d5a0389bba.jpg',\n",
              " '2038662925_f4fa8c2534': '2038662925_f4fa8c2534.jpg',\n",
              " '2039457436_fc30f5e1ce': '2039457436_fc30f5e1ce.jpg',\n",
              " '2040941056_7f5fd50794': '2040941056_7f5fd50794.jpg',\n",
              " '2041867793_552819a40b': '2041867793_552819a40b.jpg',\n",
              " '2042009399_afad34e7c1': '2042009399_afad34e7c1.jpg',\n",
              " '2043427251_83b746da8e': '2043427251_83b746da8e.jpg',\n",
              " '2043520315_4a2c782c90': '2043520315_4a2c782c90.jpg',\n",
              " '2044063458_fcc76a7636': '2044063458_fcc76a7636.jpg',\n",
              " '2045023435_181854c013': '2045023435_181854c013.jpg',\n",
              " '2045109977_b00ec93491': '2045109977_b00ec93491.jpg',\n",
              " '2045562030_654ddea5e5': '2045562030_654ddea5e5.jpg',\n",
              " '2045928594_92510c1c2a': '2045928594_92510c1c2a.jpg',\n",
              " '2046222127_a6f300e202': '2046222127_a6f300e202.jpg',\n",
              " '2046778775_0dd7cac6ab': '2046778775_0dd7cac6ab.jpg',\n",
              " '2049051050_20359a434a': '2049051050_20359a434a.jpg',\n",
              " '2049646140_d0de01e3c4': '2049646140_d0de01e3c4.jpg',\n",
              " '2050067751_22d2763fd2': '2050067751_22d2763fd2.jpg',\n",
              " '2051194177_fbeee211e3': '2051194177_fbeee211e3.jpg',\n",
              " '2052202553_373dad145b': '2052202553_373dad145b.jpg',\n",
              " '2052702658_da1204f6d1': '2052702658_da1204f6d1.jpg',\n",
              " '2052953131_30834196fb': '2052953131_30834196fb.jpg',\n",
              " '2053006423_6adf69ca67': '2053006423_6adf69ca67.jpg',\n",
              " '2053441349_a98b5fc742': '2053441349_a98b5fc742.jpg',\n",
              " '2053733930_e245615ad4': '2053733930_e245615ad4.jpg',\n",
              " '2053777548_108e54c826': '2053777548_108e54c826.jpg',\n",
              " '2054308369_f9c6ec7815': '2054308369_f9c6ec7815.jpg',\n",
              " '2054869561_ff723e9eab': '2054869561_ff723e9eab.jpg',\n",
              " '2055646179_169807fed4': '2055646179_169807fed4.jpg',\n",
              " '2056041678_d6b5b39b26': '2056041678_d6b5b39b26.jpg',\n",
              " '2056042552_f59e338533': '2056042552_f59e338533.jpg',\n",
              " '2056377805_e9a9b3bcf0': '2056377805_e9a9b3bcf0.jpg',\n",
              " '205682549_713aa6cd88': '205682549_713aa6cd88.jpg',\n",
              " '2056930414_d2b0f1395a': '2056930414_d2b0f1395a.jpg',\n",
              " '2057160636_6e9cf3b5f0': '2057160636_6e9cf3b5f0.jpg',\n",
              " '2057305043_952b8dc82c': '2057305043_952b8dc82c.jpg',\n",
              " '2057306459_2f52ce648e': '2057306459_2f52ce648e.jpg',\n",
              " '2058091220_2087270068': '2058091220_2087270068.jpg',\n",
              " '2058124718_89822bc96e': '2058124718_89822bc96e.jpg',\n",
              " '2058472558_7dd5014abd': '2058472558_7dd5014abd.jpg',\n",
              " '2059616165_b7c99c1009': '2059616165_b7c99c1009.jpg',\n",
              " '2059842472_f4fb61ea08': '2059842472_f4fb61ea08.jpg',\n",
              " '2060031241_a3ae7a06bb': '2060031241_a3ae7a06bb.jpg',\n",
              " '206087108_d4557d38ee': '206087108_d4557d38ee.jpg',\n",
              " '2061144717_5b3a1864f0': '2061144717_5b3a1864f0.jpg',\n",
              " '2061354254_faa5bd294b': '2061354254_faa5bd294b.jpg',\n",
              " '2061397486_53a61e17c5': '2061397486_53a61e17c5.jpg',\n",
              " '2061927950_dafba5b8a3': '2061927950_dafba5b8a3.jpg',\n",
              " '2061944672_0383e65c8a': '2061944672_0383e65c8a.jpg',\n",
              " '2062607137_dac194ad02': '2062607137_dac194ad02.jpg',\n",
              " '2063277300_f7ff476914': '2063277300_f7ff476914.jpg',\n",
              " '2064417101_3b9d817f4a': '2064417101_3b9d817f4a.jpg',\n",
              " '2064780645_8f28a1529f': '2064780645_8f28a1529f.jpg',\n",
              " '2064790732_219e52e19c': '2064790732_219e52e19c.jpg',\n",
              " '2064792226_97e41d8167': '2064792226_97e41d8167.jpg',\n",
              " '2065309381_705b774f51': '2065309381_705b774f51.jpg',\n",
              " '2065875490_a46b58c12b': '2065875490_a46b58c12b.jpg',\n",
              " '2066048248_f53f5ef5e2': '2066048248_f53f5ef5e2.jpg',\n",
              " '2066241589_b80e9f676c': '2066241589_b80e9f676c.jpg',\n",
              " '2066271441_1f1f056c01': '2066271441_1f1f056c01.jpg',\n",
              " '2067362863_59577f9d4d': '2067362863_59577f9d4d.jpg',\n",
              " '2067833088_04e84e5bf2': '2067833088_04e84e5bf2.jpg',\n",
              " '2068403258_2669cf9763': '2068403258_2669cf9763.jpg',\n",
              " '2068465241_3bcabacfd7': '2068465241_3bcabacfd7.jpg',\n",
              " '2068960566_21e85ae0dc': '2068960566_21e85ae0dc.jpg',\n",
              " '2069279767_fb32bfb2de': '2069279767_fb32bfb2de.jpg',\n",
              " '2070798293_6b9405e04d': '2070798293_6b9405e04d.jpg',\n",
              " '2070831281_dc04b3e15d': '2070831281_dc04b3e15d.jpg',\n",
              " '2070831523_5035d5537e': '2070831523_5035d5537e.jpg',\n",
              " '2071309418_1d7580b0f0': '2071309418_1d7580b0f0.jpg',\n",
              " '207237775_fa0a15c6fe': '207237775_fa0a15c6fe.jpg',\n",
              " '2072574835_febf0c5fb9': '2072574835_febf0c5fb9.jpg',\n",
              " '207275121_ee4dfa0bf2': '207275121_ee4dfa0bf2.jpg',\n",
              " '2073105823_6dacade004': '2073105823_6dacade004.jpg',\n",
              " '2073174497_18b779999c': '2073174497_18b779999c.jpg',\n",
              " '2073756099_7e02c0110c': '2073756099_7e02c0110c.jpg',\n",
              " '2073964624_52da3a0fc4': '2073964624_52da3a0fc4.jpg',\n",
              " '2074146683_7c83167aa1': '2074146683_7c83167aa1.jpg',\n",
              " '2074244690_82e30ff44b': '2074244690_82e30ff44b.jpg',\n",
              " '2074764331_90a9962b52': '2074764331_90a9962b52.jpg',\n",
              " '2075041394_0b3ea1822d': '2075041394_0b3ea1822d.jpg',\n",
              " '2075321027_c8fcbaf581': '2075321027_c8fcbaf581.jpg',\n",
              " '2075493556_b763648389': '2075493556_b763648389.jpg',\n",
              " '207584893_63e73c5c28': '207584893_63e73c5c28.jpg',\n",
              " '2076428547_738e0a132f': '2076428547_738e0a132f.jpg',\n",
              " '2076865206_53918c820c': '2076865206_53918c820c.jpg',\n",
              " '2076906555_c20dc082db': '2076906555_c20dc082db.jpg',\n",
              " '2077079696_03380d218b': '2077079696_03380d218b.jpg',\n",
              " '207731022_988f6afb35': '207731022_988f6afb35.jpg',\n",
              " '2077346067_0a3a5aae65': '2077346067_0a3a5aae65.jpg',\n",
              " '2078311270_f01c9eaf4c': '2078311270_f01c9eaf4c.jpg',\n",
              " '2079110798_ad1370a646': '2079110798_ad1370a646.jpg',\n",
              " '2079152458_40712c3b40': '2079152458_40712c3b40.jpg',\n",
              " '207930963_af3a2f1784': '207930963_af3a2f1784.jpg',\n",
              " '2079554580_f18d5c181b': '2079554580_f18d5c181b.jpg',\n",
              " '2080033499_6be742f483': '2080033499_6be742f483.jpg',\n",
              " '2081141788_38fa84ce3c': '2081141788_38fa84ce3c.jpg',\n",
              " '2081446176_f97dc76951': '2081446176_f97dc76951.jpg',\n",
              " '2081615901_13092cac56': '2081615901_13092cac56.jpg',\n",
              " '2081679622_6f1442367d': '2081679622_6f1442367d.jpg',\n",
              " '2082005167_a0d6a70020': '2082005167_a0d6a70020.jpg',\n",
              " '2083434441_a93bc6306b': '2083434441_a93bc6306b.jpg',\n",
              " '2083778090_3aecaa11cc': '2083778090_3aecaa11cc.jpg',\n",
              " '2084103826_ffd76b1e3e': '2084103826_ffd76b1e3e.jpg',\n",
              " '2084157130_f288e492e4': '2084157130_f288e492e4.jpg',\n",
              " '2084217208_7bd9bc85e5': '2084217208_7bd9bc85e5.jpg',\n",
              " '2085078076_b9db242d21': '2085078076_b9db242d21.jpg',\n",
              " '2085255128_61224cc47f': '2085255128_61224cc47f.jpg',\n",
              " '2085400856_ae09df33a7': '2085400856_ae09df33a7.jpg',\n",
              " '2085403342_a17b0654fe': '2085403342_a17b0654fe.jpg',\n",
              " '2085557551_7a88d01d4e': '2085557551_7a88d01d4e.jpg',\n",
              " '2085726719_a57a75dbe5': '2085726719_a57a75dbe5.jpg',\n",
              " '2086513494_dbbcb583e7': '2086513494_dbbcb583e7.jpg',\n",
              " '2086532897_b8714f2237': '2086532897_b8714f2237.jpg',\n",
              " '2086534745_1e4ab80078': '2086534745_1e4ab80078.jpg',\n",
              " '2086678529_b3301c2d71': '2086678529_b3301c2d71.jpg',\n",
              " '2087317114_cf06df5aa5': '2087317114_cf06df5aa5.jpg',\n",
              " '2087640654_1a84577a44': '2087640654_1a84577a44.jpg',\n",
              " '2088120475_d6318364f5': '2088120475_d6318364f5.jpg',\n",
              " '2088460083_42ee8a595a': '2088460083_42ee8a595a.jpg',\n",
              " '2088532947_c628e44c4a': '2088532947_c628e44c4a.jpg',\n",
              " '2088910854_c6f8d4f5f9': '2088910854_c6f8d4f5f9.jpg',\n",
              " '2089122314_40d5739aef': '2089122314_40d5739aef.jpg',\n",
              " '2089350172_dc2cf9fcf6': '2089350172_dc2cf9fcf6.jpg',\n",
              " '2089426086_7acc98a3a8': '2089426086_7acc98a3a8.jpg',\n",
              " '2089442007_6fc798548c': '2089442007_6fc798548c.jpg',\n",
              " '2089539651_9e518ec7de': '2089539651_9e518ec7de.jpg',\n",
              " '2089542487_b4c1ee7025': '2089542487_b4c1ee7025.jpg',\n",
              " '2089555297_95cf001fa7': '2089555297_95cf001fa7.jpg',\n",
              " '2090327868_9f99e2740d': '2090327868_9f99e2740d.jpg',\n",
              " '2090339522_d30d2436f9': '2090339522_d30d2436f9.jpg',\n",
              " '2090386465_b6ebb7df2c': '2090386465_b6ebb7df2c.jpg',\n",
              " '2090387793_274ab4cf7d': '2090387793_274ab4cf7d.jpg',\n",
              " '2090545563_a4e66ec76b': '2090545563_a4e66ec76b.jpg',\n",
              " '2090723611_318031cfa5': '2090723611_318031cfa5.jpg',\n",
              " '2090997177_76d482b158': '2090997177_76d482b158.jpg',\n",
              " '2091171488_c8512fec76': '2091171488_c8512fec76.jpg',\n",
              " '2092177624_13ab757e8b': '2092177624_13ab757e8b.jpg',\n",
              " '2092419948_eea8001d0f': '2092419948_eea8001d0f.jpg',\n",
              " '2092870249_90e3f1855b': '2092870249_90e3f1855b.jpg',\n",
              " '2094323311_27d58b1513': '2094323311_27d58b1513.jpg',\n",
              " '2094543127_46d2f1fedf': '2094543127_46d2f1fedf.jpg',\n",
              " '2094810449_f8df9dcdf7': '2094810449_f8df9dcdf7.jpg',\n",
              " '2095007523_591f255708': '2095007523_591f255708.jpg',\n",
              " '2095078658_c14ba89bc2': '2095078658_c14ba89bc2.jpg',\n",
              " '2095435987_1b7591d214': '2095435987_1b7591d214.jpg',\n",
              " '2095444126_201ff9f222': '2095444126_201ff9f222.jpg',\n",
              " '2095478050_736c4d2d28': '2095478050_736c4d2d28.jpg',\n",
              " '209605542_ca9cc52e7b': '209605542_ca9cc52e7b.jpg',\n",
              " '2096771662_984441d20d': '2096771662_984441d20d.jpg',\n",
              " '2097398349_ff178b3f1b': '2097398349_ff178b3f1b.jpg',\n",
              " '2097403787_77a154f5b9': '2097403787_77a154f5b9.jpg',\n",
              " '2097407245_c798e0dcaf': '2097407245_c798e0dcaf.jpg',\n",
              " '2097420505_439f63c863': '2097420505_439f63c863.jpg',\n",
              " '2097489021_ca1b9f5c3b': '2097489021_ca1b9f5c3b.jpg',\n",
              " '2098174172_e57d86ea03': '2098174172_e57d86ea03.jpg',\n",
              " '2098418613_85a0c9afea': '2098418613_85a0c9afea.jpg',\n",
              " ...}"
            ]
          },
          "execution_count": 58,
          "metadata": {},
          "output_type": "execute_result"
        }
      ],
      "source": [
        "id2path"
      ]
    },
    {
      "cell_type": "code",
      "execution_count": 59,
      "metadata": {},
      "outputs": [
        {
          "data": {
            "text/html": [
              "<pre style=\"white-space:pre;overflow-x:auto;line-height:normal;font-family:Menlo,'DejaVu Sans Mono',consolas,'Courier New',monospace\">All images are present in the folder.\n",
              "</pre>\n"
            ],
            "text/plain": [
              "All images are present in the folder.\n"
            ]
          },
          "metadata": {},
          "output_type": "display_data"
        }
      ],
      "source": [
        "# Check if each image file exists in the folder\n",
        "\n",
        "folder_path = \"flicker_8k/photos\"\n",
        "\n",
        "missing_images = []\n",
        "\n",
        "for image_path in image_name_list:\n",
        "    full_image_path = os.path.join(folder_path, image_path)\n",
        "    if not os.path.exists(full_image_path):\n",
        "        missing_images.append(image_path)\n",
        "\n",
        "if missing_images:\n",
        "    print(\"The following images are missing:\")\n",
        "    for image_path in missing_images:\n",
        "        print(image_path)\n",
        "else:\n",
        "    print(\"All images are present in the folder.\")"
      ]
    },
    {
      "cell_type": "code",
      "execution_count": 60,
      "metadata": {},
      "outputs": [
        {
          "data": {
            "text/html": [
              "<pre style=\"white-space:pre;overflow-x:auto;line-height:normal;font-family:Menlo,'DejaVu Sans Mono',consolas,'Courier New',monospace\">img_names <span style=\"color: #008080; text-decoration-color: #008080; font-weight: bold\">8091</span>\n",
              "</pre>\n"
            ],
            "text/plain": [
              "img_names \u001b[1;36m8091\u001b[0m\n"
            ]
          },
          "metadata": {},
          "output_type": "display_data"
        },
        {
          "data": {
            "text/html": [
              "<pre style=\"white-space:pre;overflow-x:auto;line-height:normal;font-family:Menlo,'DejaVu Sans Mono',consolas,'Courier New',monospace\">destroy_images <span style=\"color: #008080; text-decoration-color: #008080; font-weight: bold\">0</span>\n",
              "</pre>\n"
            ],
            "text/plain": [
              "destroy_images \u001b[1;36m0\u001b[0m\n"
            ]
          },
          "metadata": {},
          "output_type": "display_data"
        },
        {
          "data": {
            "text/html": [
              "<pre style=\"white-space:pre;overflow-x:auto;line-height:normal;font-family:Menlo,'DejaVu Sans Mono',consolas,'Courier New',monospace\">not_exist_paths <span style=\"color: #008080; text-decoration-color: #008080; font-weight: bold\">0</span>\n",
              "</pre>\n"
            ],
            "text/plain": [
              "not_exist_paths \u001b[1;36m0\u001b[0m\n"
            ]
          },
          "metadata": {},
          "output_type": "display_data"
        },
        {
          "data": {
            "text/html": [
              "<pre style=\"white-space:pre;overflow-x:auto;line-height:normal;font-family:Menlo,'DejaVu Sans Mono',consolas,'Courier New',monospace\">remaining images <span style=\"color: #008080; text-decoration-color: #008080; font-weight: bold\">8091</span>\n",
              "</pre>\n"
            ],
            "text/plain": [
              "remaining images \u001b[1;36m8091\u001b[0m\n"
            ]
          },
          "metadata": {},
          "output_type": "display_data"
        }
      ],
      "source": [
        "# Delete the images that are not included on the testing dataset \n",
        "\n",
        "import os\n",
        "\n",
        "\n",
        "not_exist_paths = []\n",
        "exist_paths = [] \n",
        "\n",
        "# Get a list of all files in the folder\n",
        "all_files = os.listdir(folder_path)\n",
        "\n",
        "# Remove any files in the folder that are not in the list of image paths\n",
        "for file_name in all_files:\n",
        "    if file_name not in image_name_list:\n",
        "        file_path = os.path.join(folder_path, file_name)\n",
        "        os.remove(file_path)\n",
        "        # print(f\"Removed: {file_path}\")\n",
        "        not_exist_paths.append(file_path)\n",
        "\n",
        "    elif file_name in image_name_list:\n",
        "\n",
        "        exist_paths.append(file_name)\n",
        "\n",
        "\n",
        "destroy_images = set(not_exist_paths).difference(set(exist_paths))\n",
        "\n",
        "\n",
        "print(\"img_names\", len(all_files))\n",
        "print(\"destroy_images\", len(destroy_images))\n",
        "print(\"not_exist_paths\", len(not_exist_paths))\n",
        "print(\"remaining images\", len(all_files)- len(destroy_images))\n",
        "\n",
        "# print(\"Finished removing unwanted images.\")"
      ]
    },
    {
      "cell_type": "markdown",
      "metadata": {},
      "source": [
        "Define the the text model "
      ]
    },
    {
      "cell_type": "code",
      "execution_count": 61,
      "metadata": {},
      "outputs": [],
      "source": [
        "import pickle\n",
        "\n",
        "import torch\n",
        "import transformers\n",
        "\n",
        "class MultilingualClipEdited(torch.nn.Module):\n",
        "    def __init__(self, model_name, tokenizer_name, head_name, weights_dir='data/weights/', cache_dir=None,in_features=None,out_features=None):\n",
        "        super().__init__()\n",
        "        self.model_name = model_name\n",
        "        self.tokenizer_name = tokenizer_name\n",
        "        self.head_path = weights_dir + head_name\n",
        "\n",
        "        self.tokenizer = transformers.AutoTokenizer.from_pretrained(tokenizer_name, cache_dir=cache_dir)\n",
        "        print(self.tokenizer )\n",
        "        self.transformer = transformers.AutoModel.from_pretrained(model_name, cache_dir=cache_dir)\n",
        "        self.clip_head = torch.nn.Linear(in_features=in_features, out_features=out_features)\n",
        "        self._load_head()\n",
        "\n",
        "    def forward(self, txt):\n",
        "        txt_tok = self.tokenizer(txt, padding=True, return_tensors='pt')\n",
        "        embs = self.transformer(**txt_tok)[0]\n",
        "        att = txt_tok['attention_mask']\n",
        "        embs = (embs * att.unsqueeze(2)).sum(dim=1) / att.sum(dim=1)[:, None]\n",
        "        return self.clip_head(embs)\n",
        "\n",
        "    def _load_head(self):\n",
        "        with open(self.head_path, 'rb') as f:\n",
        "            lin_weights = pickle.loads(f.read())\n",
        "        self.clip_head.weight = torch.nn.Parameter(torch.tensor(lin_weights[0]).float().t())\n",
        "        self.clip_head.bias = torch.nn.Parameter(torch.tensor(lin_weights[1]).float())\n",
        "\n",
        "AVAILABLE_MODELS = {\n",
        "\n",
        "    'Arabert-v2-base-ViT-B-16-SigLIP-512-2M-mscoco':{\n",
        "    'model_name':'Arabic-Clip/Arabert-v2-base-ViT-B-16-SigLIP-512-2M-mscoco',\n",
        "    'tokenizer_name':'Arabic-Clip/Arabert-v2-base-ViT-B-16-SigLIP-512-2M-mscoco',\n",
        "    'head_name': 'Arabert-v2-base-ViT-B-16-SigLIP-512-2M-mscoco.pickle'\n",
        "    },\n",
        "}\n"
      ]
    },
    {
      "cell_type": "code",
      "execution_count": 62,
      "metadata": {},
      "outputs": [],
      "source": [
        "def load_model(name, cache_dir=None,in_features=None,out_features=None):\n",
        "    config = AVAILABLE_MODELS[name]\n",
        "    print(config)\n",
        "    return MultilingualClipEdited(**config, cache_dir=cache_dir, in_features= in_features, out_features=out_features)"
      ]
    },
    {
      "cell_type": "code",
      "execution_count": 63,
      "metadata": {},
      "outputs": [
        {
          "data": {
            "text/html": [
              "<pre style=\"white-space:pre;overflow-x:auto;line-height:normal;font-family:Menlo,'DejaVu Sans Mono',consolas,'Courier New',monospace\">File already exists at data/weights/Arabert-v2-base-ViT-B-<span style=\"color: #008080; text-decoration-color: #008080; font-weight: bold\">16</span>-SigLIP-<span style=\"color: #008080; text-decoration-color: #008080; font-weight: bold\">512</span>-2M-mscoco.pickle\n",
              "</pre>\n"
            ],
            "text/plain": [
              "File already exists at data/weights/Arabert-v2-base-ViT-B-\u001b[1;36m16\u001b[0m-SigLIP-\u001b[1;36m512\u001b[0m-2M-mscoco.pickle\n"
            ]
          },
          "metadata": {},
          "output_type": "display_data"
        }
      ],
      "source": [
        "import os\n",
        "import requests\n",
        "\n",
        "def download_file(url, folder_path, filename=None):\n",
        "    # If filename is not specified, use the last part of the URL as the filename\n",
        "    if filename is None:\n",
        "        filename = os.path.basename(url)\n",
        "    \n",
        "    # Full path where the file should be saved\n",
        "    file_path = os.path.join(folder_path, filename)\n",
        "    \n",
        "    # Check if the file already exists\n",
        "    if not os.path.exists(file_path):\n",
        "        # Make sure the folder exists\n",
        "        os.makedirs(folder_path, exist_ok=True)\n",
        "        \n",
        "        # Download the file\n",
        "        response = requests.get(url)\n",
        "        response.raise_for_status()  # Check for HTTP request errors\n",
        "        \n",
        "        # Write the file to the specified path\n",
        "        with open(file_path, 'wb') as file:\n",
        "            file.write(response.content)\n",
        "        \n",
        "        print(f\"File downloaded and saved to {file_path}\")\n",
        "    else:\n",
        "        print(f\"File already exists at {file_path}\")\n",
        "\n",
        "# Example usage\n",
        "url = 'https://huggingface.co/Arabic-Clip/Arabert-v2-base-ViT-B-16-SigLIP-512-2M-mscoco/resolve/main/Arabert-v2-base-ViT-B-16-SigLIP-512-2M-mscoco.pickle'\n",
        "folder_path = 'data/weights'  # Replace with your desired folder path\n",
        "\n",
        "download_file(url, folder_path)\n"
      ]
    },
    {
      "cell_type": "code",
      "execution_count": 64,
      "metadata": {},
      "outputs": [
        {
          "data": {
            "text/html": [
              "<pre style=\"white-space:pre;overflow-x:auto;line-height:normal;font-family:Menlo,'DejaVu Sans Mono',consolas,'Courier New',monospace\"><span style=\"color: #008080; text-decoration-color: #008080; font-weight: bold\">2</span>\n",
              "</pre>\n"
            ],
            "text/plain": [
              "\u001b[1;36m2\u001b[0m\n"
            ]
          },
          "metadata": {},
          "output_type": "display_data"
        },
        {
          "data": {
            "text/html": [
              "<pre style=\"white-space:pre;overflow-x:auto;line-height:normal;font-family:Menlo,'DejaVu Sans Mono',consolas,'Courier New',monospace\"><span style=\"font-weight: bold\">(</span><span style=\"color: #008080; text-decoration-color: #008080; font-weight: bold\">768</span>, <span style=\"color: #008080; text-decoration-color: #008080; font-weight: bold\">768</span><span style=\"font-weight: bold\">)</span>\n",
              "</pre>\n"
            ],
            "text/plain": [
              "\u001b[1m(\u001b[0m\u001b[1;36m768\u001b[0m, \u001b[1;36m768\u001b[0m\u001b[1m)\u001b[0m\n"
            ]
          },
          "metadata": {},
          "output_type": "display_data"
        },
        {
          "data": {
            "text/html": [
              "<pre style=\"white-space:pre;overflow-x:auto;line-height:normal;font-family:Menlo,'DejaVu Sans Mono',consolas,'Courier New',monospace\"><span style=\"font-weight: bold\">(</span><span style=\"color: #008080; text-decoration-color: #008080; font-weight: bold\">768</span>,<span style=\"font-weight: bold\">)</span>\n",
              "</pre>\n"
            ],
            "text/plain": [
              "\u001b[1m(\u001b[0m\u001b[1;36m768\u001b[0m,\u001b[1m)\u001b[0m\n"
            ]
          },
          "metadata": {},
          "output_type": "display_data"
        }
      ],
      "source": [
        "# Open the pickle file in binary read mode\n",
        "\n",
        "pickle_file_path = 'data/weights/Arabert-v2-base-ViT-B-16-SigLIP-512-2M-mscoco.pickle'  # Replace with the actual path to your pickle file\n",
        "with open(pickle_file_path, 'rb') as file:\n",
        "    loaded_content = pickle.load(file)\n",
        "    print(len(loaded_content))\n",
        "    print(loaded_content[0].shape)\n",
        "    print(loaded_content[1].shape)"
      ]
    },
    {
      "cell_type": "code",
      "execution_count": 65,
      "metadata": {},
      "outputs": [
        {
          "data": {
            "text/html": [
              "<pre style=\"white-space:pre;overflow-x:auto;line-height:normal;font-family:Menlo,'DejaVu Sans Mono',consolas,'Courier New',monospace\"><span style=\"font-weight: bold\">{</span>\n",
              "    <span style=\"color: #008000; text-decoration-color: #008000\">'model_name'</span>: <span style=\"color: #008000; text-decoration-color: #008000\">'Arabic-Clip/Arabert-v2-base-ViT-B-16-SigLIP-512-2M-mscoco'</span>,\n",
              "    <span style=\"color: #008000; text-decoration-color: #008000\">'tokenizer_name'</span>: <span style=\"color: #008000; text-decoration-color: #008000\">'Arabic-Clip/Arabert-v2-base-ViT-B-16-SigLIP-512-2M-mscoco'</span>,\n",
              "    <span style=\"color: #008000; text-decoration-color: #008000\">'head_name'</span>: <span style=\"color: #008000; text-decoration-color: #008000\">'Arabert-v2-base-ViT-B-16-SigLIP-512-2M-mscoco.pickle'</span>\n",
              "<span style=\"font-weight: bold\">}</span>\n",
              "</pre>\n"
            ],
            "text/plain": [
              "\u001b[1m{\u001b[0m\n",
              "    \u001b[32m'model_name'\u001b[0m: \u001b[32m'Arabic-Clip/Arabert-v2-base-ViT-B-16-SigLIP-512-2M-mscoco'\u001b[0m,\n",
              "    \u001b[32m'tokenizer_name'\u001b[0m: \u001b[32m'Arabic-Clip/Arabert-v2-base-ViT-B-16-SigLIP-512-2M-mscoco'\u001b[0m,\n",
              "    \u001b[32m'head_name'\u001b[0m: \u001b[32m'Arabert-v2-base-ViT-B-16-SigLIP-512-2M-mscoco.pickle'\u001b[0m\n",
              "\u001b[1m}\u001b[0m\n"
            ]
          },
          "metadata": {},
          "output_type": "display_data"
        },
        {
          "data": {
            "text/html": [
              "<pre style=\"white-space:pre;overflow-x:auto;line-height:normal;font-family:Menlo,'DejaVu Sans Mono',consolas,'Courier New',monospace\"><span style=\"color: #800080; text-decoration-color: #800080; font-weight: bold\">BertTokenizerFast</span><span style=\"font-weight: bold\">(</span><span style=\"color: #808000; text-decoration-color: #808000\">name_or_path</span>=<span style=\"color: #008000; text-decoration-color: #008000\">'Arabic-Clip/Arabert-v2-base-ViT-B-16-SigLIP-512-2M-mscoco'</span>, <span style=\"color: #808000; text-decoration-color: #808000\">vocab_size</span>=<span style=\"color: #008080; text-decoration-color: #008080; font-weight: bold\">64000</span>, \n",
              "<span style=\"color: #808000; text-decoration-color: #808000\">model_max_length</span>=<span style=\"color: #008080; text-decoration-color: #008080; font-weight: bold\">512</span>, <span style=\"color: #808000; text-decoration-color: #808000\">is_fast</span>=<span style=\"color: #00ff00; text-decoration-color: #00ff00; font-style: italic\">True</span>, <span style=\"color: #808000; text-decoration-color: #808000\">padding_side</span>=<span style=\"color: #008000; text-decoration-color: #008000\">'right'</span>, <span style=\"color: #808000; text-decoration-color: #808000\">truncation_side</span>=<span style=\"color: #008000; text-decoration-color: #008000\">'right'</span>, <span style=\"color: #808000; text-decoration-color: #808000\">special_tokens</span>=<span style=\"font-weight: bold\">{</span><span style=\"color: #008000; text-decoration-color: #008000\">'unk_token'</span>: \n",
              "<span style=\"color: #008000; text-decoration-color: #008000\">'[UNK]'</span>, <span style=\"color: #008000; text-decoration-color: #008000\">'sep_token'</span>: <span style=\"color: #008000; text-decoration-color: #008000\">'[SEP]'</span>, <span style=\"color: #008000; text-decoration-color: #008000\">'pad_token'</span>: <span style=\"color: #008000; text-decoration-color: #008000\">'[PAD]'</span>, <span style=\"color: #008000; text-decoration-color: #008000\">'cls_token'</span>: <span style=\"color: #008000; text-decoration-color: #008000\">'[CLS]'</span>, <span style=\"color: #008000; text-decoration-color: #008000\">'mask_token'</span>: <span style=\"color: #008000; text-decoration-color: #008000\">'[MASK]'</span><span style=\"font-weight: bold\">}</span>, \n",
              "<span style=\"color: #808000; text-decoration-color: #808000\">clean_up_tokenization_spaces</span>=<span style=\"color: #00ff00; text-decoration-color: #00ff00; font-style: italic\">True</span><span style=\"font-weight: bold\">)</span>,  <span style=\"color: #808000; text-decoration-color: #808000\">added_tokens_decoder</span>=<span style=\"font-weight: bold\">{</span>\n",
              "        <span style=\"color: #008080; text-decoration-color: #008080; font-weight: bold\">0</span>: <span style=\"color: #800080; text-decoration-color: #800080; font-weight: bold\">AddedToken</span><span style=\"font-weight: bold\">(</span><span style=\"color: #008000; text-decoration-color: #008000\">\"+ا\"</span>, <span style=\"color: #808000; text-decoration-color: #808000\">rstrip</span>=<span style=\"color: #ff0000; text-decoration-color: #ff0000; font-style: italic\">False</span>, <span style=\"color: #808000; text-decoration-color: #808000\">lstrip</span>=<span style=\"color: #ff0000; text-decoration-color: #ff0000; font-style: italic\">False</span>, <span style=\"color: #808000; text-decoration-color: #808000\">single_word</span>=<span style=\"color: #00ff00; text-decoration-color: #00ff00; font-style: italic\">True</span>, <span style=\"color: #808000; text-decoration-color: #808000\">normalized</span>=<span style=\"color: #00ff00; text-decoration-color: #00ff00; font-style: italic\">True</span>, <span style=\"color: #808000; text-decoration-color: #808000\">special</span>=<span style=\"color: #00ff00; text-decoration-color: #00ff00; font-style: italic\">True</span><span style=\"font-weight: bold\">)</span>,\n",
              "        <span style=\"color: #008080; text-decoration-color: #008080; font-weight: bold\">1</span>: <span style=\"color: #800080; text-decoration-color: #800080; font-weight: bold\">AddedToken</span><span style=\"font-weight: bold\">(</span><span style=\"color: #008000; text-decoration-color: #008000\">\"+ك\"</span>, <span style=\"color: #808000; text-decoration-color: #808000\">rstrip</span>=<span style=\"color: #ff0000; text-decoration-color: #ff0000; font-style: italic\">False</span>, <span style=\"color: #808000; text-decoration-color: #808000\">lstrip</span>=<span style=\"color: #ff0000; text-decoration-color: #ff0000; font-style: italic\">False</span>, <span style=\"color: #808000; text-decoration-color: #808000\">single_word</span>=<span style=\"color: #00ff00; text-decoration-color: #00ff00; font-style: italic\">True</span>, <span style=\"color: #808000; text-decoration-color: #808000\">normalized</span>=<span style=\"color: #00ff00; text-decoration-color: #00ff00; font-style: italic\">True</span>, <span style=\"color: #808000; text-decoration-color: #808000\">special</span>=<span style=\"color: #00ff00; text-decoration-color: #00ff00; font-style: italic\">True</span><span style=\"font-weight: bold\">)</span>,\n",
              "        <span style=\"color: #008080; text-decoration-color: #008080; font-weight: bold\">2</span>: <span style=\"color: #800080; text-decoration-color: #800080; font-weight: bold\">AddedToken</span><span style=\"font-weight: bold\">(</span><span style=\"color: #008000; text-decoration-color: #008000\">\"ب+\"</span>, <span style=\"color: #808000; text-decoration-color: #808000\">rstrip</span>=<span style=\"color: #ff0000; text-decoration-color: #ff0000; font-style: italic\">False</span>, <span style=\"color: #808000; text-decoration-color: #808000\">lstrip</span>=<span style=\"color: #ff0000; text-decoration-color: #ff0000; font-style: italic\">False</span>, <span style=\"color: #808000; text-decoration-color: #808000\">single_word</span>=<span style=\"color: #00ff00; text-decoration-color: #00ff00; font-style: italic\">True</span>, <span style=\"color: #808000; text-decoration-color: #808000\">normalized</span>=<span style=\"color: #00ff00; text-decoration-color: #00ff00; font-style: italic\">True</span>, <span style=\"color: #808000; text-decoration-color: #808000\">special</span>=<span style=\"color: #00ff00; text-decoration-color: #00ff00; font-style: italic\">True</span><span style=\"font-weight: bold\">)</span>,\n",
              "        <span style=\"color: #008080; text-decoration-color: #008080; font-weight: bold\">3</span>: <span style=\"color: #800080; text-decoration-color: #800080; font-weight: bold\">AddedToken</span><span style=\"font-weight: bold\">(</span><span style=\"color: #008000; text-decoration-color: #008000\">\"+هم\"</span>, <span style=\"color: #808000; text-decoration-color: #808000\">rstrip</span>=<span style=\"color: #ff0000; text-decoration-color: #ff0000; font-style: italic\">False</span>, <span style=\"color: #808000; text-decoration-color: #808000\">lstrip</span>=<span style=\"color: #ff0000; text-decoration-color: #ff0000; font-style: italic\">False</span>, <span style=\"color: #808000; text-decoration-color: #808000\">single_word</span>=<span style=\"color: #00ff00; text-decoration-color: #00ff00; font-style: italic\">True</span>, <span style=\"color: #808000; text-decoration-color: #808000\">normalized</span>=<span style=\"color: #00ff00; text-decoration-color: #00ff00; font-style: italic\">True</span>, <span style=\"color: #808000; text-decoration-color: #808000\">special</span>=<span style=\"color: #00ff00; text-decoration-color: #00ff00; font-style: italic\">True</span><span style=\"font-weight: bold\">)</span>,\n",
              "        <span style=\"color: #008080; text-decoration-color: #008080; font-weight: bold\">4</span>: <span style=\"color: #800080; text-decoration-color: #800080; font-weight: bold\">AddedToken</span><span style=\"font-weight: bold\">(</span><span style=\"color: #008000; text-decoration-color: #008000\">\"+ات\"</span>, <span style=\"color: #808000; text-decoration-color: #808000\">rstrip</span>=<span style=\"color: #ff0000; text-decoration-color: #ff0000; font-style: italic\">False</span>, <span style=\"color: #808000; text-decoration-color: #808000\">lstrip</span>=<span style=\"color: #ff0000; text-decoration-color: #ff0000; font-style: italic\">False</span>, <span style=\"color: #808000; text-decoration-color: #808000\">single_word</span>=<span style=\"color: #00ff00; text-decoration-color: #00ff00; font-style: italic\">True</span>, <span style=\"color: #808000; text-decoration-color: #808000\">normalized</span>=<span style=\"color: #00ff00; text-decoration-color: #00ff00; font-style: italic\">True</span>, <span style=\"color: #808000; text-decoration-color: #808000\">special</span>=<span style=\"color: #00ff00; text-decoration-color: #00ff00; font-style: italic\">True</span><span style=\"font-weight: bold\">)</span>,\n",
              "        <span style=\"color: #008080; text-decoration-color: #008080; font-weight: bold\">5</span>: <span style=\"color: #800080; text-decoration-color: #800080; font-weight: bold\">AddedToken</span><span style=\"font-weight: bold\">(</span><span style=\"color: #008000; text-decoration-color: #008000\">\"+ي\"</span>, <span style=\"color: #808000; text-decoration-color: #808000\">rstrip</span>=<span style=\"color: #ff0000; text-decoration-color: #ff0000; font-style: italic\">False</span>, <span style=\"color: #808000; text-decoration-color: #808000\">lstrip</span>=<span style=\"color: #ff0000; text-decoration-color: #ff0000; font-style: italic\">False</span>, <span style=\"color: #808000; text-decoration-color: #808000\">single_word</span>=<span style=\"color: #00ff00; text-decoration-color: #00ff00; font-style: italic\">True</span>, <span style=\"color: #808000; text-decoration-color: #808000\">normalized</span>=<span style=\"color: #00ff00; text-decoration-color: #00ff00; font-style: italic\">True</span>, <span style=\"color: #808000; text-decoration-color: #808000\">special</span>=<span style=\"color: #00ff00; text-decoration-color: #00ff00; font-style: italic\">True</span><span style=\"font-weight: bold\">)</span>,\n",
              "        <span style=\"color: #008080; text-decoration-color: #008080; font-weight: bold\">6</span>: <span style=\"color: #800080; text-decoration-color: #800080; font-weight: bold\">AddedToken</span><span style=\"font-weight: bold\">(</span><span style=\"color: #008000; text-decoration-color: #008000\">\"ل+\"</span>, <span style=\"color: #808000; text-decoration-color: #808000\">rstrip</span>=<span style=\"color: #ff0000; text-decoration-color: #ff0000; font-style: italic\">False</span>, <span style=\"color: #808000; text-decoration-color: #808000\">lstrip</span>=<span style=\"color: #ff0000; text-decoration-color: #ff0000; font-style: italic\">False</span>, <span style=\"color: #808000; text-decoration-color: #808000\">single_word</span>=<span style=\"color: #00ff00; text-decoration-color: #00ff00; font-style: italic\">True</span>, <span style=\"color: #808000; text-decoration-color: #808000\">normalized</span>=<span style=\"color: #00ff00; text-decoration-color: #00ff00; font-style: italic\">True</span>, <span style=\"color: #808000; text-decoration-color: #808000\">special</span>=<span style=\"color: #00ff00; text-decoration-color: #00ff00; font-style: italic\">True</span><span style=\"font-weight: bold\">)</span>,\n",
              "        <span style=\"color: #008080; text-decoration-color: #008080; font-weight: bold\">7</span>: <span style=\"color: #800080; text-decoration-color: #800080; font-weight: bold\">AddedToken</span><span style=\"font-weight: bold\">(</span><span style=\"color: #008000; text-decoration-color: #008000\">\"+هما\"</span>, <span style=\"color: #808000; text-decoration-color: #808000\">rstrip</span>=<span style=\"color: #ff0000; text-decoration-color: #ff0000; font-style: italic\">False</span>, <span style=\"color: #808000; text-decoration-color: #808000\">lstrip</span>=<span style=\"color: #ff0000; text-decoration-color: #ff0000; font-style: italic\">False</span>, <span style=\"color: #808000; text-decoration-color: #808000\">single_word</span>=<span style=\"color: #00ff00; text-decoration-color: #00ff00; font-style: italic\">True</span>, <span style=\"color: #808000; text-decoration-color: #808000\">normalized</span>=<span style=\"color: #00ff00; text-decoration-color: #00ff00; font-style: italic\">True</span>, <span style=\"color: #808000; text-decoration-color: #808000\">special</span>=<span style=\"color: #00ff00; text-decoration-color: #00ff00; font-style: italic\">True</span><span style=\"font-weight: bold\">)</span>,\n",
              "        <span style=\"color: #008080; text-decoration-color: #008080; font-weight: bold\">8</span>: <span style=\"color: #800080; text-decoration-color: #800080; font-weight: bold\">AddedToken</span><span style=\"font-weight: bold\">(</span><span style=\"color: #008000; text-decoration-color: #008000\">\"+نا\"</span>, <span style=\"color: #808000; text-decoration-color: #808000\">rstrip</span>=<span style=\"color: #ff0000; text-decoration-color: #ff0000; font-style: italic\">False</span>, <span style=\"color: #808000; text-decoration-color: #808000\">lstrip</span>=<span style=\"color: #ff0000; text-decoration-color: #ff0000; font-style: italic\">False</span>, <span style=\"color: #808000; text-decoration-color: #808000\">single_word</span>=<span style=\"color: #00ff00; text-decoration-color: #00ff00; font-style: italic\">True</span>, <span style=\"color: #808000; text-decoration-color: #808000\">normalized</span>=<span style=\"color: #00ff00; text-decoration-color: #00ff00; font-style: italic\">True</span>, <span style=\"color: #808000; text-decoration-color: #808000\">special</span>=<span style=\"color: #00ff00; text-decoration-color: #00ff00; font-style: italic\">True</span><span style=\"font-weight: bold\">)</span>,\n",
              "        <span style=\"color: #008080; text-decoration-color: #008080; font-weight: bold\">9</span>: <span style=\"color: #800080; text-decoration-color: #800080; font-weight: bold\">AddedToken</span><span style=\"font-weight: bold\">(</span><span style=\"color: #008000; text-decoration-color: #008000\">\"+ن\"</span>, <span style=\"color: #808000; text-decoration-color: #808000\">rstrip</span>=<span style=\"color: #ff0000; text-decoration-color: #ff0000; font-style: italic\">False</span>, <span style=\"color: #808000; text-decoration-color: #808000\">lstrip</span>=<span style=\"color: #ff0000; text-decoration-color: #ff0000; font-style: italic\">False</span>, <span style=\"color: #808000; text-decoration-color: #808000\">single_word</span>=<span style=\"color: #00ff00; text-decoration-color: #00ff00; font-style: italic\">True</span>, <span style=\"color: #808000; text-decoration-color: #808000\">normalized</span>=<span style=\"color: #00ff00; text-decoration-color: #00ff00; font-style: italic\">True</span>, <span style=\"color: #808000; text-decoration-color: #808000\">special</span>=<span style=\"color: #00ff00; text-decoration-color: #00ff00; font-style: italic\">True</span><span style=\"font-weight: bold\">)</span>,\n",
              "        <span style=\"color: #008080; text-decoration-color: #008080; font-weight: bold\">10</span>: <span style=\"color: #800080; text-decoration-color: #800080; font-weight: bold\">AddedToken</span><span style=\"font-weight: bold\">(</span><span style=\"color: #008000; text-decoration-color: #008000\">\"+ها\"</span>, <span style=\"color: #808000; text-decoration-color: #808000\">rstrip</span>=<span style=\"color: #ff0000; text-decoration-color: #ff0000; font-style: italic\">False</span>, <span style=\"color: #808000; text-decoration-color: #808000\">lstrip</span>=<span style=\"color: #ff0000; text-decoration-color: #ff0000; font-style: italic\">False</span>, <span style=\"color: #808000; text-decoration-color: #808000\">single_word</span>=<span style=\"color: #00ff00; text-decoration-color: #00ff00; font-style: italic\">True</span>, <span style=\"color: #808000; text-decoration-color: #808000\">normalized</span>=<span style=\"color: #00ff00; text-decoration-color: #00ff00; font-style: italic\">True</span>, <span style=\"color: #808000; text-decoration-color: #808000\">special</span>=<span style=\"color: #00ff00; text-decoration-color: #00ff00; font-style: italic\">True</span><span style=\"font-weight: bold\">)</span>,\n",
              "        <span style=\"color: #008080; text-decoration-color: #008080; font-weight: bold\">11</span>: <span style=\"color: #800080; text-decoration-color: #800080; font-weight: bold\">AddedToken</span><span style=\"font-weight: bold\">(</span><span style=\"color: #008000; text-decoration-color: #008000\">\"+كما\"</span>, <span style=\"color: #808000; text-decoration-color: #808000\">rstrip</span>=<span style=\"color: #ff0000; text-decoration-color: #ff0000; font-style: italic\">False</span>, <span style=\"color: #808000; text-decoration-color: #808000\">lstrip</span>=<span style=\"color: #ff0000; text-decoration-color: #ff0000; font-style: italic\">False</span>, <span style=\"color: #808000; text-decoration-color: #808000\">single_word</span>=<span style=\"color: #00ff00; text-decoration-color: #00ff00; font-style: italic\">True</span>, <span style=\"color: #808000; text-decoration-color: #808000\">normalized</span>=<span style=\"color: #00ff00; text-decoration-color: #00ff00; font-style: italic\">True</span>, <span style=\"color: #808000; text-decoration-color: #808000\">special</span>=<span style=\"color: #00ff00; text-decoration-color: #00ff00; font-style: italic\">True</span><span style=\"font-weight: bold\">)</span>,\n",
              "        <span style=\"color: #008080; text-decoration-color: #008080; font-weight: bold\">12</span>: <span style=\"color: #800080; text-decoration-color: #800080; font-weight: bold\">AddedToken</span><span style=\"font-weight: bold\">(</span><span style=\"color: #008000; text-decoration-color: #008000\">\"+ة\"</span>, <span style=\"color: #808000; text-decoration-color: #808000\">rstrip</span>=<span style=\"color: #ff0000; text-decoration-color: #ff0000; font-style: italic\">False</span>, <span style=\"color: #808000; text-decoration-color: #808000\">lstrip</span>=<span style=\"color: #ff0000; text-decoration-color: #ff0000; font-style: italic\">False</span>, <span style=\"color: #808000; text-decoration-color: #808000\">single_word</span>=<span style=\"color: #00ff00; text-decoration-color: #00ff00; font-style: italic\">True</span>, <span style=\"color: #808000; text-decoration-color: #808000\">normalized</span>=<span style=\"color: #00ff00; text-decoration-color: #00ff00; font-style: italic\">True</span>, <span style=\"color: #808000; text-decoration-color: #808000\">special</span>=<span style=\"color: #00ff00; text-decoration-color: #00ff00; font-style: italic\">True</span><span style=\"font-weight: bold\">)</span>,\n",
              "        <span style=\"color: #008080; text-decoration-color: #008080; font-weight: bold\">13</span>: <span style=\"color: #800080; text-decoration-color: #800080; font-weight: bold\">AddedToken</span><span style=\"font-weight: bold\">(</span><span style=\"color: #008000; text-decoration-color: #008000\">\"ف+\"</span>, <span style=\"color: #808000; text-decoration-color: #808000\">rstrip</span>=<span style=\"color: #ff0000; text-decoration-color: #ff0000; font-style: italic\">False</span>, <span style=\"color: #808000; text-decoration-color: #808000\">lstrip</span>=<span style=\"color: #ff0000; text-decoration-color: #ff0000; font-style: italic\">False</span>, <span style=\"color: #808000; text-decoration-color: #808000\">single_word</span>=<span style=\"color: #00ff00; text-decoration-color: #00ff00; font-style: italic\">True</span>, <span style=\"color: #808000; text-decoration-color: #808000\">normalized</span>=<span style=\"color: #00ff00; text-decoration-color: #00ff00; font-style: italic\">True</span>, <span style=\"color: #808000; text-decoration-color: #808000\">special</span>=<span style=\"color: #00ff00; text-decoration-color: #00ff00; font-style: italic\">True</span><span style=\"font-weight: bold\">)</span>,\n",
              "        <span style=\"color: #008080; text-decoration-color: #008080; font-weight: bold\">14</span>: <span style=\"color: #800080; text-decoration-color: #800080; font-weight: bold\">AddedToken</span><span style=\"font-weight: bold\">(</span><span style=\"color: #008000; text-decoration-color: #008000\">\"+كم\"</span>, <span style=\"color: #808000; text-decoration-color: #808000\">rstrip</span>=<span style=\"color: #ff0000; text-decoration-color: #ff0000; font-style: italic\">False</span>, <span style=\"color: #808000; text-decoration-color: #808000\">lstrip</span>=<span style=\"color: #ff0000; text-decoration-color: #ff0000; font-style: italic\">False</span>, <span style=\"color: #808000; text-decoration-color: #808000\">single_word</span>=<span style=\"color: #00ff00; text-decoration-color: #00ff00; font-style: italic\">True</span>, <span style=\"color: #808000; text-decoration-color: #808000\">normalized</span>=<span style=\"color: #00ff00; text-decoration-color: #00ff00; font-style: italic\">True</span>, <span style=\"color: #808000; text-decoration-color: #808000\">special</span>=<span style=\"color: #00ff00; text-decoration-color: #00ff00; font-style: italic\">True</span><span style=\"font-weight: bold\">)</span>,\n",
              "        <span style=\"color: #008080; text-decoration-color: #008080; font-weight: bold\">15</span>: <span style=\"color: #800080; text-decoration-color: #800080; font-weight: bold\">AddedToken</span><span style=\"font-weight: bold\">(</span><span style=\"color: #008000; text-decoration-color: #008000\">\"+كن\"</span>, <span style=\"color: #808000; text-decoration-color: #808000\">rstrip</span>=<span style=\"color: #ff0000; text-decoration-color: #ff0000; font-style: italic\">False</span>, <span style=\"color: #808000; text-decoration-color: #808000\">lstrip</span>=<span style=\"color: #ff0000; text-decoration-color: #ff0000; font-style: italic\">False</span>, <span style=\"color: #808000; text-decoration-color: #808000\">single_word</span>=<span style=\"color: #00ff00; text-decoration-color: #00ff00; font-style: italic\">True</span>, <span style=\"color: #808000; text-decoration-color: #808000\">normalized</span>=<span style=\"color: #00ff00; text-decoration-color: #00ff00; font-style: italic\">True</span>, <span style=\"color: #808000; text-decoration-color: #808000\">special</span>=<span style=\"color: #00ff00; text-decoration-color: #00ff00; font-style: italic\">True</span><span style=\"font-weight: bold\">)</span>,\n",
              "        <span style=\"color: #008080; text-decoration-color: #008080; font-weight: bold\">16</span>: <span style=\"color: #800080; text-decoration-color: #800080; font-weight: bold\">AddedToken</span><span style=\"font-weight: bold\">(</span><span style=\"color: #008000; text-decoration-color: #008000\">\"+ت\"</span>, <span style=\"color: #808000; text-decoration-color: #808000\">rstrip</span>=<span style=\"color: #ff0000; text-decoration-color: #ff0000; font-style: italic\">False</span>, <span style=\"color: #808000; text-decoration-color: #808000\">lstrip</span>=<span style=\"color: #ff0000; text-decoration-color: #ff0000; font-style: italic\">False</span>, <span style=\"color: #808000; text-decoration-color: #808000\">single_word</span>=<span style=\"color: #00ff00; text-decoration-color: #00ff00; font-style: italic\">True</span>, <span style=\"color: #808000; text-decoration-color: #808000\">normalized</span>=<span style=\"color: #00ff00; text-decoration-color: #00ff00; font-style: italic\">True</span>, <span style=\"color: #808000; text-decoration-color: #808000\">special</span>=<span style=\"color: #00ff00; text-decoration-color: #00ff00; font-style: italic\">True</span><span style=\"font-weight: bold\">)</span>,\n",
              "        <span style=\"color: #008080; text-decoration-color: #008080; font-weight: bold\">17</span>: <span style=\"color: #800080; text-decoration-color: #800080; font-weight: bold\">AddedToken</span><span style=\"font-weight: bold\">(</span><span style=\"color: #008000; text-decoration-color: #008000\">\"[بريد]\"</span>, <span style=\"color: #808000; text-decoration-color: #808000\">rstrip</span>=<span style=\"color: #ff0000; text-decoration-color: #ff0000; font-style: italic\">False</span>, <span style=\"color: #808000; text-decoration-color: #808000\">lstrip</span>=<span style=\"color: #ff0000; text-decoration-color: #ff0000; font-style: italic\">False</span>, <span style=\"color: #808000; text-decoration-color: #808000\">single_word</span>=<span style=\"color: #00ff00; text-decoration-color: #00ff00; font-style: italic\">True</span>, <span style=\"color: #808000; text-decoration-color: #808000\">normalized</span>=<span style=\"color: #00ff00; text-decoration-color: #00ff00; font-style: italic\">True</span>, <span style=\"color: #808000; text-decoration-color: #808000\">special</span>=<span style=\"color: #00ff00; text-decoration-color: #00ff00; font-style: italic\">True</span><span style=\"font-weight: bold\">)</span>,\n",
              "        <span style=\"color: #008080; text-decoration-color: #008080; font-weight: bold\">18</span>: <span style=\"color: #800080; text-decoration-color: #800080; font-weight: bold\">AddedToken</span><span style=\"font-weight: bold\">(</span><span style=\"color: #008000; text-decoration-color: #008000\">\"[مستخدم]\"</span>, <span style=\"color: #808000; text-decoration-color: #808000\">rstrip</span>=<span style=\"color: #ff0000; text-decoration-color: #ff0000; font-style: italic\">False</span>, <span style=\"color: #808000; text-decoration-color: #808000\">lstrip</span>=<span style=\"color: #ff0000; text-decoration-color: #ff0000; font-style: italic\">False</span>, <span style=\"color: #808000; text-decoration-color: #808000\">single_word</span>=<span style=\"color: #00ff00; text-decoration-color: #00ff00; font-style: italic\">True</span>, <span style=\"color: #808000; text-decoration-color: #808000\">normalized</span>=<span style=\"color: #00ff00; text-decoration-color: #00ff00; font-style: italic\">True</span>, <span style=\"color: #808000; text-decoration-color: #808000\">special</span>=<span style=\"color: #00ff00; text-decoration-color: #00ff00; font-style: italic\">True</span><span style=\"font-weight: bold\">)</span>,\n",
              "        <span style=\"color: #008080; text-decoration-color: #008080; font-weight: bold\">19</span>: <span style=\"color: #800080; text-decoration-color: #800080; font-weight: bold\">AddedToken</span><span style=\"font-weight: bold\">(</span><span style=\"color: #008000; text-decoration-color: #008000\">\"لل+\"</span>, <span style=\"color: #808000; text-decoration-color: #808000\">rstrip</span>=<span style=\"color: #ff0000; text-decoration-color: #ff0000; font-style: italic\">False</span>, <span style=\"color: #808000; text-decoration-color: #808000\">lstrip</span>=<span style=\"color: #ff0000; text-decoration-color: #ff0000; font-style: italic\">False</span>, <span style=\"color: #808000; text-decoration-color: #808000\">single_word</span>=<span style=\"color: #00ff00; text-decoration-color: #00ff00; font-style: italic\">True</span>, <span style=\"color: #808000; text-decoration-color: #808000\">normalized</span>=<span style=\"color: #00ff00; text-decoration-color: #00ff00; font-style: italic\">True</span>, <span style=\"color: #808000; text-decoration-color: #808000\">special</span>=<span style=\"color: #00ff00; text-decoration-color: #00ff00; font-style: italic\">True</span><span style=\"font-weight: bold\">)</span>,\n",
              "        <span style=\"color: #008080; text-decoration-color: #008080; font-weight: bold\">20</span>: <span style=\"color: #800080; text-decoration-color: #800080; font-weight: bold\">AddedToken</span><span style=\"font-weight: bold\">(</span><span style=\"color: #008000; text-decoration-color: #008000\">\"ال+\"</span>, <span style=\"color: #808000; text-decoration-color: #808000\">rstrip</span>=<span style=\"color: #ff0000; text-decoration-color: #ff0000; font-style: italic\">False</span>, <span style=\"color: #808000; text-decoration-color: #808000\">lstrip</span>=<span style=\"color: #ff0000; text-decoration-color: #ff0000; font-style: italic\">False</span>, <span style=\"color: #808000; text-decoration-color: #808000\">single_word</span>=<span style=\"color: #00ff00; text-decoration-color: #00ff00; font-style: italic\">True</span>, <span style=\"color: #808000; text-decoration-color: #808000\">normalized</span>=<span style=\"color: #00ff00; text-decoration-color: #00ff00; font-style: italic\">True</span>, <span style=\"color: #808000; text-decoration-color: #808000\">special</span>=<span style=\"color: #00ff00; text-decoration-color: #00ff00; font-style: italic\">True</span><span style=\"font-weight: bold\">)</span>,\n",
              "        <span style=\"color: #008080; text-decoration-color: #008080; font-weight: bold\">21</span>: <span style=\"color: #800080; text-decoration-color: #800080; font-weight: bold\">AddedToken</span><span style=\"font-weight: bold\">(</span><span style=\"color: #008000; text-decoration-color: #008000\">\"[رابط]\"</span>, <span style=\"color: #808000; text-decoration-color: #808000\">rstrip</span>=<span style=\"color: #ff0000; text-decoration-color: #ff0000; font-style: italic\">False</span>, <span style=\"color: #808000; text-decoration-color: #808000\">lstrip</span>=<span style=\"color: #ff0000; text-decoration-color: #ff0000; font-style: italic\">False</span>, <span style=\"color: #808000; text-decoration-color: #808000\">single_word</span>=<span style=\"color: #00ff00; text-decoration-color: #00ff00; font-style: italic\">True</span>, <span style=\"color: #808000; text-decoration-color: #808000\">normalized</span>=<span style=\"color: #00ff00; text-decoration-color: #00ff00; font-style: italic\">True</span>, <span style=\"color: #808000; text-decoration-color: #808000\">special</span>=<span style=\"color: #00ff00; text-decoration-color: #00ff00; font-style: italic\">True</span><span style=\"font-weight: bold\">)</span>,\n",
              "        <span style=\"color: #008080; text-decoration-color: #008080; font-weight: bold\">22</span>: <span style=\"color: #800080; text-decoration-color: #800080; font-weight: bold\">AddedToken</span><span style=\"font-weight: bold\">(</span><span style=\"color: #008000; text-decoration-color: #008000\">\"س+\"</span>, <span style=\"color: #808000; text-decoration-color: #808000\">rstrip</span>=<span style=\"color: #ff0000; text-decoration-color: #ff0000; font-style: italic\">False</span>, <span style=\"color: #808000; text-decoration-color: #808000\">lstrip</span>=<span style=\"color: #ff0000; text-decoration-color: #ff0000; font-style: italic\">False</span>, <span style=\"color: #808000; text-decoration-color: #808000\">single_word</span>=<span style=\"color: #00ff00; text-decoration-color: #00ff00; font-style: italic\">True</span>, <span style=\"color: #808000; text-decoration-color: #808000\">normalized</span>=<span style=\"color: #00ff00; text-decoration-color: #00ff00; font-style: italic\">True</span>, <span style=\"color: #808000; text-decoration-color: #808000\">special</span>=<span style=\"color: #00ff00; text-decoration-color: #00ff00; font-style: italic\">True</span><span style=\"font-weight: bold\">)</span>,\n",
              "        <span style=\"color: #008080; text-decoration-color: #008080; font-weight: bold\">23</span>: <span style=\"color: #800080; text-decoration-color: #800080; font-weight: bold\">AddedToken</span><span style=\"font-weight: bold\">(</span><span style=\"color: #008000; text-decoration-color: #008000\">\"+ان\"</span>, <span style=\"color: #808000; text-decoration-color: #808000\">rstrip</span>=<span style=\"color: #ff0000; text-decoration-color: #ff0000; font-style: italic\">False</span>, <span style=\"color: #808000; text-decoration-color: #808000\">lstrip</span>=<span style=\"color: #ff0000; text-decoration-color: #ff0000; font-style: italic\">False</span>, <span style=\"color: #808000; text-decoration-color: #808000\">single_word</span>=<span style=\"color: #00ff00; text-decoration-color: #00ff00; font-style: italic\">True</span>, <span style=\"color: #808000; text-decoration-color: #808000\">normalized</span>=<span style=\"color: #00ff00; text-decoration-color: #00ff00; font-style: italic\">True</span>, <span style=\"color: #808000; text-decoration-color: #808000\">special</span>=<span style=\"color: #00ff00; text-decoration-color: #00ff00; font-style: italic\">True</span><span style=\"font-weight: bold\">)</span>,\n",
              "        <span style=\"color: #008080; text-decoration-color: #008080; font-weight: bold\">24</span>: <span style=\"color: #800080; text-decoration-color: #800080; font-weight: bold\">AddedToken</span><span style=\"font-weight: bold\">(</span><span style=\"color: #008000; text-decoration-color: #008000\">\"+وا\"</span>, <span style=\"color: #808000; text-decoration-color: #808000\">rstrip</span>=<span style=\"color: #ff0000; text-decoration-color: #ff0000; font-style: italic\">False</span>, <span style=\"color: #808000; text-decoration-color: #808000\">lstrip</span>=<span style=\"color: #ff0000; text-decoration-color: #ff0000; font-style: italic\">False</span>, <span style=\"color: #808000; text-decoration-color: #808000\">single_word</span>=<span style=\"color: #00ff00; text-decoration-color: #00ff00; font-style: italic\">True</span>, <span style=\"color: #808000; text-decoration-color: #808000\">normalized</span>=<span style=\"color: #00ff00; text-decoration-color: #00ff00; font-style: italic\">True</span>, <span style=\"color: #808000; text-decoration-color: #808000\">special</span>=<span style=\"color: #00ff00; text-decoration-color: #00ff00; font-style: italic\">True</span><span style=\"font-weight: bold\">)</span>,\n",
              "        <span style=\"color: #008080; text-decoration-color: #008080; font-weight: bold\">25</span>: <span style=\"color: #800080; text-decoration-color: #800080; font-weight: bold\">AddedToken</span><span style=\"font-weight: bold\">(</span><span style=\"color: #008000; text-decoration-color: #008000\">\"+ه\"</span>, <span style=\"color: #808000; text-decoration-color: #808000\">rstrip</span>=<span style=\"color: #ff0000; text-decoration-color: #ff0000; font-style: italic\">False</span>, <span style=\"color: #808000; text-decoration-color: #808000\">lstrip</span>=<span style=\"color: #ff0000; text-decoration-color: #ff0000; font-style: italic\">False</span>, <span style=\"color: #808000; text-decoration-color: #808000\">single_word</span>=<span style=\"color: #00ff00; text-decoration-color: #00ff00; font-style: italic\">True</span>, <span style=\"color: #808000; text-decoration-color: #808000\">normalized</span>=<span style=\"color: #00ff00; text-decoration-color: #00ff00; font-style: italic\">True</span>, <span style=\"color: #808000; text-decoration-color: #808000\">special</span>=<span style=\"color: #00ff00; text-decoration-color: #00ff00; font-style: italic\">True</span><span style=\"font-weight: bold\">)</span>,\n",
              "        <span style=\"color: #008080; text-decoration-color: #008080; font-weight: bold\">26</span>: <span style=\"color: #800080; text-decoration-color: #800080; font-weight: bold\">AddedToken</span><span style=\"font-weight: bold\">(</span><span style=\"color: #008000; text-decoration-color: #008000\">\"+ون\"</span>, <span style=\"color: #808000; text-decoration-color: #808000\">rstrip</span>=<span style=\"color: #ff0000; text-decoration-color: #ff0000; font-style: italic\">False</span>, <span style=\"color: #808000; text-decoration-color: #808000\">lstrip</span>=<span style=\"color: #ff0000; text-decoration-color: #ff0000; font-style: italic\">False</span>, <span style=\"color: #808000; text-decoration-color: #808000\">single_word</span>=<span style=\"color: #00ff00; text-decoration-color: #00ff00; font-style: italic\">True</span>, <span style=\"color: #808000; text-decoration-color: #808000\">normalized</span>=<span style=\"color: #00ff00; text-decoration-color: #00ff00; font-style: italic\">True</span>, <span style=\"color: #808000; text-decoration-color: #808000\">special</span>=<span style=\"color: #00ff00; text-decoration-color: #00ff00; font-style: italic\">True</span><span style=\"font-weight: bold\">)</span>,\n",
              "        <span style=\"color: #008080; text-decoration-color: #008080; font-weight: bold\">27</span>: <span style=\"color: #800080; text-decoration-color: #800080; font-weight: bold\">AddedToken</span><span style=\"font-weight: bold\">(</span><span style=\"color: #008000; text-decoration-color: #008000\">\"+هن\"</span>, <span style=\"color: #808000; text-decoration-color: #808000\">rstrip</span>=<span style=\"color: #ff0000; text-decoration-color: #ff0000; font-style: italic\">False</span>, <span style=\"color: #808000; text-decoration-color: #808000\">lstrip</span>=<span style=\"color: #ff0000; text-decoration-color: #ff0000; font-style: italic\">False</span>, <span style=\"color: #808000; text-decoration-color: #808000\">single_word</span>=<span style=\"color: #00ff00; text-decoration-color: #00ff00; font-style: italic\">True</span>, <span style=\"color: #808000; text-decoration-color: #808000\">normalized</span>=<span style=\"color: #00ff00; text-decoration-color: #00ff00; font-style: italic\">True</span>, <span style=\"color: #808000; text-decoration-color: #808000\">special</span>=<span style=\"color: #00ff00; text-decoration-color: #00ff00; font-style: italic\">True</span><span style=\"font-weight: bold\">)</span>,\n",
              "        <span style=\"color: #008080; text-decoration-color: #008080; font-weight: bold\">28</span>: <span style=\"color: #800080; text-decoration-color: #800080; font-weight: bold\">AddedToken</span><span style=\"font-weight: bold\">(</span><span style=\"color: #008000; text-decoration-color: #008000\">\"+ين\"</span>, <span style=\"color: #808000; text-decoration-color: #808000\">rstrip</span>=<span style=\"color: #ff0000; text-decoration-color: #ff0000; font-style: italic\">False</span>, <span style=\"color: #808000; text-decoration-color: #808000\">lstrip</span>=<span style=\"color: #ff0000; text-decoration-color: #ff0000; font-style: italic\">False</span>, <span style=\"color: #808000; text-decoration-color: #808000\">single_word</span>=<span style=\"color: #00ff00; text-decoration-color: #00ff00; font-style: italic\">True</span>, <span style=\"color: #808000; text-decoration-color: #808000\">normalized</span>=<span style=\"color: #00ff00; text-decoration-color: #00ff00; font-style: italic\">True</span>, <span style=\"color: #808000; text-decoration-color: #808000\">special</span>=<span style=\"color: #00ff00; text-decoration-color: #00ff00; font-style: italic\">True</span><span style=\"font-weight: bold\">)</span>,\n",
              "        <span style=\"color: #008080; text-decoration-color: #008080; font-weight: bold\">29</span>: <span style=\"color: #800080; text-decoration-color: #800080; font-weight: bold\">AddedToken</span><span style=\"font-weight: bold\">(</span><span style=\"color: #008000; text-decoration-color: #008000\">\"و+\"</span>, <span style=\"color: #808000; text-decoration-color: #808000\">rstrip</span>=<span style=\"color: #ff0000; text-decoration-color: #ff0000; font-style: italic\">False</span>, <span style=\"color: #808000; text-decoration-color: #808000\">lstrip</span>=<span style=\"color: #ff0000; text-decoration-color: #ff0000; font-style: italic\">False</span>, <span style=\"color: #808000; text-decoration-color: #808000\">single_word</span>=<span style=\"color: #00ff00; text-decoration-color: #00ff00; font-style: italic\">True</span>, <span style=\"color: #808000; text-decoration-color: #808000\">normalized</span>=<span style=\"color: #00ff00; text-decoration-color: #00ff00; font-style: italic\">True</span>, <span style=\"color: #808000; text-decoration-color: #808000\">special</span>=<span style=\"color: #00ff00; text-decoration-color: #00ff00; font-style: italic\">True</span><span style=\"font-weight: bold\">)</span>,\n",
              "        <span style=\"color: #008080; text-decoration-color: #008080; font-weight: bold\">30</span>: <span style=\"color: #800080; text-decoration-color: #800080; font-weight: bold\">AddedToken</span><span style=\"font-weight: bold\">(</span><span style=\"color: #008000; text-decoration-color: #008000\">\"ك+\"</span>, <span style=\"color: #808000; text-decoration-color: #808000\">rstrip</span>=<span style=\"color: #ff0000; text-decoration-color: #ff0000; font-style: italic\">False</span>, <span style=\"color: #808000; text-decoration-color: #808000\">lstrip</span>=<span style=\"color: #ff0000; text-decoration-color: #ff0000; font-style: italic\">False</span>, <span style=\"color: #808000; text-decoration-color: #808000\">single_word</span>=<span style=\"color: #00ff00; text-decoration-color: #00ff00; font-style: italic\">True</span>, <span style=\"color: #808000; text-decoration-color: #808000\">normalized</span>=<span style=\"color: #00ff00; text-decoration-color: #00ff00; font-style: italic\">True</span>, <span style=\"color: #808000; text-decoration-color: #808000\">special</span>=<span style=\"color: #00ff00; text-decoration-color: #00ff00; font-style: italic\">True</span><span style=\"font-weight: bold\">)</span>,\n",
              "        <span style=\"color: #008080; text-decoration-color: #008080; font-weight: bold\">31</span>: <span style=\"color: #800080; text-decoration-color: #800080; font-weight: bold\">AddedToken</span><span style=\"font-weight: bold\">(</span><span style=\"color: #008000; text-decoration-color: #008000\">\"[PAD]\"</span>, <span style=\"color: #808000; text-decoration-color: #808000\">rstrip</span>=<span style=\"color: #ff0000; text-decoration-color: #ff0000; font-style: italic\">False</span>, <span style=\"color: #808000; text-decoration-color: #808000\">lstrip</span>=<span style=\"color: #ff0000; text-decoration-color: #ff0000; font-style: italic\">False</span>, <span style=\"color: #808000; text-decoration-color: #808000\">single_word</span>=<span style=\"color: #ff0000; text-decoration-color: #ff0000; font-style: italic\">False</span>, <span style=\"color: #808000; text-decoration-color: #808000\">normalized</span>=<span style=\"color: #ff0000; text-decoration-color: #ff0000; font-style: italic\">False</span>, <span style=\"color: #808000; text-decoration-color: #808000\">special</span>=<span style=\"color: #00ff00; text-decoration-color: #00ff00; font-style: italic\">True</span><span style=\"font-weight: bold\">)</span>,\n",
              "        <span style=\"color: #008080; text-decoration-color: #008080; font-weight: bold\">32</span>: <span style=\"color: #800080; text-decoration-color: #800080; font-weight: bold\">AddedToken</span><span style=\"font-weight: bold\">(</span><span style=\"color: #008000; text-decoration-color: #008000\">\"[UNK]\"</span>, <span style=\"color: #808000; text-decoration-color: #808000\">rstrip</span>=<span style=\"color: #ff0000; text-decoration-color: #ff0000; font-style: italic\">False</span>, <span style=\"color: #808000; text-decoration-color: #808000\">lstrip</span>=<span style=\"color: #ff0000; text-decoration-color: #ff0000; font-style: italic\">False</span>, <span style=\"color: #808000; text-decoration-color: #808000\">single_word</span>=<span style=\"color: #ff0000; text-decoration-color: #ff0000; font-style: italic\">False</span>, <span style=\"color: #808000; text-decoration-color: #808000\">normalized</span>=<span style=\"color: #ff0000; text-decoration-color: #ff0000; font-style: italic\">False</span>, <span style=\"color: #808000; text-decoration-color: #808000\">special</span>=<span style=\"color: #00ff00; text-decoration-color: #00ff00; font-style: italic\">True</span><span style=\"font-weight: bold\">)</span>,\n",
              "        <span style=\"color: #008080; text-decoration-color: #008080; font-weight: bold\">33</span>: <span style=\"color: #800080; text-decoration-color: #800080; font-weight: bold\">AddedToken</span><span style=\"font-weight: bold\">(</span><span style=\"color: #008000; text-decoration-color: #008000\">\"[CLS]\"</span>, <span style=\"color: #808000; text-decoration-color: #808000\">rstrip</span>=<span style=\"color: #ff0000; text-decoration-color: #ff0000; font-style: italic\">False</span>, <span style=\"color: #808000; text-decoration-color: #808000\">lstrip</span>=<span style=\"color: #ff0000; text-decoration-color: #ff0000; font-style: italic\">False</span>, <span style=\"color: #808000; text-decoration-color: #808000\">single_word</span>=<span style=\"color: #ff0000; text-decoration-color: #ff0000; font-style: italic\">False</span>, <span style=\"color: #808000; text-decoration-color: #808000\">normalized</span>=<span style=\"color: #ff0000; text-decoration-color: #ff0000; font-style: italic\">False</span>, <span style=\"color: #808000; text-decoration-color: #808000\">special</span>=<span style=\"color: #00ff00; text-decoration-color: #00ff00; font-style: italic\">True</span><span style=\"font-weight: bold\">)</span>,\n",
              "        <span style=\"color: #008080; text-decoration-color: #008080; font-weight: bold\">34</span>: <span style=\"color: #800080; text-decoration-color: #800080; font-weight: bold\">AddedToken</span><span style=\"font-weight: bold\">(</span><span style=\"color: #008000; text-decoration-color: #008000\">\"[SEP]\"</span>, <span style=\"color: #808000; text-decoration-color: #808000\">rstrip</span>=<span style=\"color: #ff0000; text-decoration-color: #ff0000; font-style: italic\">False</span>, <span style=\"color: #808000; text-decoration-color: #808000\">lstrip</span>=<span style=\"color: #ff0000; text-decoration-color: #ff0000; font-style: italic\">False</span>, <span style=\"color: #808000; text-decoration-color: #808000\">single_word</span>=<span style=\"color: #ff0000; text-decoration-color: #ff0000; font-style: italic\">False</span>, <span style=\"color: #808000; text-decoration-color: #808000\">normalized</span>=<span style=\"color: #ff0000; text-decoration-color: #ff0000; font-style: italic\">False</span>, <span style=\"color: #808000; text-decoration-color: #808000\">special</span>=<span style=\"color: #00ff00; text-decoration-color: #00ff00; font-style: italic\">True</span><span style=\"font-weight: bold\">)</span>,\n",
              "        <span style=\"color: #008080; text-decoration-color: #008080; font-weight: bold\">35</span>: <span style=\"color: #800080; text-decoration-color: #800080; font-weight: bold\">AddedToken</span><span style=\"font-weight: bold\">(</span><span style=\"color: #008000; text-decoration-color: #008000\">\"[MASK]\"</span>, <span style=\"color: #808000; text-decoration-color: #808000\">rstrip</span>=<span style=\"color: #ff0000; text-decoration-color: #ff0000; font-style: italic\">False</span>, <span style=\"color: #808000; text-decoration-color: #808000\">lstrip</span>=<span style=\"color: #ff0000; text-decoration-color: #ff0000; font-style: italic\">False</span>, <span style=\"color: #808000; text-decoration-color: #808000\">single_word</span>=<span style=\"color: #ff0000; text-decoration-color: #ff0000; font-style: italic\">False</span>, <span style=\"color: #808000; text-decoration-color: #808000\">normalized</span>=<span style=\"color: #ff0000; text-decoration-color: #ff0000; font-style: italic\">False</span>, <span style=\"color: #808000; text-decoration-color: #808000\">special</span>=<span style=\"color: #00ff00; text-decoration-color: #00ff00; font-style: italic\">True</span><span style=\"font-weight: bold\">)</span>,\n",
              "<span style=\"font-weight: bold\">}</span>\n",
              "</pre>\n"
            ],
            "text/plain": [
              "\u001b[1;35mBertTokenizerFast\u001b[0m\u001b[1m(\u001b[0m\u001b[33mname_or_path\u001b[0m=\u001b[32m'Arabic-Clip/Arabert-v2-base-ViT-B-16-SigLIP-512-2M-mscoco'\u001b[0m, \u001b[33mvocab_size\u001b[0m=\u001b[1;36m64000\u001b[0m, \n",
              "\u001b[33mmodel_max_length\u001b[0m=\u001b[1;36m512\u001b[0m, \u001b[33mis_fast\u001b[0m=\u001b[3;92mTrue\u001b[0m, \u001b[33mpadding_side\u001b[0m=\u001b[32m'right'\u001b[0m, \u001b[33mtruncation_side\u001b[0m=\u001b[32m'right'\u001b[0m, \u001b[33mspecial_tokens\u001b[0m=\u001b[1m{\u001b[0m\u001b[32m'unk_token'\u001b[0m: \n",
              "\u001b[32m'\u001b[0m\u001b[32m[\u001b[0m\u001b[32mUNK\u001b[0m\u001b[32m]\u001b[0m\u001b[32m'\u001b[0m, \u001b[32m'sep_token'\u001b[0m: \u001b[32m'\u001b[0m\u001b[32m[\u001b[0m\u001b[32mSEP\u001b[0m\u001b[32m]\u001b[0m\u001b[32m'\u001b[0m, \u001b[32m'pad_token'\u001b[0m: \u001b[32m'\u001b[0m\u001b[32m[\u001b[0m\u001b[32mPAD\u001b[0m\u001b[32m]\u001b[0m\u001b[32m'\u001b[0m, \u001b[32m'cls_token'\u001b[0m: \u001b[32m'\u001b[0m\u001b[32m[\u001b[0m\u001b[32mCLS\u001b[0m\u001b[32m]\u001b[0m\u001b[32m'\u001b[0m, \u001b[32m'mask_token'\u001b[0m: \u001b[32m'\u001b[0m\u001b[32m[\u001b[0m\u001b[32mMASK\u001b[0m\u001b[32m]\u001b[0m\u001b[32m'\u001b[0m\u001b[1m}\u001b[0m, \n",
              "\u001b[33mclean_up_tokenization_spaces\u001b[0m=\u001b[3;92mTrue\u001b[0m\u001b[1m)\u001b[0m,  \u001b[33madded_tokens_decoder\u001b[0m=\u001b[1m{\u001b[0m\n",
              "        \u001b[1;36m0\u001b[0m: \u001b[1;35mAddedToken\u001b[0m\u001b[1m(\u001b[0m\u001b[32m\"+ا\"\u001b[0m, \u001b[33mrstrip\u001b[0m=\u001b[3;91mFalse\u001b[0m, \u001b[33mlstrip\u001b[0m=\u001b[3;91mFalse\u001b[0m, \u001b[33msingle_word\u001b[0m=\u001b[3;92mTrue\u001b[0m, \u001b[33mnormalized\u001b[0m=\u001b[3;92mTrue\u001b[0m, \u001b[33mspecial\u001b[0m=\u001b[3;92mTrue\u001b[0m\u001b[1m)\u001b[0m,\n",
              "        \u001b[1;36m1\u001b[0m: \u001b[1;35mAddedToken\u001b[0m\u001b[1m(\u001b[0m\u001b[32m\"+ك\"\u001b[0m, \u001b[33mrstrip\u001b[0m=\u001b[3;91mFalse\u001b[0m, \u001b[33mlstrip\u001b[0m=\u001b[3;91mFalse\u001b[0m, \u001b[33msingle_word\u001b[0m=\u001b[3;92mTrue\u001b[0m, \u001b[33mnormalized\u001b[0m=\u001b[3;92mTrue\u001b[0m, \u001b[33mspecial\u001b[0m=\u001b[3;92mTrue\u001b[0m\u001b[1m)\u001b[0m,\n",
              "        \u001b[1;36m2\u001b[0m: \u001b[1;35mAddedToken\u001b[0m\u001b[1m(\u001b[0m\u001b[32m\"ب+\"\u001b[0m, \u001b[33mrstrip\u001b[0m=\u001b[3;91mFalse\u001b[0m, \u001b[33mlstrip\u001b[0m=\u001b[3;91mFalse\u001b[0m, \u001b[33msingle_word\u001b[0m=\u001b[3;92mTrue\u001b[0m, \u001b[33mnormalized\u001b[0m=\u001b[3;92mTrue\u001b[0m, \u001b[33mspecial\u001b[0m=\u001b[3;92mTrue\u001b[0m\u001b[1m)\u001b[0m,\n",
              "        \u001b[1;36m3\u001b[0m: \u001b[1;35mAddedToken\u001b[0m\u001b[1m(\u001b[0m\u001b[32m\"+هم\"\u001b[0m, \u001b[33mrstrip\u001b[0m=\u001b[3;91mFalse\u001b[0m, \u001b[33mlstrip\u001b[0m=\u001b[3;91mFalse\u001b[0m, \u001b[33msingle_word\u001b[0m=\u001b[3;92mTrue\u001b[0m, \u001b[33mnormalized\u001b[0m=\u001b[3;92mTrue\u001b[0m, \u001b[33mspecial\u001b[0m=\u001b[3;92mTrue\u001b[0m\u001b[1m)\u001b[0m,\n",
              "        \u001b[1;36m4\u001b[0m: \u001b[1;35mAddedToken\u001b[0m\u001b[1m(\u001b[0m\u001b[32m\"+ات\"\u001b[0m, \u001b[33mrstrip\u001b[0m=\u001b[3;91mFalse\u001b[0m, \u001b[33mlstrip\u001b[0m=\u001b[3;91mFalse\u001b[0m, \u001b[33msingle_word\u001b[0m=\u001b[3;92mTrue\u001b[0m, \u001b[33mnormalized\u001b[0m=\u001b[3;92mTrue\u001b[0m, \u001b[33mspecial\u001b[0m=\u001b[3;92mTrue\u001b[0m\u001b[1m)\u001b[0m,\n",
              "        \u001b[1;36m5\u001b[0m: \u001b[1;35mAddedToken\u001b[0m\u001b[1m(\u001b[0m\u001b[32m\"+ي\"\u001b[0m, \u001b[33mrstrip\u001b[0m=\u001b[3;91mFalse\u001b[0m, \u001b[33mlstrip\u001b[0m=\u001b[3;91mFalse\u001b[0m, \u001b[33msingle_word\u001b[0m=\u001b[3;92mTrue\u001b[0m, \u001b[33mnormalized\u001b[0m=\u001b[3;92mTrue\u001b[0m, \u001b[33mspecial\u001b[0m=\u001b[3;92mTrue\u001b[0m\u001b[1m)\u001b[0m,\n",
              "        \u001b[1;36m6\u001b[0m: \u001b[1;35mAddedToken\u001b[0m\u001b[1m(\u001b[0m\u001b[32m\"ل+\"\u001b[0m, \u001b[33mrstrip\u001b[0m=\u001b[3;91mFalse\u001b[0m, \u001b[33mlstrip\u001b[0m=\u001b[3;91mFalse\u001b[0m, \u001b[33msingle_word\u001b[0m=\u001b[3;92mTrue\u001b[0m, \u001b[33mnormalized\u001b[0m=\u001b[3;92mTrue\u001b[0m, \u001b[33mspecial\u001b[0m=\u001b[3;92mTrue\u001b[0m\u001b[1m)\u001b[0m,\n",
              "        \u001b[1;36m7\u001b[0m: \u001b[1;35mAddedToken\u001b[0m\u001b[1m(\u001b[0m\u001b[32m\"+هما\"\u001b[0m, \u001b[33mrstrip\u001b[0m=\u001b[3;91mFalse\u001b[0m, \u001b[33mlstrip\u001b[0m=\u001b[3;91mFalse\u001b[0m, \u001b[33msingle_word\u001b[0m=\u001b[3;92mTrue\u001b[0m, \u001b[33mnormalized\u001b[0m=\u001b[3;92mTrue\u001b[0m, \u001b[33mspecial\u001b[0m=\u001b[3;92mTrue\u001b[0m\u001b[1m)\u001b[0m,\n",
              "        \u001b[1;36m8\u001b[0m: \u001b[1;35mAddedToken\u001b[0m\u001b[1m(\u001b[0m\u001b[32m\"+نا\"\u001b[0m, \u001b[33mrstrip\u001b[0m=\u001b[3;91mFalse\u001b[0m, \u001b[33mlstrip\u001b[0m=\u001b[3;91mFalse\u001b[0m, \u001b[33msingle_word\u001b[0m=\u001b[3;92mTrue\u001b[0m, \u001b[33mnormalized\u001b[0m=\u001b[3;92mTrue\u001b[0m, \u001b[33mspecial\u001b[0m=\u001b[3;92mTrue\u001b[0m\u001b[1m)\u001b[0m,\n",
              "        \u001b[1;36m9\u001b[0m: \u001b[1;35mAddedToken\u001b[0m\u001b[1m(\u001b[0m\u001b[32m\"+ن\"\u001b[0m, \u001b[33mrstrip\u001b[0m=\u001b[3;91mFalse\u001b[0m, \u001b[33mlstrip\u001b[0m=\u001b[3;91mFalse\u001b[0m, \u001b[33msingle_word\u001b[0m=\u001b[3;92mTrue\u001b[0m, \u001b[33mnormalized\u001b[0m=\u001b[3;92mTrue\u001b[0m, \u001b[33mspecial\u001b[0m=\u001b[3;92mTrue\u001b[0m\u001b[1m)\u001b[0m,\n",
              "        \u001b[1;36m10\u001b[0m: \u001b[1;35mAddedToken\u001b[0m\u001b[1m(\u001b[0m\u001b[32m\"+ها\"\u001b[0m, \u001b[33mrstrip\u001b[0m=\u001b[3;91mFalse\u001b[0m, \u001b[33mlstrip\u001b[0m=\u001b[3;91mFalse\u001b[0m, \u001b[33msingle_word\u001b[0m=\u001b[3;92mTrue\u001b[0m, \u001b[33mnormalized\u001b[0m=\u001b[3;92mTrue\u001b[0m, \u001b[33mspecial\u001b[0m=\u001b[3;92mTrue\u001b[0m\u001b[1m)\u001b[0m,\n",
              "        \u001b[1;36m11\u001b[0m: \u001b[1;35mAddedToken\u001b[0m\u001b[1m(\u001b[0m\u001b[32m\"+كما\"\u001b[0m, \u001b[33mrstrip\u001b[0m=\u001b[3;91mFalse\u001b[0m, \u001b[33mlstrip\u001b[0m=\u001b[3;91mFalse\u001b[0m, \u001b[33msingle_word\u001b[0m=\u001b[3;92mTrue\u001b[0m, \u001b[33mnormalized\u001b[0m=\u001b[3;92mTrue\u001b[0m, \u001b[33mspecial\u001b[0m=\u001b[3;92mTrue\u001b[0m\u001b[1m)\u001b[0m,\n",
              "        \u001b[1;36m12\u001b[0m: \u001b[1;35mAddedToken\u001b[0m\u001b[1m(\u001b[0m\u001b[32m\"+ة\"\u001b[0m, \u001b[33mrstrip\u001b[0m=\u001b[3;91mFalse\u001b[0m, \u001b[33mlstrip\u001b[0m=\u001b[3;91mFalse\u001b[0m, \u001b[33msingle_word\u001b[0m=\u001b[3;92mTrue\u001b[0m, \u001b[33mnormalized\u001b[0m=\u001b[3;92mTrue\u001b[0m, \u001b[33mspecial\u001b[0m=\u001b[3;92mTrue\u001b[0m\u001b[1m)\u001b[0m,\n",
              "        \u001b[1;36m13\u001b[0m: \u001b[1;35mAddedToken\u001b[0m\u001b[1m(\u001b[0m\u001b[32m\"ف+\"\u001b[0m, \u001b[33mrstrip\u001b[0m=\u001b[3;91mFalse\u001b[0m, \u001b[33mlstrip\u001b[0m=\u001b[3;91mFalse\u001b[0m, \u001b[33msingle_word\u001b[0m=\u001b[3;92mTrue\u001b[0m, \u001b[33mnormalized\u001b[0m=\u001b[3;92mTrue\u001b[0m, \u001b[33mspecial\u001b[0m=\u001b[3;92mTrue\u001b[0m\u001b[1m)\u001b[0m,\n",
              "        \u001b[1;36m14\u001b[0m: \u001b[1;35mAddedToken\u001b[0m\u001b[1m(\u001b[0m\u001b[32m\"+كم\"\u001b[0m, \u001b[33mrstrip\u001b[0m=\u001b[3;91mFalse\u001b[0m, \u001b[33mlstrip\u001b[0m=\u001b[3;91mFalse\u001b[0m, \u001b[33msingle_word\u001b[0m=\u001b[3;92mTrue\u001b[0m, \u001b[33mnormalized\u001b[0m=\u001b[3;92mTrue\u001b[0m, \u001b[33mspecial\u001b[0m=\u001b[3;92mTrue\u001b[0m\u001b[1m)\u001b[0m,\n",
              "        \u001b[1;36m15\u001b[0m: \u001b[1;35mAddedToken\u001b[0m\u001b[1m(\u001b[0m\u001b[32m\"+كن\"\u001b[0m, \u001b[33mrstrip\u001b[0m=\u001b[3;91mFalse\u001b[0m, \u001b[33mlstrip\u001b[0m=\u001b[3;91mFalse\u001b[0m, \u001b[33msingle_word\u001b[0m=\u001b[3;92mTrue\u001b[0m, \u001b[33mnormalized\u001b[0m=\u001b[3;92mTrue\u001b[0m, \u001b[33mspecial\u001b[0m=\u001b[3;92mTrue\u001b[0m\u001b[1m)\u001b[0m,\n",
              "        \u001b[1;36m16\u001b[0m: \u001b[1;35mAddedToken\u001b[0m\u001b[1m(\u001b[0m\u001b[32m\"+ت\"\u001b[0m, \u001b[33mrstrip\u001b[0m=\u001b[3;91mFalse\u001b[0m, \u001b[33mlstrip\u001b[0m=\u001b[3;91mFalse\u001b[0m, \u001b[33msingle_word\u001b[0m=\u001b[3;92mTrue\u001b[0m, \u001b[33mnormalized\u001b[0m=\u001b[3;92mTrue\u001b[0m, \u001b[33mspecial\u001b[0m=\u001b[3;92mTrue\u001b[0m\u001b[1m)\u001b[0m,\n",
              "        \u001b[1;36m17\u001b[0m: \u001b[1;35mAddedToken\u001b[0m\u001b[1m(\u001b[0m\u001b[32m\"\u001b[0m\u001b[32m[\u001b[0m\u001b[32mبريد\u001b[0m\u001b[32m]\u001b[0m\u001b[32m\"\u001b[0m, \u001b[33mrstrip\u001b[0m=\u001b[3;91mFalse\u001b[0m, \u001b[33mlstrip\u001b[0m=\u001b[3;91mFalse\u001b[0m, \u001b[33msingle_word\u001b[0m=\u001b[3;92mTrue\u001b[0m, \u001b[33mnormalized\u001b[0m=\u001b[3;92mTrue\u001b[0m, \u001b[33mspecial\u001b[0m=\u001b[3;92mTrue\u001b[0m\u001b[1m)\u001b[0m,\n",
              "        \u001b[1;36m18\u001b[0m: \u001b[1;35mAddedToken\u001b[0m\u001b[1m(\u001b[0m\u001b[32m\"\u001b[0m\u001b[32m[\u001b[0m\u001b[32mمستخدم\u001b[0m\u001b[32m]\u001b[0m\u001b[32m\"\u001b[0m, \u001b[33mrstrip\u001b[0m=\u001b[3;91mFalse\u001b[0m, \u001b[33mlstrip\u001b[0m=\u001b[3;91mFalse\u001b[0m, \u001b[33msingle_word\u001b[0m=\u001b[3;92mTrue\u001b[0m, \u001b[33mnormalized\u001b[0m=\u001b[3;92mTrue\u001b[0m, \u001b[33mspecial\u001b[0m=\u001b[3;92mTrue\u001b[0m\u001b[1m)\u001b[0m,\n",
              "        \u001b[1;36m19\u001b[0m: \u001b[1;35mAddedToken\u001b[0m\u001b[1m(\u001b[0m\u001b[32m\"لل+\"\u001b[0m, \u001b[33mrstrip\u001b[0m=\u001b[3;91mFalse\u001b[0m, \u001b[33mlstrip\u001b[0m=\u001b[3;91mFalse\u001b[0m, \u001b[33msingle_word\u001b[0m=\u001b[3;92mTrue\u001b[0m, \u001b[33mnormalized\u001b[0m=\u001b[3;92mTrue\u001b[0m, \u001b[33mspecial\u001b[0m=\u001b[3;92mTrue\u001b[0m\u001b[1m)\u001b[0m,\n",
              "        \u001b[1;36m20\u001b[0m: \u001b[1;35mAddedToken\u001b[0m\u001b[1m(\u001b[0m\u001b[32m\"ال+\"\u001b[0m, \u001b[33mrstrip\u001b[0m=\u001b[3;91mFalse\u001b[0m, \u001b[33mlstrip\u001b[0m=\u001b[3;91mFalse\u001b[0m, \u001b[33msingle_word\u001b[0m=\u001b[3;92mTrue\u001b[0m, \u001b[33mnormalized\u001b[0m=\u001b[3;92mTrue\u001b[0m, \u001b[33mspecial\u001b[0m=\u001b[3;92mTrue\u001b[0m\u001b[1m)\u001b[0m,\n",
              "        \u001b[1;36m21\u001b[0m: \u001b[1;35mAddedToken\u001b[0m\u001b[1m(\u001b[0m\u001b[32m\"\u001b[0m\u001b[32m[\u001b[0m\u001b[32mرابط\u001b[0m\u001b[32m]\u001b[0m\u001b[32m\"\u001b[0m, \u001b[33mrstrip\u001b[0m=\u001b[3;91mFalse\u001b[0m, \u001b[33mlstrip\u001b[0m=\u001b[3;91mFalse\u001b[0m, \u001b[33msingle_word\u001b[0m=\u001b[3;92mTrue\u001b[0m, \u001b[33mnormalized\u001b[0m=\u001b[3;92mTrue\u001b[0m, \u001b[33mspecial\u001b[0m=\u001b[3;92mTrue\u001b[0m\u001b[1m)\u001b[0m,\n",
              "        \u001b[1;36m22\u001b[0m: \u001b[1;35mAddedToken\u001b[0m\u001b[1m(\u001b[0m\u001b[32m\"س+\"\u001b[0m, \u001b[33mrstrip\u001b[0m=\u001b[3;91mFalse\u001b[0m, \u001b[33mlstrip\u001b[0m=\u001b[3;91mFalse\u001b[0m, \u001b[33msingle_word\u001b[0m=\u001b[3;92mTrue\u001b[0m, \u001b[33mnormalized\u001b[0m=\u001b[3;92mTrue\u001b[0m, \u001b[33mspecial\u001b[0m=\u001b[3;92mTrue\u001b[0m\u001b[1m)\u001b[0m,\n",
              "        \u001b[1;36m23\u001b[0m: \u001b[1;35mAddedToken\u001b[0m\u001b[1m(\u001b[0m\u001b[32m\"+ان\"\u001b[0m, \u001b[33mrstrip\u001b[0m=\u001b[3;91mFalse\u001b[0m, \u001b[33mlstrip\u001b[0m=\u001b[3;91mFalse\u001b[0m, \u001b[33msingle_word\u001b[0m=\u001b[3;92mTrue\u001b[0m, \u001b[33mnormalized\u001b[0m=\u001b[3;92mTrue\u001b[0m, \u001b[33mspecial\u001b[0m=\u001b[3;92mTrue\u001b[0m\u001b[1m)\u001b[0m,\n",
              "        \u001b[1;36m24\u001b[0m: \u001b[1;35mAddedToken\u001b[0m\u001b[1m(\u001b[0m\u001b[32m\"+وا\"\u001b[0m, \u001b[33mrstrip\u001b[0m=\u001b[3;91mFalse\u001b[0m, \u001b[33mlstrip\u001b[0m=\u001b[3;91mFalse\u001b[0m, \u001b[33msingle_word\u001b[0m=\u001b[3;92mTrue\u001b[0m, \u001b[33mnormalized\u001b[0m=\u001b[3;92mTrue\u001b[0m, \u001b[33mspecial\u001b[0m=\u001b[3;92mTrue\u001b[0m\u001b[1m)\u001b[0m,\n",
              "        \u001b[1;36m25\u001b[0m: \u001b[1;35mAddedToken\u001b[0m\u001b[1m(\u001b[0m\u001b[32m\"+ه\"\u001b[0m, \u001b[33mrstrip\u001b[0m=\u001b[3;91mFalse\u001b[0m, \u001b[33mlstrip\u001b[0m=\u001b[3;91mFalse\u001b[0m, \u001b[33msingle_word\u001b[0m=\u001b[3;92mTrue\u001b[0m, \u001b[33mnormalized\u001b[0m=\u001b[3;92mTrue\u001b[0m, \u001b[33mspecial\u001b[0m=\u001b[3;92mTrue\u001b[0m\u001b[1m)\u001b[0m,\n",
              "        \u001b[1;36m26\u001b[0m: \u001b[1;35mAddedToken\u001b[0m\u001b[1m(\u001b[0m\u001b[32m\"+ون\"\u001b[0m, \u001b[33mrstrip\u001b[0m=\u001b[3;91mFalse\u001b[0m, \u001b[33mlstrip\u001b[0m=\u001b[3;91mFalse\u001b[0m, \u001b[33msingle_word\u001b[0m=\u001b[3;92mTrue\u001b[0m, \u001b[33mnormalized\u001b[0m=\u001b[3;92mTrue\u001b[0m, \u001b[33mspecial\u001b[0m=\u001b[3;92mTrue\u001b[0m\u001b[1m)\u001b[0m,\n",
              "        \u001b[1;36m27\u001b[0m: \u001b[1;35mAddedToken\u001b[0m\u001b[1m(\u001b[0m\u001b[32m\"+هن\"\u001b[0m, \u001b[33mrstrip\u001b[0m=\u001b[3;91mFalse\u001b[0m, \u001b[33mlstrip\u001b[0m=\u001b[3;91mFalse\u001b[0m, \u001b[33msingle_word\u001b[0m=\u001b[3;92mTrue\u001b[0m, \u001b[33mnormalized\u001b[0m=\u001b[3;92mTrue\u001b[0m, \u001b[33mspecial\u001b[0m=\u001b[3;92mTrue\u001b[0m\u001b[1m)\u001b[0m,\n",
              "        \u001b[1;36m28\u001b[0m: \u001b[1;35mAddedToken\u001b[0m\u001b[1m(\u001b[0m\u001b[32m\"+ين\"\u001b[0m, \u001b[33mrstrip\u001b[0m=\u001b[3;91mFalse\u001b[0m, \u001b[33mlstrip\u001b[0m=\u001b[3;91mFalse\u001b[0m, \u001b[33msingle_word\u001b[0m=\u001b[3;92mTrue\u001b[0m, \u001b[33mnormalized\u001b[0m=\u001b[3;92mTrue\u001b[0m, \u001b[33mspecial\u001b[0m=\u001b[3;92mTrue\u001b[0m\u001b[1m)\u001b[0m,\n",
              "        \u001b[1;36m29\u001b[0m: \u001b[1;35mAddedToken\u001b[0m\u001b[1m(\u001b[0m\u001b[32m\"و+\"\u001b[0m, \u001b[33mrstrip\u001b[0m=\u001b[3;91mFalse\u001b[0m, \u001b[33mlstrip\u001b[0m=\u001b[3;91mFalse\u001b[0m, \u001b[33msingle_word\u001b[0m=\u001b[3;92mTrue\u001b[0m, \u001b[33mnormalized\u001b[0m=\u001b[3;92mTrue\u001b[0m, \u001b[33mspecial\u001b[0m=\u001b[3;92mTrue\u001b[0m\u001b[1m)\u001b[0m,\n",
              "        \u001b[1;36m30\u001b[0m: \u001b[1;35mAddedToken\u001b[0m\u001b[1m(\u001b[0m\u001b[32m\"ك+\"\u001b[0m, \u001b[33mrstrip\u001b[0m=\u001b[3;91mFalse\u001b[0m, \u001b[33mlstrip\u001b[0m=\u001b[3;91mFalse\u001b[0m, \u001b[33msingle_word\u001b[0m=\u001b[3;92mTrue\u001b[0m, \u001b[33mnormalized\u001b[0m=\u001b[3;92mTrue\u001b[0m, \u001b[33mspecial\u001b[0m=\u001b[3;92mTrue\u001b[0m\u001b[1m)\u001b[0m,\n",
              "        \u001b[1;36m31\u001b[0m: \u001b[1;35mAddedToken\u001b[0m\u001b[1m(\u001b[0m\u001b[32m\"\u001b[0m\u001b[32m[\u001b[0m\u001b[32mPAD\u001b[0m\u001b[32m]\u001b[0m\u001b[32m\"\u001b[0m, \u001b[33mrstrip\u001b[0m=\u001b[3;91mFalse\u001b[0m, \u001b[33mlstrip\u001b[0m=\u001b[3;91mFalse\u001b[0m, \u001b[33msingle_word\u001b[0m=\u001b[3;91mFalse\u001b[0m, \u001b[33mnormalized\u001b[0m=\u001b[3;91mFalse\u001b[0m, \u001b[33mspecial\u001b[0m=\u001b[3;92mTrue\u001b[0m\u001b[1m)\u001b[0m,\n",
              "        \u001b[1;36m32\u001b[0m: \u001b[1;35mAddedToken\u001b[0m\u001b[1m(\u001b[0m\u001b[32m\"\u001b[0m\u001b[32m[\u001b[0m\u001b[32mUNK\u001b[0m\u001b[32m]\u001b[0m\u001b[32m\"\u001b[0m, \u001b[33mrstrip\u001b[0m=\u001b[3;91mFalse\u001b[0m, \u001b[33mlstrip\u001b[0m=\u001b[3;91mFalse\u001b[0m, \u001b[33msingle_word\u001b[0m=\u001b[3;91mFalse\u001b[0m, \u001b[33mnormalized\u001b[0m=\u001b[3;91mFalse\u001b[0m, \u001b[33mspecial\u001b[0m=\u001b[3;92mTrue\u001b[0m\u001b[1m)\u001b[0m,\n",
              "        \u001b[1;36m33\u001b[0m: \u001b[1;35mAddedToken\u001b[0m\u001b[1m(\u001b[0m\u001b[32m\"\u001b[0m\u001b[32m[\u001b[0m\u001b[32mCLS\u001b[0m\u001b[32m]\u001b[0m\u001b[32m\"\u001b[0m, \u001b[33mrstrip\u001b[0m=\u001b[3;91mFalse\u001b[0m, \u001b[33mlstrip\u001b[0m=\u001b[3;91mFalse\u001b[0m, \u001b[33msingle_word\u001b[0m=\u001b[3;91mFalse\u001b[0m, \u001b[33mnormalized\u001b[0m=\u001b[3;91mFalse\u001b[0m, \u001b[33mspecial\u001b[0m=\u001b[3;92mTrue\u001b[0m\u001b[1m)\u001b[0m,\n",
              "        \u001b[1;36m34\u001b[0m: \u001b[1;35mAddedToken\u001b[0m\u001b[1m(\u001b[0m\u001b[32m\"\u001b[0m\u001b[32m[\u001b[0m\u001b[32mSEP\u001b[0m\u001b[32m]\u001b[0m\u001b[32m\"\u001b[0m, \u001b[33mrstrip\u001b[0m=\u001b[3;91mFalse\u001b[0m, \u001b[33mlstrip\u001b[0m=\u001b[3;91mFalse\u001b[0m, \u001b[33msingle_word\u001b[0m=\u001b[3;91mFalse\u001b[0m, \u001b[33mnormalized\u001b[0m=\u001b[3;91mFalse\u001b[0m, \u001b[33mspecial\u001b[0m=\u001b[3;92mTrue\u001b[0m\u001b[1m)\u001b[0m,\n",
              "        \u001b[1;36m35\u001b[0m: \u001b[1;35mAddedToken\u001b[0m\u001b[1m(\u001b[0m\u001b[32m\"\u001b[0m\u001b[32m[\u001b[0m\u001b[32mMASK\u001b[0m\u001b[32m]\u001b[0m\u001b[32m\"\u001b[0m, \u001b[33mrstrip\u001b[0m=\u001b[3;91mFalse\u001b[0m, \u001b[33mlstrip\u001b[0m=\u001b[3;91mFalse\u001b[0m, \u001b[33msingle_word\u001b[0m=\u001b[3;91mFalse\u001b[0m, \u001b[33mnormalized\u001b[0m=\u001b[3;91mFalse\u001b[0m, \u001b[33mspecial\u001b[0m=\u001b[3;92mTrue\u001b[0m\u001b[1m)\u001b[0m,\n",
              "\u001b[1m}\u001b[0m\n"
            ]
          },
          "metadata": {},
          "output_type": "display_data"
        }
      ],
      "source": [
        "\n",
        "# Text model name \n",
        "\n",
        "\n",
        "text_model = load_model('Arabert-v2-base-ViT-B-16-SigLIP-512-2M-mscoco', in_features= 768, out_features=768)\n",
        "\n",
        "\n",
        "# Define the language model with lambda \n",
        "\n",
        "language_model = lambda queries: np.asarray(text_model(queries).detach().to('cpu')) "
      ]
    },
    {
      "cell_type": "code",
      "execution_count": 66,
      "metadata": {},
      "outputs": [
        {
          "data": {
            "text/plain": [
              "MultilingualClipEdited(\n",
              "  (transformer): BertModel(\n",
              "    (embeddings): BertEmbeddings(\n",
              "      (word_embeddings): Embedding(64000, 768, padding_idx=0)\n",
              "      (position_embeddings): Embedding(512, 768)\n",
              "      (token_type_embeddings): Embedding(2, 768)\n",
              "      (LayerNorm): LayerNorm((768,), eps=1e-12, elementwise_affine=True)\n",
              "      (dropout): Dropout(p=0.1, inplace=False)\n",
              "    )\n",
              "    (encoder): BertEncoder(\n",
              "      (layer): ModuleList(\n",
              "        (0): BertLayer(\n",
              "          (attention): BertAttention(\n",
              "            (self): BertSelfAttention(\n",
              "              (query): Linear(in_features=768, out_features=768, bias=True)\n",
              "              (key): Linear(in_features=768, out_features=768, bias=True)\n",
              "              (value): Linear(in_features=768, out_features=768, bias=True)\n",
              "              (dropout): Dropout(p=0.1, inplace=False)\n",
              "            )\n",
              "            (output): BertSelfOutput(\n",
              "              (dense): Linear(in_features=768, out_features=768, bias=True)\n",
              "              (LayerNorm): LayerNorm((768,), eps=1e-12, elementwise_affine=True)\n",
              "              (dropout): Dropout(p=0.1, inplace=False)\n",
              "            )\n",
              "          )\n",
              "          (intermediate): BertIntermediate(\n",
              "            (dense): Linear(in_features=768, out_features=3072, bias=True)\n",
              "            (intermediate_act_fn): GELUActivation()\n",
              "          )\n",
              "          (output): BertOutput(\n",
              "            (dense): Linear(in_features=3072, out_features=768, bias=True)\n",
              "            (LayerNorm): LayerNorm((768,), eps=1e-12, elementwise_affine=True)\n",
              "            (dropout): Dropout(p=0.1, inplace=False)\n",
              "          )\n",
              "        )\n",
              "        (1): BertLayer(\n",
              "          (attention): BertAttention(\n",
              "            (self): BertSelfAttention(\n",
              "              (query): Linear(in_features=768, out_features=768, bias=True)\n",
              "              (key): Linear(in_features=768, out_features=768, bias=True)\n",
              "              (value): Linear(in_features=768, out_features=768, bias=True)\n",
              "              (dropout): Dropout(p=0.1, inplace=False)\n",
              "            )\n",
              "            (output): BertSelfOutput(\n",
              "              (dense): Linear(in_features=768, out_features=768, bias=True)\n",
              "              (LayerNorm): LayerNorm((768,), eps=1e-12, elementwise_affine=True)\n",
              "              (dropout): Dropout(p=0.1, inplace=False)\n",
              "            )\n",
              "          )\n",
              "          (intermediate): BertIntermediate(\n",
              "            (dense): Linear(in_features=768, out_features=3072, bias=True)\n",
              "            (intermediate_act_fn): GELUActivation()\n",
              "          )\n",
              "          (output): BertOutput(\n",
              "            (dense): Linear(in_features=3072, out_features=768, bias=True)\n",
              "            (LayerNorm): LayerNorm((768,), eps=1e-12, elementwise_affine=True)\n",
              "            (dropout): Dropout(p=0.1, inplace=False)\n",
              "          )\n",
              "        )\n",
              "        (2): BertLayer(\n",
              "          (attention): BertAttention(\n",
              "            (self): BertSelfAttention(\n",
              "              (query): Linear(in_features=768, out_features=768, bias=True)\n",
              "              (key): Linear(in_features=768, out_features=768, bias=True)\n",
              "              (value): Linear(in_features=768, out_features=768, bias=True)\n",
              "              (dropout): Dropout(p=0.1, inplace=False)\n",
              "            )\n",
              "            (output): BertSelfOutput(\n",
              "              (dense): Linear(in_features=768, out_features=768, bias=True)\n",
              "              (LayerNorm): LayerNorm((768,), eps=1e-12, elementwise_affine=True)\n",
              "              (dropout): Dropout(p=0.1, inplace=False)\n",
              "            )\n",
              "          )\n",
              "          (intermediate): BertIntermediate(\n",
              "            (dense): Linear(in_features=768, out_features=3072, bias=True)\n",
              "            (intermediate_act_fn): GELUActivation()\n",
              "          )\n",
              "          (output): BertOutput(\n",
              "            (dense): Linear(in_features=3072, out_features=768, bias=True)\n",
              "            (LayerNorm): LayerNorm((768,), eps=1e-12, elementwise_affine=True)\n",
              "            (dropout): Dropout(p=0.1, inplace=False)\n",
              "          )\n",
              "        )\n",
              "        (3): BertLayer(\n",
              "          (attention): BertAttention(\n",
              "            (self): BertSelfAttention(\n",
              "              (query): Linear(in_features=768, out_features=768, bias=True)\n",
              "              (key): Linear(in_features=768, out_features=768, bias=True)\n",
              "              (value): Linear(in_features=768, out_features=768, bias=True)\n",
              "              (dropout): Dropout(p=0.1, inplace=False)\n",
              "            )\n",
              "            (output): BertSelfOutput(\n",
              "              (dense): Linear(in_features=768, out_features=768, bias=True)\n",
              "              (LayerNorm): LayerNorm((768,), eps=1e-12, elementwise_affine=True)\n",
              "              (dropout): Dropout(p=0.1, inplace=False)\n",
              "            )\n",
              "          )\n",
              "          (intermediate): BertIntermediate(\n",
              "            (dense): Linear(in_features=768, out_features=3072, bias=True)\n",
              "            (intermediate_act_fn): GELUActivation()\n",
              "          )\n",
              "          (output): BertOutput(\n",
              "            (dense): Linear(in_features=3072, out_features=768, bias=True)\n",
              "            (LayerNorm): LayerNorm((768,), eps=1e-12, elementwise_affine=True)\n",
              "            (dropout): Dropout(p=0.1, inplace=False)\n",
              "          )\n",
              "        )\n",
              "        (4): BertLayer(\n",
              "          (attention): BertAttention(\n",
              "            (self): BertSelfAttention(\n",
              "              (query): Linear(in_features=768, out_features=768, bias=True)\n",
              "              (key): Linear(in_features=768, out_features=768, bias=True)\n",
              "              (value): Linear(in_features=768, out_features=768, bias=True)\n",
              "              (dropout): Dropout(p=0.1, inplace=False)\n",
              "            )\n",
              "            (output): BertSelfOutput(\n",
              "              (dense): Linear(in_features=768, out_features=768, bias=True)\n",
              "              (LayerNorm): LayerNorm((768,), eps=1e-12, elementwise_affine=True)\n",
              "              (dropout): Dropout(p=0.1, inplace=False)\n",
              "            )\n",
              "          )\n",
              "          (intermediate): BertIntermediate(\n",
              "            (dense): Linear(in_features=768, out_features=3072, bias=True)\n",
              "            (intermediate_act_fn): GELUActivation()\n",
              "          )\n",
              "          (output): BertOutput(\n",
              "            (dense): Linear(in_features=3072, out_features=768, bias=True)\n",
              "            (LayerNorm): LayerNorm((768,), eps=1e-12, elementwise_affine=True)\n",
              "            (dropout): Dropout(p=0.1, inplace=False)\n",
              "          )\n",
              "        )\n",
              "        (5): BertLayer(\n",
              "          (attention): BertAttention(\n",
              "            (self): BertSelfAttention(\n",
              "              (query): Linear(in_features=768, out_features=768, bias=True)\n",
              "              (key): Linear(in_features=768, out_features=768, bias=True)\n",
              "              (value): Linear(in_features=768, out_features=768, bias=True)\n",
              "              (dropout): Dropout(p=0.1, inplace=False)\n",
              "            )\n",
              "            (output): BertSelfOutput(\n",
              "              (dense): Linear(in_features=768, out_features=768, bias=True)\n",
              "              (LayerNorm): LayerNorm((768,), eps=1e-12, elementwise_affine=True)\n",
              "              (dropout): Dropout(p=0.1, inplace=False)\n",
              "            )\n",
              "          )\n",
              "          (intermediate): BertIntermediate(\n",
              "            (dense): Linear(in_features=768, out_features=3072, bias=True)\n",
              "            (intermediate_act_fn): GELUActivation()\n",
              "          )\n",
              "          (output): BertOutput(\n",
              "            (dense): Linear(in_features=3072, out_features=768, bias=True)\n",
              "            (LayerNorm): LayerNorm((768,), eps=1e-12, elementwise_affine=True)\n",
              "            (dropout): Dropout(p=0.1, inplace=False)\n",
              "          )\n",
              "        )\n",
              "        (6): BertLayer(\n",
              "          (attention): BertAttention(\n",
              "            (self): BertSelfAttention(\n",
              "              (query): Linear(in_features=768, out_features=768, bias=True)\n",
              "              (key): Linear(in_features=768, out_features=768, bias=True)\n",
              "              (value): Linear(in_features=768, out_features=768, bias=True)\n",
              "              (dropout): Dropout(p=0.1, inplace=False)\n",
              "            )\n",
              "            (output): BertSelfOutput(\n",
              "              (dense): Linear(in_features=768, out_features=768, bias=True)\n",
              "              (LayerNorm): LayerNorm((768,), eps=1e-12, elementwise_affine=True)\n",
              "              (dropout): Dropout(p=0.1, inplace=False)\n",
              "            )\n",
              "          )\n",
              "          (intermediate): BertIntermediate(\n",
              "            (dense): Linear(in_features=768, out_features=3072, bias=True)\n",
              "            (intermediate_act_fn): GELUActivation()\n",
              "          )\n",
              "          (output): BertOutput(\n",
              "            (dense): Linear(in_features=3072, out_features=768, bias=True)\n",
              "            (LayerNorm): LayerNorm((768,), eps=1e-12, elementwise_affine=True)\n",
              "            (dropout): Dropout(p=0.1, inplace=False)\n",
              "          )\n",
              "        )\n",
              "        (7): BertLayer(\n",
              "          (attention): BertAttention(\n",
              "            (self): BertSelfAttention(\n",
              "              (query): Linear(in_features=768, out_features=768, bias=True)\n",
              "              (key): Linear(in_features=768, out_features=768, bias=True)\n",
              "              (value): Linear(in_features=768, out_features=768, bias=True)\n",
              "              (dropout): Dropout(p=0.1, inplace=False)\n",
              "            )\n",
              "            (output): BertSelfOutput(\n",
              "              (dense): Linear(in_features=768, out_features=768, bias=True)\n",
              "              (LayerNorm): LayerNorm((768,), eps=1e-12, elementwise_affine=True)\n",
              "              (dropout): Dropout(p=0.1, inplace=False)\n",
              "            )\n",
              "          )\n",
              "          (intermediate): BertIntermediate(\n",
              "            (dense): Linear(in_features=768, out_features=3072, bias=True)\n",
              "            (intermediate_act_fn): GELUActivation()\n",
              "          )\n",
              "          (output): BertOutput(\n",
              "            (dense): Linear(in_features=3072, out_features=768, bias=True)\n",
              "            (LayerNorm): LayerNorm((768,), eps=1e-12, elementwise_affine=True)\n",
              "            (dropout): Dropout(p=0.1, inplace=False)\n",
              "          )\n",
              "        )\n",
              "        (8): BertLayer(\n",
              "          (attention): BertAttention(\n",
              "            (self): BertSelfAttention(\n",
              "              (query): Linear(in_features=768, out_features=768, bias=True)\n",
              "              (key): Linear(in_features=768, out_features=768, bias=True)\n",
              "              (value): Linear(in_features=768, out_features=768, bias=True)\n",
              "              (dropout): Dropout(p=0.1, inplace=False)\n",
              "            )\n",
              "            (output): BertSelfOutput(\n",
              "              (dense): Linear(in_features=768, out_features=768, bias=True)\n",
              "              (LayerNorm): LayerNorm((768,), eps=1e-12, elementwise_affine=True)\n",
              "              (dropout): Dropout(p=0.1, inplace=False)\n",
              "            )\n",
              "          )\n",
              "          (intermediate): BertIntermediate(\n",
              "            (dense): Linear(in_features=768, out_features=3072, bias=True)\n",
              "            (intermediate_act_fn): GELUActivation()\n",
              "          )\n",
              "          (output): BertOutput(\n",
              "            (dense): Linear(in_features=3072, out_features=768, bias=True)\n",
              "            (LayerNorm): LayerNorm((768,), eps=1e-12, elementwise_affine=True)\n",
              "            (dropout): Dropout(p=0.1, inplace=False)\n",
              "          )\n",
              "        )\n",
              "        (9): BertLayer(\n",
              "          (attention): BertAttention(\n",
              "            (self): BertSelfAttention(\n",
              "              (query): Linear(in_features=768, out_features=768, bias=True)\n",
              "              (key): Linear(in_features=768, out_features=768, bias=True)\n",
              "              (value): Linear(in_features=768, out_features=768, bias=True)\n",
              "              (dropout): Dropout(p=0.1, inplace=False)\n",
              "            )\n",
              "            (output): BertSelfOutput(\n",
              "              (dense): Linear(in_features=768, out_features=768, bias=True)\n",
              "              (LayerNorm): LayerNorm((768,), eps=1e-12, elementwise_affine=True)\n",
              "              (dropout): Dropout(p=0.1, inplace=False)\n",
              "            )\n",
              "          )\n",
              "          (intermediate): BertIntermediate(\n",
              "            (dense): Linear(in_features=768, out_features=3072, bias=True)\n",
              "            (intermediate_act_fn): GELUActivation()\n",
              "          )\n",
              "          (output): BertOutput(\n",
              "            (dense): Linear(in_features=3072, out_features=768, bias=True)\n",
              "            (LayerNorm): LayerNorm((768,), eps=1e-12, elementwise_affine=True)\n",
              "            (dropout): Dropout(p=0.1, inplace=False)\n",
              "          )\n",
              "        )\n",
              "        (10): BertLayer(\n",
              "          (attention): BertAttention(\n",
              "            (self): BertSelfAttention(\n",
              "              (query): Linear(in_features=768, out_features=768, bias=True)\n",
              "              (key): Linear(in_features=768, out_features=768, bias=True)\n",
              "              (value): Linear(in_features=768, out_features=768, bias=True)\n",
              "              (dropout): Dropout(p=0.1, inplace=False)\n",
              "            )\n",
              "            (output): BertSelfOutput(\n",
              "              (dense): Linear(in_features=768, out_features=768, bias=True)\n",
              "              (LayerNorm): LayerNorm((768,), eps=1e-12, elementwise_affine=True)\n",
              "              (dropout): Dropout(p=0.1, inplace=False)\n",
              "            )\n",
              "          )\n",
              "          (intermediate): BertIntermediate(\n",
              "            (dense): Linear(in_features=768, out_features=3072, bias=True)\n",
              "            (intermediate_act_fn): GELUActivation()\n",
              "          )\n",
              "          (output): BertOutput(\n",
              "            (dense): Linear(in_features=3072, out_features=768, bias=True)\n",
              "            (LayerNorm): LayerNorm((768,), eps=1e-12, elementwise_affine=True)\n",
              "            (dropout): Dropout(p=0.1, inplace=False)\n",
              "          )\n",
              "        )\n",
              "        (11): BertLayer(\n",
              "          (attention): BertAttention(\n",
              "            (self): BertSelfAttention(\n",
              "              (query): Linear(in_features=768, out_features=768, bias=True)\n",
              "              (key): Linear(in_features=768, out_features=768, bias=True)\n",
              "              (value): Linear(in_features=768, out_features=768, bias=True)\n",
              "              (dropout): Dropout(p=0.1, inplace=False)\n",
              "            )\n",
              "            (output): BertSelfOutput(\n",
              "              (dense): Linear(in_features=768, out_features=768, bias=True)\n",
              "              (LayerNorm): LayerNorm((768,), eps=1e-12, elementwise_affine=True)\n",
              "              (dropout): Dropout(p=0.1, inplace=False)\n",
              "            )\n",
              "          )\n",
              "          (intermediate): BertIntermediate(\n",
              "            (dense): Linear(in_features=768, out_features=3072, bias=True)\n",
              "            (intermediate_act_fn): GELUActivation()\n",
              "          )\n",
              "          (output): BertOutput(\n",
              "            (dense): Linear(in_features=3072, out_features=768, bias=True)\n",
              "            (LayerNorm): LayerNorm((768,), eps=1e-12, elementwise_affine=True)\n",
              "            (dropout): Dropout(p=0.1, inplace=False)\n",
              "          )\n",
              "        )\n",
              "      )\n",
              "    )\n",
              "    (pooler): BertPooler(\n",
              "      (dense): Linear(in_features=768, out_features=768, bias=True)\n",
              "      (activation): Tanh()\n",
              "    )\n",
              "  )\n",
              "  (clip_head): Linear(in_features=768, out_features=768, bias=True)\n",
              ")"
            ]
          },
          "execution_count": 66,
          "metadata": {},
          "output_type": "execute_result"
        }
      ],
      "source": [
        "text_model"
      ]
    },
    {
      "cell_type": "markdown",
      "metadata": {},
      "source": [
        "### Define the image model "
      ]
    },
    {
      "cell_type": "code",
      "execution_count": 67,
      "metadata": {},
      "outputs": [
        {
          "data": {
            "text/html": [
              "<pre style=\"white-space:pre;overflow-x:auto;line-height:normal;font-family:Menlo,'DejaVu Sans Mono',consolas,'Courier New',monospace\">Device:  cuda\n",
              "</pre>\n"
            ],
            "text/plain": [
              "Device:  cuda\n"
            ]
          },
          "metadata": {},
          "output_type": "display_data"
        },
        {
          "data": {
            "text/plain": [
              "CustomTextCLIP(\n",
              "  (visual): TimmModel(\n",
              "    (trunk): VisionTransformer(\n",
              "      (patch_embed): PatchEmbed(\n",
              "        (proj): Conv2d(3, 768, kernel_size=(16, 16), stride=(16, 16))\n",
              "        (norm): Identity()\n",
              "      )\n",
              "      (pos_drop): Dropout(p=0.0, inplace=False)\n",
              "      (patch_drop): Identity()\n",
              "      (norm_pre): Identity()\n",
              "      (blocks): Sequential(\n",
              "        (0): Block(\n",
              "          (norm1): LayerNorm((768,), eps=1e-06, elementwise_affine=True)\n",
              "          (attn): Attention(\n",
              "            (qkv): Linear(in_features=768, out_features=2304, bias=True)\n",
              "            (q_norm): Identity()\n",
              "            (k_norm): Identity()\n",
              "            (attn_drop): Dropout(p=0.0, inplace=False)\n",
              "            (proj): Linear(in_features=768, out_features=768, bias=True)\n",
              "            (proj_drop): Dropout(p=0.0, inplace=False)\n",
              "          )\n",
              "          (ls1): Identity()\n",
              "          (drop_path1): Identity()\n",
              "          (norm2): LayerNorm((768,), eps=1e-06, elementwise_affine=True)\n",
              "          (mlp): Mlp(\n",
              "            (fc1): Linear(in_features=768, out_features=3072, bias=True)\n",
              "            (act): GELU()\n",
              "            (drop1): Dropout(p=0.0, inplace=False)\n",
              "            (norm): Identity()\n",
              "            (fc2): Linear(in_features=3072, out_features=768, bias=True)\n",
              "            (drop2): Dropout(p=0.0, inplace=False)\n",
              "          )\n",
              "          (ls2): Identity()\n",
              "          (drop_path2): Identity()\n",
              "        )\n",
              "        (1): Block(\n",
              "          (norm1): LayerNorm((768,), eps=1e-06, elementwise_affine=True)\n",
              "          (attn): Attention(\n",
              "            (qkv): Linear(in_features=768, out_features=2304, bias=True)\n",
              "            (q_norm): Identity()\n",
              "            (k_norm): Identity()\n",
              "            (attn_drop): Dropout(p=0.0, inplace=False)\n",
              "            (proj): Linear(in_features=768, out_features=768, bias=True)\n",
              "            (proj_drop): Dropout(p=0.0, inplace=False)\n",
              "          )\n",
              "          (ls1): Identity()\n",
              "          (drop_path1): Identity()\n",
              "          (norm2): LayerNorm((768,), eps=1e-06, elementwise_affine=True)\n",
              "          (mlp): Mlp(\n",
              "            (fc1): Linear(in_features=768, out_features=3072, bias=True)\n",
              "            (act): GELU()\n",
              "            (drop1): Dropout(p=0.0, inplace=False)\n",
              "            (norm): Identity()\n",
              "            (fc2): Linear(in_features=3072, out_features=768, bias=True)\n",
              "            (drop2): Dropout(p=0.0, inplace=False)\n",
              "          )\n",
              "          (ls2): Identity()\n",
              "          (drop_path2): Identity()\n",
              "        )\n",
              "        (2): Block(\n",
              "          (norm1): LayerNorm((768,), eps=1e-06, elementwise_affine=True)\n",
              "          (attn): Attention(\n",
              "            (qkv): Linear(in_features=768, out_features=2304, bias=True)\n",
              "            (q_norm): Identity()\n",
              "            (k_norm): Identity()\n",
              "            (attn_drop): Dropout(p=0.0, inplace=False)\n",
              "            (proj): Linear(in_features=768, out_features=768, bias=True)\n",
              "            (proj_drop): Dropout(p=0.0, inplace=False)\n",
              "          )\n",
              "          (ls1): Identity()\n",
              "          (drop_path1): Identity()\n",
              "          (norm2): LayerNorm((768,), eps=1e-06, elementwise_affine=True)\n",
              "          (mlp): Mlp(\n",
              "            (fc1): Linear(in_features=768, out_features=3072, bias=True)\n",
              "            (act): GELU()\n",
              "            (drop1): Dropout(p=0.0, inplace=False)\n",
              "            (norm): Identity()\n",
              "            (fc2): Linear(in_features=3072, out_features=768, bias=True)\n",
              "            (drop2): Dropout(p=0.0, inplace=False)\n",
              "          )\n",
              "          (ls2): Identity()\n",
              "          (drop_path2): Identity()\n",
              "        )\n",
              "        (3): Block(\n",
              "          (norm1): LayerNorm((768,), eps=1e-06, elementwise_affine=True)\n",
              "          (attn): Attention(\n",
              "            (qkv): Linear(in_features=768, out_features=2304, bias=True)\n",
              "            (q_norm): Identity()\n",
              "            (k_norm): Identity()\n",
              "            (attn_drop): Dropout(p=0.0, inplace=False)\n",
              "            (proj): Linear(in_features=768, out_features=768, bias=True)\n",
              "            (proj_drop): Dropout(p=0.0, inplace=False)\n",
              "          )\n",
              "          (ls1): Identity()\n",
              "          (drop_path1): Identity()\n",
              "          (norm2): LayerNorm((768,), eps=1e-06, elementwise_affine=True)\n",
              "          (mlp): Mlp(\n",
              "            (fc1): Linear(in_features=768, out_features=3072, bias=True)\n",
              "            (act): GELU()\n",
              "            (drop1): Dropout(p=0.0, inplace=False)\n",
              "            (norm): Identity()\n",
              "            (fc2): Linear(in_features=3072, out_features=768, bias=True)\n",
              "            (drop2): Dropout(p=0.0, inplace=False)\n",
              "          )\n",
              "          (ls2): Identity()\n",
              "          (drop_path2): Identity()\n",
              "        )\n",
              "        (4): Block(\n",
              "          (norm1): LayerNorm((768,), eps=1e-06, elementwise_affine=True)\n",
              "          (attn): Attention(\n",
              "            (qkv): Linear(in_features=768, out_features=2304, bias=True)\n",
              "            (q_norm): Identity()\n",
              "            (k_norm): Identity()\n",
              "            (attn_drop): Dropout(p=0.0, inplace=False)\n",
              "            (proj): Linear(in_features=768, out_features=768, bias=True)\n",
              "            (proj_drop): Dropout(p=0.0, inplace=False)\n",
              "          )\n",
              "          (ls1): Identity()\n",
              "          (drop_path1): Identity()\n",
              "          (norm2): LayerNorm((768,), eps=1e-06, elementwise_affine=True)\n",
              "          (mlp): Mlp(\n",
              "            (fc1): Linear(in_features=768, out_features=3072, bias=True)\n",
              "            (act): GELU()\n",
              "            (drop1): Dropout(p=0.0, inplace=False)\n",
              "            (norm): Identity()\n",
              "            (fc2): Linear(in_features=3072, out_features=768, bias=True)\n",
              "            (drop2): Dropout(p=0.0, inplace=False)\n",
              "          )\n",
              "          (ls2): Identity()\n",
              "          (drop_path2): Identity()\n",
              "        )\n",
              "        (5): Block(\n",
              "          (norm1): LayerNorm((768,), eps=1e-06, elementwise_affine=True)\n",
              "          (attn): Attention(\n",
              "            (qkv): Linear(in_features=768, out_features=2304, bias=True)\n",
              "            (q_norm): Identity()\n",
              "            (k_norm): Identity()\n",
              "            (attn_drop): Dropout(p=0.0, inplace=False)\n",
              "            (proj): Linear(in_features=768, out_features=768, bias=True)\n",
              "            (proj_drop): Dropout(p=0.0, inplace=False)\n",
              "          )\n",
              "          (ls1): Identity()\n",
              "          (drop_path1): Identity()\n",
              "          (norm2): LayerNorm((768,), eps=1e-06, elementwise_affine=True)\n",
              "          (mlp): Mlp(\n",
              "            (fc1): Linear(in_features=768, out_features=3072, bias=True)\n",
              "            (act): GELU()\n",
              "            (drop1): Dropout(p=0.0, inplace=False)\n",
              "            (norm): Identity()\n",
              "            (fc2): Linear(in_features=3072, out_features=768, bias=True)\n",
              "            (drop2): Dropout(p=0.0, inplace=False)\n",
              "          )\n",
              "          (ls2): Identity()\n",
              "          (drop_path2): Identity()\n",
              "        )\n",
              "        (6): Block(\n",
              "          (norm1): LayerNorm((768,), eps=1e-06, elementwise_affine=True)\n",
              "          (attn): Attention(\n",
              "            (qkv): Linear(in_features=768, out_features=2304, bias=True)\n",
              "            (q_norm): Identity()\n",
              "            (k_norm): Identity()\n",
              "            (attn_drop): Dropout(p=0.0, inplace=False)\n",
              "            (proj): Linear(in_features=768, out_features=768, bias=True)\n",
              "            (proj_drop): Dropout(p=0.0, inplace=False)\n",
              "          )\n",
              "          (ls1): Identity()\n",
              "          (drop_path1): Identity()\n",
              "          (norm2): LayerNorm((768,), eps=1e-06, elementwise_affine=True)\n",
              "          (mlp): Mlp(\n",
              "            (fc1): Linear(in_features=768, out_features=3072, bias=True)\n",
              "            (act): GELU()\n",
              "            (drop1): Dropout(p=0.0, inplace=False)\n",
              "            (norm): Identity()\n",
              "            (fc2): Linear(in_features=3072, out_features=768, bias=True)\n",
              "            (drop2): Dropout(p=0.0, inplace=False)\n",
              "          )\n",
              "          (ls2): Identity()\n",
              "          (drop_path2): Identity()\n",
              "        )\n",
              "        (7): Block(\n",
              "          (norm1): LayerNorm((768,), eps=1e-06, elementwise_affine=True)\n",
              "          (attn): Attention(\n",
              "            (qkv): Linear(in_features=768, out_features=2304, bias=True)\n",
              "            (q_norm): Identity()\n",
              "            (k_norm): Identity()\n",
              "            (attn_drop): Dropout(p=0.0, inplace=False)\n",
              "            (proj): Linear(in_features=768, out_features=768, bias=True)\n",
              "            (proj_drop): Dropout(p=0.0, inplace=False)\n",
              "          )\n",
              "          (ls1): Identity()\n",
              "          (drop_path1): Identity()\n",
              "          (norm2): LayerNorm((768,), eps=1e-06, elementwise_affine=True)\n",
              "          (mlp): Mlp(\n",
              "            (fc1): Linear(in_features=768, out_features=3072, bias=True)\n",
              "            (act): GELU()\n",
              "            (drop1): Dropout(p=0.0, inplace=False)\n",
              "            (norm): Identity()\n",
              "            (fc2): Linear(in_features=3072, out_features=768, bias=True)\n",
              "            (drop2): Dropout(p=0.0, inplace=False)\n",
              "          )\n",
              "          (ls2): Identity()\n",
              "          (drop_path2): Identity()\n",
              "        )\n",
              "        (8): Block(\n",
              "          (norm1): LayerNorm((768,), eps=1e-06, elementwise_affine=True)\n",
              "          (attn): Attention(\n",
              "            (qkv): Linear(in_features=768, out_features=2304, bias=True)\n",
              "            (q_norm): Identity()\n",
              "            (k_norm): Identity()\n",
              "            (attn_drop): Dropout(p=0.0, inplace=False)\n",
              "            (proj): Linear(in_features=768, out_features=768, bias=True)\n",
              "            (proj_drop): Dropout(p=0.0, inplace=False)\n",
              "          )\n",
              "          (ls1): Identity()\n",
              "          (drop_path1): Identity()\n",
              "          (norm2): LayerNorm((768,), eps=1e-06, elementwise_affine=True)\n",
              "          (mlp): Mlp(\n",
              "            (fc1): Linear(in_features=768, out_features=3072, bias=True)\n",
              "            (act): GELU()\n",
              "            (drop1): Dropout(p=0.0, inplace=False)\n",
              "            (norm): Identity()\n",
              "            (fc2): Linear(in_features=3072, out_features=768, bias=True)\n",
              "            (drop2): Dropout(p=0.0, inplace=False)\n",
              "          )\n",
              "          (ls2): Identity()\n",
              "          (drop_path2): Identity()\n",
              "        )\n",
              "        (9): Block(\n",
              "          (norm1): LayerNorm((768,), eps=1e-06, elementwise_affine=True)\n",
              "          (attn): Attention(\n",
              "            (qkv): Linear(in_features=768, out_features=2304, bias=True)\n",
              "            (q_norm): Identity()\n",
              "            (k_norm): Identity()\n",
              "            (attn_drop): Dropout(p=0.0, inplace=False)\n",
              "            (proj): Linear(in_features=768, out_features=768, bias=True)\n",
              "            (proj_drop): Dropout(p=0.0, inplace=False)\n",
              "          )\n",
              "          (ls1): Identity()\n",
              "          (drop_path1): Identity()\n",
              "          (norm2): LayerNorm((768,), eps=1e-06, elementwise_affine=True)\n",
              "          (mlp): Mlp(\n",
              "            (fc1): Linear(in_features=768, out_features=3072, bias=True)\n",
              "            (act): GELU()\n",
              "            (drop1): Dropout(p=0.0, inplace=False)\n",
              "            (norm): Identity()\n",
              "            (fc2): Linear(in_features=3072, out_features=768, bias=True)\n",
              "            (drop2): Dropout(p=0.0, inplace=False)\n",
              "          )\n",
              "          (ls2): Identity()\n",
              "          (drop_path2): Identity()\n",
              "        )\n",
              "        (10): Block(\n",
              "          (norm1): LayerNorm((768,), eps=1e-06, elementwise_affine=True)\n",
              "          (attn): Attention(\n",
              "            (qkv): Linear(in_features=768, out_features=2304, bias=True)\n",
              "            (q_norm): Identity()\n",
              "            (k_norm): Identity()\n",
              "            (attn_drop): Dropout(p=0.0, inplace=False)\n",
              "            (proj): Linear(in_features=768, out_features=768, bias=True)\n",
              "            (proj_drop): Dropout(p=0.0, inplace=False)\n",
              "          )\n",
              "          (ls1): Identity()\n",
              "          (drop_path1): Identity()\n",
              "          (norm2): LayerNorm((768,), eps=1e-06, elementwise_affine=True)\n",
              "          (mlp): Mlp(\n",
              "            (fc1): Linear(in_features=768, out_features=3072, bias=True)\n",
              "            (act): GELU()\n",
              "            (drop1): Dropout(p=0.0, inplace=False)\n",
              "            (norm): Identity()\n",
              "            (fc2): Linear(in_features=3072, out_features=768, bias=True)\n",
              "            (drop2): Dropout(p=0.0, inplace=False)\n",
              "          )\n",
              "          (ls2): Identity()\n",
              "          (drop_path2): Identity()\n",
              "        )\n",
              "        (11): Block(\n",
              "          (norm1): LayerNorm((768,), eps=1e-06, elementwise_affine=True)\n",
              "          (attn): Attention(\n",
              "            (qkv): Linear(in_features=768, out_features=2304, bias=True)\n",
              "            (q_norm): Identity()\n",
              "            (k_norm): Identity()\n",
              "            (attn_drop): Dropout(p=0.0, inplace=False)\n",
              "            (proj): Linear(in_features=768, out_features=768, bias=True)\n",
              "            (proj_drop): Dropout(p=0.0, inplace=False)\n",
              "          )\n",
              "          (ls1): Identity()\n",
              "          (drop_path1): Identity()\n",
              "          (norm2): LayerNorm((768,), eps=1e-06, elementwise_affine=True)\n",
              "          (mlp): Mlp(\n",
              "            (fc1): Linear(in_features=768, out_features=3072, bias=True)\n",
              "            (act): GELU()\n",
              "            (drop1): Dropout(p=0.0, inplace=False)\n",
              "            (norm): Identity()\n",
              "            (fc2): Linear(in_features=3072, out_features=768, bias=True)\n",
              "            (drop2): Dropout(p=0.0, inplace=False)\n",
              "          )\n",
              "          (ls2): Identity()\n",
              "          (drop_path2): Identity()\n",
              "        )\n",
              "      )\n",
              "      (norm): LayerNorm((768,), eps=1e-06, elementwise_affine=True)\n",
              "      (attn_pool): AttentionPoolLatent(\n",
              "        (q): Linear(in_features=768, out_features=768, bias=True)\n",
              "        (kv): Linear(in_features=768, out_features=1536, bias=True)\n",
              "        (q_norm): Identity()\n",
              "        (k_norm): Identity()\n",
              "        (proj): Linear(in_features=768, out_features=768, bias=True)\n",
              "        (proj_drop): Dropout(p=0.0, inplace=False)\n",
              "        (norm): LayerNorm((768,), eps=1e-06, elementwise_affine=True)\n",
              "        (mlp): Mlp(\n",
              "          (fc1): Linear(in_features=768, out_features=3072, bias=True)\n",
              "          (act): GELU()\n",
              "          (drop1): Dropout(p=0.0, inplace=False)\n",
              "          (norm): Identity()\n",
              "          (fc2): Linear(in_features=3072, out_features=768, bias=True)\n",
              "          (drop2): Dropout(p=0.0, inplace=False)\n",
              "        )\n",
              "      )\n",
              "      (fc_norm): Identity()\n",
              "      (head_drop): Dropout(p=0.0, inplace=False)\n",
              "      (head): Identity()\n",
              "    )\n",
              "    (head): Sequential()\n",
              "  )\n",
              "  (text): TextTransformer(\n",
              "    (token_embedding): Embedding(32000, 768)\n",
              "    (transformer): Transformer(\n",
              "      (resblocks): ModuleList(\n",
              "        (0): ResidualAttentionBlock(\n",
              "          (ln_1): LayerNorm((768,), eps=1e-06, elementwise_affine=True)\n",
              "          (attn): MultiheadAttention(\n",
              "            (out_proj): NonDynamicallyQuantizableLinear(in_features=768, out_features=768, bias=True)\n",
              "          )\n",
              "          (ls_1): Identity()\n",
              "          (ln_2): LayerNorm((768,), eps=1e-06, elementwise_affine=True)\n",
              "          (mlp): Sequential(\n",
              "            (c_fc): Linear(in_features=768, out_features=3072, bias=True)\n",
              "            (gelu): GELU()\n",
              "            (c_proj): Linear(in_features=3072, out_features=768, bias=True)\n",
              "          )\n",
              "          (ls_2): Identity()\n",
              "        )\n",
              "        (1): ResidualAttentionBlock(\n",
              "          (ln_1): LayerNorm((768,), eps=1e-06, elementwise_affine=True)\n",
              "          (attn): MultiheadAttention(\n",
              "            (out_proj): NonDynamicallyQuantizableLinear(in_features=768, out_features=768, bias=True)\n",
              "          )\n",
              "          (ls_1): Identity()\n",
              "          (ln_2): LayerNorm((768,), eps=1e-06, elementwise_affine=True)\n",
              "          (mlp): Sequential(\n",
              "            (c_fc): Linear(in_features=768, out_features=3072, bias=True)\n",
              "            (gelu): GELU()\n",
              "            (c_proj): Linear(in_features=3072, out_features=768, bias=True)\n",
              "          )\n",
              "          (ls_2): Identity()\n",
              "        )\n",
              "        (2): ResidualAttentionBlock(\n",
              "          (ln_1): LayerNorm((768,), eps=1e-06, elementwise_affine=True)\n",
              "          (attn): MultiheadAttention(\n",
              "            (out_proj): NonDynamicallyQuantizableLinear(in_features=768, out_features=768, bias=True)\n",
              "          )\n",
              "          (ls_1): Identity()\n",
              "          (ln_2): LayerNorm((768,), eps=1e-06, elementwise_affine=True)\n",
              "          (mlp): Sequential(\n",
              "            (c_fc): Linear(in_features=768, out_features=3072, bias=True)\n",
              "            (gelu): GELU()\n",
              "            (c_proj): Linear(in_features=3072, out_features=768, bias=True)\n",
              "          )\n",
              "          (ls_2): Identity()\n",
              "        )\n",
              "        (3): ResidualAttentionBlock(\n",
              "          (ln_1): LayerNorm((768,), eps=1e-06, elementwise_affine=True)\n",
              "          (attn): MultiheadAttention(\n",
              "            (out_proj): NonDynamicallyQuantizableLinear(in_features=768, out_features=768, bias=True)\n",
              "          )\n",
              "          (ls_1): Identity()\n",
              "          (ln_2): LayerNorm((768,), eps=1e-06, elementwise_affine=True)\n",
              "          (mlp): Sequential(\n",
              "            (c_fc): Linear(in_features=768, out_features=3072, bias=True)\n",
              "            (gelu): GELU()\n",
              "            (c_proj): Linear(in_features=3072, out_features=768, bias=True)\n",
              "          )\n",
              "          (ls_2): Identity()\n",
              "        )\n",
              "        (4): ResidualAttentionBlock(\n",
              "          (ln_1): LayerNorm((768,), eps=1e-06, elementwise_affine=True)\n",
              "          (attn): MultiheadAttention(\n",
              "            (out_proj): NonDynamicallyQuantizableLinear(in_features=768, out_features=768, bias=True)\n",
              "          )\n",
              "          (ls_1): Identity()\n",
              "          (ln_2): LayerNorm((768,), eps=1e-06, elementwise_affine=True)\n",
              "          (mlp): Sequential(\n",
              "            (c_fc): Linear(in_features=768, out_features=3072, bias=True)\n",
              "            (gelu): GELU()\n",
              "            (c_proj): Linear(in_features=3072, out_features=768, bias=True)\n",
              "          )\n",
              "          (ls_2): Identity()\n",
              "        )\n",
              "        (5): ResidualAttentionBlock(\n",
              "          (ln_1): LayerNorm((768,), eps=1e-06, elementwise_affine=True)\n",
              "          (attn): MultiheadAttention(\n",
              "            (out_proj): NonDynamicallyQuantizableLinear(in_features=768, out_features=768, bias=True)\n",
              "          )\n",
              "          (ls_1): Identity()\n",
              "          (ln_2): LayerNorm((768,), eps=1e-06, elementwise_affine=True)\n",
              "          (mlp): Sequential(\n",
              "            (c_fc): Linear(in_features=768, out_features=3072, bias=True)\n",
              "            (gelu): GELU()\n",
              "            (c_proj): Linear(in_features=3072, out_features=768, bias=True)\n",
              "          )\n",
              "          (ls_2): Identity()\n",
              "        )\n",
              "        (6): ResidualAttentionBlock(\n",
              "          (ln_1): LayerNorm((768,), eps=1e-06, elementwise_affine=True)\n",
              "          (attn): MultiheadAttention(\n",
              "            (out_proj): NonDynamicallyQuantizableLinear(in_features=768, out_features=768, bias=True)\n",
              "          )\n",
              "          (ls_1): Identity()\n",
              "          (ln_2): LayerNorm((768,), eps=1e-06, elementwise_affine=True)\n",
              "          (mlp): Sequential(\n",
              "            (c_fc): Linear(in_features=768, out_features=3072, bias=True)\n",
              "            (gelu): GELU()\n",
              "            (c_proj): Linear(in_features=3072, out_features=768, bias=True)\n",
              "          )\n",
              "          (ls_2): Identity()\n",
              "        )\n",
              "        (7): ResidualAttentionBlock(\n",
              "          (ln_1): LayerNorm((768,), eps=1e-06, elementwise_affine=True)\n",
              "          (attn): MultiheadAttention(\n",
              "            (out_proj): NonDynamicallyQuantizableLinear(in_features=768, out_features=768, bias=True)\n",
              "          )\n",
              "          (ls_1): Identity()\n",
              "          (ln_2): LayerNorm((768,), eps=1e-06, elementwise_affine=True)\n",
              "          (mlp): Sequential(\n",
              "            (c_fc): Linear(in_features=768, out_features=3072, bias=True)\n",
              "            (gelu): GELU()\n",
              "            (c_proj): Linear(in_features=3072, out_features=768, bias=True)\n",
              "          )\n",
              "          (ls_2): Identity()\n",
              "        )\n",
              "        (8): ResidualAttentionBlock(\n",
              "          (ln_1): LayerNorm((768,), eps=1e-06, elementwise_affine=True)\n",
              "          (attn): MultiheadAttention(\n",
              "            (out_proj): NonDynamicallyQuantizableLinear(in_features=768, out_features=768, bias=True)\n",
              "          )\n",
              "          (ls_1): Identity()\n",
              "          (ln_2): LayerNorm((768,), eps=1e-06, elementwise_affine=True)\n",
              "          (mlp): Sequential(\n",
              "            (c_fc): Linear(in_features=768, out_features=3072, bias=True)\n",
              "            (gelu): GELU()\n",
              "            (c_proj): Linear(in_features=3072, out_features=768, bias=True)\n",
              "          )\n",
              "          (ls_2): Identity()\n",
              "        )\n",
              "        (9): ResidualAttentionBlock(\n",
              "          (ln_1): LayerNorm((768,), eps=1e-06, elementwise_affine=True)\n",
              "          (attn): MultiheadAttention(\n",
              "            (out_proj): NonDynamicallyQuantizableLinear(in_features=768, out_features=768, bias=True)\n",
              "          )\n",
              "          (ls_1): Identity()\n",
              "          (ln_2): LayerNorm((768,), eps=1e-06, elementwise_affine=True)\n",
              "          (mlp): Sequential(\n",
              "            (c_fc): Linear(in_features=768, out_features=3072, bias=True)\n",
              "            (gelu): GELU()\n",
              "            (c_proj): Linear(in_features=3072, out_features=768, bias=True)\n",
              "          )\n",
              "          (ls_2): Identity()\n",
              "        )\n",
              "        (10): ResidualAttentionBlock(\n",
              "          (ln_1): LayerNorm((768,), eps=1e-06, elementwise_affine=True)\n",
              "          (attn): MultiheadAttention(\n",
              "            (out_proj): NonDynamicallyQuantizableLinear(in_features=768, out_features=768, bias=True)\n",
              "          )\n",
              "          (ls_1): Identity()\n",
              "          (ln_2): LayerNorm((768,), eps=1e-06, elementwise_affine=True)\n",
              "          (mlp): Sequential(\n",
              "            (c_fc): Linear(in_features=768, out_features=3072, bias=True)\n",
              "            (gelu): GELU()\n",
              "            (c_proj): Linear(in_features=3072, out_features=768, bias=True)\n",
              "          )\n",
              "          (ls_2): Identity()\n",
              "        )\n",
              "        (11): ResidualAttentionBlock(\n",
              "          (ln_1): LayerNorm((768,), eps=1e-06, elementwise_affine=True)\n",
              "          (attn): MultiheadAttention(\n",
              "            (out_proj): NonDynamicallyQuantizableLinear(in_features=768, out_features=768, bias=True)\n",
              "          )\n",
              "          (ls_1): Identity()\n",
              "          (ln_2): LayerNorm((768,), eps=1e-06, elementwise_affine=True)\n",
              "          (mlp): Sequential(\n",
              "            (c_fc): Linear(in_features=768, out_features=3072, bias=True)\n",
              "            (gelu): GELU()\n",
              "            (c_proj): Linear(in_features=3072, out_features=768, bias=True)\n",
              "          )\n",
              "          (ls_2): Identity()\n",
              "        )\n",
              "      )\n",
              "    )\n",
              "    (ln_final): LayerNorm((768,), eps=1e-06, elementwise_affine=True)\n",
              "    (text_projection): Linear(in_features=768, out_features=768, bias=True)\n",
              "  )\n",
              ")"
            ]
          },
          "execution_count": 67,
          "metadata": {},
          "output_type": "execute_result"
        }
      ],
      "source": [
        "# clip_model, compose = clip.load('RN50x4')\n",
        "# import torch\n",
        "import open_clip\n",
        "import torch\n",
        "import torch.nn.functional as F\n",
        "from urllib.request import urlopen\n",
        "from PIL import Image\n",
        "from open_clip import create_model_from_pretrained, get_tokenizer # works on open-clip-torch>=2.23.0, timm>=0.9.8\n",
        "\n",
        "\n",
        "device = \"cuda\" if torch.cuda.is_available() else \"cpu\"\n",
        "\n",
        "print(\"Device: \", device)\n",
        "\n",
        "# clip_model, _, compose = open_clip.create_model_and_transforms('ViT-B-16-plus-240', pretrained=\"laion400m_e32\")\n",
        "# tokenizer = open_clip.get_tokenizer('ViT-B-16-plus-240')\n",
        "# clip_model.to(device)\n",
        "\n",
        "\n",
        "clip_model, compose = create_model_from_pretrained('hf-hub:timm/ViT-B-16-SigLIP-512')\n",
        "tokenizer = get_tokenizer('hf-hub:timm/ViT-B-16-SigLIP-512')\n",
        "\n",
        "clip_model.to(device)"
      ]
    },
    {
      "cell_type": "code",
      "execution_count": 68,
      "metadata": {},
      "outputs": [
        {
          "data": {
            "text/plain": [
              "Compose(\n",
              "    Resize(size=(512, 512), interpolation=bicubic, max_size=None, antialias=None)\n",
              "    <function _convert_to_rgb at 0x7f4739ce0e50>\n",
              "    ToTensor()\n",
              "    Normalize(mean=[0.5, 0.5, 0.5], std=[0.5, 0.5, 0.5])\n",
              ")"
            ]
          },
          "execution_count": 68,
          "metadata": {},
          "output_type": "execute_result"
        }
      ],
      "source": [
        "compose"
      ]
    },
    {
      "cell_type": "code",
      "execution_count": 69,
      "metadata": {},
      "outputs": [
        {
          "data": {
            "text/plain": [
              "device(type='cuda')"
            ]
          },
          "execution_count": 69,
          "metadata": {},
          "output_type": "execute_result"
        }
      ],
      "source": [
        "device = torch.device('cuda') if torch.cuda.is_available() else torch.device('cpu')\n",
        "device"
      ]
    },
    {
      "cell_type": "code",
      "execution_count": 70,
      "metadata": {},
      "outputs": [
        {
          "data": {
            "text/plain": [
              "CustomTextCLIP(\n",
              "  (visual): TimmModel(\n",
              "    (trunk): VisionTransformer(\n",
              "      (patch_embed): PatchEmbed(\n",
              "        (proj): Conv2d(3, 768, kernel_size=(16, 16), stride=(16, 16))\n",
              "        (norm): Identity()\n",
              "      )\n",
              "      (pos_drop): Dropout(p=0.0, inplace=False)\n",
              "      (patch_drop): Identity()\n",
              "      (norm_pre): Identity()\n",
              "      (blocks): Sequential(\n",
              "        (0): Block(\n",
              "          (norm1): LayerNorm((768,), eps=1e-06, elementwise_affine=True)\n",
              "          (attn): Attention(\n",
              "            (qkv): Linear(in_features=768, out_features=2304, bias=True)\n",
              "            (q_norm): Identity()\n",
              "            (k_norm): Identity()\n",
              "            (attn_drop): Dropout(p=0.0, inplace=False)\n",
              "            (proj): Linear(in_features=768, out_features=768, bias=True)\n",
              "            (proj_drop): Dropout(p=0.0, inplace=False)\n",
              "          )\n",
              "          (ls1): Identity()\n",
              "          (drop_path1): Identity()\n",
              "          (norm2): LayerNorm((768,), eps=1e-06, elementwise_affine=True)\n",
              "          (mlp): Mlp(\n",
              "            (fc1): Linear(in_features=768, out_features=3072, bias=True)\n",
              "            (act): GELU()\n",
              "            (drop1): Dropout(p=0.0, inplace=False)\n",
              "            (norm): Identity()\n",
              "            (fc2): Linear(in_features=3072, out_features=768, bias=True)\n",
              "            (drop2): Dropout(p=0.0, inplace=False)\n",
              "          )\n",
              "          (ls2): Identity()\n",
              "          (drop_path2): Identity()\n",
              "        )\n",
              "        (1): Block(\n",
              "          (norm1): LayerNorm((768,), eps=1e-06, elementwise_affine=True)\n",
              "          (attn): Attention(\n",
              "            (qkv): Linear(in_features=768, out_features=2304, bias=True)\n",
              "            (q_norm): Identity()\n",
              "            (k_norm): Identity()\n",
              "            (attn_drop): Dropout(p=0.0, inplace=False)\n",
              "            (proj): Linear(in_features=768, out_features=768, bias=True)\n",
              "            (proj_drop): Dropout(p=0.0, inplace=False)\n",
              "          )\n",
              "          (ls1): Identity()\n",
              "          (drop_path1): Identity()\n",
              "          (norm2): LayerNorm((768,), eps=1e-06, elementwise_affine=True)\n",
              "          (mlp): Mlp(\n",
              "            (fc1): Linear(in_features=768, out_features=3072, bias=True)\n",
              "            (act): GELU()\n",
              "            (drop1): Dropout(p=0.0, inplace=False)\n",
              "            (norm): Identity()\n",
              "            (fc2): Linear(in_features=3072, out_features=768, bias=True)\n",
              "            (drop2): Dropout(p=0.0, inplace=False)\n",
              "          )\n",
              "          (ls2): Identity()\n",
              "          (drop_path2): Identity()\n",
              "        )\n",
              "        (2): Block(\n",
              "          (norm1): LayerNorm((768,), eps=1e-06, elementwise_affine=True)\n",
              "          (attn): Attention(\n",
              "            (qkv): Linear(in_features=768, out_features=2304, bias=True)\n",
              "            (q_norm): Identity()\n",
              "            (k_norm): Identity()\n",
              "            (attn_drop): Dropout(p=0.0, inplace=False)\n",
              "            (proj): Linear(in_features=768, out_features=768, bias=True)\n",
              "            (proj_drop): Dropout(p=0.0, inplace=False)\n",
              "          )\n",
              "          (ls1): Identity()\n",
              "          (drop_path1): Identity()\n",
              "          (norm2): LayerNorm((768,), eps=1e-06, elementwise_affine=True)\n",
              "          (mlp): Mlp(\n",
              "            (fc1): Linear(in_features=768, out_features=3072, bias=True)\n",
              "            (act): GELU()\n",
              "            (drop1): Dropout(p=0.0, inplace=False)\n",
              "            (norm): Identity()\n",
              "            (fc2): Linear(in_features=3072, out_features=768, bias=True)\n",
              "            (drop2): Dropout(p=0.0, inplace=False)\n",
              "          )\n",
              "          (ls2): Identity()\n",
              "          (drop_path2): Identity()\n",
              "        )\n",
              "        (3): Block(\n",
              "          (norm1): LayerNorm((768,), eps=1e-06, elementwise_affine=True)\n",
              "          (attn): Attention(\n",
              "            (qkv): Linear(in_features=768, out_features=2304, bias=True)\n",
              "            (q_norm): Identity()\n",
              "            (k_norm): Identity()\n",
              "            (attn_drop): Dropout(p=0.0, inplace=False)\n",
              "            (proj): Linear(in_features=768, out_features=768, bias=True)\n",
              "            (proj_drop): Dropout(p=0.0, inplace=False)\n",
              "          )\n",
              "          (ls1): Identity()\n",
              "          (drop_path1): Identity()\n",
              "          (norm2): LayerNorm((768,), eps=1e-06, elementwise_affine=True)\n",
              "          (mlp): Mlp(\n",
              "            (fc1): Linear(in_features=768, out_features=3072, bias=True)\n",
              "            (act): GELU()\n",
              "            (drop1): Dropout(p=0.0, inplace=False)\n",
              "            (norm): Identity()\n",
              "            (fc2): Linear(in_features=3072, out_features=768, bias=True)\n",
              "            (drop2): Dropout(p=0.0, inplace=False)\n",
              "          )\n",
              "          (ls2): Identity()\n",
              "          (drop_path2): Identity()\n",
              "        )\n",
              "        (4): Block(\n",
              "          (norm1): LayerNorm((768,), eps=1e-06, elementwise_affine=True)\n",
              "          (attn): Attention(\n",
              "            (qkv): Linear(in_features=768, out_features=2304, bias=True)\n",
              "            (q_norm): Identity()\n",
              "            (k_norm): Identity()\n",
              "            (attn_drop): Dropout(p=0.0, inplace=False)\n",
              "            (proj): Linear(in_features=768, out_features=768, bias=True)\n",
              "            (proj_drop): Dropout(p=0.0, inplace=False)\n",
              "          )\n",
              "          (ls1): Identity()\n",
              "          (drop_path1): Identity()\n",
              "          (norm2): LayerNorm((768,), eps=1e-06, elementwise_affine=True)\n",
              "          (mlp): Mlp(\n",
              "            (fc1): Linear(in_features=768, out_features=3072, bias=True)\n",
              "            (act): GELU()\n",
              "            (drop1): Dropout(p=0.0, inplace=False)\n",
              "            (norm): Identity()\n",
              "            (fc2): Linear(in_features=3072, out_features=768, bias=True)\n",
              "            (drop2): Dropout(p=0.0, inplace=False)\n",
              "          )\n",
              "          (ls2): Identity()\n",
              "          (drop_path2): Identity()\n",
              "        )\n",
              "        (5): Block(\n",
              "          (norm1): LayerNorm((768,), eps=1e-06, elementwise_affine=True)\n",
              "          (attn): Attention(\n",
              "            (qkv): Linear(in_features=768, out_features=2304, bias=True)\n",
              "            (q_norm): Identity()\n",
              "            (k_norm): Identity()\n",
              "            (attn_drop): Dropout(p=0.0, inplace=False)\n",
              "            (proj): Linear(in_features=768, out_features=768, bias=True)\n",
              "            (proj_drop): Dropout(p=0.0, inplace=False)\n",
              "          )\n",
              "          (ls1): Identity()\n",
              "          (drop_path1): Identity()\n",
              "          (norm2): LayerNorm((768,), eps=1e-06, elementwise_affine=True)\n",
              "          (mlp): Mlp(\n",
              "            (fc1): Linear(in_features=768, out_features=3072, bias=True)\n",
              "            (act): GELU()\n",
              "            (drop1): Dropout(p=0.0, inplace=False)\n",
              "            (norm): Identity()\n",
              "            (fc2): Linear(in_features=3072, out_features=768, bias=True)\n",
              "            (drop2): Dropout(p=0.0, inplace=False)\n",
              "          )\n",
              "          (ls2): Identity()\n",
              "          (drop_path2): Identity()\n",
              "        )\n",
              "        (6): Block(\n",
              "          (norm1): LayerNorm((768,), eps=1e-06, elementwise_affine=True)\n",
              "          (attn): Attention(\n",
              "            (qkv): Linear(in_features=768, out_features=2304, bias=True)\n",
              "            (q_norm): Identity()\n",
              "            (k_norm): Identity()\n",
              "            (attn_drop): Dropout(p=0.0, inplace=False)\n",
              "            (proj): Linear(in_features=768, out_features=768, bias=True)\n",
              "            (proj_drop): Dropout(p=0.0, inplace=False)\n",
              "          )\n",
              "          (ls1): Identity()\n",
              "          (drop_path1): Identity()\n",
              "          (norm2): LayerNorm((768,), eps=1e-06, elementwise_affine=True)\n",
              "          (mlp): Mlp(\n",
              "            (fc1): Linear(in_features=768, out_features=3072, bias=True)\n",
              "            (act): GELU()\n",
              "            (drop1): Dropout(p=0.0, inplace=False)\n",
              "            (norm): Identity()\n",
              "            (fc2): Linear(in_features=3072, out_features=768, bias=True)\n",
              "            (drop2): Dropout(p=0.0, inplace=False)\n",
              "          )\n",
              "          (ls2): Identity()\n",
              "          (drop_path2): Identity()\n",
              "        )\n",
              "        (7): Block(\n",
              "          (norm1): LayerNorm((768,), eps=1e-06, elementwise_affine=True)\n",
              "          (attn): Attention(\n",
              "            (qkv): Linear(in_features=768, out_features=2304, bias=True)\n",
              "            (q_norm): Identity()\n",
              "            (k_norm): Identity()\n",
              "            (attn_drop): Dropout(p=0.0, inplace=False)\n",
              "            (proj): Linear(in_features=768, out_features=768, bias=True)\n",
              "            (proj_drop): Dropout(p=0.0, inplace=False)\n",
              "          )\n",
              "          (ls1): Identity()\n",
              "          (drop_path1): Identity()\n",
              "          (norm2): LayerNorm((768,), eps=1e-06, elementwise_affine=True)\n",
              "          (mlp): Mlp(\n",
              "            (fc1): Linear(in_features=768, out_features=3072, bias=True)\n",
              "            (act): GELU()\n",
              "            (drop1): Dropout(p=0.0, inplace=False)\n",
              "            (norm): Identity()\n",
              "            (fc2): Linear(in_features=3072, out_features=768, bias=True)\n",
              "            (drop2): Dropout(p=0.0, inplace=False)\n",
              "          )\n",
              "          (ls2): Identity()\n",
              "          (drop_path2): Identity()\n",
              "        )\n",
              "        (8): Block(\n",
              "          (norm1): LayerNorm((768,), eps=1e-06, elementwise_affine=True)\n",
              "          (attn): Attention(\n",
              "            (qkv): Linear(in_features=768, out_features=2304, bias=True)\n",
              "            (q_norm): Identity()\n",
              "            (k_norm): Identity()\n",
              "            (attn_drop): Dropout(p=0.0, inplace=False)\n",
              "            (proj): Linear(in_features=768, out_features=768, bias=True)\n",
              "            (proj_drop): Dropout(p=0.0, inplace=False)\n",
              "          )\n",
              "          (ls1): Identity()\n",
              "          (drop_path1): Identity()\n",
              "          (norm2): LayerNorm((768,), eps=1e-06, elementwise_affine=True)\n",
              "          (mlp): Mlp(\n",
              "            (fc1): Linear(in_features=768, out_features=3072, bias=True)\n",
              "            (act): GELU()\n",
              "            (drop1): Dropout(p=0.0, inplace=False)\n",
              "            (norm): Identity()\n",
              "            (fc2): Linear(in_features=3072, out_features=768, bias=True)\n",
              "            (drop2): Dropout(p=0.0, inplace=False)\n",
              "          )\n",
              "          (ls2): Identity()\n",
              "          (drop_path2): Identity()\n",
              "        )\n",
              "        (9): Block(\n",
              "          (norm1): LayerNorm((768,), eps=1e-06, elementwise_affine=True)\n",
              "          (attn): Attention(\n",
              "            (qkv): Linear(in_features=768, out_features=2304, bias=True)\n",
              "            (q_norm): Identity()\n",
              "            (k_norm): Identity()\n",
              "            (attn_drop): Dropout(p=0.0, inplace=False)\n",
              "            (proj): Linear(in_features=768, out_features=768, bias=True)\n",
              "            (proj_drop): Dropout(p=0.0, inplace=False)\n",
              "          )\n",
              "          (ls1): Identity()\n",
              "          (drop_path1): Identity()\n",
              "          (norm2): LayerNorm((768,), eps=1e-06, elementwise_affine=True)\n",
              "          (mlp): Mlp(\n",
              "            (fc1): Linear(in_features=768, out_features=3072, bias=True)\n",
              "            (act): GELU()\n",
              "            (drop1): Dropout(p=0.0, inplace=False)\n",
              "            (norm): Identity()\n",
              "            (fc2): Linear(in_features=3072, out_features=768, bias=True)\n",
              "            (drop2): Dropout(p=0.0, inplace=False)\n",
              "          )\n",
              "          (ls2): Identity()\n",
              "          (drop_path2): Identity()\n",
              "        )\n",
              "        (10): Block(\n",
              "          (norm1): LayerNorm((768,), eps=1e-06, elementwise_affine=True)\n",
              "          (attn): Attention(\n",
              "            (qkv): Linear(in_features=768, out_features=2304, bias=True)\n",
              "            (q_norm): Identity()\n",
              "            (k_norm): Identity()\n",
              "            (attn_drop): Dropout(p=0.0, inplace=False)\n",
              "            (proj): Linear(in_features=768, out_features=768, bias=True)\n",
              "            (proj_drop): Dropout(p=0.0, inplace=False)\n",
              "          )\n",
              "          (ls1): Identity()\n",
              "          (drop_path1): Identity()\n",
              "          (norm2): LayerNorm((768,), eps=1e-06, elementwise_affine=True)\n",
              "          (mlp): Mlp(\n",
              "            (fc1): Linear(in_features=768, out_features=3072, bias=True)\n",
              "            (act): GELU()\n",
              "            (drop1): Dropout(p=0.0, inplace=False)\n",
              "            (norm): Identity()\n",
              "            (fc2): Linear(in_features=3072, out_features=768, bias=True)\n",
              "            (drop2): Dropout(p=0.0, inplace=False)\n",
              "          )\n",
              "          (ls2): Identity()\n",
              "          (drop_path2): Identity()\n",
              "        )\n",
              "        (11): Block(\n",
              "          (norm1): LayerNorm((768,), eps=1e-06, elementwise_affine=True)\n",
              "          (attn): Attention(\n",
              "            (qkv): Linear(in_features=768, out_features=2304, bias=True)\n",
              "            (q_norm): Identity()\n",
              "            (k_norm): Identity()\n",
              "            (attn_drop): Dropout(p=0.0, inplace=False)\n",
              "            (proj): Linear(in_features=768, out_features=768, bias=True)\n",
              "            (proj_drop): Dropout(p=0.0, inplace=False)\n",
              "          )\n",
              "          (ls1): Identity()\n",
              "          (drop_path1): Identity()\n",
              "          (norm2): LayerNorm((768,), eps=1e-06, elementwise_affine=True)\n",
              "          (mlp): Mlp(\n",
              "            (fc1): Linear(in_features=768, out_features=3072, bias=True)\n",
              "            (act): GELU()\n",
              "            (drop1): Dropout(p=0.0, inplace=False)\n",
              "            (norm): Identity()\n",
              "            (fc2): Linear(in_features=3072, out_features=768, bias=True)\n",
              "            (drop2): Dropout(p=0.0, inplace=False)\n",
              "          )\n",
              "          (ls2): Identity()\n",
              "          (drop_path2): Identity()\n",
              "        )\n",
              "      )\n",
              "      (norm): LayerNorm((768,), eps=1e-06, elementwise_affine=True)\n",
              "      (attn_pool): AttentionPoolLatent(\n",
              "        (q): Linear(in_features=768, out_features=768, bias=True)\n",
              "        (kv): Linear(in_features=768, out_features=1536, bias=True)\n",
              "        (q_norm): Identity()\n",
              "        (k_norm): Identity()\n",
              "        (proj): Linear(in_features=768, out_features=768, bias=True)\n",
              "        (proj_drop): Dropout(p=0.0, inplace=False)\n",
              "        (norm): LayerNorm((768,), eps=1e-06, elementwise_affine=True)\n",
              "        (mlp): Mlp(\n",
              "          (fc1): Linear(in_features=768, out_features=3072, bias=True)\n",
              "          (act): GELU()\n",
              "          (drop1): Dropout(p=0.0, inplace=False)\n",
              "          (norm): Identity()\n",
              "          (fc2): Linear(in_features=3072, out_features=768, bias=True)\n",
              "          (drop2): Dropout(p=0.0, inplace=False)\n",
              "        )\n",
              "      )\n",
              "      (fc_norm): Identity()\n",
              "      (head_drop): Dropout(p=0.0, inplace=False)\n",
              "      (head): Identity()\n",
              "    )\n",
              "    (head): Sequential()\n",
              "  )\n",
              "  (text): TextTransformer(\n",
              "    (token_embedding): Embedding(32000, 768)\n",
              "    (transformer): Transformer(\n",
              "      (resblocks): ModuleList(\n",
              "        (0): ResidualAttentionBlock(\n",
              "          (ln_1): LayerNorm((768,), eps=1e-06, elementwise_affine=True)\n",
              "          (attn): MultiheadAttention(\n",
              "            (out_proj): NonDynamicallyQuantizableLinear(in_features=768, out_features=768, bias=True)\n",
              "          )\n",
              "          (ls_1): Identity()\n",
              "          (ln_2): LayerNorm((768,), eps=1e-06, elementwise_affine=True)\n",
              "          (mlp): Sequential(\n",
              "            (c_fc): Linear(in_features=768, out_features=3072, bias=True)\n",
              "            (gelu): GELU()\n",
              "            (c_proj): Linear(in_features=3072, out_features=768, bias=True)\n",
              "          )\n",
              "          (ls_2): Identity()\n",
              "        )\n",
              "        (1): ResidualAttentionBlock(\n",
              "          (ln_1): LayerNorm((768,), eps=1e-06, elementwise_affine=True)\n",
              "          (attn): MultiheadAttention(\n",
              "            (out_proj): NonDynamicallyQuantizableLinear(in_features=768, out_features=768, bias=True)\n",
              "          )\n",
              "          (ls_1): Identity()\n",
              "          (ln_2): LayerNorm((768,), eps=1e-06, elementwise_affine=True)\n",
              "          (mlp): Sequential(\n",
              "            (c_fc): Linear(in_features=768, out_features=3072, bias=True)\n",
              "            (gelu): GELU()\n",
              "            (c_proj): Linear(in_features=3072, out_features=768, bias=True)\n",
              "          )\n",
              "          (ls_2): Identity()\n",
              "        )\n",
              "        (2): ResidualAttentionBlock(\n",
              "          (ln_1): LayerNorm((768,), eps=1e-06, elementwise_affine=True)\n",
              "          (attn): MultiheadAttention(\n",
              "            (out_proj): NonDynamicallyQuantizableLinear(in_features=768, out_features=768, bias=True)\n",
              "          )\n",
              "          (ls_1): Identity()\n",
              "          (ln_2): LayerNorm((768,), eps=1e-06, elementwise_affine=True)\n",
              "          (mlp): Sequential(\n",
              "            (c_fc): Linear(in_features=768, out_features=3072, bias=True)\n",
              "            (gelu): GELU()\n",
              "            (c_proj): Linear(in_features=3072, out_features=768, bias=True)\n",
              "          )\n",
              "          (ls_2): Identity()\n",
              "        )\n",
              "        (3): ResidualAttentionBlock(\n",
              "          (ln_1): LayerNorm((768,), eps=1e-06, elementwise_affine=True)\n",
              "          (attn): MultiheadAttention(\n",
              "            (out_proj): NonDynamicallyQuantizableLinear(in_features=768, out_features=768, bias=True)\n",
              "          )\n",
              "          (ls_1): Identity()\n",
              "          (ln_2): LayerNorm((768,), eps=1e-06, elementwise_affine=True)\n",
              "          (mlp): Sequential(\n",
              "            (c_fc): Linear(in_features=768, out_features=3072, bias=True)\n",
              "            (gelu): GELU()\n",
              "            (c_proj): Linear(in_features=3072, out_features=768, bias=True)\n",
              "          )\n",
              "          (ls_2): Identity()\n",
              "        )\n",
              "        (4): ResidualAttentionBlock(\n",
              "          (ln_1): LayerNorm((768,), eps=1e-06, elementwise_affine=True)\n",
              "          (attn): MultiheadAttention(\n",
              "            (out_proj): NonDynamicallyQuantizableLinear(in_features=768, out_features=768, bias=True)\n",
              "          )\n",
              "          (ls_1): Identity()\n",
              "          (ln_2): LayerNorm((768,), eps=1e-06, elementwise_affine=True)\n",
              "          (mlp): Sequential(\n",
              "            (c_fc): Linear(in_features=768, out_features=3072, bias=True)\n",
              "            (gelu): GELU()\n",
              "            (c_proj): Linear(in_features=3072, out_features=768, bias=True)\n",
              "          )\n",
              "          (ls_2): Identity()\n",
              "        )\n",
              "        (5): ResidualAttentionBlock(\n",
              "          (ln_1): LayerNorm((768,), eps=1e-06, elementwise_affine=True)\n",
              "          (attn): MultiheadAttention(\n",
              "            (out_proj): NonDynamicallyQuantizableLinear(in_features=768, out_features=768, bias=True)\n",
              "          )\n",
              "          (ls_1): Identity()\n",
              "          (ln_2): LayerNorm((768,), eps=1e-06, elementwise_affine=True)\n",
              "          (mlp): Sequential(\n",
              "            (c_fc): Linear(in_features=768, out_features=3072, bias=True)\n",
              "            (gelu): GELU()\n",
              "            (c_proj): Linear(in_features=3072, out_features=768, bias=True)\n",
              "          )\n",
              "          (ls_2): Identity()\n",
              "        )\n",
              "        (6): ResidualAttentionBlock(\n",
              "          (ln_1): LayerNorm((768,), eps=1e-06, elementwise_affine=True)\n",
              "          (attn): MultiheadAttention(\n",
              "            (out_proj): NonDynamicallyQuantizableLinear(in_features=768, out_features=768, bias=True)\n",
              "          )\n",
              "          (ls_1): Identity()\n",
              "          (ln_2): LayerNorm((768,), eps=1e-06, elementwise_affine=True)\n",
              "          (mlp): Sequential(\n",
              "            (c_fc): Linear(in_features=768, out_features=3072, bias=True)\n",
              "            (gelu): GELU()\n",
              "            (c_proj): Linear(in_features=3072, out_features=768, bias=True)\n",
              "          )\n",
              "          (ls_2): Identity()\n",
              "        )\n",
              "        (7): ResidualAttentionBlock(\n",
              "          (ln_1): LayerNorm((768,), eps=1e-06, elementwise_affine=True)\n",
              "          (attn): MultiheadAttention(\n",
              "            (out_proj): NonDynamicallyQuantizableLinear(in_features=768, out_features=768, bias=True)\n",
              "          )\n",
              "          (ls_1): Identity()\n",
              "          (ln_2): LayerNorm((768,), eps=1e-06, elementwise_affine=True)\n",
              "          (mlp): Sequential(\n",
              "            (c_fc): Linear(in_features=768, out_features=3072, bias=True)\n",
              "            (gelu): GELU()\n",
              "            (c_proj): Linear(in_features=3072, out_features=768, bias=True)\n",
              "          )\n",
              "          (ls_2): Identity()\n",
              "        )\n",
              "        (8): ResidualAttentionBlock(\n",
              "          (ln_1): LayerNorm((768,), eps=1e-06, elementwise_affine=True)\n",
              "          (attn): MultiheadAttention(\n",
              "            (out_proj): NonDynamicallyQuantizableLinear(in_features=768, out_features=768, bias=True)\n",
              "          )\n",
              "          (ls_1): Identity()\n",
              "          (ln_2): LayerNorm((768,), eps=1e-06, elementwise_affine=True)\n",
              "          (mlp): Sequential(\n",
              "            (c_fc): Linear(in_features=768, out_features=3072, bias=True)\n",
              "            (gelu): GELU()\n",
              "            (c_proj): Linear(in_features=3072, out_features=768, bias=True)\n",
              "          )\n",
              "          (ls_2): Identity()\n",
              "        )\n",
              "        (9): ResidualAttentionBlock(\n",
              "          (ln_1): LayerNorm((768,), eps=1e-06, elementwise_affine=True)\n",
              "          (attn): MultiheadAttention(\n",
              "            (out_proj): NonDynamicallyQuantizableLinear(in_features=768, out_features=768, bias=True)\n",
              "          )\n",
              "          (ls_1): Identity()\n",
              "          (ln_2): LayerNorm((768,), eps=1e-06, elementwise_affine=True)\n",
              "          (mlp): Sequential(\n",
              "            (c_fc): Linear(in_features=768, out_features=3072, bias=True)\n",
              "            (gelu): GELU()\n",
              "            (c_proj): Linear(in_features=3072, out_features=768, bias=True)\n",
              "          )\n",
              "          (ls_2): Identity()\n",
              "        )\n",
              "        (10): ResidualAttentionBlock(\n",
              "          (ln_1): LayerNorm((768,), eps=1e-06, elementwise_affine=True)\n",
              "          (attn): MultiheadAttention(\n",
              "            (out_proj): NonDynamicallyQuantizableLinear(in_features=768, out_features=768, bias=True)\n",
              "          )\n",
              "          (ls_1): Identity()\n",
              "          (ln_2): LayerNorm((768,), eps=1e-06, elementwise_affine=True)\n",
              "          (mlp): Sequential(\n",
              "            (c_fc): Linear(in_features=768, out_features=3072, bias=True)\n",
              "            (gelu): GELU()\n",
              "            (c_proj): Linear(in_features=3072, out_features=768, bias=True)\n",
              "          )\n",
              "          (ls_2): Identity()\n",
              "        )\n",
              "        (11): ResidualAttentionBlock(\n",
              "          (ln_1): LayerNorm((768,), eps=1e-06, elementwise_affine=True)\n",
              "          (attn): MultiheadAttention(\n",
              "            (out_proj): NonDynamicallyQuantizableLinear(in_features=768, out_features=768, bias=True)\n",
              "          )\n",
              "          (ls_1): Identity()\n",
              "          (ln_2): LayerNorm((768,), eps=1e-06, elementwise_affine=True)\n",
              "          (mlp): Sequential(\n",
              "            (c_fc): Linear(in_features=768, out_features=3072, bias=True)\n",
              "            (gelu): GELU()\n",
              "            (c_proj): Linear(in_features=3072, out_features=768, bias=True)\n",
              "          )\n",
              "          (ls_2): Identity()\n",
              "        )\n",
              "      )\n",
              "    )\n",
              "    (ln_final): LayerNorm((768,), eps=1e-06, elementwise_affine=True)\n",
              "    (text_projection): Linear(in_features=768, out_features=768, bias=True)\n",
              "  )\n",
              ")"
            ]
          },
          "execution_count": 70,
          "metadata": {},
          "output_type": "execute_result"
        }
      ],
      "source": [
        "clip_model.to(device)"
      ]
    },
    {
      "cell_type": "markdown",
      "metadata": {},
      "source": [
        "### Defind  the image model "
      ]
    },
    {
      "cell_type": "code",
      "execution_count": 71,
      "metadata": {},
      "outputs": [],
      "source": [
        "image_model = lambda images: np.asarray(clip_model.encode_image(images.to(device)).float().detach().to('cpu'))\n"
      ]
    },
    {
      "cell_type": "markdown",
      "metadata": {},
      "source": [
        "# Utils"
      ]
    },
    {
      "cell_type": "code",
      "execution_count": 72,
      "metadata": {},
      "outputs": [],
      "source": [
        "# Define the needed libraries in the code \n",
        "\n",
        "from tqdm.notebook import tqdm\n",
        "import os \n",
        "\n",
        "from PIL import Image"
      ]
    },
    {
      "cell_type": "markdown",
      "metadata": {},
      "source": [
        "### Defind a dataset class for images "
      ]
    },
    {
      "cell_type": "code",
      "execution_count": 73,
      "metadata": {},
      "outputs": [],
      "source": [
        "\n",
        "class CustomDataSet(torch.utils.data.Dataset):\n",
        "    def __init__(self, main_dir, transform):\n",
        "        self.main_dir = main_dir\n",
        "        self.transform = transform\n",
        "        self.total_imgs = image_name_list\n",
        "        print(self.total_imgs[:20])\n",
        "\n",
        "    def __len__(self):\n",
        "        return len(self.total_imgs)\n",
        "\n",
        "    def get_image_name(self, idx):\n",
        "\n",
        "        return self.total_imgs[idx]\n",
        "\n",
        "    def __getitem__(self, idx):\n",
        "        img_loc = os.path.join(self.main_dir, self.total_imgs[idx])\n",
        "        image = Image.open(img_loc)\n",
        "\n",
        "        return self.transform(image)"
      ]
    },
    {
      "cell_type": "markdown",
      "metadata": {},
      "source": [
        "### Defind a dataset class for text dataset  "
      ]
    },
    {
      "cell_type": "code",
      "execution_count": 74,
      "metadata": {},
      "outputs": [],
      "source": [
        "class SimpleTextDataset(torch.utils.data.Dataset):\n",
        "\n",
        "    def __init__(self, texts):\n",
        "        \"\"\"Define  the class init\"\"\"\n",
        "        self.texts = texts\n",
        "\n",
        "    def __len__(self):\n",
        "        \"\"\"Return the length of the text dataset\"\"\"\n",
        "        return len(self.texts)\n",
        "\n",
        "    def __getitem__(self, idx):\n",
        "        \"\"\"Get the item based on index\"\"\"\n",
        "        return self.texts[idx]"
      ]
    },
    {
      "cell_type": "code",
      "execution_count": 75,
      "metadata": {},
      "outputs": [],
      "source": [
        "def text_encoder(text):\n",
        "    \"\"\"Normalize the text embeddings\"\"\"\n",
        "    embedding = language_model(text)\n",
        "    embedding = embedding / np.linalg.norm(embedding)\n",
        "\n",
        "    return embedding\n",
        "\n",
        "def precompute_text_features(loader):\n",
        "    \"\"\"Compute the text embeddings of the whole dataset based on the loader provided\"\"\"\n",
        "    text_features = []\n",
        "\n",
        "    for _, (texts) in enumerate(tqdm(loader)):\n",
        "\n",
        "        embedding = language_model(texts)\n",
        "        embedding = embedding / np.linalg.norm(embedding)\n",
        "\n",
        "        text_features.extend(embedding)\n",
        "\n",
        "    return np.array(text_features)"
      ]
    },
    {
      "cell_type": "code",
      "execution_count": 76,
      "metadata": {},
      "outputs": [],
      "source": [
        "def precompute_image_features(loader):\n",
        "    image_features = []\n",
        "    \n",
        "    for i, (images) in enumerate(tqdm(loader)):\n",
        "\n",
        "        features = image_model(images)\n",
        "\n",
        "        features = features / np.linalg.norm(features)\n",
        "        image_features.extend(features)\n",
        "\n",
        "    return np.array(image_features)"
      ]
    },
    {
      "cell_type": "code",
      "execution_count": 77,
      "metadata": {},
      "outputs": [],
      "source": [
        "def show_images(image_list):\n",
        "    for im_path in image_list:\n",
        "        print(im_path)\n",
        "        display(Image.open(im_path))"
      ]
    },
    {
      "cell_type": "code",
      "execution_count": 78,
      "metadata": {},
      "outputs": [],
      "source": [
        "# text = 'بجعة تطفو أسفل النهر بالقارب'\n",
        "\n",
        "# image_paths = find_image(text, dataset, image_features, n=3)\n",
        "# show_images(image_paths)"
      ]
    },
    {
      "cell_type": "markdown",
      "metadata": {},
      "source": [
        "Build the image dataset "
      ]
    },
    {
      "cell_type": "code",
      "execution_count": 79,
      "metadata": {},
      "outputs": [
        {
          "data": {
            "text/html": [
              "<pre style=\"white-space:pre;overflow-x:auto;line-height:normal;font-family:Menlo,'DejaVu Sans Mono',consolas,'Courier New',monospace\"><span style=\"font-weight: bold\">[</span>\n",
              "    <span style=\"color: #008000; text-decoration-color: #008000\">'1000268201_693b08cb0e.jpg'</span>,\n",
              "    <span style=\"color: #008000; text-decoration-color: #008000\">'1001773457_577c3a7d70.jpg'</span>,\n",
              "    <span style=\"color: #008000; text-decoration-color: #008000\">'1002674143_1b742ab4b8.jpg'</span>,\n",
              "    <span style=\"color: #008000; text-decoration-color: #008000\">'1003163366_44323f5815.jpg'</span>,\n",
              "    <span style=\"color: #008000; text-decoration-color: #008000\">'1007129816_e794419615.jpg'</span>,\n",
              "    <span style=\"color: #008000; text-decoration-color: #008000\">'1007320043_627395c3d8.jpg'</span>,\n",
              "    <span style=\"color: #008000; text-decoration-color: #008000\">'1009434119_febe49276a.jpg'</span>,\n",
              "    <span style=\"color: #008000; text-decoration-color: #008000\">'1012212859_01547e3f17.jpg'</span>,\n",
              "    <span style=\"color: #008000; text-decoration-color: #008000\">'1015118661_980735411b.jpg'</span>,\n",
              "    <span style=\"color: #008000; text-decoration-color: #008000\">'1015584366_dfcec3c85a.jpg'</span>,\n",
              "    <span style=\"color: #008000; text-decoration-color: #008000\">'101654506_8eb26cfb60.jpg'</span>,\n",
              "    <span style=\"color: #008000; text-decoration-color: #008000\">'101669240_b2d3e7f17b.jpg'</span>,\n",
              "    <span style=\"color: #008000; text-decoration-color: #008000\">'1016887272_03199f49c4.jpg'</span>,\n",
              "    <span style=\"color: #008000; text-decoration-color: #008000\">'1019077836_6fc9b15408.jpg'</span>,\n",
              "    <span style=\"color: #008000; text-decoration-color: #008000\">'1019604187_d087bf9a5f.jpg'</span>,\n",
              "    <span style=\"color: #008000; text-decoration-color: #008000\">'1020651753_06077ec457.jpg'</span>,\n",
              "    <span style=\"color: #008000; text-decoration-color: #008000\">'1022454332_6af2c1449a.jpg'</span>,\n",
              "    <span style=\"color: #008000; text-decoration-color: #008000\">'1022454428_b6b660a67b.jpg'</span>,\n",
              "    <span style=\"color: #008000; text-decoration-color: #008000\">'1022975728_75515238d8.jpg'</span>,\n",
              "    <span style=\"color: #008000; text-decoration-color: #008000\">'102351840_323e3de834.jpg'</span>\n",
              "<span style=\"font-weight: bold\">]</span>\n",
              "</pre>\n"
            ],
            "text/plain": [
              "\u001b[1m[\u001b[0m\n",
              "    \u001b[32m'1000268201_693b08cb0e.jpg'\u001b[0m,\n",
              "    \u001b[32m'1001773457_577c3a7d70.jpg'\u001b[0m,\n",
              "    \u001b[32m'1002674143_1b742ab4b8.jpg'\u001b[0m,\n",
              "    \u001b[32m'1003163366_44323f5815.jpg'\u001b[0m,\n",
              "    \u001b[32m'1007129816_e794419615.jpg'\u001b[0m,\n",
              "    \u001b[32m'1007320043_627395c3d8.jpg'\u001b[0m,\n",
              "    \u001b[32m'1009434119_febe49276a.jpg'\u001b[0m,\n",
              "    \u001b[32m'1012212859_01547e3f17.jpg'\u001b[0m,\n",
              "    \u001b[32m'1015118661_980735411b.jpg'\u001b[0m,\n",
              "    \u001b[32m'1015584366_dfcec3c85a.jpg'\u001b[0m,\n",
              "    \u001b[32m'101654506_8eb26cfb60.jpg'\u001b[0m,\n",
              "    \u001b[32m'101669240_b2d3e7f17b.jpg'\u001b[0m,\n",
              "    \u001b[32m'1016887272_03199f49c4.jpg'\u001b[0m,\n",
              "    \u001b[32m'1019077836_6fc9b15408.jpg'\u001b[0m,\n",
              "    \u001b[32m'1019604187_d087bf9a5f.jpg'\u001b[0m,\n",
              "    \u001b[32m'1020651753_06077ec457.jpg'\u001b[0m,\n",
              "    \u001b[32m'1022454332_6af2c1449a.jpg'\u001b[0m,\n",
              "    \u001b[32m'1022454428_b6b660a67b.jpg'\u001b[0m,\n",
              "    \u001b[32m'1022975728_75515238d8.jpg'\u001b[0m,\n",
              "    \u001b[32m'102351840_323e3de834.jpg'\u001b[0m\n",
              "\u001b[1m]\u001b[0m\n"
            ]
          },
          "metadata": {},
          "output_type": "display_data"
        }
      ],
      "source": [
        "dataset = CustomDataSet(\"flicker_8k/photos\", transform=compose)"
      ]
    },
    {
      "cell_type": "code",
      "execution_count": 80,
      "metadata": {},
      "outputs": [],
      "source": [
        "# check if the image_paths sorted_data in the same order of the image dataset:\n",
        "\n",
        "\n",
        "for i, item in enumerate(sorted_data):\n",
        "\n",
        "    if item['image_name'] != dataset.get_image_name(i):\n",
        "        print(\"stop\")\n",
        "        break\n"
      ]
    },
    {
      "cell_type": "code",
      "execution_count": 81,
      "metadata": {},
      "outputs": [
        {
          "data": {
            "text/plain": [
              "8091"
            ]
          },
          "execution_count": 81,
          "metadata": {},
          "output_type": "execute_result"
        }
      ],
      "source": [
        "len(dataset)"
      ]
    },
    {
      "cell_type": "markdown",
      "metadata": {},
      "source": [
        "### Define the image_loder"
      ]
    },
    {
      "cell_type": "code",
      "execution_count": 82,
      "metadata": {},
      "outputs": [],
      "source": [
        "image_loader = torch.utils.data.DataLoader(\n",
        "    dataset,\n",
        "    batch_size=8,\n",
        "    shuffle=False,\n",
        "    num_workers=0,\n",
        "    drop_last=False)"
      ]
    },
    {
      "cell_type": "markdown",
      "metadata": {},
      "source": [
        "### Define the text_loder"
      ]
    },
    {
      "cell_type": "code",
      "execution_count": 83,
      "metadata": {},
      "outputs": [],
      "source": [
        "text_dataset = SimpleTextDataset([elem[\"caption_ar\"] for elem in sorted_data])\n",
        "\n",
        "text_loader = torch.utils.data.DataLoader(\n",
        "    text_dataset,\n",
        "    batch_size=64,\n",
        "    shuffle=False)"
      ]
    },
    {
      "cell_type": "code",
      "execution_count": 84,
      "metadata": {},
      "outputs": [],
      "source": [
        "# Check this to utalize the GPU memory in the images \n",
        "# https://discuss.pytorch.org/t/not-using-multiprocessing-but-getting-cuda-error-re-forked-subprocess/54610/8"
      ]
    },
    {
      "cell_type": "code",
      "execution_count": 85,
      "metadata": {},
      "outputs": [],
      "source": [
        "import numpy as np"
      ]
    },
    {
      "cell_type": "code",
      "execution_count": 86,
      "metadata": {},
      "outputs": [
        {
          "data": {
            "application/vnd.jupyter.widget-view+json": {
              "model_id": "d1b2fdbfc1b8437fbe6d09debe629072",
              "version_major": 2,
              "version_minor": 0
            },
            "text/plain": [
              "  0%|          | 0/1012 [00:00<?, ?it/s]"
            ]
          },
          "metadata": {},
          "output_type": "display_data"
        }
      ],
      "source": [
        "image_features = precompute_image_features(image_loader)"
      ]
    },
    {
      "cell_type": "code",
      "execution_count": 87,
      "metadata": {},
      "outputs": [],
      "source": [
        "image_emb_path = 'image_features_flicker_8k_images_arabert_siglib_best_model.pickle'"
      ]
    },
    {
      "cell_type": "code",
      "execution_count": 88,
      "metadata": {},
      "outputs": [],
      "source": [
        "text_emb_path = 'text_features_flicker_8k_images_arabert_siglib_best_model.pickle'"
      ]
    },
    {
      "cell_type": "code",
      "execution_count": 89,
      "metadata": {},
      "outputs": [],
      "source": [
        "import pickle\n",
        "\n",
        "\n",
        "with open(image_emb_path, 'wb') as handle:\n",
        "    pickle.dump(image_features, handle, protocol=pickle.HIGHEST_PROTOCOL)"
      ]
    },
    {
      "cell_type": "code",
      "execution_count": 90,
      "metadata": {},
      "outputs": [
        {
          "data": {
            "text/plain": [
              "array([[-0.0067572 ,  0.00406208,  0.00661208, ...,  0.00371716,\n",
              "        -0.00105429, -0.00350507],\n",
              "       [ 0.00385408,  0.00676552,  0.01540933, ...,  0.0019292 ,\n",
              "         0.00453584,  0.01249929],\n",
              "       [ 0.0064952 ,  0.00596664,  0.00483692, ...,  0.00906095,\n",
              "         0.01059991,  0.00796194],\n",
              "       ...,\n",
              "       [ 0.00381889, -0.00636934, -0.01352824, ...,  0.00798264,\n",
              "        -0.01368668, -0.02256269],\n",
              "       [ 0.00684644,  0.00089394,  0.02187128, ...,  0.00826175,\n",
              "        -0.01809158, -0.0137115 ],\n",
              "       [-0.00412248, -0.01077025,  0.00023951, ..., -0.00090073,\n",
              "        -0.00153789,  0.00457403]], dtype=float32)"
            ]
          },
          "execution_count": 90,
          "metadata": {},
          "output_type": "execute_result"
        }
      ],
      "source": [
        "import pickle\n",
        "\n",
        "with open(image_emb_path, 'rb') as handle:\n",
        "    image_features_new = pickle.load(handle)\n",
        "\n",
        "image_features_new"
      ]
    },
    {
      "cell_type": "code",
      "execution_count": 91,
      "metadata": {},
      "outputs": [
        {
          "data": {
            "application/vnd.jupyter.widget-view+json": {
              "model_id": "c67cc38770c4428e954a16daf1d1782a",
              "version_major": 2,
              "version_minor": 0
            },
            "text/plain": [
              "  0%|          | 0/127 [00:00<?, ?it/s]"
            ]
          },
          "metadata": {},
          "output_type": "display_data"
        },
        {
          "data": {
            "text/plain": [
              "array([[-0.00130756, -0.00466555,  0.00456756, ...,  0.00057054,\n",
              "        -0.00114027, -0.00354676],\n",
              "       [ 0.00288467,  0.00168817,  0.00754338, ..., -0.00137142,\n",
              "         0.00526557,  0.00235285],\n",
              "       [ 0.00439033, -0.00126163,  0.00341085, ...,  0.00066701,\n",
              "         0.00113797, -0.00495239],\n",
              "       ...,\n",
              "       [ 0.00279467, -0.00306914, -0.00506757, ...,  0.00051958,\n",
              "        -0.00102503, -0.00732593],\n",
              "       [ 0.00198616, -0.00573871,  0.00286335, ..., -0.00268384,\n",
              "        -0.01485754, -0.00027666],\n",
              "       [-0.00091413, -0.00585213,  0.00436323, ..., -0.00354192,\n",
              "        -0.00218335, -0.00171109]], dtype=float32)"
            ]
          },
          "execution_count": 91,
          "metadata": {},
          "output_type": "execute_result"
        }
      ],
      "source": [
        "text_features = precompute_text_features(text_loader)\n",
        "\n",
        "text_features"
      ]
    },
    {
      "cell_type": "code",
      "execution_count": 92,
      "metadata": {},
      "outputs": [],
      "source": [
        "import pickle\n",
        "\n",
        "\n",
        "with open(text_emb_path, 'wb') as handle:\n",
        "    pickle.dump(text_features, handle, protocol=pickle.HIGHEST_PROTOCOL)"
      ]
    },
    {
      "cell_type": "code",
      "execution_count": 93,
      "metadata": {},
      "outputs": [
        {
          "data": {
            "text/plain": [
              "array([[-0.00130756, -0.00466555,  0.00456756, ...,  0.00057054,\n",
              "        -0.00114027, -0.00354676],\n",
              "       [ 0.00288467,  0.00168817,  0.00754338, ..., -0.00137142,\n",
              "         0.00526557,  0.00235285],\n",
              "       [ 0.00439033, -0.00126163,  0.00341085, ...,  0.00066701,\n",
              "         0.00113797, -0.00495239],\n",
              "       ...,\n",
              "       [ 0.00279467, -0.00306914, -0.00506757, ...,  0.00051958,\n",
              "        -0.00102503, -0.00732593],\n",
              "       [ 0.00198616, -0.00573871,  0.00286335, ..., -0.00268384,\n",
              "        -0.01485754, -0.00027666],\n",
              "       [-0.00091413, -0.00585213,  0.00436323, ..., -0.00354192,\n",
              "        -0.00218335, -0.00171109]], dtype=float32)"
            ]
          },
          "execution_count": 93,
          "metadata": {},
          "output_type": "execute_result"
        }
      ],
      "source": [
        "\n",
        "with open(text_emb_path, 'rb') as handle:\n",
        "    text_features_new = pickle.load(handle)\n",
        "\n",
        "text_features_new"
      ]
    },
    {
      "cell_type": "code",
      "execution_count": 94,
      "metadata": {},
      "outputs": [
        {
          "data": {
            "text/plain": [
              "array([[-0.0067572 ,  0.00406208,  0.00661208, ...,  0.00371716,\n",
              "        -0.00105429, -0.00350507],\n",
              "       [ 0.00385408,  0.00676552,  0.01540933, ...,  0.0019292 ,\n",
              "         0.00453584,  0.01249929],\n",
              "       [ 0.0064952 ,  0.00596664,  0.00483692, ...,  0.00906095,\n",
              "         0.01059991,  0.00796194],\n",
              "       ...,\n",
              "       [ 0.00381889, -0.00636934, -0.01352824, ...,  0.00798264,\n",
              "        -0.01368668, -0.02256269],\n",
              "       [ 0.00684644,  0.00089394,  0.02187128, ...,  0.00826175,\n",
              "        -0.01809158, -0.0137115 ],\n",
              "       [-0.00412248, -0.01077025,  0.00023951, ..., -0.00090073,\n",
              "        -0.00153789,  0.00457403]], dtype=float32)"
            ]
          },
          "execution_count": 94,
          "metadata": {},
          "output_type": "execute_result"
        }
      ],
      "source": [
        "image_features_new"
      ]
    },
    {
      "cell_type": "code",
      "execution_count": 95,
      "metadata": {},
      "outputs": [
        {
          "data": {
            "text/plain": [
              "(8091, 768)"
            ]
          },
          "execution_count": 95,
          "metadata": {},
          "output_type": "execute_result"
        }
      ],
      "source": [
        "text_features_new.shape"
      ]
    },
    {
      "cell_type": "code",
      "execution_count": 96,
      "metadata": {},
      "outputs": [
        {
          "data": {
            "text/plain": [
              "array([-1.30756362e-03, -4.66555171e-03,  4.56755981e-03, -4.53649368e-03,\n",
              "       -2.30401754e-03, -1.55737507e-03, -1.60156412e-03,  1.14822143e-03,\n",
              "        1.13198091e-03,  1.64696900e-03,  8.62693705e-04, -1.82340722e-04,\n",
              "       -4.42786579e-04,  6.78797998e-03, -9.18996055e-03, -4.28905804e-03,\n",
              "        7.04046665e-03,  3.75069305e-03, -4.06005839e-03, -5.87126100e-03,\n",
              "        2.74090772e-03,  4.26813355e-03,  9.35983961e-04,  3.56792333e-03,\n",
              "       -4.54711635e-03,  8.73354002e-05, -8.93772859e-03, -8.09221342e-03,\n",
              "        2.92562909e-05,  5.43082552e-03, -7.66662275e-03,  1.63642131e-03,\n",
              "        4.68228385e-03, -1.90726260e-03, -1.92352780e-03, -3.67671571e-04,\n",
              "       -1.30588678e-03, -1.02274481e-03, -6.60465390e-04,  7.18387170e-03,\n",
              "        5.19546168e-03,  8.35588493e-04,  2.48014065e-03, -4.56560263e-03,\n",
              "        5.43646095e-03,  2.68346700e-03, -7.63645439e-05, -4.48782928e-03,\n",
              "        5.69497561e-03, -3.52755259e-03,  2.08532345e-03, -1.97618996e-04,\n",
              "        8.59517138e-04, -6.35663187e-03,  4.75682039e-03,  6.39062468e-03,\n",
              "       -1.79372716e-03,  1.70040969e-03, -1.92628882e-03, -9.46387299e-04,\n",
              "        2.98593892e-03,  1.32399949e-03,  2.95706512e-03, -2.27655354e-03,\n",
              "       -6.24031946e-03,  3.99008766e-03,  1.01386290e-03,  1.89293956e-03,\n",
              "        2.18608021e-03,  6.04478782e-03,  5.43597480e-03, -7.96783948e-04,\n",
              "        1.50450773e-03, -1.10334186e-04,  3.15362005e-03, -2.16638553e-03,\n",
              "        7.15265691e-04, -2.03565136e-03, -5.48172742e-03, -2.21143290e-03,\n",
              "       -2.81569757e-03,  3.64896469e-03,  4.44661872e-03, -5.07462258e-03,\n",
              "       -6.07092748e-04, -1.49102136e-03, -4.27291216e-03,  1.17029791e-04,\n",
              "       -6.42454252e-03,  3.18366056e-03,  3.72804608e-03, -1.03259110e-03,\n",
              "        9.46622808e-04, -4.04226733e-03, -1.61545584e-03, -2.63071596e-03,\n",
              "        3.02286516e-03, -1.58788491e-04,  1.37481058e-03, -2.31880113e-04,\n",
              "       -9.87667590e-04, -2.02506571e-03,  5.00901928e-03, -3.03438923e-04,\n",
              "       -2.58429465e-03,  1.32691814e-03,  8.74406542e-04,  5.59164770e-03,\n",
              "       -4.09540441e-03,  2.93979747e-03,  3.35054402e-03,  1.27100572e-03,\n",
              "       -2.77207675e-03, -6.51455764e-03, -2.40490399e-03,  1.16273493e-03,\n",
              "       -1.37296959e-03, -3.75988777e-03,  6.50079863e-04,  1.99997448e-03,\n",
              "        4.69755754e-03, -6.64887019e-03, -3.66660617e-02,  4.79466701e-03,\n",
              "       -1.11981726e-03,  1.81479019e-03, -2.44152383e-03, -3.91839159e-04,\n",
              "        1.11369733e-02,  5.89965656e-03, -2.43560504e-03, -6.65993989e-03,\n",
              "       -1.04924617e-03, -5.17407246e-03,  2.48361891e-03, -9.20191698e-04,\n",
              "       -3.73324309e-03, -3.99445696e-03, -7.03052199e-03, -4.26740531e-04,\n",
              "        3.00207967e-03,  1.62587385e-03,  3.86541942e-04,  2.18996593e-05,\n",
              "       -1.14164897e-03,  2.66656163e-04,  2.96982052e-03, -1.57465704e-03,\n",
              "       -1.23753061e-03,  2.39412556e-03,  2.34030839e-03,  3.38406651e-03,\n",
              "        1.74646091e-03, -5.25378715e-03,  3.83901130e-03,  1.71278790e-03,\n",
              "       -3.53407976e-03,  2.30922713e-03,  3.71914916e-03,  6.31960924e-04,\n",
              "       -4.01059602e-04, -6.75670803e-03, -4.68850834e-04, -9.94843896e-04,\n",
              "        2.86590261e-03, -8.39154876e-04,  2.72229454e-03, -4.27128421e-03,\n",
              "       -1.80706335e-03, -2.04249029e-03, -4.55450732e-03, -7.67719685e-05,\n",
              "       -4.42343485e-03,  6.68084342e-03, -5.82557591e-03, -2.11383379e-03,\n",
              "        1.14621141e-03, -9.89964232e-04,  1.49123534e-03, -4.56945098e-04,\n",
              "       -1.04296496e-02,  6.47043716e-03,  1.67114404e-03, -2.62066140e-03,\n",
              "        4.19992814e-03,  2.63546151e-03, -2.27946742e-03,  2.52439152e-03,\n",
              "        4.06191731e-03,  3.33278091e-04, -4.34681028e-03, -2.89983326e-03,\n",
              "       -1.97060592e-03,  3.02745984e-03, -1.32870185e-03, -1.07318738e-04,\n",
              "       -3.19033954e-03, -3.15743790e-04,  1.79559807e-03,  1.01396907e-03,\n",
              "       -3.59173957e-03, -9.15991724e-04, -3.57817509e-04,  6.41743466e-03,\n",
              "        6.35992829e-03,  2.14209734e-03, -2.34876294e-03, -1.53805334e-02,\n",
              "       -1.16827793e-03, -5.54898521e-04,  3.98278516e-03, -8.72804504e-03,\n",
              "        6.35415362e-03,  1.70854840e-03, -5.07113000e-04,  2.35899678e-03,\n",
              "       -3.99490120e-03,  7.74822757e-03,  2.29243335e-04, -5.74526191e-03,\n",
              "        2.91149737e-03,  4.54136520e-04,  3.85804428e-03,  4.45789410e-05,\n",
              "        3.04837013e-03,  3.56971589e-03, -5.36678090e-05,  1.40109856e-03,\n",
              "       -1.30546489e-03, -8.29270983e-04,  1.37371174e-03,  8.28526914e-04,\n",
              "       -1.48134795e-03,  4.51828615e-04, -2.70329253e-03, -4.75583656e-04,\n",
              "       -3.79077252e-03, -1.77185133e-03,  6.95424445e-04, -6.32784143e-03,\n",
              "        8.89074232e-04, -2.22623092e-03, -1.90196547e-03, -5.02130482e-03,\n",
              "        8.54857441e-04, -2.58611166e-03, -1.43466622e-03, -2.45645037e-03,\n",
              "        4.71976725e-03, -3.25740082e-03, -2.39802571e-03,  4.13137861e-03,\n",
              "        3.70807946e-03, -7.10782828e-03,  4.69810842e-03, -9.87454434e-04,\n",
              "        1.25532306e-03, -6.66760048e-03, -3.78442509e-03, -2.27566482e-03,\n",
              "        3.76351364e-03,  9.82891652e-04,  2.97787599e-04, -6.87728112e-04,\n",
              "        2.31932732e-03,  6.20371313e-04,  2.04726262e-03, -1.48349279e-03,\n",
              "       -2.07135594e-03,  2.84667895e-03, -4.56662057e-03,  2.10969639e-03,\n",
              "       -5.00081023e-06,  6.14009798e-04, -4.45274217e-03,  3.13886488e-03,\n",
              "        8.45342223e-03, -4.44374839e-03,  5.03417989e-03,  7.42474280e-04,\n",
              "       -1.99980475e-03, -9.95564461e-03,  3.17334174e-03, -5.33491955e-04,\n",
              "       -1.03212893e-02,  4.60041600e-04,  1.43738533e-03, -2.80681578e-03,\n",
              "       -2.78664823e-03,  4.41147806e-03,  3.18340870e-04,  2.47452874e-03,\n",
              "       -5.11883525e-03,  4.26504435e-03, -1.21437048e-03,  1.39401911e-03,\n",
              "        2.18953961e-03,  4.57451679e-04, -7.36714387e-03, -2.40809913e-03,\n",
              "        1.91648607e-03, -7.37473508e-03,  1.60197815e-04,  1.56418607e-03,\n",
              "        2.92976084e-03, -2.15595262e-03, -4.33251541e-03,  9.62216931e-04,\n",
              "        1.72383944e-03,  3.57122073e-04,  4.66163410e-03, -1.72861433e-03,\n",
              "       -2.34930520e-03,  3.67649016e-03,  2.31428863e-03, -1.61327189e-03,\n",
              "       -1.29181263e-03, -2.53647962e-03, -1.79245556e-03, -1.49824668e-03,\n",
              "       -2.58076121e-03,  8.14914121e-04, -3.87431146e-03,  1.57509232e-03,\n",
              "        6.45952253e-03, -3.53290397e-03, -3.04081361e-03, -6.07566861e-03,\n",
              "       -1.54824858e-03,  2.58876313e-03,  5.00820857e-03, -1.13634830e-02,\n",
              "        2.57512764e-03, -3.05772130e-03,  4.37881658e-03, -3.69268283e-03,\n",
              "        1.43849722e-03, -2.46500829e-03,  3.06857680e-03, -2.82376655e-03,\n",
              "        1.93515676e-03,  5.64473448e-03, -3.94316204e-03, -2.12388462e-03,\n",
              "        4.58972156e-03, -1.57431280e-03, -2.79747671e-03, -5.25029330e-03,\n",
              "        3.13934335e-03, -2.48347805e-03,  5.21432050e-03,  5.67326264e-04,\n",
              "        1.89348147e-03, -2.42757378e-03, -6.24907436e-04, -1.65404018e-03,\n",
              "        3.92287457e-03,  4.07769810e-03, -1.18502520e-03, -5.39586926e-03,\n",
              "        3.06453760e-04, -2.91964971e-03, -8.15934036e-04, -5.22190845e-03,\n",
              "       -4.00441175e-04,  6.94685290e-03, -2.23383051e-03, -1.09728158e-03,\n",
              "        4.51189233e-03, -2.15741180e-04, -3.83438729e-03, -5.37661323e-03,\n",
              "        1.30494160e-03,  3.22520337e-03,  6.74478058e-03, -1.72994460e-03,\n",
              "        2.06195563e-03,  1.97657035e-03, -3.35108372e-03,  2.86406546e-04,\n",
              "        3.68525740e-03,  4.39587003e-03,  5.29308384e-03, -2.34169187e-03,\n",
              "        5.61019871e-04, -3.53984721e-03, -9.16224380e-04, -2.25016312e-03,\n",
              "        4.10926668e-03,  2.01905821e-03,  9.74380120e-04, -3.39562648e-05,\n",
              "       -2.84622610e-03,  1.30009034e-03,  5.67768328e-03,  6.11992832e-03,\n",
              "       -2.00313632e-03, -2.53282883e-03, -9.92964604e-04,  1.22911914e-03,\n",
              "       -1.53467676e-03,  9.69368685e-03,  2.95347930e-03, -8.52800813e-03,\n",
              "       -1.95304677e-03,  8.08451965e-04, -4.55523143e-03, -1.82472926e-03,\n",
              "       -9.11063398e-04,  1.27972016e-04,  1.34865497e-03,  1.33057416e-03,\n",
              "       -2.16733967e-03,  1.51309138e-03, -1.08699407e-03,  7.79067865e-03,\n",
              "       -1.56451424e-03, -6.22909097e-03, -3.61346384e-03, -1.37321313e-03,\n",
              "       -1.64231227e-03, -1.06788916e-03, -2.79768533e-03,  1.36673078e-03,\n",
              "       -3.51863750e-03,  2.67669646e-04,  2.32976465e-03, -4.37146286e-03,\n",
              "       -6.75482210e-03,  2.54043448e-03, -1.61110016e-04,  2.25063669e-03,\n",
              "       -1.80439255e-03,  4.35670983e-04, -3.84560481e-05,  1.30575034e-03,\n",
              "        4.58391663e-03,  3.56757990e-03,  6.01884152e-04, -2.14554509e-03,\n",
              "       -2.03007017e-03, -1.88227592e-03, -3.84686096e-03, -4.37334320e-03,\n",
              "        2.81959050e-03, -3.14857648e-03, -5.28426189e-03,  7.99017842e-04,\n",
              "       -4.21426957e-03,  2.74299388e-03,  1.16262049e-03,  1.72012136e-03,\n",
              "        4.68575023e-03, -6.51296787e-03, -3.39425169e-03, -4.70017316e-03,\n",
              "        5.43363346e-03, -2.03224318e-03, -3.74390581e-03,  2.38801353e-03,\n",
              "        1.42282806e-03, -2.40453333e-03, -1.52351893e-03,  4.79198614e-04,\n",
              "        2.40827189e-03, -6.48425834e-04, -8.38183551e-05,  2.85351882e-04,\n",
              "       -1.63583225e-03,  2.67698593e-03,  4.50416142e-03, -3.08164558e-03,\n",
              "        3.58117698e-03, -1.82608853e-03,  2.26576463e-03,  4.09908174e-03,\n",
              "       -1.59968727e-03,  6.64075604e-04,  1.59058336e-03,  2.69752811e-03,\n",
              "        1.78085500e-03,  6.15481287e-03,  1.66072175e-04,  2.22530169e-03,\n",
              "        7.33893923e-03,  1.70399400e-03, -5.97164594e-03,  6.73509017e-03,\n",
              "        3.51069542e-03,  2.54152669e-03, -4.14516544e-03, -9.61530313e-04,\n",
              "       -1.21885270e-03,  6.69766823e-03,  2.39020796e-03, -2.43720738e-03,\n",
              "        3.46455420e-03,  2.58240802e-03,  9.60311759e-03,  1.85826840e-03,\n",
              "       -1.10812753e-03,  1.17213593e-03, -1.14281499e-03,  8.78505830e-07,\n",
              "        3.32385971e-04,  3.03281611e-03, -3.00068082e-03,  5.17081143e-03,\n",
              "       -2.46615685e-03,  5.40349307e-03,  9.34250071e-04,  2.18065036e-03,\n",
              "        3.53219104e-03,  8.92124255e-04,  1.84150226e-03,  2.72296369e-03,\n",
              "        3.95095581e-03,  2.45608902e-03,  6.21965213e-04,  1.35218585e-03,\n",
              "        5.76479651e-04, -1.63510325e-03, -2.17954931e-03,  1.50429638e-04,\n",
              "        2.98743183e-03, -2.27841083e-03, -4.96936543e-03, -4.50688088e-03,\n",
              "       -1.05734577e-03,  4.78906464e-03, -1.95734436e-03,  3.15336627e-03,\n",
              "        3.27832531e-03, -5.25003811e-03, -7.05866516e-03,  3.50893801e-03,\n",
              "        3.95971397e-03,  1.60530338e-03,  6.01616735e-03,  3.82105442e-04,\n",
              "       -8.47753603e-04,  1.61252287e-03, -4.34853509e-03, -6.06152928e-04,\n",
              "       -3.12743173e-03,  1.07615406e-03, -6.23566913e-04, -1.78953120e-03,\n",
              "        6.57436578e-03,  1.90160284e-03,  6.38816971e-04, -3.45421373e-04,\n",
              "        1.53960078e-04,  2.52182456e-03, -1.08397743e-02,  5.98700944e-06,\n",
              "        3.00332834e-03,  2.51644105e-03, -2.50934204e-03,  3.92420730e-03,\n",
              "       -3.76734836e-03,  1.12043496e-03, -3.22924764e-03, -1.56552263e-03,\n",
              "        1.05231360e-03,  2.55773356e-03,  1.32889173e-03, -2.56446400e-03,\n",
              "        4.01216187e-03, -1.14702189e-03, -7.73987174e-03,  3.79859749e-03,\n",
              "        2.40262854e-03, -1.98586402e-03, -1.30650049e-04, -3.27034644e-03,\n",
              "        2.14337930e-03, -4.90414153e-04, -3.12281749e-03, -1.00371032e-03,\n",
              "        1.65773067e-03, -2.91306339e-03,  5.90845151e-03, -1.67352043e-03,\n",
              "        4.24452359e-03, -6.53786119e-03, -2.67266575e-03, -1.04011549e-03,\n",
              "        1.67971198e-03,  6.52601186e-04,  1.30202936e-03, -2.88635725e-03,\n",
              "        5.78206452e-03, -1.05045352e-03,  7.68461125e-03,  1.72974687e-05,\n",
              "       -9.04775318e-03,  3.71598266e-03,  2.64393457e-04,  3.15545266e-03,\n",
              "        4.41489834e-03, -2.30303805e-04,  2.64671654e-03, -2.70887581e-03,\n",
              "        1.98948313e-03,  4.77950508e-03, -1.43131276e-03,  1.10099989e-03,\n",
              "        6.04298148e-05,  1.55141403e-04,  1.35163858e-03,  9.94095579e-04,\n",
              "        8.86867056e-04, -7.52591441e-05, -2.99894018e-04,  7.89602695e-04,\n",
              "        5.13927825e-03, -3.22257425e-03, -7.29228079e-04,  3.02424212e-03,\n",
              "        5.35029452e-03, -5.14747668e-03,  2.12307554e-03,  3.43176047e-03,\n",
              "       -1.36809467e-04,  2.36007664e-03,  1.82949635e-03,  2.00926070e-03,\n",
              "        5.00729401e-03, -5.85620338e-03,  8.73630284e-04, -7.19718169e-04,\n",
              "       -2.97655910e-03, -1.43504550e-03,  3.57377646e-03,  3.39867510e-02,\n",
              "        7.73077831e-04, -2.44414224e-03, -1.60281756e-03, -3.67637351e-03,\n",
              "       -6.45564310e-03, -3.31573142e-03, -4.33198968e-03, -3.25848977e-03,\n",
              "       -2.18438753e-03,  4.78858547e-03,  1.51654780e-02, -1.68275356e-03,\n",
              "        5.07100299e-03,  3.72057635e-04, -8.18788633e-03, -3.70612903e-03,\n",
              "       -9.13924363e-04,  3.18683358e-03,  9.71455686e-03,  2.34960369e-03,\n",
              "        2.92859296e-03, -1.02832951e-02,  5.76252164e-03, -3.88771296e-05,\n",
              "        2.75865808e-04, -3.86028411e-03, -1.51273701e-03, -1.07209443e-03,\n",
              "        2.06504180e-03, -2.07426911e-03, -4.01494885e-03,  1.47543859e-03,\n",
              "       -4.21709334e-03, -4.05418407e-03, -1.07952871e-03,  2.49869074e-03,\n",
              "       -1.48849154e-03,  3.39681120e-03,  7.48255523e-04, -4.86929109e-03,\n",
              "        1.77276204e-03, -1.71850168e-03,  2.75682076e-03,  2.51475628e-03,\n",
              "        2.46605556e-03,  4.87315818e-04,  3.09526920e-03,  1.02925638e-03,\n",
              "       -7.54449889e-03, -1.03017373e-03,  1.66218227e-03,  3.21721914e-03,\n",
              "       -1.45595218e-03,  2.11550016e-03, -3.21228406e-03, -1.18060189e-03,\n",
              "       -3.43119347e-04, -5.29634580e-03,  2.16169213e-03,  3.82432551e-03,\n",
              "       -4.14477941e-03, -1.63743715e-03,  5.48417913e-03,  2.11159047e-03,\n",
              "        1.17281999e-03,  1.78168656e-03,  4.59126802e-03, -7.96582026e-05,\n",
              "       -4.72511631e-03,  4.18662734e-04,  5.29849250e-03,  3.68532585e-03,\n",
              "       -3.36769200e-03, -2.19116383e-03,  8.60455155e-04,  3.64562753e-03,\n",
              "       -6.16092840e-03,  1.66281464e-03,  2.30393279e-03,  7.95273017e-03,\n",
              "       -6.48987945e-04, -1.93078618e-03,  5.22274640e-05,  1.31980667e-03,\n",
              "       -5.01480885e-03, -3.40582849e-03, -1.71447918e-03, -2.79530231e-03,\n",
              "       -3.76219233e-03,  6.36034692e-03, -3.09361820e-03,  2.08571902e-03,\n",
              "       -1.12997787e-02,  1.56961393e-03,  2.72239908e-03,  2.02994398e-03,\n",
              "       -4.38700058e-03,  2.00539990e-03, -2.20972695e-03,  2.03446671e-03,\n",
              "        1.58948111e-04,  2.22836109e-03, -5.19618217e-04,  3.61495209e-03,\n",
              "        6.07216847e-04,  4.27361578e-03,  4.67793870e-04,  2.10105418e-03,\n",
              "       -1.76241505e-03,  2.81841704e-03,  4.05955175e-03, -4.45485627e-03,\n",
              "       -1.80414168e-03,  3.76083306e-03, -6.97437068e-03, -8.50468595e-03,\n",
              "       -2.88437563e-03,  9.69875720e-04, -6.13858597e-03, -2.90802773e-03,\n",
              "        3.06854374e-03, -7.39561801e-04, -1.54929503e-03, -6.23184443e-03,\n",
              "       -9.64130857e-04,  3.00725480e-03, -7.31861393e-04, -1.28855312e-03,\n",
              "        4.11005598e-03,  5.70539851e-04, -1.14027236e-03, -3.54675902e-03],\n",
              "      dtype=float32)"
            ]
          },
          "execution_count": 96,
          "metadata": {},
          "output_type": "execute_result"
        }
      ],
      "source": [
        "text_features_new[0][:]"
      ]
    },
    {
      "cell_type": "code",
      "execution_count": 97,
      "metadata": {},
      "outputs": [],
      "source": [
        "def get_path_coco(image_id):\n",
        "    # image_id = int(image_id)\n",
        "    # print(type(image_id))\n",
        "\n",
        "    im_path = id2path[image_id]\n",
        "    \n",
        "    return f\"flicker_8k/photos/{im_path}\" # f\"photos/val2014/COCO_val2014_{image_id:012d}.jpg\""
      ]
    },
    {
      "cell_type": "code",
      "execution_count": 98,
      "metadata": {},
      "outputs": [],
      "source": [
        "import numpy as np"
      ]
    },
    {
      "cell_type": "code",
      "execution_count": 99,
      "metadata": {},
      "outputs": [],
      "source": [
        "mat_indx_mrr = np.zeros((1000,1000),dtype=np.int64)"
      ]
    },
    {
      "cell_type": "code",
      "execution_count": 100,
      "metadata": {},
      "outputs": [
        {
          "data": {
            "text/plain": [
              "(1000, 1000)"
            ]
          },
          "execution_count": 100,
          "metadata": {},
          "output_type": "execute_result"
        }
      ],
      "source": [
        "mat_indx_mrr.shape"
      ]
    },
    {
      "cell_type": "code",
      "execution_count": 101,
      "metadata": {},
      "outputs": [
        {
          "data": {
            "text/plain": [
              "array([[0, 0, 0, ..., 0, 0, 0],\n",
              "       [0, 0, 0, ..., 0, 0, 0],\n",
              "       [0, 0, 0, ..., 0, 0, 0],\n",
              "       ...,\n",
              "       [0, 0, 0, ..., 0, 0, 0],\n",
              "       [0, 0, 0, ..., 0, 0, 0],\n",
              "       [0, 0, 0, ..., 0, 0, 0]])"
            ]
          },
          "execution_count": 101,
          "metadata": {},
          "output_type": "execute_result"
        }
      ],
      "source": [
        "mat_indx_mrr"
      ]
    },
    {
      "cell_type": "code",
      "execution_count": 102,
      "metadata": {},
      "outputs": [],
      "source": [
        "collect_rr_testing = []"
      ]
    },
    {
      "cell_type": "code",
      "execution_count": 103,
      "metadata": {},
      "outputs": [
        {
          "data": {
            "text/html": [
              "<pre style=\"white-space:pre;overflow-x:auto;line-height:normal;font-family:Menlo,'DejaVu Sans Mono',consolas,'Courier New',monospace\"><span style=\"color: #008080; text-decoration-color: #008080; font-weight: bold\">0</span>\n",
              "</pre>\n"
            ],
            "text/plain": [
              "\u001b[1;36m0\u001b[0m\n"
            ]
          },
          "metadata": {},
          "output_type": "display_data"
        },
        {
          "data": {
            "text/html": [
              "<pre style=\"white-space:pre;overflow-x:auto;line-height:normal;font-family:Menlo,'DejaVu Sans Mono',consolas,'Courier New',monospace\"><span style=\"font-weight: bold\">[</span><span style=\"color: #008080; text-decoration-color: #008080; font-weight: bold\">3</span> <span style=\"color: #008080; text-decoration-color: #008080; font-weight: bold\">3</span> <span style=\"color: #008080; text-decoration-color: #008080; font-weight: bold\">4</span> <span style=\"color: #008080; text-decoration-color: #008080; font-weight: bold\">0</span><span style=\"font-weight: bold\">]</span>\n",
              "</pre>\n"
            ],
            "text/plain": [
              "\u001b[1m[\u001b[0m\u001b[1;36m3\u001b[0m \u001b[1;36m3\u001b[0m \u001b[1;36m4\u001b[0m \u001b[1;36m0\u001b[0m\u001b[1m]\u001b[0m\n"
            ]
          },
          "metadata": {},
          "output_type": "display_data"
        },
        {
          "data": {
            "text/html": [
              "<pre style=\"white-space:pre;overflow-x:auto;line-height:normal;font-family:Menlo,'DejaVu Sans Mono',consolas,'Courier New',monospace\"><span style=\"color: #008080; text-decoration-color: #008080; font-weight: bold\">1</span>\n",
              "</pre>\n"
            ],
            "text/plain": [
              "\u001b[1;36m1\u001b[0m\n"
            ]
          },
          "metadata": {},
          "output_type": "display_data"
        },
        {
          "data": {
            "text/html": [
              "<pre style=\"white-space:pre;overflow-x:auto;line-height:normal;font-family:Menlo,'DejaVu Sans Mono',consolas,'Courier New',monospace\"><span style=\"font-weight: bold\">[</span><span style=\"color: #008080; text-decoration-color: #008080; font-weight: bold\">3</span> <span style=\"color: #008080; text-decoration-color: #008080; font-weight: bold\">5</span> <span style=\"color: #008080; text-decoration-color: #008080; font-weight: bold\">2</span> <span style=\"color: #008080; text-decoration-color: #008080; font-weight: bold\">4</span><span style=\"font-weight: bold\">]</span>\n",
              "</pre>\n"
            ],
            "text/plain": [
              "\u001b[1m[\u001b[0m\u001b[1;36m3\u001b[0m \u001b[1;36m5\u001b[0m \u001b[1;36m2\u001b[0m \u001b[1;36m4\u001b[0m\u001b[1m]\u001b[0m\n"
            ]
          },
          "metadata": {},
          "output_type": "display_data"
        }
      ],
      "source": [
        "# Check which axis the for loop get back\n",
        "# So, it loop over the raws\n",
        "\n",
        "chck_found = np.random.randint(10, size=(2, 4))\n",
        "for index, distances in enumerate(chck_found):\n",
        "    print(index)\n",
        "    print(distances)"
      ]
    },
    {
      "cell_type": "code",
      "execution_count": 104,
      "metadata": {},
      "outputs": [
        {
          "data": {
            "text/plain": [
              "(8091, 768)"
            ]
          },
          "execution_count": 104,
          "metadata": {},
          "output_type": "execute_result"
        }
      ],
      "source": [
        "# Check the scores  \n",
        "\n",
        "text_features_new.shape"
      ]
    },
    {
      "cell_type": "code",
      "execution_count": 105,
      "metadata": {},
      "outputs": [
        {
          "data": {
            "text/plain": [
              "(8091, 768)"
            ]
          },
          "execution_count": 105,
          "metadata": {},
          "output_type": "execute_result"
        }
      ],
      "source": [
        "image_features_new.shape"
      ]
    },
    {
      "cell_type": "code",
      "execution_count": 106,
      "metadata": {},
      "outputs": [],
      "source": [
        "# (text_features_new * image_features_new).shape"
      ]
    },
    {
      "cell_type": "code",
      "execution_count": 107,
      "metadata": {},
      "outputs": [],
      "source": [
        "# np.matmul(text_features_new[999], image_features_new[999].T) * 100"
      ]
    },
    {
      "cell_type": "code",
      "execution_count": 108,
      "metadata": {},
      "outputs": [],
      "source": [
        "def compare_embeddings(logit_scale, img_embs, txt_embs):\n",
        "  # normalized features\n",
        "  image_features = img_embs / img_embs.norm(dim=-1, keepdim=True)\n",
        "  text_features = txt_embs / txt_embs.norm(dim=-1, keepdim=True)\n",
        "\n",
        "\n",
        "  # logits_per_image = logit_scale * image_features @ text_features.t()\n",
        "\n",
        "\n",
        "  logits_per_text = logit_scale * text_features @ image_features.t()\n",
        "\n",
        "  # print(\"type: \", type(logits_per_text))\n",
        "  \n",
        "  return logits_per_text"
      ]
    },
    {
      "cell_type": "code",
      "execution_count": 109,
      "metadata": {},
      "outputs": [
        {
          "data": {
            "text/html": [
              "<pre style=\"white-space:pre;overflow-x:auto;line-height:normal;font-family:Menlo,'DejaVu Sans Mono',consolas,'Courier New',monospace\"><span style=\"color: #800080; text-decoration-color: #800080; font-weight: bold\">tensor</span><span style=\"font-weight: bold\">(</span><span style=\"color: #008080; text-decoration-color: #008080; font-weight: bold\">117.8218</span>, <span style=\"color: #808000; text-decoration-color: #808000\">grad_fn</span>=<span style=\"font-weight: bold\">&lt;</span><span style=\"color: #ff00ff; text-decoration-color: #ff00ff; font-weight: bold\">ToCopyBackward0</span><span style=\"font-weight: bold\">&gt;)</span>\n",
              "</pre>\n"
            ],
            "text/plain": [
              "\u001b[1;35mtensor\u001b[0m\u001b[1m(\u001b[0m\u001b[1;36m117.8218\u001b[0m, \u001b[33mgrad_fn\u001b[0m=\u001b[1m<\u001b[0m\u001b[1;95mToCopyBackward0\u001b[0m\u001b[1m>\u001b[0m\u001b[1m)\u001b[0m\n"
            ]
          },
          "metadata": {},
          "output_type": "display_data"
        },
        {
          "data": {
            "text/plain": [
              "torch.Size([8091, 8091])"
            ]
          },
          "execution_count": 109,
          "metadata": {},
          "output_type": "execute_result"
        }
      ],
      "source": [
        "# https://github.com/gpleiss/temperature_scaling\n",
        "# CLIP Temperature scaler\n",
        "logit_scale = clip_model.logit_scale.exp().float().to('cpu')\n",
        "\n",
        "print(logit_scale)\n",
        "\n",
        "language_logits = {}\n",
        "\n",
        " \n",
        "\n",
        "\n",
        "language_logits[\"Arabic\"] = compare_embeddings(logit_scale, torch.from_numpy(image_features_new), torch.from_numpy(text_features_new))\n",
        "language_logits[\"Arabic\"].shape"
      ]
    },
    {
      "cell_type": "code",
      "execution_count": 110,
      "metadata": {},
      "outputs": [
        {
          "data": {
            "text/plain": [
              "{'Arabic': tensor([[ 12.2537, -14.0660,  -0.6493,  ..., -16.6951,   1.4869,  -4.8426],\n",
              "         [-15.9512,  15.2769, -13.6463,  ..., -18.1873, -23.7770, -13.3211],\n",
              "         [  0.0696, -16.3171,  19.8537,  ..., -17.0822,  -8.1137, -12.4006],\n",
              "         ...,\n",
              "         [-10.2587, -14.8374, -15.1413,  ...,  13.8007, -15.1071, -11.8080],\n",
              "         [ -2.1833, -12.6729,  -4.0542,  ...,  -7.7295,  15.7144,  -2.2606],\n",
              "         [ -7.5858, -12.2154, -15.7869,  ..., -13.0505,  -9.0447,   7.2188]],\n",
              "        grad_fn=<MmBackward0>)}"
            ]
          },
          "execution_count": 110,
          "metadata": {},
          "output_type": "execute_result"
        }
      ],
      "source": [
        "language_logits"
      ]
    },
    {
      "cell_type": "code",
      "execution_count": 111,
      "metadata": {},
      "outputs": [
        {
          "data": {
            "text/plain": [
              "dict"
            ]
          },
          "execution_count": 111,
          "metadata": {},
          "output_type": "execute_result"
        }
      ],
      "source": [
        "type(language_logits)"
      ]
    },
    {
      "cell_type": "code",
      "execution_count": 112,
      "metadata": {},
      "outputs": [
        {
          "data": {
            "text/plain": [
              "torch.Size([8091, 8091])"
            ]
          },
          "execution_count": 112,
          "metadata": {},
          "output_type": "execute_result"
        }
      ],
      "source": [
        "language_logits[\"Arabic\"].shape"
      ]
    },
    {
      "cell_type": "code",
      "execution_count": 113,
      "metadata": {},
      "outputs": [],
      "source": [
        "txt_logits = language_logits[\"Arabic\"]"
      ]
    },
    {
      "cell_type": "code",
      "execution_count": 114,
      "metadata": {},
      "outputs": [
        {
          "data": {
            "text/plain": [
              "torch.Size([8091, 8091])"
            ]
          },
          "execution_count": 114,
          "metadata": {},
          "output_type": "execute_result"
        }
      ],
      "source": [
        "txt_logits.shape"
      ]
    },
    {
      "cell_type": "code",
      "execution_count": 115,
      "metadata": {},
      "outputs": [],
      "source": [
        "# sorted_data[400+25]"
      ]
    },
    {
      "cell_type": "code",
      "execution_count": 116,
      "metadata": {},
      "outputs": [],
      "source": [
        "# sorted_data[400+86]"
      ]
    },
    {
      "cell_type": "code",
      "execution_count": 117,
      "metadata": {},
      "outputs": [],
      "source": [
        "# trial_1 = []"
      ]
    },
    {
      "cell_type": "code",
      "execution_count": 118,
      "metadata": {},
      "outputs": [],
      "source": [
        "def compute_mrr(data, dataset, n):\n",
        "    \"\"\"Compute the MRR for the data based on n\"\"\"\n",
        "    collect_rr = []\n",
        "    pbar = tqdm(total=len(data), position=0, leave=True)\n",
        "\n",
        "    found = np.matmul(text_features_new, image_features_new.T)\n",
        "\n",
        "    for index, distances in enumerate(found): # It return the rows, one by one\n",
        "\n",
        "        pbar.update(1)\n",
        "\n",
        "        image_path = get_path_coco(data[index][\"id\"])\n",
        "\n",
        "        \n",
        "        collect_rr.append(new_rr(distances, image_path, dataset, n,index))\n",
        "\n",
        "\n",
        "    pbar.close()\n",
        "    print(100*\"=\")\n",
        "\n",
        "    return np.average(collect_rr)\n",
        "\n",
        "\n",
        "def new_rr(distances, target_image, dataset, n,index):\n",
        "    \"\"\"Calculate the RR for the given target image\"\"\"\n",
        "    image_paths = []\n",
        "\n",
        "    idxs = distances.argsort()[-n:][::-1] # Get the indcies for the images distances based on n\n",
        "\n",
        "    for idx in idxs:\n",
        "        image_paths.append('flicker_8k/photos/' + dataset.get_image_name(idx))\n",
        "\n",
        "    if target_image in image_paths:\n",
        "\n",
        "        return 1/(image_paths.index(target_image) + 1)\n",
        "    else:\n",
        "        return 0\n",
        "\n",
        "\n",
        "def internal_hits(distances, target_image, dataset, n):\n",
        "    \"\"\"Calculate the hits of the target images based on the existance of it or not\"\"\"\n",
        "    idxs = distances.argsort()[-n:][::-1]\n",
        "\n",
        "    if target_image in idxs:\n",
        "        return 1\n",
        "    else:\n",
        "        return 0\n",
        "\n",
        "def compute_hits(data, dataset, n):\n",
        "\n",
        "\n",
        "    collect_rr = []\n",
        "\n",
        "    pbar = tqdm(total=len(data), position=0, leave=True)\n",
        "\n",
        "    found = np.matmul(text_features_new, image_features_new.T)\n",
        "\n",
        "    for index, distances in enumerate(found):\n",
        "        pbar.update(1)\n",
        "        image_path = index \n",
        "        \n",
        "        collect_rr.append(internal_hits(distances, image_path, dataset, n))\n",
        "\n",
        "    \n",
        "    pbar.close()\n",
        "    return np.average(collect_rr)"
      ]
    },
    {
      "cell_type": "code",
      "execution_count": 119,
      "metadata": {},
      "outputs": [
        {
          "data": {
            "application/vnd.jupyter.widget-view+json": {
              "model_id": "8d7208043db94bea87236caf65da4042",
              "version_major": 2,
              "version_minor": 0
            },
            "text/plain": [
              "  0%|          | 0/8091 [00:00<?, ?it/s]"
            ]
          },
          "metadata": {},
          "output_type": "display_data"
        },
        {
          "data": {
            "text/html": [
              "<pre style=\"white-space:pre;overflow-x:auto;line-height:normal;font-family:Menlo,'DejaVu Sans Mono',consolas,'Courier New',monospace\">====================================================================================================\n",
              "</pre>\n"
            ],
            "text/plain": [
              "====================================================================================================\n"
            ]
          },
          "metadata": {},
          "output_type": "display_data"
        },
        {
          "data": {
            "text/html": [
              "<pre style=\"white-space:pre;overflow-x:auto;line-height:normal;font-family:Menlo,'DejaVu Sans Mono',consolas,'Courier New',monospace\">MRR@<span style=\"color: #008080; text-decoration-color: #008080; font-weight: bold\">1</span>: <span style=\"color: #008080; text-decoration-color: #008080; font-weight: bold\">0.37992831541218636</span>\n",
              "</pre>\n"
            ],
            "text/plain": [
              "MRR@\u001b[1;36m1\u001b[0m: \u001b[1;36m0.37992831541218636\u001b[0m\n"
            ]
          },
          "metadata": {},
          "output_type": "display_data"
        }
      ],
      "source": [
        "print('MRR@1:', compute_mrr(sorted_data, dataset, 1))"
      ]
    },
    {
      "cell_type": "code",
      "execution_count": 120,
      "metadata": {},
      "outputs": [
        {
          "data": {
            "application/vnd.jupyter.widget-view+json": {
              "model_id": "36d757c04e7f4069ad89aa9d70647c59",
              "version_major": 2,
              "version_minor": 0
            },
            "text/plain": [
              "  0%|          | 0/8091 [00:00<?, ?it/s]"
            ]
          },
          "metadata": {},
          "output_type": "display_data"
        },
        {
          "data": {
            "text/html": [
              "<pre style=\"white-space:pre;overflow-x:auto;line-height:normal;font-family:Menlo,'DejaVu Sans Mono',consolas,'Courier New',monospace\">====================================================================================================\n",
              "</pre>\n"
            ],
            "text/plain": [
              "====================================================================================================\n"
            ]
          },
          "metadata": {},
          "output_type": "display_data"
        },
        {
          "data": {
            "text/html": [
              "<pre style=\"white-space:pre;overflow-x:auto;line-height:normal;font-family:Menlo,'DejaVu Sans Mono',consolas,'Courier New',monospace\">MRR@<span style=\"color: #008080; text-decoration-color: #008080; font-weight: bold\">5</span>: <span style=\"color: #008080; text-decoration-color: #008080; font-weight: bold\">0.47221810241832485</span>\n",
              "</pre>\n"
            ],
            "text/plain": [
              "MRR@\u001b[1;36m5\u001b[0m: \u001b[1;36m0.47221810241832485\u001b[0m\n"
            ]
          },
          "metadata": {},
          "output_type": "display_data"
        }
      ],
      "source": [
        "print('MRR@5:', compute_mrr(sorted_data, dataset, 5))"
      ]
    },
    {
      "cell_type": "code",
      "execution_count": 121,
      "metadata": {},
      "outputs": [
        {
          "data": {
            "application/vnd.jupyter.widget-view+json": {
              "model_id": "b5d4a949d538412c927a0bae9f73584a",
              "version_major": 2,
              "version_minor": 0
            },
            "text/plain": [
              "  0%|          | 0/8091 [00:00<?, ?it/s]"
            ]
          },
          "metadata": {},
          "output_type": "display_data"
        },
        {
          "data": {
            "text/html": [
              "<pre style=\"white-space:pre;overflow-x:auto;line-height:normal;font-family:Menlo,'DejaVu Sans Mono',consolas,'Courier New',monospace\">====================================================================================================\n",
              "</pre>\n"
            ],
            "text/plain": [
              "====================================================================================================\n"
            ]
          },
          "metadata": {},
          "output_type": "display_data"
        },
        {
          "data": {
            "text/html": [
              "<pre style=\"white-space:pre;overflow-x:auto;line-height:normal;font-family:Menlo,'DejaVu Sans Mono',consolas,'Courier New',monospace\">MRR@<span style=\"color: #008080; text-decoration-color: #008080; font-weight: bold\">10</span>: <span style=\"color: #008080; text-decoration-color: #008080; font-weight: bold\">0.4849876307792511</span>\n",
              "</pre>\n"
            ],
            "text/plain": [
              "MRR@\u001b[1;36m10\u001b[0m: \u001b[1;36m0.4849876307792511\u001b[0m\n"
            ]
          },
          "metadata": {},
          "output_type": "display_data"
        }
      ],
      "source": [
        "print('MRR@10:', compute_mrr(sorted_data, dataset,10))"
      ]
    },
    {
      "cell_type": "code",
      "execution_count": 122,
      "metadata": {},
      "outputs": [
        {
          "data": {
            "application/vnd.jupyter.widget-view+json": {
              "model_id": "ea592f79606d4432966a79948dca67e5",
              "version_major": 2,
              "version_minor": 0
            },
            "text/plain": [
              "  0%|          | 0/8091 [00:00<?, ?it/s]"
            ]
          },
          "metadata": {},
          "output_type": "display_data"
        },
        {
          "data": {
            "text/html": [
              "<pre style=\"white-space:pre;overflow-x:auto;line-height:normal;font-family:Menlo,'DejaVu Sans Mono',consolas,'Courier New',monospace\"><span style=\"color: #008080; text-decoration-color: #008080; font-weight: bold\">37.992831541218635</span>\n",
              "</pre>\n"
            ],
            "text/plain": [
              "\u001b[1;36m37.992831541218635\u001b[0m\n"
            ]
          },
          "metadata": {},
          "output_type": "display_data"
        }
      ],
      "source": [
        "print(compute_hits(sorted_data, dataset, 1)* 100)"
      ]
    },
    {
      "cell_type": "code",
      "execution_count": 123,
      "metadata": {},
      "outputs": [
        {
          "data": {
            "application/vnd.jupyter.widget-view+json": {
              "model_id": "60b0e582ea3c4268aa6f5d997a959d32",
              "version_major": 2,
              "version_minor": 0
            },
            "text/plain": [
              "  0%|          | 0/8091 [00:00<?, ?it/s]"
            ]
          },
          "metadata": {},
          "output_type": "display_data"
        },
        {
          "data": {
            "text/html": [
              "<pre style=\"white-space:pre;overflow-x:auto;line-height:normal;font-family:Menlo,'DejaVu Sans Mono',consolas,'Courier New',monospace\"><span style=\"color: #008080; text-decoration-color: #008080; font-weight: bold\">62.4768261030775</span>\n",
              "</pre>\n"
            ],
            "text/plain": [
              "\u001b[1;36m62.4768261030775\u001b[0m\n"
            ]
          },
          "metadata": {},
          "output_type": "display_data"
        }
      ],
      "source": [
        "print(compute_hits(sorted_data, dataset, 5)* 100)"
      ]
    },
    {
      "cell_type": "code",
      "execution_count": 124,
      "metadata": {},
      "outputs": [
        {
          "data": {
            "application/vnd.jupyter.widget-view+json": {
              "model_id": "a5e31efcd6614946a576cb7757472020",
              "version_major": 2,
              "version_minor": 0
            },
            "text/plain": [
              "  0%|          | 0/8091 [00:00<?, ?it/s]"
            ]
          },
          "metadata": {},
          "output_type": "display_data"
        },
        {
          "data": {
            "text/html": [
              "<pre style=\"white-space:pre;overflow-x:auto;line-height:normal;font-family:Menlo,'DejaVu Sans Mono',consolas,'Courier New',monospace\"><span style=\"color: #008080; text-decoration-color: #008080; font-weight: bold\">71.91941663576814</span>\n",
              "</pre>\n"
            ],
            "text/plain": [
              "\u001b[1;36m71.91941663576814\u001b[0m\n"
            ]
          },
          "metadata": {},
          "output_type": "display_data"
        }
      ],
      "source": [
        "print(compute_hits(sorted_data, dataset, 10)* 100)"
      ]
    },
    {
      "cell_type": "markdown",
      "metadata": {},
      "source": [
        "## Evaluation based on Recall metric"
      ]
    },
    {
      "cell_type": "code",
      "execution_count": 125,
      "metadata": {},
      "outputs": [
        {
          "data": {
            "text/plain": [
              "(8091, 768)"
            ]
          },
          "execution_count": 125,
          "metadata": {},
          "output_type": "execute_result"
        }
      ],
      "source": [
        "image_features_new.shape"
      ]
    },
    {
      "cell_type": "code",
      "execution_count": 126,
      "metadata": {},
      "outputs": [
        {
          "data": {
            "text/plain": [
              "(8091, 768)"
            ]
          },
          "execution_count": 126,
          "metadata": {},
          "output_type": "execute_result"
        }
      ],
      "source": [
        "text_features_new.shape"
      ]
    },
    {
      "cell_type": "code",
      "execution_count": 127,
      "metadata": {},
      "outputs": [
        {
          "data": {
            "text/html": [
              "<pre style=\"white-space:pre;overflow-x:auto;line-height:normal;font-family:Menlo,'DejaVu Sans Mono',consolas,'Courier New',monospace\"><span style=\"color: #800080; text-decoration-color: #800080; font-weight: bold\">torch.Size</span><span style=\"font-weight: bold\">([</span><span style=\"color: #008080; text-decoration-color: #008080; font-weight: bold\">8091</span><span style=\"font-weight: bold\">])</span>\n",
              "</pre>\n"
            ],
            "text/plain": [
              "\u001b[1;35mtorch.Size\u001b[0m\u001b[1m(\u001b[0m\u001b[1m[\u001b[0m\u001b[1;36m8091\u001b[0m\u001b[1m]\u001b[0m\u001b[1m)\u001b[0m\n"
            ]
          },
          "metadata": {},
          "output_type": "display_data"
        },
        {
          "data": {
            "text/html": [
              "<pre style=\"white-space:pre;overflow-x:auto;line-height:normal;font-family:Menlo,'DejaVu Sans Mono',consolas,'Courier New',monospace\"><span style=\"color: #800080; text-decoration-color: #800080; font-weight: bold\">torch.Size</span><span style=\"font-weight: bold\">([</span><span style=\"color: #008080; text-decoration-color: #008080; font-weight: bold\">8091</span>, <span style=\"color: #008080; text-decoration-color: #008080; font-weight: bold\">1</span><span style=\"font-weight: bold\">])</span>\n",
              "</pre>\n"
            ],
            "text/plain": [
              "\u001b[1;35mtorch.Size\u001b[0m\u001b[1m(\u001b[0m\u001b[1m[\u001b[0m\u001b[1;36m8091\u001b[0m, \u001b[1;36m1\u001b[0m\u001b[1m]\u001b[0m\u001b[1m)\u001b[0m\n"
            ]
          },
          "metadata": {},
          "output_type": "display_data"
        }
      ],
      "source": [
        "image_features_new_pt = torch.from_numpy(image_features_new)\n",
        "\n",
        "text_features_new_pt = torch.from_numpy(text_features_new)\n",
        "\n",
        "text_to_image_map = torch.LongTensor(list(range(text_features_new.shape[0])))\n",
        "print(text_to_image_map.shape) # .type(torch.int64)\n",
        "\n",
        "print(text_to_image_map.unsqueeze(1).shape)"
      ]
    },
    {
      "cell_type": "code",
      "execution_count": 128,
      "metadata": {},
      "outputs": [],
      "source": [
        "torch.set_printoptions(precision=8)"
      ]
    },
    {
      "cell_type": "code",
      "execution_count": 129,
      "metadata": {},
      "outputs": [],
      "source": [
        "# https://github.com/openai/CLIP/issues/115\n",
        "import torch\n",
        "from torchvision.datasets import CocoCaptions\n",
        "import torch.utils.data as dutils\n",
        "from typing import List\n",
        "import clip\n",
        "\n",
        "device = torch.device('cuda') if torch.cuda.is_available() else torch.device('cpu')\n",
        "\n",
        "k_vals= [1, 5, 10, 50]\n",
        "\n",
        "\n",
        "def recall_at_k(k_vals, image_encodings,text_encodings,text_to_image_map):\n",
        "    print(\"Encoding all data...\")\n",
        " \n",
        "    num_text = text_encodings.shape[0]\n",
        "    \n",
        "    # text-to-image recall\n",
        "    print(\"Text-to-image recall...\")\n",
        "\n",
        "\n",
        "    dist_matrix = text_encodings @ image_encodings.T  # dist_matrix[i] gives logits for ith text\n",
        "\n",
        "    inds = torch.argsort(dist_matrix, dim=1, descending=True)\n",
        "    inds = inds.to(device)\n",
        "    text_to_image_recall = []\n",
        "\n",
        "    \n",
        "\n",
        "    text_to_image_map = text_to_image_map.to(device)\n",
        "    \n",
        "    for k in k_vals:\n",
        "        # Extract top k indices only\n",
        "        topk = inds[:, :k]\n",
        "\n",
        "        text_to_image_map_new = text_to_image_map.repeat(k, 1).t()\n",
        "\n",
        "        correct = torch.eq(topk, text_to_image_map_new).any(dim=1)  #  value along dimension 1 (which typically corresponds to rows in a 2D tensor) ###### any(dim=1) >> check if True over the row \n",
        "        \n",
        "        num_correct = correct.sum().item()\n",
        "\n",
        "        text_to_image_recall.append(num_correct / num_text)\n",
        "\n",
        "    print(text_to_image_recall)\n",
        "\n",
        "    print(\"Done.\")\n",
        "    return text_to_image_recall"
      ]
    },
    {
      "cell_type": "code",
      "execution_count": 130,
      "metadata": {},
      "outputs": [
        {
          "data": {
            "text/html": [
              "<pre style=\"white-space:pre;overflow-x:auto;line-height:normal;font-family:Menlo,'DejaVu Sans Mono',consolas,'Courier New',monospace\">Encoding all data<span style=\"color: #808000; text-decoration-color: #808000\">...</span>\n",
              "</pre>\n"
            ],
            "text/plain": [
              "Encoding all data\u001b[33m...\u001b[0m\n"
            ]
          },
          "metadata": {},
          "output_type": "display_data"
        },
        {
          "data": {
            "text/html": [
              "<pre style=\"white-space:pre;overflow-x:auto;line-height:normal;font-family:Menlo,'DejaVu Sans Mono',consolas,'Courier New',monospace\">Text-to-image recall<span style=\"color: #808000; text-decoration-color: #808000\">...</span>\n",
              "</pre>\n"
            ],
            "text/plain": [
              "Text-to-image recall\u001b[33m...\u001b[0m\n"
            ]
          },
          "metadata": {},
          "output_type": "display_data"
        },
        {
          "data": {
            "text/html": [
              "<pre style=\"white-space:pre;overflow-x:auto;line-height:normal;font-family:Menlo,'DejaVu Sans Mono',consolas,'Courier New',monospace\"><span style=\"font-weight: bold\">[</span><span style=\"color: #008080; text-decoration-color: #008080; font-weight: bold\">0.37992831541218636</span>, <span style=\"color: #008080; text-decoration-color: #008080; font-weight: bold\">0.624768261030775</span>, <span style=\"color: #008080; text-decoration-color: #008080; font-weight: bold\">0.7191941663576814</span>, <span style=\"color: #008080; text-decoration-color: #008080; font-weight: bold\">0.899641577060932</span><span style=\"font-weight: bold\">]</span>\n",
              "</pre>\n"
            ],
            "text/plain": [
              "\u001b[1m[\u001b[0m\u001b[1;36m0.37992831541218636\u001b[0m, \u001b[1;36m0.624768261030775\u001b[0m, \u001b[1;36m0.7191941663576814\u001b[0m, \u001b[1;36m0.899641577060932\u001b[0m\u001b[1m]\u001b[0m\n"
            ]
          },
          "metadata": {},
          "output_type": "display_data"
        },
        {
          "data": {
            "text/html": [
              "<pre style=\"white-space:pre;overflow-x:auto;line-height:normal;font-family:Menlo,'DejaVu Sans Mono',consolas,'Courier New',monospace\">Done.\n",
              "</pre>\n"
            ],
            "text/plain": [
              "Done.\n"
            ]
          },
          "metadata": {},
          "output_type": "display_data"
        },
        {
          "data": {
            "text/html": [
              "<pre style=\"white-space:pre;overflow-x:auto;line-height:normal;font-family:Menlo,'DejaVu Sans Mono',consolas,'Courier New',monospace\">Text-to-image Recall@K\n",
              "</pre>\n"
            ],
            "text/plain": [
              "Text-to-image Recall@K\n"
            ]
          },
          "metadata": {},
          "output_type": "display_data"
        },
        {
          "data": {
            "text/html": [
              "<pre style=\"white-space:pre;overflow-x:auto;line-height:normal;font-family:Menlo,'DejaVu Sans Mono',consolas,'Courier New',monospace\">Returned value: \n",
              "<span style=\"font-weight: bold\">[</span><span style=\"color: #008080; text-decoration-color: #008080; font-weight: bold\">0.37992831541218636</span>, <span style=\"color: #008080; text-decoration-color: #008080; font-weight: bold\">0.624768261030775</span>, <span style=\"color: #008080; text-decoration-color: #008080; font-weight: bold\">0.7191941663576814</span>, <span style=\"color: #008080; text-decoration-color: #008080; font-weight: bold\">0.899641577060932</span><span style=\"font-weight: bold\">]</span>\n",
              "</pre>\n"
            ],
            "text/plain": [
              "Returned value: \n",
              "\u001b[1m[\u001b[0m\u001b[1;36m0.37992831541218636\u001b[0m, \u001b[1;36m0.624768261030775\u001b[0m, \u001b[1;36m0.7191941663576814\u001b[0m, \u001b[1;36m0.899641577060932\u001b[0m\u001b[1m]\u001b[0m\n"
            ]
          },
          "metadata": {},
          "output_type": "display_data"
        },
        {
          "data": {
            "text/html": [
              "<pre style=\"white-space:pre;overflow-x:auto;line-height:normal;font-family:Menlo,'DejaVu Sans Mono',consolas,'Courier New',monospace\"><span style=\"color: #008080; text-decoration-color: #008080; font-weight: bold\">1</span>   <span style=\"color: #008080; text-decoration-color: #008080; font-weight: bold\">0.37992831541218636</span>\n",
              "</pre>\n"
            ],
            "text/plain": [
              "\u001b[1;36m1\u001b[0m   \u001b[1;36m0.37992831541218636\u001b[0m\n"
            ]
          },
          "metadata": {},
          "output_type": "display_data"
        },
        {
          "data": {
            "text/html": [
              "<pre style=\"white-space:pre;overflow-x:auto;line-height:normal;font-family:Menlo,'DejaVu Sans Mono',consolas,'Courier New',monospace\"><span style=\"color: #008080; text-decoration-color: #008080; font-weight: bold\">5</span>   <span style=\"color: #008080; text-decoration-color: #008080; font-weight: bold\">0.624768261030775</span>\n",
              "</pre>\n"
            ],
            "text/plain": [
              "\u001b[1;36m5\u001b[0m   \u001b[1;36m0.624768261030775\u001b[0m\n"
            ]
          },
          "metadata": {},
          "output_type": "display_data"
        },
        {
          "data": {
            "text/html": [
              "<pre style=\"white-space:pre;overflow-x:auto;line-height:normal;font-family:Menlo,'DejaVu Sans Mono',consolas,'Courier New',monospace\"><span style=\"color: #008080; text-decoration-color: #008080; font-weight: bold\">10</span>   <span style=\"color: #008080; text-decoration-color: #008080; font-weight: bold\">0.7191941663576814</span>\n",
              "</pre>\n"
            ],
            "text/plain": [
              "\u001b[1;36m10\u001b[0m   \u001b[1;36m0.7191941663576814\u001b[0m\n"
            ]
          },
          "metadata": {},
          "output_type": "display_data"
        },
        {
          "data": {
            "text/html": [
              "<pre style=\"white-space:pre;overflow-x:auto;line-height:normal;font-family:Menlo,'DejaVu Sans Mono',consolas,'Courier New',monospace\"><span style=\"color: #008080; text-decoration-color: #008080; font-weight: bold\">50</span>   <span style=\"color: #008080; text-decoration-color: #008080; font-weight: bold\">0.8996415770609321</span>\n",
              "</pre>\n"
            ],
            "text/plain": [
              "\u001b[1;36m50\u001b[0m   \u001b[1;36m0.8996415770609321\u001b[0m\n"
            ]
          },
          "metadata": {},
          "output_type": "display_data"
        }
      ],
      "source": [
        "t2i= recall_at_k(k_vals=k_vals, image_encodings=image_features_new_pt,text_encodings=text_features_new_pt,text_to_image_map=text_to_image_map)\n",
        "\n",
        "print(\"Text-to-image Recall@K\")\n",
        "\n",
        "print(\"Returned value: \", t2i)\n",
        "for k, x in zip(k_vals, t2i):\n",
        "    print(k, \" \", (x/100) * 100)\n",
        "    # print(f\" R@{k}: {100*x:.2f}%\")\n"
      ]
    },
    {
      "cell_type": "code",
      "execution_count": null,
      "metadata": {},
      "outputs": [],
      "source": []
    },
    {
      "cell_type": "code",
      "execution_count": null,
      "metadata": {},
      "outputs": [],
      "source": []
    },
    {
      "cell_type": "code",
      "execution_count": null,
      "metadata": {},
      "outputs": [],
      "source": []
    },
    {
      "cell_type": "code",
      "execution_count": null,
      "metadata": {},
      "outputs": [],
      "source": []
    },
    {
      "cell_type": "code",
      "execution_count": null,
      "metadata": {},
      "outputs": [],
      "source": []
    }
  ],
  "metadata": {
    "accelerator": "GPU",
    "colab": {
      "name": "Copy of Multilingual_CLIP.ipynb",
      "provenance": [],
      "toc_visible": true
    },
    "kernelspec": {
      "display_name": "Python 3",
      "language": "python",
      "name": "python3"
    },
    "language_info": {
      "codemirror_mode": {
        "name": "ipython",
        "version": 3
      },
      "file_extension": ".py",
      "mimetype": "text/x-python",
      "name": "python",
      "nbconvert_exporter": "python",
      "pygments_lexer": "ipython3",
      "version": "3.9.18"
    }
  },
  "nbformat": 4,
  "nbformat_minor": 0
}
